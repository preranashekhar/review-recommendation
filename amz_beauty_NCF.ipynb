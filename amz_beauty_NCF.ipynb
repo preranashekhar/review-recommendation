{
  "nbformat": 4,
  "nbformat_minor": 0,
  "metadata": {
    "colab": {
      "name": "amz_beauty_NCF.ipynb",
      "provenance": [],
      "collapsed_sections": [],
      "machine_shape": "hm"
    },
    "kernelspec": {
      "name": "python3",
      "display_name": "Python 3"
    },
    "accelerator": "TPU"
  },
  "cells": [
    {
      "cell_type": "markdown",
      "metadata": {
        "id": "DPon6eZlIn79",
        "colab_type": "text"
      },
      "source": [
        "**Neural Collaborative filtering**"
      ]
    },
    {
      "cell_type": "markdown",
      "metadata": {
        "id": "jKbEtKOFJA1m",
        "colab_type": "text"
      },
      "source": [
        "**Amazon Beauty Dataset**"
      ]
    },
    {
      "cell_type": "code",
      "metadata": {
        "id": "J7O_IKYDesYY",
        "colab_type": "code",
        "colab": {
          "base_uri": "https://localhost:8080/",
          "height": 918
        },
        "outputId": "3a331155-82f6-404d-93c7-b3e2f2239a0c"
      },
      "source": [
        "!pip install tensorflow==1.15.2\n",
        "import tensorflow as tf\n",
        "print(tf.__version__)"
      ],
      "execution_count": null,
      "outputs": [
        {
          "output_type": "stream",
          "text": [
            "Collecting tensorflow==1.15.2\n",
            "\u001b[?25l  Downloading https://files.pythonhosted.org/packages/9a/d9/fd234c7bf68638423fb8e7f44af7fcfce3bcaf416b51e6d902391e47ec43/tensorflow-1.15.2-cp36-cp36m-manylinux2010_x86_64.whl (110.5MB)\n",
            "\u001b[K     |████████████████████████████████| 110.5MB 38kB/s \n",
            "\u001b[?25hRequirement already satisfied: wheel>=0.26; python_version >= \"3\" in /usr/local/lib/python3.6/dist-packages (from tensorflow==1.15.2) (0.34.2)\n",
            "Collecting tensorflow-estimator==1.15.1\n",
            "\u001b[?25l  Downloading https://files.pythonhosted.org/packages/de/62/2ee9cd74c9fa2fa450877847ba560b260f5d0fb70ee0595203082dafcc9d/tensorflow_estimator-1.15.1-py2.py3-none-any.whl (503kB)\n",
            "\u001b[K     |████████████████████████████████| 512kB 54.1MB/s \n",
            "\u001b[?25hCollecting gast==0.2.2\n",
            "  Downloading https://files.pythonhosted.org/packages/4e/35/11749bf99b2d4e3cceb4d55ca22590b0d7c2c62b9de38ac4a4a7f4687421/gast-0.2.2.tar.gz\n",
            "Requirement already satisfied: numpy<2.0,>=1.16.0 in /usr/local/lib/python3.6/dist-packages (from tensorflow==1.15.2) (1.18.5)\n",
            "Requirement already satisfied: grpcio>=1.8.6 in /usr/local/lib/python3.6/dist-packages (from tensorflow==1.15.2) (1.30.0)\n",
            "Requirement already satisfied: protobuf>=3.6.1 in /usr/local/lib/python3.6/dist-packages (from tensorflow==1.15.2) (3.12.4)\n",
            "Collecting tensorboard<1.16.0,>=1.15.0\n",
            "\u001b[?25l  Downloading https://files.pythonhosted.org/packages/1e/e9/d3d747a97f7188f48aa5eda486907f3b345cd409f0a0850468ba867db246/tensorboard-1.15.0-py3-none-any.whl (3.8MB)\n",
            "\u001b[K     |████████████████████████████████| 3.8MB 57.0MB/s \n",
            "\u001b[?25hRequirement already satisfied: keras-preprocessing>=1.0.5 in /usr/local/lib/python3.6/dist-packages (from tensorflow==1.15.2) (1.1.2)\n",
            "Requirement already satisfied: opt-einsum>=2.3.2 in /usr/local/lib/python3.6/dist-packages (from tensorflow==1.15.2) (3.3.0)\n",
            "Requirement already satisfied: termcolor>=1.1.0 in /usr/local/lib/python3.6/dist-packages (from tensorflow==1.15.2) (1.1.0)\n",
            "Requirement already satisfied: absl-py>=0.7.0 in /usr/local/lib/python3.6/dist-packages (from tensorflow==1.15.2) (0.9.0)\n",
            "Requirement already satisfied: six>=1.10.0 in /usr/local/lib/python3.6/dist-packages (from tensorflow==1.15.2) (1.15.0)\n",
            "Requirement already satisfied: google-pasta>=0.1.6 in /usr/local/lib/python3.6/dist-packages (from tensorflow==1.15.2) (0.2.0)\n",
            "Requirement already satisfied: wrapt>=1.11.1 in /usr/local/lib/python3.6/dist-packages (from tensorflow==1.15.2) (1.12.1)\n",
            "Requirement already satisfied: astor>=0.6.0 in /usr/local/lib/python3.6/dist-packages (from tensorflow==1.15.2) (0.8.1)\n",
            "Collecting keras-applications>=1.0.8\n",
            "\u001b[?25l  Downloading https://files.pythonhosted.org/packages/71/e3/19762fdfc62877ae9102edf6342d71b28fbfd9dea3d2f96a882ce099b03f/Keras_Applications-1.0.8-py3-none-any.whl (50kB)\n",
            "\u001b[K     |████████████████████████████████| 51kB 7.4MB/s \n",
            "\u001b[?25hRequirement already satisfied: setuptools in /usr/local/lib/python3.6/dist-packages (from protobuf>=3.6.1->tensorflow==1.15.2) (49.2.0)\n",
            "Requirement already satisfied: werkzeug>=0.11.15 in /usr/local/lib/python3.6/dist-packages (from tensorboard<1.16.0,>=1.15.0->tensorflow==1.15.2) (1.0.1)\n",
            "Requirement already satisfied: markdown>=2.6.8 in /usr/local/lib/python3.6/dist-packages (from tensorboard<1.16.0,>=1.15.0->tensorflow==1.15.2) (3.2.2)\n",
            "Requirement already satisfied: h5py in /usr/local/lib/python3.6/dist-packages (from keras-applications>=1.0.8->tensorflow==1.15.2) (2.10.0)\n",
            "Requirement already satisfied: importlib-metadata; python_version < \"3.8\" in /usr/local/lib/python3.6/dist-packages (from markdown>=2.6.8->tensorboard<1.16.0,>=1.15.0->tensorflow==1.15.2) (1.7.0)\n",
            "Requirement already satisfied: zipp>=0.5 in /usr/local/lib/python3.6/dist-packages (from importlib-metadata; python_version < \"3.8\"->markdown>=2.6.8->tensorboard<1.16.0,>=1.15.0->tensorflow==1.15.2) (3.1.0)\n",
            "Building wheels for collected packages: gast\n",
            "  Building wheel for gast (setup.py) ... \u001b[?25l\u001b[?25hdone\n",
            "  Created wheel for gast: filename=gast-0.2.2-cp36-none-any.whl size=7540 sha256=8d8fa53c8bb7a55b77e2f97d830b08bf86496f9926c294d52180bd152cc66a87\n",
            "  Stored in directory: /root/.cache/pip/wheels/5c/2e/7e/a1d4d4fcebe6c381f378ce7743a3ced3699feb89bcfbdadadd\n",
            "Successfully built gast\n",
            "\u001b[31mERROR: tensorflow-probability 0.11.0 has requirement gast>=0.3.2, but you'll have gast 0.2.2 which is incompatible.\u001b[0m\n",
            "Installing collected packages: tensorflow-estimator, gast, tensorboard, keras-applications, tensorflow\n",
            "  Found existing installation: tensorflow-estimator 2.3.0\n",
            "    Uninstalling tensorflow-estimator-2.3.0:\n",
            "      Successfully uninstalled tensorflow-estimator-2.3.0\n",
            "  Found existing installation: gast 0.3.3\n",
            "    Uninstalling gast-0.3.3:\n",
            "      Successfully uninstalled gast-0.3.3\n",
            "  Found existing installation: tensorboard 2.3.0\n",
            "    Uninstalling tensorboard-2.3.0:\n",
            "      Successfully uninstalled tensorboard-2.3.0\n",
            "  Found existing installation: tensorflow 2.3.0\n",
            "    Uninstalling tensorflow-2.3.0:\n",
            "      Successfully uninstalled tensorflow-2.3.0\n",
            "Successfully installed gast-0.2.2 keras-applications-1.0.8 tensorboard-1.15.0 tensorflow-1.15.2 tensorflow-estimator-1.15.1\n",
            "1.15.2\n"
          ],
          "name": "stdout"
        }
      ]
    },
    {
      "cell_type": "markdown",
      "metadata": {
        "id": "2Wf7dGryJJut",
        "colab_type": "text"
      },
      "source": [
        "**Clonning Microsoft Recommenders NCF Model**"
      ]
    },
    {
      "cell_type": "code",
      "metadata": {
        "id": "nVBEAmPgeBi7",
        "colab_type": "code",
        "colab": {
          "base_uri": "https://localhost:8080/",
          "height": 136
        },
        "outputId": "a9dfa1df-41ef-430a-a368-c2fe1aabac26"
      },
      "source": [
        "!git clone https://github.com/Microsoft/Recommenders\n"
      ],
      "execution_count": null,
      "outputs": [
        {
          "output_type": "stream",
          "text": [
            "Cloning into 'Recommenders'...\n",
            "remote: Enumerating objects: 29, done.\u001b[K\n",
            "remote: Counting objects: 100% (29/29), done.\u001b[K\n",
            "remote: Compressing objects: 100% (26/26), done.\u001b[K\n",
            "remote: Total 23470 (delta 6), reused 2 (delta 1), pack-reused 23441\u001b[K\n",
            "Receiving objects: 100% (23470/23470), 101.52 MiB | 27.31 MiB/s, done.\n",
            "Resolving deltas: 100% (15208/15208), done.\n"
          ],
          "name": "stdout"
        }
      ]
    },
    {
      "cell_type": "code",
      "metadata": {
        "id": "sP5In5l4Xbff",
        "colab_type": "code",
        "colab": {}
      },
      "source": [
        "import sys\n",
        "sys.path.append('/content/Recommenders')"
      ],
      "execution_count": null,
      "outputs": []
    },
    {
      "cell_type": "code",
      "metadata": {
        "id": "G9Z09rBTXbaK",
        "colab_type": "code",
        "colab": {
          "base_uri": "https://localhost:8080/",
          "height": 54
        },
        "outputId": "5127dc6b-5c80-4eaa-f0d5-fce663a5633e"
      },
      "source": [
        "import reco_utils\n",
        "print(sys.path)"
      ],
      "execution_count": null,
      "outputs": [
        {
          "output_type": "stream",
          "text": [
            "['', '/env/python', '/usr/lib/python36.zip', '/usr/lib/python3.6', '/usr/lib/python3.6/lib-dynload', '/usr/local/lib/python3.6/dist-packages', '/usr/lib/python3/dist-packages', '/usr/local/lib/python3.6/dist-packages/IPython/extensions', '/root/.ipython', '/content/Recommenders']\n"
          ],
          "name": "stdout"
        }
      ]
    },
    {
      "cell_type": "code",
      "metadata": {
        "id": "7LONAoeTme8F",
        "colab_type": "code",
        "colab": {}
      },
      "source": [
        "import os\n",
        "import json\n",
        "import gzip\n",
        "import pandas as pd\n",
        "from urllib.request import urlopen\n",
        "import time\n",
        "from reco_utils.dataset.python_splitters import python_random_split\n",
        "from reco_utils.recommender.ncf.dataset import Dataset as NCFDataset\n",
        "from reco_utils.recommender.ncf.ncf_singlenode import NCF"
      ],
      "execution_count": null,
      "outputs": []
    },
    {
      "cell_type": "markdown",
      "metadata": {
        "id": "roMQC9ZXJZyH",
        "colab_type": "text"
      },
      "source": [
        "**Importing Amazon Luxury Beauty Dataset**"
      ]
    },
    {
      "cell_type": "code",
      "metadata": {
        "id": "N7ZFAJ6KG2DX",
        "colab_type": "code",
        "colab": {
          "base_uri": "https://localhost:8080/",
          "height": 204
        },
        "outputId": "8abe8676-bd0f-4ca7-fcc8-2617c3dd3e90"
      },
      "source": [
        "!wget http://deepyeti.ucsd.edu/jianmo/amazon/categoryFilesSmall/Luxury_Beauty_5.json.gz"
      ],
      "execution_count": null,
      "outputs": [
        {
          "output_type": "stream",
          "text": [
            "--2020-08-10 07:41:56--  http://deepyeti.ucsd.edu/jianmo/amazon/categoryFilesSmall/Luxury_Beauty_5.json.gz\n",
            "Resolving deepyeti.ucsd.edu (deepyeti.ucsd.edu)... 169.228.63.50\n",
            "Connecting to deepyeti.ucsd.edu (deepyeti.ucsd.edu)|169.228.63.50|:80... connected.\n",
            "HTTP request sent, awaiting response... 200 OK\n",
            "Length: 7356868 (7.0M) [application/octet-stream]\n",
            "Saving to: ‘Luxury_Beauty_5.json.gz’\n",
            "\n",
            "Luxury_Beauty_5.jso 100%[===================>]   7.02M  19.7MB/s    in 0.4s    \n",
            "\n",
            "2020-08-10 07:41:57 (19.7 MB/s) - ‘Luxury_Beauty_5.json.gz’ saved [7356868/7356868]\n",
            "\n"
          ],
          "name": "stdout"
        }
      ]
    },
    {
      "cell_type": "code",
      "metadata": {
        "id": "vakHrmXeGT4i",
        "colab_type": "code",
        "colab": {}
      },
      "source": [
        "#Importing data from json file and converting to dataframe\n",
        "def parse(path):\n",
        "  g = gzip.open(path, 'rb')\n",
        "  for l in g:\n",
        "    yield json.loads(l)\n",
        "\n",
        "def getDF(path):\n",
        "  i = 0\n",
        "  df = {}\n",
        "  for d in parse(path):\n",
        "    df[i] = d\n",
        "    i += 1\n",
        "  return pd.DataFrame.from_dict(df, orient='index')\n",
        "\n",
        "df = getDF('Luxury_Beauty_5.json.gz')"
      ],
      "execution_count": null,
      "outputs": []
    },
    {
      "cell_type": "markdown",
      "metadata": {
        "id": "omWYfVYEJhpv",
        "colab_type": "text"
      },
      "source": [
        "**Data Visualization**"
      ]
    },
    {
      "cell_type": "code",
      "metadata": {
        "id": "gtZXXNRcGimr",
        "colab_type": "code",
        "colab": {
          "base_uri": "https://localhost:8080/",
          "height": 187
        },
        "outputId": "94114136-8c66-45f9-ee09-51aa55bd2ac2"
      },
      "source": [
        "print(\"The number of rows in the dataset is: \", len(df))\n",
        "print(\"The amazon pantry dataset is: \\n\", df.head())"
      ],
      "execution_count": null,
      "outputs": [
        {
          "output_type": "stream",
          "text": [
            "The number of rows in the dataset is:  34278\n",
            "The amazon pantry dataset is: \n",
            "    overall  verified   reviewTime  ... unixReviewTime vote image\n",
            "0      5.0      True   01 5, 2018  ...     1515110400  NaN   NaN\n",
            "1      5.0      True   04 5, 2017  ...     1491350400  NaN   NaN\n",
            "2      5.0      True  03 27, 2017  ...     1490572800  NaN   NaN\n",
            "3      5.0      True  03 20, 2017  ...     1489968000  NaN   NaN\n",
            "4      5.0      True  02 28, 2017  ...     1488240000  NaN   NaN\n",
            "\n",
            "[5 rows x 12 columns]\n"
          ],
          "name": "stdout"
        }
      ]
    },
    {
      "cell_type": "code",
      "metadata": {
        "id": "_e4O3pQJ_Ak6",
        "colab_type": "code",
        "colab": {
          "base_uri": "https://localhost:8080/",
          "height": 289
        },
        "outputId": "9788c6e2-f2ce-4f4e-be1d-5df1063ec35b"
      },
      "source": [
        "df.head()"
      ],
      "execution_count": null,
      "outputs": [
        {
          "output_type": "execute_result",
          "data": {
            "text/html": [
              "<div>\n",
              "<style scoped>\n",
              "    .dataframe tbody tr th:only-of-type {\n",
              "        vertical-align: middle;\n",
              "    }\n",
              "\n",
              "    .dataframe tbody tr th {\n",
              "        vertical-align: top;\n",
              "    }\n",
              "\n",
              "    .dataframe thead th {\n",
              "        text-align: right;\n",
              "    }\n",
              "</style>\n",
              "<table border=\"1\" class=\"dataframe\">\n",
              "  <thead>\n",
              "    <tr style=\"text-align: right;\">\n",
              "      <th></th>\n",
              "      <th>overall</th>\n",
              "      <th>verified</th>\n",
              "      <th>reviewTime</th>\n",
              "      <th>reviewerID</th>\n",
              "      <th>asin</th>\n",
              "      <th>style</th>\n",
              "      <th>reviewerName</th>\n",
              "      <th>reviewText</th>\n",
              "      <th>summary</th>\n",
              "      <th>unixReviewTime</th>\n",
              "      <th>vote</th>\n",
              "      <th>image</th>\n",
              "    </tr>\n",
              "  </thead>\n",
              "  <tbody>\n",
              "    <tr>\n",
              "      <th>0</th>\n",
              "      <td>5.0</td>\n",
              "      <td>True</td>\n",
              "      <td>01 5, 2018</td>\n",
              "      <td>A2HOI48JK8838M</td>\n",
              "      <td>B00004U9V2</td>\n",
              "      <td>{'Size:': ' 0.9 oz.'}</td>\n",
              "      <td>DB</td>\n",
              "      <td>This handcream has a beautiful fragrance. It d...</td>\n",
              "      <td>Beautiful Fragrance</td>\n",
              "      <td>1515110400</td>\n",
              "      <td>NaN</td>\n",
              "      <td>NaN</td>\n",
              "    </tr>\n",
              "    <tr>\n",
              "      <th>1</th>\n",
              "      <td>5.0</td>\n",
              "      <td>True</td>\n",
              "      <td>04 5, 2017</td>\n",
              "      <td>A1YIPEY7HX73S7</td>\n",
              "      <td>B00004U9V2</td>\n",
              "      <td>{'Size:': ' 3.5 oz.'}</td>\n",
              "      <td>Ajaey</td>\n",
              "      <td>wonderful hand lotion, for seriously dry skin,...</td>\n",
              "      <td>wonderful hand lotion</td>\n",
              "      <td>1491350400</td>\n",
              "      <td>NaN</td>\n",
              "      <td>NaN</td>\n",
              "    </tr>\n",
              "    <tr>\n",
              "      <th>2</th>\n",
              "      <td>5.0</td>\n",
              "      <td>True</td>\n",
              "      <td>03 27, 2017</td>\n",
              "      <td>A2QCGHIJ2TCLVP</td>\n",
              "      <td>B00004U9V2</td>\n",
              "      <td>{'Size:': ' 250 g'}</td>\n",
              "      <td>D. Jones</td>\n",
              "      <td>Best hand cream around.  Silky, thick, soaks i...</td>\n",
              "      <td>Best hand cream around</td>\n",
              "      <td>1490572800</td>\n",
              "      <td>NaN</td>\n",
              "      <td>NaN</td>\n",
              "    </tr>\n",
              "    <tr>\n",
              "      <th>3</th>\n",
              "      <td>5.0</td>\n",
              "      <td>True</td>\n",
              "      <td>03 20, 2017</td>\n",
              "      <td>A2R4UNHFJBA6PY</td>\n",
              "      <td>B00004U9V2</td>\n",
              "      <td>{'Size:': ' 3.5 oz.'}</td>\n",
              "      <td>Amazon Customer</td>\n",
              "      <td>Thanks!!</td>\n",
              "      <td>Five Stars</td>\n",
              "      <td>1489968000</td>\n",
              "      <td>NaN</td>\n",
              "      <td>NaN</td>\n",
              "    </tr>\n",
              "    <tr>\n",
              "      <th>4</th>\n",
              "      <td>5.0</td>\n",
              "      <td>True</td>\n",
              "      <td>02 28, 2017</td>\n",
              "      <td>A2QCGHIJ2TCLVP</td>\n",
              "      <td>B00004U9V2</td>\n",
              "      <td>{'Size:': ' 0.9 oz.'}</td>\n",
              "      <td>D. Jones</td>\n",
              "      <td>Great hand lotion.  Soaks right in and leaves ...</td>\n",
              "      <td>Great hand lotion!</td>\n",
              "      <td>1488240000</td>\n",
              "      <td>NaN</td>\n",
              "      <td>NaN</td>\n",
              "    </tr>\n",
              "  </tbody>\n",
              "</table>\n",
              "</div>"
            ],
            "text/plain": [
              "   overall  verified   reviewTime  ... unixReviewTime vote image\n",
              "0      5.0      True   01 5, 2018  ...     1515110400  NaN   NaN\n",
              "1      5.0      True   04 5, 2017  ...     1491350400  NaN   NaN\n",
              "2      5.0      True  03 27, 2017  ...     1490572800  NaN   NaN\n",
              "3      5.0      True  03 20, 2017  ...     1489968000  NaN   NaN\n",
              "4      5.0      True  02 28, 2017  ...     1488240000  NaN   NaN\n",
              "\n",
              "[5 rows x 12 columns]"
            ]
          },
          "metadata": {
            "tags": []
          },
          "execution_count": 10
        }
      ]
    },
    {
      "cell_type": "markdown",
      "metadata": {
        "id": "1-BFPDFHJvzT",
        "colab_type": "text"
      },
      "source": [
        "**Splitting the data to Test and Train**"
      ]
    },
    {
      "cell_type": "code",
      "metadata": {
        "id": "6dEXtGwLrl1I",
        "colab_type": "code",
        "colab": {
          "base_uri": "https://localhost:8080/",
          "height": 340
        },
        "outputId": "4adb2850-47c4-4e3c-e826-83c4754f30e6"
      },
      "source": [
        "# df = df.sample(n=10000)\n",
        "train, test = python_random_split(df, ratio=0.8)\n",
        "train.head()\n",
        "test.head()\n"
      ],
      "execution_count": null,
      "outputs": [
        {
          "output_type": "execute_result",
          "data": {
            "text/html": [
              "<div>\n",
              "<style scoped>\n",
              "    .dataframe tbody tr th:only-of-type {\n",
              "        vertical-align: middle;\n",
              "    }\n",
              "\n",
              "    .dataframe tbody tr th {\n",
              "        vertical-align: top;\n",
              "    }\n",
              "\n",
              "    .dataframe thead th {\n",
              "        text-align: right;\n",
              "    }\n",
              "</style>\n",
              "<table border=\"1\" class=\"dataframe\">\n",
              "  <thead>\n",
              "    <tr style=\"text-align: right;\">\n",
              "      <th></th>\n",
              "      <th>overall</th>\n",
              "      <th>verified</th>\n",
              "      <th>reviewTime</th>\n",
              "      <th>reviewerID</th>\n",
              "      <th>asin</th>\n",
              "      <th>style</th>\n",
              "      <th>reviewerName</th>\n",
              "      <th>reviewText</th>\n",
              "      <th>summary</th>\n",
              "      <th>unixReviewTime</th>\n",
              "      <th>vote</th>\n",
              "      <th>image</th>\n",
              "    </tr>\n",
              "  </thead>\n",
              "  <tbody>\n",
              "    <tr>\n",
              "      <th>27291</th>\n",
              "      <td>4.0</td>\n",
              "      <td>False</td>\n",
              "      <td>11 8, 2016</td>\n",
              "      <td>A28I98PKHZZKVB</td>\n",
              "      <td>B00NM75BX4</td>\n",
              "      <td>NaN</td>\n",
              "      <td>S.Trasny</td>\n",
              "      <td>DH got his first bottle of Baxter of Californi...</td>\n",
              "      <td>2nd To Baxter's Super Close Shave Formula</td>\n",
              "      <td>1478563200</td>\n",
              "      <td>NaN</td>\n",
              "      <td>NaN</td>\n",
              "    </tr>\n",
              "    <tr>\n",
              "      <th>16095</th>\n",
              "      <td>5.0</td>\n",
              "      <td>True</td>\n",
              "      <td>09 3, 2013</td>\n",
              "      <td>AQO3WDKL8Q7BL</td>\n",
              "      <td>B004N2SQUC</td>\n",
              "      <td>NaN</td>\n",
              "      <td>Nancy S</td>\n",
              "      <td>I am loving this color.  It's a pretty red, wi...</td>\n",
              "      <td>CND Hollywood</td>\n",
              "      <td>1378166400</td>\n",
              "      <td>NaN</td>\n",
              "      <td>NaN</td>\n",
              "    </tr>\n",
              "    <tr>\n",
              "      <th>15270</th>\n",
              "      <td>5.0</td>\n",
              "      <td>True</td>\n",
              "      <td>07 7, 2014</td>\n",
              "      <td>A27OOJSY1RH1O6</td>\n",
              "      <td>B003OGV7UO</td>\n",
              "      <td>{'Color:': ' Powder My Nose'}</td>\n",
              "      <td>A-Lo</td>\n",
              "      <td>Terrific nude color!</td>\n",
              "      <td>Five Stars</td>\n",
              "      <td>1404691200</td>\n",
              "      <td>3</td>\n",
              "      <td>NaN</td>\n",
              "    </tr>\n",
              "    <tr>\n",
              "      <th>29903</th>\n",
              "      <td>1.0</td>\n",
              "      <td>False</td>\n",
              "      <td>08 24, 2017</td>\n",
              "      <td>A29E6HV2DT7RCI</td>\n",
              "      <td>B017UMXLTM</td>\n",
              "      <td>NaN</td>\n",
              "      <td>Onecutepoohbear</td>\n",
              "      <td>Felt like baby oil. Very heavy on the skin. Br...</td>\n",
              "      <td>Broke my face out</td>\n",
              "      <td>1503532800</td>\n",
              "      <td>NaN</td>\n",
              "      <td>NaN</td>\n",
              "    </tr>\n",
              "    <tr>\n",
              "      <th>9253</th>\n",
              "      <td>5.0</td>\n",
              "      <td>True</td>\n",
              "      <td>06 11, 2015</td>\n",
              "      <td>A3K7RVCWO9MZQL</td>\n",
              "      <td>B0015Z90NC</td>\n",
              "      <td>NaN</td>\n",
              "      <td>carina</td>\n",
              "      <td>It is useful as it described.</td>\n",
              "      <td>Five Stars</td>\n",
              "      <td>1433980800</td>\n",
              "      <td>NaN</td>\n",
              "      <td>NaN</td>\n",
              "    </tr>\n",
              "  </tbody>\n",
              "</table>\n",
              "</div>"
            ],
            "text/plain": [
              "       overall  verified   reviewTime  ... unixReviewTime vote image\n",
              "27291      4.0     False   11 8, 2016  ...     1478563200  NaN   NaN\n",
              "16095      5.0      True   09 3, 2013  ...     1378166400  NaN   NaN\n",
              "15270      5.0      True   07 7, 2014  ...     1404691200    3   NaN\n",
              "29903      1.0     False  08 24, 2017  ...     1503532800  NaN   NaN\n",
              "9253       5.0      True  06 11, 2015  ...     1433980800  NaN   NaN\n",
              "\n",
              "[5 rows x 12 columns]"
            ]
          },
          "metadata": {
            "tags": []
          },
          "execution_count": 11
        }
      ]
    },
    {
      "cell_type": "markdown",
      "metadata": {
        "id": "v49KkXg6J54x",
        "colab_type": "text"
      },
      "source": [
        "**Setting the Model Parameters**"
      ]
    },
    {
      "cell_type": "code",
      "metadata": {
        "id": "Xj6E_EJHrylN",
        "colab_type": "code",
        "colab": {
          "base_uri": "https://localhost:8080/",
          "height": 51
        },
        "outputId": "ace26ec0-5c8d-47ab-dea9-81b41a267b12"
      },
      "source": [
        "data = NCFDataset(train=train, test=test, seed=52, col_user='reviewerID', col_item='asin', col_rating='overall', \n",
        "                  col_timestamp='unixReviewTime', n_neg=10, n_neg_test=3)\n",
        "print(\"n_users is: \", data.n_users)\n",
        "print(\"n_items is: \", data.n_items)"
      ],
      "execution_count": null,
      "outputs": [
        {
          "output_type": "stream",
          "text": [
            "n_users is:  3819\n",
            "n_items is:  1581\n"
          ],
          "name": "stdout"
        }
      ]
    },
    {
      "cell_type": "code",
      "metadata": {
        "id": "HBGqgQp6sAjA",
        "colab_type": "code",
        "colab": {
          "base_uri": "https://localhost:8080/",
          "height": 275
        },
        "outputId": "ca37f654-df64-444b-9765-86d96f036407"
      },
      "source": [
        "# Setting Model parameters such as: Model Type, batch size, layers,  \n",
        "# Model parameters\n",
        "EPOCHS = 200\n",
        "BATCH_SIZE = 60\n",
        "\n",
        "model = NCF (\n",
        "    n_users=data.n_users, \n",
        "    n_items=data.n_items,\n",
        "    model_type=\"NeuMF\",\n",
        "    n_factors=4,\n",
        "    layer_sizes=[16,8,4],\n",
        "    n_epochs=EPOCHS,\n",
        "    batch_size=BATCH_SIZE,\n",
        "    learning_rate=1e-3,\n",
        "    verbose=10,\n",
        ")"
      ],
      "execution_count": null,
      "outputs": [
        {
          "output_type": "stream",
          "text": [
            "WARNING:tensorflow:\n",
            "The TensorFlow contrib module will not be included in TensorFlow 2.0.\n",
            "For more information, please see:\n",
            "  * https://github.com/tensorflow/community/blob/master/rfcs/20180907-contrib-sunset.md\n",
            "  * https://github.com/tensorflow/addons\n",
            "  * https://github.com/tensorflow/io (for I/O related ops)\n",
            "If you depend on functionality not listed there, please file an issue.\n",
            "\n",
            "WARNING:tensorflow:From /usr/local/lib/python3.6/dist-packages/tensorflow_core/contrib/layers/python/layers/layers.py:1866: Layer.apply (from tensorflow.python.keras.engine.base_layer) is deprecated and will be removed in a future version.\n",
            "Instructions for updating:\n",
            "Please use `layer.__call__` method instead.\n",
            "WARNING:tensorflow:From /usr/local/lib/python3.6/dist-packages/tensorflow_core/python/ops/losses/losses_impl.py:121: where (from tensorflow.python.ops.array_ops) is deprecated and will be removed in a future version.\n",
            "Instructions for updating:\n",
            "Use tf.where in 2.0, which has the same broadcast rule as np.where\n"
          ],
          "name": "stdout"
        }
      ]
    },
    {
      "cell_type": "markdown",
      "metadata": {
        "id": "ShCWhMaiJ-ca",
        "colab_type": "text"
      },
      "source": [
        "**Train the NCF model**"
      ]
    },
    {
      "cell_type": "code",
      "metadata": {
        "id": "_n7x5PwssDrn",
        "colab_type": "code",
        "colab": {
          "base_uri": "https://localhost:8080/",
          "height": 34
        },
        "outputId": "5a25e3f0-10ed-4ced-90ef-f9e2bbb7ac92"
      },
      "source": [
        "# Training the Model\n",
        "start_time = time.time()\n",
        "model.fit(data)\n",
        "train_time = time.time() - start_time\n",
        "\n",
        "print(\"The new time taken to train the Model with epoch:200 batch:60 \", train_time)"
      ],
      "execution_count": null,
      "outputs": [
        {
          "output_type": "stream",
          "text": [
            "The new time taken to train the Model with epoch:200 batch:60  1432.7290880680084\n"
          ],
          "name": "stdout"
        }
      ]
    },
    {
      "cell_type": "code",
      "metadata": {
        "id": "_2gfPCFFsGgr",
        "colab_type": "code",
        "colab": {
          "base_uri": "https://localhost:8080/",
          "height": 34
        },
        "outputId": "087a2683-cc64-470d-a6e2-138e1d4b7ce1"
      },
      "source": [
        "start_time = time.time()\n",
        "\n",
        "users, items, preds = [], [], []\n",
        "item = list(train.asin.unique())\n",
        "for user in train.reviewerID.unique():\n",
        "    user = [user] * len(item) \n",
        "    users.extend(user)\n",
        "    items.extend(item)\n",
        "    preds.extend(list(model.predict(user, item, is_list=True)))\n",
        "\n",
        "all_predictions = pd.DataFrame(data={\"reviewerID\": users, \"asin\":items, \"prediction\":preds})\n",
        "\n",
        "merged = pd.merge(train, all_predictions, on=[\"reviewerID\", \"asin\"], how=\"outer\")\n",
        "\n",
        "test_time = time.time() - start_time\n",
        "print(\"Took {} seconds for prediction.\".format(test_time))"
      ],
      "execution_count": null,
      "outputs": [
        {
          "output_type": "stream",
          "text": [
            "Took 10.372838497161865 seconds for prediction.\n"
          ],
          "name": "stdout"
        }
      ]
    },
    {
      "cell_type": "markdown",
      "metadata": {
        "id": "5MeJ22wxKFPC",
        "colab_type": "text"
      },
      "source": [
        "**Ratings Prediction**"
      ]
    },
    {
      "cell_type": "code",
      "metadata": {
        "id": "pb-KgEe5sMHd",
        "colab_type": "code",
        "colab": {
          "base_uri": "https://localhost:8080/",
          "height": 119
        },
        "outputId": "0f86e964-19cb-4031-ee57-a6cae504c159"
      },
      "source": [
        "print(all_predictions.head())"
      ],
      "execution_count": null,
      "outputs": [
        {
          "output_type": "stream",
          "text": [
            "       reviewerID        asin  prediction\n",
            "0  A2F244OGTONA15  B00B59AULY    0.999960\n",
            "1  A2F244OGTONA15  B00LA5NKTM    0.000000\n",
            "2  A2F244OGTONA15  B003OGV7UO    0.000031\n",
            "3  A2F244OGTONA15  B0013U0EYI    0.000000\n",
            "4  A2F244OGTONA15  B00I1BLUC2    0.000000\n"
          ],
          "name": "stdout"
        }
      ]
    },
    {
      "cell_type": "code",
      "metadata": {
        "id": "ue1HbldMZjX4",
        "colab_type": "code",
        "colab": {
          "base_uri": "https://localhost:8080/",
          "height": 153
        },
        "outputId": "c9894008-1ad0-4087-a113-624bdae3ec36"
      },
      "source": [
        "print(merged.head())"
      ],
      "execution_count": null,
      "outputs": [
        {
          "output_type": "stream",
          "text": [
            "   overall verified   reviewTime  ... image prediction scaled_rating\n",
            "0      5.0     True  03 12, 2016  ...   NaN   0.999960           1.0\n",
            "1      5.0    False  12 11, 2016  ...   NaN   0.314664           1.0\n",
            "2      5.0     True  01 19, 2015  ...   NaN   0.999970           1.0\n",
            "3      5.0     True  01 19, 2015  ...   NaN   0.999970           1.0\n",
            "4      5.0     True  01 19, 2015  ...   NaN   0.999970           1.0\n",
            "\n",
            "[5 rows x 14 columns]\n"
          ],
          "name": "stdout"
        }
      ]
    },
    {
      "cell_type": "code",
      "metadata": {
        "id": "e_Sn5VJiZm4A",
        "colab_type": "code",
        "colab": {
          "base_uri": "https://localhost:8080/",
          "height": 238
        },
        "outputId": "5dfd0ca6-b0de-4528-fff3-8d4757a7e2ac"
      },
      "source": [
        "pred_review = merged.reviewerID == 'A2F244OGTONA15'\n",
        "print(len(pred_review))\n",
        "print(pred_review)"
      ],
      "execution_count": null,
      "outputs": [
        {
          "output_type": "stream",
          "text": [
            "27422\n",
            "0         True\n",
            "1        False\n",
            "2        False\n",
            "3        False\n",
            "4        False\n",
            "         ...  \n",
            "27417    False\n",
            "27418    False\n",
            "27419    False\n",
            "27420    False\n",
            "27421    False\n",
            "Name: reviewerID, Length: 27422, dtype: bool\n"
          ],
          "name": "stdout"
        }
      ]
    },
    {
      "cell_type": "markdown",
      "metadata": {
        "id": "5zc-8aM0KT8R",
        "colab_type": "text"
      },
      "source": [
        "**Actual rating v/s Predicted ratings**"
      ]
    },
    {
      "cell_type": "code",
      "metadata": {
        "id": "NthNHJwhbHr8",
        "colab_type": "code",
        "colab": {
          "base_uri": "https://localhost:8080/",
          "height": 51
        },
        "outputId": "6dbdd2cf-9937-4d9d-bdc1-3a1b5ddd976f"
      },
      "source": [
        "min_rating = min(merged[\"overall\"])\n",
        "max_rating = max(merged[\"overall\"])\n",
        "print(min_rating)\n",
        "print(max_rating)"
      ],
      "execution_count": null,
      "outputs": [
        {
          "output_type": "stream",
          "text": [
            "1.0\n",
            "5.0\n"
          ],
          "name": "stdout"
        }
      ]
    },
    {
      "cell_type": "code",
      "metadata": {
        "id": "RmESJVB2ep8v",
        "colab_type": "code",
        "colab": {
          "base_uri": "https://localhost:8080/",
          "height": 255
        },
        "outputId": "c5ca7f3a-042c-480e-ae63-46852cebd397"
      },
      "source": [
        "scaled_rating = merged[\"overall\"].apply(lambda x: (x - min_rating) / (max_rating - min_rating))\n",
        "\n",
        "merged[\"scaled_rating\"] = scaled_rating\n",
        "merged = merged[~merged['scaled_rating'].isnull()]\n",
        "merged = merged[~merged['prediction'].isnull()]\n",
        "\n",
        "print(merged)"
      ],
      "execution_count": null,
      "outputs": [
        {
          "output_type": "stream",
          "text": [
            "       overall verified   reviewTime  ... image prediction scaled_rating\n",
            "0          5.0     True  03 12, 2016  ...   NaN   0.999960          1.00\n",
            "1          5.0    False  12 11, 2016  ...   NaN   0.314664          1.00\n",
            "2          5.0     True  01 19, 2015  ...   NaN   0.999970          1.00\n",
            "3          5.0     True  01 19, 2015  ...   NaN   0.999970          1.00\n",
            "4          5.0     True  01 19, 2015  ...   NaN   0.999970          1.00\n",
            "...        ...      ...          ...  ...   ...        ...           ...\n",
            "27417      5.0     True   10 5, 2016  ...   NaN   0.999605          1.00\n",
            "27418      5.0     True  10 18, 2016  ...   NaN   0.987909          1.00\n",
            "27419      4.0    False  08 20, 2014  ...   NaN   0.997790          0.75\n",
            "27420      4.0    False  04 28, 2015  ...   NaN   0.588829          0.75\n",
            "27421      5.0     True   10 5, 2016  ...   NaN   0.645505          1.00\n",
            "\n",
            "[27422 rows x 14 columns]\n"
          ],
          "name": "stdout"
        }
      ]
    },
    {
      "cell_type": "code",
      "metadata": {
        "id": "DOkzZlB2ZxJO",
        "colab_type": "code",
        "colab": {
          "base_uri": "https://localhost:8080/",
          "height": 204
        },
        "outputId": "b0c6c66e-d454-4f6a-bceb-0664fb8465e9"
      },
      "source": [
        "specific_col_merged = merged[['overall', 'reviewerID', 'asin', 'prediction', 'scaled_rating']]\n",
        "user_item_prediction = specific_col_merged[merged.reviewerID.eq('A2F244OGTONA15')]\n",
        "user_item_prediction = user_item_prediction[~user_item_prediction['overall'].isnull()]\n",
        "\n",
        "print(len(user_item_prediction))\n",
        "print(\"user_item_prediction \\n\", user_item_prediction)\n"
      ],
      "execution_count": null,
      "outputs": [
        {
          "output_type": "stream",
          "text": [
            "8\n",
            "user_item_prediction \n",
            "        overall      reviewerID        asin  prediction  scaled_rating\n",
            "0          5.0  A2F244OGTONA15  B00B59AULY    0.999960            1.0\n",
            "2893       5.0  A2F244OGTONA15  B00BXS9PFE    0.995652            1.0\n",
            "3562       5.0  A2F244OGTONA15  B000J4FGAG    0.999410            1.0\n",
            "7435       5.0  A2F244OGTONA15  B0006PLMFQ    0.999335            1.0\n",
            "14245      5.0  A2F244OGTONA15  B00DTH63P2    0.996381            1.0\n",
            "17020      5.0  A2F244OGTONA15  B00699JDKY    0.995916            1.0\n",
            "19712      5.0  A2F244OGTONA15  B0058TE4WI    0.997323            1.0\n",
            "24770      5.0  A2F244OGTONA15  B007PORYUI    0.998536            1.0\n"
          ],
          "name": "stdout"
        }
      ]
    },
    {
      "cell_type": "markdown",
      "metadata": {
        "id": "wHeJVf3CKg8r",
        "colab_type": "text"
      },
      "source": [
        "**Evaluation**"
      ]
    },
    {
      "cell_type": "code",
      "metadata": {
        "id": "ftObiQBFaA86",
        "colab_type": "code",
        "colab": {
          "base_uri": "https://localhost:8080/",
          "height": 119
        },
        "outputId": "16adc366-498f-4eca-b245-aa3e485c4fb6"
      },
      "source": [
        "from reco_utils.common.notebook_utils import is_jupyter\n",
        "from reco_utils.dataset.python_splitters import python_chrono_split\n",
        "from reco_utils.evaluation.python_evaluation import (rmse, mae, rsquared, exp_var, map_at_k, ndcg_at_k, precision_at_k, \n",
        "                                                     recall_at_k, get_top_k_items)\n",
        "TOP_K = 10\n",
        "\n",
        "rmse = rmse(merged, merged, col_user='reviewerID', col_item='asin', col_rating='scaled_rating', col_prediction='prediction')\n",
        "mae = mae(merged, merged, col_user='reviewerID', col_item='asin', col_rating='scaled_rating', col_prediction='prediction')\n",
        "eval_map = map_at_k(test, all_predictions, col_prediction='prediction', k=TOP_K, col_user='reviewerID', \n",
        "                    col_item='asin', col_rating='overall')\n",
        "eval_ndcg = ndcg_at_k(test, all_predictions, col_prediction='prediction', k=TOP_K, col_user='reviewerID', \n",
        "                    col_item='asin', col_rating='overall')\n",
        "eval_precision = precision_at_k(test, all_predictions, col_prediction='prediction', k=TOP_K, col_user='reviewerID', \n",
        "                    col_item='asin', col_rating='overall')\n",
        "eval_recall = recall_at_k(test, all_predictions, col_prediction='prediction', k=TOP_K, col_user='reviewerID', \n",
        "                    col_item='asin', col_rating='overall')\n",
        "\n",
        "print(\"RMSE:\\t%f\" % rmse,\n",
        "      \"MAE:\\t%f\" % mae,\n",
        "      \"MAP:\\t%f\" % eval_map,\n",
        "      \"NDCG:\\t%f\" % eval_ndcg,\n",
        "      \"Precision@K:\\t%f\" % eval_precision,\n",
        "      \"Recall@K:\\t%f\" % eval_recall, sep='\\n')"
      ],
      "execution_count": null,
      "outputs": [
        {
          "output_type": "stream",
          "text": [
            "RMSE:\t0.245540\n",
            "MAE:\t0.134500\n",
            "MAP:\t0.267145\n",
            "NDCG:\t0.298105\n",
            "Precision@K:\t0.084311\n",
            "Recall@K:\t0.409960\n"
          ],
          "name": "stdout"
        }
      ]
    },
    {
      "cell_type": "code",
      "metadata": {
        "id": "QuqfUm2kjuOg",
        "colab_type": "code",
        "colab": {
          "base_uri": "https://localhost:8080/",
          "height": 516
        },
        "outputId": "c1fc69db-0ba9-47ca-ab34-1d7f2cf23f34"
      },
      "source": [
        "import numpy as np\n",
        "import matplotlib.pyplot as plt\n",
        "\n",
        "x = user_item_prediction['prediction']\n",
        "x1 = user_item_prediction['scaled_rating']\n",
        "y = user_item_prediction['asin']\n",
        "\n",
        "plt.figure(figsize=(12,8))\n",
        "plt.title(\"RMSE for a User\")\n",
        "plt.ylabel(\"rating\", fontsize='large')\n",
        "plt.xlabel(\"item ids\", fontsize='large')\n",
        "\n",
        "plt.scatter(y, x)\n",
        "plt.scatter(y, x1)\n",
        "plt.legend([\"predicted rating\", \"actual rating\"], loc='upper right', bbox_to_anchor=(1, 1), fontsize='large')\n",
        "plt.show()"
      ],
      "execution_count": null,
      "outputs": [
        {
          "output_type": "display_data",
          "data": {
            "image/png": "[encoded data removed]",
            "text/plain": [
              "<Figure size 864x576 with 1 Axes>"
            ]
          },
          "metadata": {
            "tags": [],
            "needs_background": "light"
          }
        }
      ]
    }
  ]
}