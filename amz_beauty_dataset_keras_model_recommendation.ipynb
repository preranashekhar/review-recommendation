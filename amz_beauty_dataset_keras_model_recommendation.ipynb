{
  "nbformat": 4,
  "nbformat_minor": 0,
  "metadata": {
    "colab": {
      "name": "amz_beauty_dataset_keras_model_recommendation.ipynb",
      "provenance": [],
      "collapsed_sections": [],
      "machine_shape": "hm"
    },
    "kernelspec": {
      "name": "python3",
      "display_name": "Python 3"
    },
    "accelerator": "GPU"
  },
  "cells": [
    {
      "cell_type": "markdown",
      "metadata": {
        "id": "O0mGgJ0YCnDA",
        "colab_type": "text"
      },
      "source": [
        "**Amazon Review Beauty Dataset Recommendation**"
      ]
    },
    {
      "cell_type": "markdown",
      "metadata": {
        "id": "Pp19M2KmDoxB",
        "colab_type": "text"
      },
      "source": [
        "**Collaborative filtering Recommendation using Keras Model**"
      ]
    },
    {
      "cell_type": "code",
      "metadata": {
        "id": "wns2aSvCX2EA",
        "colab_type": "code",
        "colab": {}
      },
      "source": [
        "import os\n",
        "import json\n",
        "import gzip\n",
        "import pandas as pd\n",
        "from urllib.request import urlopen\n",
        "import time"
      ],
      "execution_count": null,
      "outputs": []
    },
    {
      "cell_type": "code",
      "metadata": {
        "id": "teVnOxBlYyDR",
        "colab_type": "code",
        "colab": {}
      },
      "source": [
        "import numpy as np\n",
        "from zipfile import ZipFile\n",
        "import tensorflow as tf\n",
        "from tensorflow import keras\n",
        "from tensorflow.keras import layers\n",
        "from pathlib import Path\n",
        "import matplotlib.pyplot as plt"
      ],
      "execution_count": null,
      "outputs": []
    },
    {
      "cell_type": "markdown",
      "metadata": {
        "id": "OJafFFBfEIeY",
        "colab_type": "text"
      },
      "source": [
        "**Import Amazon Beauty Dataset**"
      ]
    },
    {
      "cell_type": "code",
      "metadata": {
        "id": "c9kkD3-jYVeb",
        "colab_type": "code",
        "colab": {
          "base_uri": "https://localhost:8080/",
          "height": 204
        },
        "outputId": "77806eec-059f-4325-9ed4-2917398f980a"
      },
      "source": [
        "!wget http://deepyeti.ucsd.edu/jianmo/amazon/categoryFilesSmall/Luxury_Beauty_5.json.gz"
      ],
      "execution_count": null,
      "outputs": [
        {
          "output_type": "stream",
          "text": [
            "--2020-08-10 17:52:08--  http://deepyeti.ucsd.edu/jianmo/amazon/categoryFilesSmall/Luxury_Beauty_5.json.gz\n",
            "Resolving deepyeti.ucsd.edu (deepyeti.ucsd.edu)... 169.228.63.50\n",
            "Connecting to deepyeti.ucsd.edu (deepyeti.ucsd.edu)|169.228.63.50|:80... connected.\n",
            "HTTP request sent, awaiting response... 200 OK\n",
            "Length: 7356868 (7.0M) [application/octet-stream]\n",
            "Saving to: ‘Luxury_Beauty_5.json.gz.1’\n",
            "\n",
            "Luxury_Beauty_5.jso 100%[===================>]   7.02M  5.97MB/s    in 1.2s    \n",
            "\n",
            "2020-08-10 17:52:09 (5.97 MB/s) - ‘Luxury_Beauty_5.json.gz.1’ saved [7356868/7356868]\n",
            "\n"
          ],
          "name": "stdout"
        }
      ]
    },
    {
      "cell_type": "code",
      "metadata": {
        "id": "QVLN6POrYB2s",
        "colab_type": "code",
        "colab": {}
      },
      "source": [
        "def parse(path):\n",
        "  g = gzip.open(path, 'rb')\n",
        "  for l in g:\n",
        "    yield json.loads(l)\n",
        "\n",
        "def getDF(path):\n",
        "  i = 0\n",
        "  df = {}\n",
        "  for d in parse(path):\n",
        "    df[i] = d\n",
        "    i += 1\n",
        "  return pd.DataFrame.from_dict(df, orient='index')\n",
        "\n",
        "df = getDF('Luxury_Beauty_5.json.gz')"
      ],
      "execution_count": null,
      "outputs": []
    },
    {
      "cell_type": "markdown",
      "metadata": {
        "id": "7HMYTuAQErL6",
        "colab_type": "text"
      },
      "source": [
        "**Data Visualization**"
      ]
    },
    {
      "cell_type": "code",
      "metadata": {
        "id": "LEIhYdEuYaPI",
        "colab_type": "code",
        "colab": {
          "base_uri": "https://localhost:8080/",
          "height": 34
        },
        "outputId": "cd69d1a0-c5b5-49fc-9094-395751f3cae1"
      },
      "source": [
        "print(\"The number of rows in the dataset is: \", len(df))"
      ],
      "execution_count": null,
      "outputs": [
        {
          "output_type": "stream",
          "text": [
            "The number of rows in the dataset is:  34278\n"
          ],
          "name": "stdout"
        }
      ]
    },
    {
      "cell_type": "code",
      "metadata": {
        "id": "IgMYw9m4YhWl",
        "colab_type": "code",
        "colab": {
          "base_uri": "https://localhost:8080/",
          "height": 51
        },
        "outputId": "c778f6d3-ee40-40a0-8a3d-f506114b6c88"
      },
      "source": [
        "# Calculating the mininum and maximum ratings\n",
        "df[\"overall\"] = df[\"overall\"].values.astype(np.float32)\n",
        "min_rating = min(df[\"overall\"])\n",
        "max_rating = max(df[\"overall\"])\n",
        "print(\"min_rating\", min_rating)\n",
        "print(\"max_rating\", max_rating)"
      ],
      "execution_count": null,
      "outputs": [
        {
          "output_type": "stream",
          "text": [
            "min_rating 1.0\n",
            "max_rating 5.0\n"
          ],
          "name": "stdout"
        }
      ]
    },
    {
      "cell_type": "code",
      "metadata": {
        "id": "0-z3I_theb21",
        "colab_type": "code",
        "colab": {
          "base_uri": "https://localhost:8080/",
          "height": 204
        },
        "outputId": "223f4aad-5f79-4d0f-dd29-deeb08ad0bec"
      },
      "source": [
        "df.head()"
      ],
      "execution_count": null,
      "outputs": [
        {
          "output_type": "execute_result",
          "data": {
            "text/html": [
              "<div>\n",
              "<style scoped>\n",
              "    .dataframe tbody tr th:only-of-type {\n",
              "        vertical-align: middle;\n",
              "    }\n",
              "\n",
              "    .dataframe tbody tr th {\n",
              "        vertical-align: top;\n",
              "    }\n",
              "\n",
              "    .dataframe thead th {\n",
              "        text-align: right;\n",
              "    }\n",
              "</style>\n",
              "<table border=\"1\" class=\"dataframe\">\n",
              "  <thead>\n",
              "    <tr style=\"text-align: right;\">\n",
              "      <th></th>\n",
              "      <th>overall</th>\n",
              "      <th>verified</th>\n",
              "      <th>reviewTime</th>\n",
              "      <th>reviewerID</th>\n",
              "      <th>asin</th>\n",
              "      <th>style</th>\n",
              "      <th>reviewerName</th>\n",
              "      <th>reviewText</th>\n",
              "      <th>summary</th>\n",
              "      <th>unixReviewTime</th>\n",
              "      <th>vote</th>\n",
              "      <th>image</th>\n",
              "    </tr>\n",
              "  </thead>\n",
              "  <tbody>\n",
              "    <tr>\n",
              "      <th>0</th>\n",
              "      <td>5.0</td>\n",
              "      <td>True</td>\n",
              "      <td>01 5, 2018</td>\n",
              "      <td>A2HOI48JK8838M</td>\n",
              "      <td>B00004U9V2</td>\n",
              "      <td>{'Size:': ' 0.9 oz.'}</td>\n",
              "      <td>DB</td>\n",
              "      <td>This handcream has a beautiful fragrance. It d...</td>\n",
              "      <td>Beautiful Fragrance</td>\n",
              "      <td>1515110400</td>\n",
              "      <td>NaN</td>\n",
              "      <td>NaN</td>\n",
              "    </tr>\n",
              "    <tr>\n",
              "      <th>1</th>\n",
              "      <td>5.0</td>\n",
              "      <td>True</td>\n",
              "      <td>04 5, 2017</td>\n",
              "      <td>A1YIPEY7HX73S7</td>\n",
              "      <td>B00004U9V2</td>\n",
              "      <td>{'Size:': ' 3.5 oz.'}</td>\n",
              "      <td>Ajaey</td>\n",
              "      <td>wonderful hand lotion, for seriously dry skin,...</td>\n",
              "      <td>wonderful hand lotion</td>\n",
              "      <td>1491350400</td>\n",
              "      <td>NaN</td>\n",
              "      <td>NaN</td>\n",
              "    </tr>\n",
              "    <tr>\n",
              "      <th>2</th>\n",
              "      <td>5.0</td>\n",
              "      <td>True</td>\n",
              "      <td>03 27, 2017</td>\n",
              "      <td>A2QCGHIJ2TCLVP</td>\n",
              "      <td>B00004U9V2</td>\n",
              "      <td>{'Size:': ' 250 g'}</td>\n",
              "      <td>D. Jones</td>\n",
              "      <td>Best hand cream around.  Silky, thick, soaks i...</td>\n",
              "      <td>Best hand cream around</td>\n",
              "      <td>1490572800</td>\n",
              "      <td>NaN</td>\n",
              "      <td>NaN</td>\n",
              "    </tr>\n",
              "    <tr>\n",
              "      <th>3</th>\n",
              "      <td>5.0</td>\n",
              "      <td>True</td>\n",
              "      <td>03 20, 2017</td>\n",
              "      <td>A2R4UNHFJBA6PY</td>\n",
              "      <td>B00004U9V2</td>\n",
              "      <td>{'Size:': ' 3.5 oz.'}</td>\n",
              "      <td>Amazon Customer</td>\n",
              "      <td>Thanks!!</td>\n",
              "      <td>Five Stars</td>\n",
              "      <td>1489968000</td>\n",
              "      <td>NaN</td>\n",
              "      <td>NaN</td>\n",
              "    </tr>\n",
              "    <tr>\n",
              "      <th>4</th>\n",
              "      <td>5.0</td>\n",
              "      <td>True</td>\n",
              "      <td>02 28, 2017</td>\n",
              "      <td>A2QCGHIJ2TCLVP</td>\n",
              "      <td>B00004U9V2</td>\n",
              "      <td>{'Size:': ' 0.9 oz.'}</td>\n",
              "      <td>D. Jones</td>\n",
              "      <td>Great hand lotion.  Soaks right in and leaves ...</td>\n",
              "      <td>Great hand lotion!</td>\n",
              "      <td>1488240000</td>\n",
              "      <td>NaN</td>\n",
              "      <td>NaN</td>\n",
              "    </tr>\n",
              "  </tbody>\n",
              "</table>\n",
              "</div>"
            ],
            "text/plain": [
              "   overall  verified   reviewTime  ... unixReviewTime vote image\n",
              "0      5.0      True   01 5, 2018  ...     1515110400  NaN   NaN\n",
              "1      5.0      True   04 5, 2017  ...     1491350400  NaN   NaN\n",
              "2      5.0      True  03 27, 2017  ...     1490572800  NaN   NaN\n",
              "3      5.0      True  03 20, 2017  ...     1489968000  NaN   NaN\n",
              "4      5.0      True  02 28, 2017  ...     1488240000  NaN   NaN\n",
              "\n",
              "[5 rows x 12 columns]"
            ]
          },
          "metadata": {
            "tags": []
          },
          "execution_count": 7
        }
      ]
    },
    {
      "cell_type": "markdown",
      "metadata": {
        "id": "IKq6rTeCFKXQ",
        "colab_type": "text"
      },
      "source": [
        "**Data Processing**"
      ]
    },
    {
      "cell_type": "code",
      "metadata": {
        "id": "uEIU5A6ReO-3",
        "colab_type": "code",
        "colab": {
          "base_uri": "https://localhost:8080/",
          "height": 34
        },
        "outputId": "57d0e223-62f6-4b84-fc41-300b03016996"
      },
      "source": [
        "df = df.sample(frac=1, random_state=50)\n",
        "x = df[[\"reviewerID\", \"asin\"]].values\n",
        "# Normalize the targets between 0 and 1. Makes it easy to train.\n",
        "y = df[\"overall\"].apply(lambda x: (x - min_rating) / (max_rating - min_rating)).values\n",
        "print(\"y : \", y)\n"
      ],
      "execution_count": null,
      "outputs": [
        {
          "output_type": "stream",
          "text": [
            "y :  [0.5  1.   1.   ... 1.   0.75 0.75]\n"
          ],
          "name": "stdout"
        }
      ]
    },
    {
      "cell_type": "code",
      "metadata": {
        "id": "q7-zMkcukKmz",
        "colab_type": "code",
        "colab": {
          "base_uri": "https://localhost:8080/",
          "height": 54
        },
        "outputId": "d528b2e2-cd27-4d3a-e427-b3ee62afea21"
      },
      "source": [
        "# Encoding items ids\n",
        "item_ids = df[\"asin\"].unique().tolist()\n",
        "item2item_encoded = {x: i for i, x in enumerate(item_ids)}\n",
        "item_encoded2item = {i: x for i, x in enumerate(item2item_encoded)}\n",
        "print(\"item2item_encoded: \", item2item_encoded)"
      ],
      "execution_count": null,
      "outputs": [
        {
          "output_type": "stream",
          "text": [
            "item2item_encoded:  {'B000G0JZYQ': 0, 'B000Z603EM': 1, 'B001N444JK': 2, 'B00XQU00BU': 3, 'B004W55086': 4, 'B0013LZHUS': 5, 'B01BZV8HJI': 6, 'B00DTH63P2': 7, 'B000E1EWT0': 8, 'B009FKGDHU': 9, 'B0010MGNK8': 10, 'B00M0V352C': 11, 'B005R3PLHC': 12, 'B014OSNXAW': 13, 'B0013U0EYI': 14, 'B00SIN3G66': 15, 'B0015Z90NC': 16, 'B000J4FGAG': 17, 'B00G6H88FK': 18, 'B00699JDKY': 19, 'B0058YKI46': 20, 'B014R3FO92': 21, 'B00CYHM7NU': 22, 'B01H353HUY': 23, 'B00176GSEI': 24, 'B00172LM84': 25, 'B00ZL8YFSE': 26, 'B00CFM5VGY': 27, 'B00113RO5O': 28, 'B00014340I': 29, 'B00IBDCYWK': 30, 'B017UMXLTM': 31, 'B00EXW53GC': 32, 'B00CNE2GOO': 33, 'B014CE15US': 34, 'B00BXS9PFE': 35, 'B0015VP9CW': 36, 'B006IQVFTA': 37, 'B000W7QGS6': 38, 'B007PORYUI': 39, 'B00WNC5L3E': 40, 'B01AYN0MBE': 41, 'B00M0V3B1C': 42, 'B005EZSUS0': 43, 'B00TBJWR0M': 44, 'B000Z61PR6': 45, 'B0015ZC1CY': 46, 'B000X1LRAI': 47, 'B01A982YRO': 48, 'B00172JYM0': 49, 'B01BI8MEZ6': 50, 'B000XYPNMS': 51, 'B0038CS02W': 52, 'B00GB2CNJW': 53, 'B0001EL9BO': 54, 'B0006PKIQA': 55, 'B00KWH9YZ8': 56, 'B0006PLMFQ': 57, 'B00KBH80TU': 58, 'B01ALDX6HE': 59, 'B00ZY65RUI': 60, 'B0006FMQWO': 61, 'B0038COKQ2': 62, 'B004N2S2JM': 63, 'B005JVZG68': 64, 'B0015Z90J6': 65, 'B0006PJRVM': 66, 'B000CNTT9I': 67, 'B00014351Q': 68, 'B00H5MIOMC': 69, 'B001NZF2Q8': 70, 'B005OMZW48': 71, 'B0185ZIU62': 72, 'B00MP1859A': 73, 'B003OGV7UO': 74, 'B0002NXRVY': 75, 'B00JR67FC4': 76, 'B0015ZC1FG': 77, 'B002616M1C': 78, 'B00PY2RNUO': 79, 'B005CX2DTQ': 80, 'B00LO1DNXU': 81, 'B0006PJRRG': 82, 'B001MF3FMW': 83, 'B00KTLQYSC': 84, 'B00G930HW8': 85, 'B00014GT8W': 86, 'B001KOTQQ4': 87, 'B007340K8S': 88, 'B00B59AULY': 89, 'B001N444GS': 90, 'B00110S3GG': 91, 'B0010P6D28': 92, 'B003YC8NS2': 93, 'B001QTLNK0': 94, 'B006989VBG': 95, 'B01A0NT3D6': 96, 'B0010JREC2': 97, 'B008XN7DBA': 98, 'B000NG80GM': 99, 'B00G187CCO': 100, 'B0095OZ854': 101, 'B01DWRRVMM': 102, 'B00IMJF09M': 103, 'B01BI6SQ96': 104, 'B0058TE4WI': 105, 'B001F0D11Y': 106, 'B0015ZC0ZM': 107, 'B01BZV5W46': 108, 'B0052H2JXW': 109, 'B00KWH6IE8': 110, 'B0016BIQ9O': 111, 'B00BJ5XCBE': 112, 'B000RO2ZOI': 113, 'B00LAN3LJI': 114, 'B001EGP680': 115, 'B00DHOROQ4': 116, 'B00170BJD4': 117, 'B0007ZG2DW': 118, 'B00004U9V2': 119, 'B00NGJLCEK': 120, 'B01FTDAHVO': 121, 'B00172O9NO': 122, 'B00H2VO6P0': 123, 'B01D90BYKC': 124, 'B006CT0F12': 125, 'B00NLZA4FC': 126, 'B001GAOV9Y': 127, 'B00MR0YHKK': 128, 'B00N4KJZUO': 129, 'B002P3L99G': 130, 'B00LO2RO7K': 131, 'B006RBR7NO': 132, 'B00172BJ3W': 133, 'B005IXGA6C': 134, 'B00J228BC6': 135, 'B00176B9JC': 136, 'B00HXWRKLU': 137, 'B0011FO67G': 138, 'B00D9I9WU4': 139, 'B000P6W7C8': 140, 'B002HG7NX2': 141, 'B01ETAJKTS': 142, 'B003ZW2M5Q': 143, 'B00JR67BTQ': 144, 'B0187T8CEG': 145, 'B0192YKVZI': 146, 'B000Z601F8': 147, 'B003QXZWYW': 148, 'B01D3ESU88': 149, 'B010NL8Q92': 150, 'B0015ZAOLY': 151, 'B0015ZC13I': 152, 'B000Q388UK': 153, 'B01CP39HMG': 154, 'B0007CXY2C': 155, 'B0017SWIU4': 156, 'B00837YY18': 157, 'B01B3QIEPC': 158, 'B001J4FU38': 159, 'B000MIH34Q': 160, 'B004RGM1L4': 161, 'B01FTDAGZG': 162, 'B000142FVW': 163, 'B000LD3J3Q': 164, 'B000WMWR1G': 165, 'B014CE16S4': 166, 'B000EMDK2Y': 167, 'B00512SFDQ': 168, 'B0058QM77K': 169, 'B000LJCNG4': 170, 'B012NSQZA0': 171, 'B000AV4XW0': 172, 'B000Q33DBE': 173, 'B0032Z24JU': 174, 'B00CH6OCUY': 175, 'B00M0V39VE': 176, 'B000HP5G70': 177, 'B0002ZW5UQ': 178, 'B001J3ISOM': 179, 'B0002EBI82': 180, 'B0136SHERY': 181, 'B01ELUGLUW': 182, 'B001NZ1OWO': 183, 'B00U1E54CE': 184, 'B0002CEIQ8': 185, 'B00O0GBRL6': 186, 'B00F6WBZYW': 187, 'B00JDTAAF4': 188, 'B00103DUZS': 189, 'B000X1HNUG': 190, 'B019WZR5VU': 191, 'B00J66M2SM': 192, 'B002K6AHQY': 193, 'B00FBH332Y': 194, 'B006FXKP0Q': 195, 'B00LCBNOPO': 196, 'B00J228BBM': 197, 'B00JR6738K': 198, 'B0157UMHXK': 199, 'B00T07GQ3E': 200, 'B00GHX513U': 201, 'B001FNPJ5C': 202, 'B00JR66VBU': 203, 'B00172M9Q8': 204, 'B01BM67SPU': 205, 'B009043PEA': 206, 'B0052PQNOA': 207, 'B00VAS0H68': 208, 'B01D0KHXGK': 209, 'B01DQG37VS': 210, 'B01H353FLA': 211, 'B00JKOV3JE': 212, 'B0129W97S2': 213, 'B00V6R32BA': 214, 'B0028AFIRU': 215, 'B01BMBNK2U': 216, 'B00I8NUF2O': 217, 'B00172BJ7I': 218, 'B01443UL3Y': 219, 'B01B4OIJ62': 220, 'B00JI7AI3A': 221, 'B00AG1E5YK': 222, 'B017GZJFV6': 223, 'B000O7NP38': 224, 'B002DGTI0M': 225, 'B000P6WIHM': 226, 'B000FK27Q0': 227, 'B001UHN0I6': 228, 'B00QA29O2C': 229, 'B00175YVNO': 230, 'B01CF4J540': 231, 'B0009OAGVA': 232, 'B018GZYGFU': 233, 'B00UKO5SG2': 234, 'B00BPO4T7U': 235, 'B00BD3R1PU': 236, 'B00B95PWYE': 237, 'B000J10II4': 238, 'B000C1Z1WO': 239, 'B00261803U': 240, 'B00DRD3D4W': 241, 'B00137B2S8': 242, 'B00B95PWFS': 243, 'B003EHOLAQ': 244, 'B000ZJJA0M': 245, 'B00B80GS4I': 246, 'B0015Z532O': 247, 'B0015ZC0W0': 248, 'B01A624NIQ': 249, 'B00ZZ105WM': 250, 'B00ET86JSG': 251, 'B009S7H0UE': 252, 'B00PKA9NWQ': 253, 'B000WN417I': 254, 'B00276E3KS': 255, 'B0009HBOPE': 256, 'B007Y550PO': 257, 'B00JR66S72': 258, 'B0015LCFTC': 259, 'B000YBNL2Y': 260, 'B009K71VB6': 261, 'B000ASDX3S': 262, 'B00AQBBTLW': 263, 'B01CU7EJCK': 264, 'B0002XBTVO': 265, 'B003BT6HNQ': 266, 'B000UV7FXE': 267, 'B000VXMMZC': 268, 'B00BNUF34E': 269, 'B00TK133U4': 270, 'B00GHXJDQQ': 271, 'B01GKH6FTQ': 272, 'B00110U75Q': 273, 'B00J9POUBC': 274, 'B00UKL9TR4': 275, 'B002A9JR8U': 276, 'B00JIM55MY': 277, 'B004TMRW24': 278, 'B00IZO0LLG': 279, 'B00J5KDCO2': 280, 'B0185ZIW4C': 281, 'B000H9C1UG': 282, 'B00158UZA6': 283, 'B001MA5VUQ': 284, 'B01BMBMVCK': 285, 'B01BOM2BQI': 286, 'B00ZY93VMG': 287, 'B00JZZRNME': 288, 'B000PHZ7GK': 289, 'B00021CDQ6': 290, 'B00I5K7XSY': 291, 'B00Q8HMWD2': 292, 'B00C8FVY3M': 293, 'B0012XM8MC': 294, 'B002D48QRU': 295, 'B016FD2GOI': 296, 'B000YBIOB2': 297, 'B00M0V083Q': 298, 'B00EXW53LW': 299, 'B000P0R1KM': 300, 'B002BU1TZ2': 301, 'B004I14JD6': 302, 'B01ELU4DSE': 303, 'B000NGI4QI': 304, 'B0062O4TFA': 305, 'B00HG4NZN2': 306, 'B00F6XZNLM': 307, 'B000PHVTVC': 308, 'B00AAR9I60': 309, 'B000ULF8Q0': 310, 'B000Q2ZPL6': 311, 'B00KWH0QZA': 312, 'B001FYZAWS': 313, 'B0037MIMLW': 314, 'B007ZUGBLA': 315, 'B000ULD9XE': 316, 'B00M8F090Q': 317, 'B00MI1CNRC': 318, 'B004XBDPN6': 319, 'B016M9UFJ8': 320, 'B0161ZC5GY': 321, 'B002612K9K': 322, 'B015WFNLR6': 323, 'B00YHMQDC6': 324, 'B005I4119W': 325, 'B00HM73LZA': 326, 'B001P3QHHG': 327, 'B004XHOBAG': 328, 'B00D7E26H6': 329, 'B00U09YGBA': 330, 'B00G2JJDGU': 331, 'B00F6XZNGM': 332, 'B005JJ4FEE': 333, 'B001O51GUI': 334, 'B000W16JAC': 335, 'B00FEM62Y2': 336, 'B01ALDX71E': 337, 'B01DXRLN9S': 338, 'B01EBTBIMO': 339, 'B000IIA5UO': 340, 'B001F7EJPE': 341, 'B00BPJ18DS': 342, 'B003S5HTHG': 343, 'B000VXUTEI': 344, 'B001DDBQEC': 345, 'B008VKEA9I': 346, 'B00GTESTLS': 347, 'B000A2NHP8': 348, 'B01DWRRYS8': 349, 'B01D3LDJQE': 350, 'B00150GP3U': 351, 'B000Z61QR0': 352, 'B004KIB688': 353, 'B00BBIAVDG': 354, 'B019N8UNK6': 355, 'B001AV8MLW': 356, 'B01CEJLJOK': 357, 'B014UC1QE2': 358, 'B00F9JGPTW': 359, 'B000Q34ZS4': 360, 'B004UQHJ7M': 361, 'B015OVPG4E': 362, 'B00BWV5ND0': 363, 'B0028S6UD8': 364, 'B00KTTCYQK': 365, 'B00EYXNODE': 366, 'B001GAOUZY': 367, 'B002UXRDPA': 368, 'B004Q1OCQ2': 369, 'B000FGVJWW': 370, 'B003CR6DWM': 371, 'B00396OTJ0': 372, 'B006NZ3PYY': 373, 'B00E2VB8P4': 374, 'B004LD5304': 375, 'B0013EGTMA': 376, 'B00172LMES': 377, 'B0065I8MC4': 378, 'B01ELVM4C0': 379, 'B0016A7D8K': 380, 'B00176B8BG': 381, 'B002CMLHF6': 382, 'B00KWHATEI': 383, 'B009JCVSV0': 384, 'B0002RI2PG': 385, 'B00CNFZ9ZQ': 386, 'B00ISWDTEG': 387, 'B000FGWU0W': 388, 'B005COP4FA': 389, 'B00DRD1MTA': 390, 'B00G0IKDWG': 391, 'B00KYJDWFM': 392, 'B009352T34': 393, 'B001O1K3I8': 394, 'B004WMJWII': 395, 'B000GEJQKK': 396, 'B01G8UTFLA': 397, 'B00FRRVXLQ': 398, 'B01GOZ61O8': 399, 'B00I5LNM2E': 400, 'B00R6LK0GU': 401, 'B00VGWPFIS': 402, 'B000W6244M': 403, 'B00F6XZVXC': 404, 'B00LNJSDWO': 405, 'B00ZZ8XOD2': 406, 'B00SH8YXTQ': 407, 'B00203Q9FK': 408, 'B000IEKTZ4': 409, 'B000H0SCXU': 410, 'B000SWY05Q': 411, 'B0089HGSMK': 412, 'B00ET3D6JG': 413, 'B004UQH5TE': 414, 'B00N0SY0GY': 415, 'B016M9UE1C': 416, 'B000J10J5Q': 417, 'B00FBH2PAA': 418, 'B00351VOUQ': 419, 'B00M0V3D7Y': 420, 'B002WZI6CU': 421, 'B000CQYM4W': 422, 'B016KDZHCG': 423, 'B00ENIJNU8': 424, 'B01ALDX700': 425, 'B00U6ZCCVY': 426, 'B002D48QSE': 427, 'B006IYNZVI': 428, 'B00WIJP48Y': 429, 'B01GDUM666': 430, 'B00JZ2AURM': 431, 'B000CRQHNU': 432, 'B00J9JOV9O': 433, 'B00WFH2BX0': 434, 'B001G60E3K': 435, 'B004SUY40A': 436, 'B01DQG3DFI': 437, 'B006X4LU9W': 438, 'B00203KP8C': 439, 'B016M9UF66': 440, 'B00R1CL2HK': 441, 'B00JR66YBC': 442, 'B0007WX0EY': 443, 'B0009EXM52': 444, 'B000PZ8E62': 445, 'B00172LM8O': 446, 'B00ALHISAQ': 447, 'B01E9I43RO': 448, 'B00172F9JM': 449, 'B00DKMX3RW': 450, 'B002D48QUC': 451, 'B0084GVSWG': 452, 'B000CQYN9Q': 453, 'B000ZOFUOC': 454, 'B000VN8K2G': 455, 'B01ALDX6FQ': 456, 'B00H90X3JO': 457, 'B008RW1XEU': 458, 'B000X1DKF8': 459, 'B00LU1XS3O': 460, 'B000OOSHAM': 461, 'B016IXPWO6': 462, 'B00EU6NK66': 463, 'B000KQ73QS': 464, 'B004XMAVFA': 465, 'B00CLIC7E6': 466, 'B00DX7QL2S': 467, 'B00UKLKNJC': 468, 'B00FRD1IT2': 469, 'B002WDMS94': 470, 'B008MAPGEK': 471, 'B010BJFQ2G': 472, 'B0015VN6V8': 473, 'B00SVEPN4A': 474, 'B00940L86C': 475, 'B00UKLH4SU': 476, 'B015OVPE3C': 477, 'B00JR66C9Q': 478, 'B0031NNE56': 479, 'B0182349TY': 480, 'B000IOATJU': 481, 'B0007M11XQ': 482, 'B00LA5NKTM': 483, 'B00LCBRIW4': 484, 'B000YTA570': 485, 'B000Q2Y062': 486, 'B004UDWDQW': 487, 'B000JL8QO2': 488, 'B00063M3EC': 489, 'B01FB6G8GM': 490, 'B00172PC3A': 491, 'B00JR67PU6': 492, 'B0057TPUPY': 493, 'B00ZJ4568S': 494, 'B014OSNTJC': 495, 'B00S28DKO0': 496, 'B000BIPMC2': 497, 'B00GY11ZRQ': 498, 'B00MRVOQ78': 499, 'B00172XBOC': 500, 'B013QWSVF4': 501, 'B00172DJ08': 502, 'B001QOVUR6': 503, 'B00FW6ZTW6': 504, 'B0013L94NE': 505, 'B000O5RVJO': 506, 'B00SH8Z872': 507, 'B00DW6MV2Y': 508, 'B00HNZKTRO': 509, 'B015NW2D0E': 510, 'B00080DK86': 511, 'B00B4F0LZ4': 512, 'B005CVGJFM': 513, 'B00172I5U2': 514, 'B001PLXLU4': 515, 'B000NL0T1G': 516, 'B004SGZ610': 517, 'B002RS6JSA': 518, 'B004FH8NAS': 519, 'B0015476RU': 520, 'B000CR0J0M': 521, 'B0058YKIA0': 522, 'B0062CIEKI': 523, 'B010NHCYHQ': 524, 'B00265YNFK': 525, 'B000BK1U5S': 526, 'B001T0HHDS': 527, 'B000IOBEQ2': 528, 'B000V3ME6Y': 529, 'B0073FET84': 530, 'B000Z4X4EA': 531, 'B01ELWU4NU': 532, 'B000W8JZIS': 533, 'B00172PC80': 534, 'B00IBDCYVQ': 535, 'B000GSTHZU': 536, 'B01ALDX6JW': 537, 'B00G193RVI': 538, 'B00ZVFKY14': 539, 'B013SZNKQE': 540, 'B0163I1VN2': 541, 'B011JFR26Y': 542, 'B00UKOAYQQ': 543, 'B000C1VYDY': 544, 'B00ZCFTB9O': 545, 'B00W4XMEXC': 546, 'B000QGKQXO': 547, 'B00G187CP6': 548, 'B000W0XVNG': 549, 'B000OSADQE': 550, 'B00KSS3MJ0': 551, 'B01EBNHEQO': 552, 'B0009GIHT6': 553, 'B015NKJRLE': 554, 'B00JR67T66': 555, 'B0001433OU': 556, 'B000V3O8NQ': 557, 'B00B27040G': 558, 'B00170BJDY': 559, 'B000QFSLGE': 560, 'B00120RRYO': 561, 'B000MEKG30': 562, 'B0016A4TF0': 563, 'B0002X4F0Q': 564, 'B005I412W8': 565, 'B0015Z2XD6': 566, 'B00HQISRP4': 567, 'B000ZJDYTA': 568, 'B00025WYZC': 569, 'B00512SGEY': 570, 'B001543FF2': 571, 'B003B6S36S': 572, 'B0007CXY5E': 573, 'B0009AXE72': 574, 'B01E58CWXA': 575, 'B01BMBNUQQ': 576, 'B00MRRFMCA': 577, 'B000Z657ZW': 578, 'B0044KBZFQ': 579, 'B00SH8YWYW': 580, 'B00JBUJ6QO': 581, 'B01BI8MFXC': 582, 'B0016A8OIS': 583, 'B00B4LKGIK': 584, 'B01CP39FL4': 585, 'B002A9JONI': 586, 'B000BUE79E': 587, 'B000YBIOAS': 588, 'B000B9ECAE': 589, 'B000HLF5DO': 590, 'B00OMLC9HA': 591, 'B00BDJ0LX8': 592, 'B00EIS8980': 593, 'B000YTA4RG': 594, 'B00128ESSO': 595, 'B00PEQDLMO': 596, 'B01BY3T1JM': 597, 'B0147FZGWU': 598, 'B00U3CZGYK': 599, 'B018BATJIO': 600, 'B0012SI2EU': 601, 'B000UJQFH8': 602, 'B004Q1OBNQ': 603, 'B00PX78KPM': 604, 'B00175YVOS': 605, 'B0006PLPE4': 606, 'B00R68QWY2': 607, 'B000R92XHM': 608, 'B0014JWNME': 609, 'B00G1879TU': 610, 'B004UQHJ8G': 611, 'B00D13IM8U': 612, 'B005D0IFA4': 613, 'B01BMBL56S': 614, 'B00HZKBXYK': 615, 'B000PZA2KS': 616, 'B000HP7INK': 617, 'B0015Z90GY': 618, 'B00YHPQLO8': 619, 'B001G60EI0': 620, 'B00ET3D5VK': 621, 'B000R3K2F8': 622, 'B00BH4KYHC': 623, 'B0018APVTG': 624, 'B014AH60PW': 625, 'B016FD2DQY': 626, 'B00150NTJ8': 627, 'B01C8278QQ': 628, 'B019QSJMFU': 629, 'B00172I5ZW': 630, 'B000V3IQGQ': 631, 'B00M0V03Q8': 632, 'B001B271Q2': 633, 'B00HR1J85I': 634, 'B00JR67T0M': 635, 'B000V3MHA2': 636, 'B002SQ6K1M': 637, 'B0019R0V52': 638, 'B00UZFYSTY': 639, 'B01BEYRHGU': 640, 'B004N2SQUC': 641, 'B00JGX9C6A': 642, 'B000W8QWXO': 643, 'B002DW44Y6': 644, 'B004SUY46E': 645, 'B0013J8ARW': 646, 'B0015ZAOGO': 647, 'B008H2YNDS': 648, 'B017R8MYGA': 649, 'B0010OKF7S': 650, 'B0014TMHBG': 651, 'B00F6XZNOO': 652, 'B00172BJ28': 653, 'B00IUUBXYO': 654, 'B005O8XYYM': 655, 'B004EBDC60': 656, 'B00205CJWK': 657, 'B00913VHXQ': 658, 'B00M0V3T32': 659, 'B001HJY5VS': 660, 'B005LW0BI8': 661, 'B00396VE7U': 662, 'B00172NNDQ': 663, 'B01BTWDRN4': 664, 'B000NYL3NQ': 665, 'B00FF77IQC': 666, 'B000ULPD7Y': 667, 'B00HR1KNIY': 668, 'B00R5DS94O': 669, 'B000OYHN2K': 670, 'B00J4F3YVY': 671, 'B000IOAA3K': 672, 'B00LA5NHXQ': 673, 'B00FASVFI8': 674, 'B007AO3LJG': 675, 'B0001Z66UM': 676, 'B007PCB5OQ': 677, 'B00021AKJI': 678, 'B0015ZC124': 679, 'B003L00YJI': 680, 'B00110S21M': 681, 'B0073RK3S2': 682, 'B00A9TZMQE': 683, 'B00IJC50K6': 684, 'B00N0YMMMC': 685, 'B0016A7CHW': 686, 'B01ELUQJ3Q': 687, 'B003CR4KRM': 688, 'B003BT6HMW': 689, 'B000YOMR8A': 690, 'B002DP8D36': 691, 'B000GDJDPE': 692, 'B00U6IC4BE': 693, 'B00EOBAY3Y': 694, 'B0002OZ018': 695, 'B0016KWZ2E': 696, 'B001A5H5N4': 697, 'B0006NXBIE': 698, 'B017GGC9BI': 699, 'B00M0V0CT6': 700, 'B00V6R3TUE': 701, 'B004ILQVIW': 702, 'B0013A6NFM': 703, 'B0016A18YU': 704, 'B006TH5DUK': 705, 'B0012V3Y54': 706, 'B004LFUQDG': 707, 'B001I6PTQA': 708, 'B0009OAI1S': 709, 'B001Q58FAK': 710, 'B0009DSONI': 711, 'B00CC1BC5W': 712, 'B000NW4LDM': 713, 'B002D48QVQ': 714, 'B003U28VJW': 715, 'B001MA40NA': 716, 'B016FD2QH0': 717, 'B0047WYO1I': 718, 'B00VVX77RE': 719, 'B00ZVD9JOE': 720, 'B00GM3ZQXK': 721, 'B00V3LFC3U': 722, 'B01AY5UCGC': 723, 'B001TBK62Q': 724, 'B00172DJ7Q': 725, 'B007NJ9D40': 726, 'B000Z61SSM': 727, 'B01BQMKPNM': 728, 'B00LIXT0M2': 729, 'B0006B4VVW': 730, 'B000A5CPJ4': 731, 'B00135G668': 732, 'B0002MPS7G': 733, 'B00QTTJWMS': 734, 'B00JXQGH36': 735, 'B002B4540O': 736, 'B00JRUH6EM': 737, 'B0017SUG9O': 738, 'B004I14JCC': 739, 'B00VT24J5U': 740, 'B010F61HSC': 741, 'B01G8UTM3Q': 742, 'B005IXG9Y0': 743, 'B00B39JS2I': 744, 'B000R94SJS': 745, 'B008XWXZ9U': 746, 'B00Q7BBDXY': 747, 'B00QPNKVGY': 748, 'B007PKSPJG': 749, 'B000BOA2B2': 750, 'B00132H3UE': 751, 'B00UGLH286': 752, 'B00JGWYOG4': 753, 'B004MZMEGC': 754, 'B001F07IZE': 755, 'B001JHEY14': 756, 'B00GXZS7AG': 757, 'B00JLQQ9UE': 758, 'B0002H842C': 759, 'B01G2KWBZS': 760, 'B001ABYS4C': 761, 'B00D3M0V4C': 762, 'B001MF0V3S': 763, 'B00T57UPNQ': 764, 'B00JR67MLS': 765, 'B00172NN22': 766, 'B00FYSZDQ4': 767, 'B000Z5YBK0': 768, 'B00H90VR8S': 769, 'B016N2SDVG': 770, 'B00NIQALAC': 771, 'B01EBTBC6G': 772, 'B001PMIN10': 773, 'B00128AVGW': 774, 'B00KGGVT6M': 775, 'B00KWGZD36': 776, 'B004IZA3YG': 777, 'B000Q33C4M': 778, 'B004YVDM2Y': 779, 'B000BOCRVA': 780, 'B001W12MQ6': 781, 'B01EBTAU5K': 782, 'B000Z5YFX8': 783, 'B003BXAY9K': 784, 'B00QTCRERK': 785, 'B018B2AN50': 786, 'B008H6MXBI': 787, 'B000FD98MS': 788, 'B0001EL5R2': 789, 'B00UKWW3MG': 790, 'B0079K5ZPY': 791, 'B00JH8OGH4': 792, 'B013I5DGAO': 793, 'B000J5A2K4': 794, 'B00W5Z5GFM': 795, 'B002MWVU8K': 796, 'B001MA9QV6': 797, 'B00GA60U76': 798, 'B0013IZZEY': 799, 'B00683MOWK': 800, 'B00170BJCA': 801, 'B01DOZ5AA2': 802, 'B00B9OR1IA': 803, 'B0009STDD8': 804, 'B001GSM6TS': 805, 'B00A9OEJT0': 806, 'B00VV8S1GK': 807, 'B01ALDX886': 808, 'B012NSQIRA': 809, 'B0061KU8W8': 810, 'B0001UWRCI': 811, 'B000UEROLE': 812, 'B01BMBMTS6': 813, 'B000PEJO76': 814, 'B000Z5YC9A': 815, 'B000TD2QXC': 816, 'B0027UY3IG': 817, 'B00SZEQC46': 818, 'B0017RD0KW': 819, 'B016M9UEY4': 820, 'B00B1UE0Z4': 821, 'B000ADDVFI': 822, 'B00HSR0Q3Y': 823, 'B0009OAHWI': 824, 'B01FMPRQFO': 825, 'B00021AMZK': 826, 'B004UMX7F4': 827, 'B00X7XNP86': 828, 'B000Z5Y2D6': 829, 'B006XCUR5C': 830, 'B003L8RVZ0': 831, 'B00R69ZDW8': 832, 'B01C68GAXE': 833, 'B001GPUHZQ': 834, 'B00U1DGFNW': 835, 'B00203KPDC': 836, 'B000V3MGFS': 837, 'B00E7T212K': 838, 'B00X7NEOVS': 839, 'B00NM75BX4': 840, 'B002AOG9SG': 841, 'B000GHVTN4': 842, 'B00VXDMAX8': 843, 'B000C1Z2D2': 844, 'B005G5FN2E': 845, 'B0015Z9096': 846, 'B00UKNJLRU': 847, 'B0006O4M8Q': 848, 'B00021DXVA': 849, 'B009C5NAJC': 850, 'B00JRW7QCC': 851, 'B0045WAXTC': 852, 'B00JH94LFA': 853, 'B00172IEXU': 854, 'B00ZZ8XNWE': 855, 'B00512SFZO': 856, 'B00ZE3SSSO': 857, 'B00TKOK5KC': 858, 'B013QWS5A0': 859, 'B00RXZHZK8': 860, 'B00132CESU': 861, 'B0001EKVGS': 862, 'B00178SOCA': 863, 'B00SVEPPL6': 864, 'B010CHME9K': 865, 'B0015Z2X90': 866, 'B002D48R0Q': 867, 'B00NOZI1TU': 868, 'B0013TJLQQ': 869, 'B000CQYJ4U': 870, 'B013SXJL0K': 871, 'B0025YVBG6': 872, 'B00IRNQM22': 873, 'B00V5WVNGW': 874, 'B001FWXISS': 875, 'B00CNEADZ8': 876, 'B01DWRRVFY': 877, 'B00NVJ3WZC': 878, 'B0016KTQ0I': 879, 'B00J4OTK9A': 880, 'B000V87E7S': 881, 'B00172LMNO': 882, 'B00BSD8PPU': 883, 'B0001EL5Q8': 884, 'B007P0MO2U': 885, 'B01F8B7H24': 886, 'B00141FB9E': 887, 'B000X2H76U': 888, 'B001C0W8QG': 889, 'B00EXW4JEO': 890, 'B00WFH3EM2': 891, 'B0001435D4': 892, 'B00LAN2YEQ': 893, 'B00BH3INN0': 894, 'B00C1RWL16': 895, 'B00FBH79OC': 896, 'B0049OY496': 897, 'B002A8JO1Q': 898, 'B002UXRE4U': 899, 'B00F8ZPAS4': 900, 'B00MFTOMLC': 901, 'B0009DVDTU': 902, 'B00FGB1J3K': 903, 'B007GFW6VI': 904, 'B00141XJJS': 905, 'B004UMYEIS': 906, 'B000KQD45C': 907, 'B000KK7XQ4': 908, 'B000N97V5A': 909, 'B000R92XIG': 910, 'B000X16XTI': 911, 'B00KWHEGJ2': 912, 'B001O194BA': 913, 'B008MAUMEO': 914, 'B01G2LKQTK': 915, 'B00N1NC0W4': 916, 'B000X1DKFS': 917, 'B00L9M27I6': 918, 'B00MOZ3FBK': 919, 'B01A61XUU4': 920, 'B00AOGPLKY': 921, 'B00CNEBSKM': 922, 'B0140H17MS': 923, 'B00IFVVK9Q': 924, 'B00C9O4EQ6': 925, 'B00VDZDIG4': 926, 'B00172VUWW': 927, 'B004J0XOTQ': 928, 'B000Q34PES': 929, 'B00U1F5YG4': 930, 'B005CBWYME': 931, 'B00IRD84EQ': 932, 'B00203SE2G': 933, 'B01DWRRVC2': 934, 'B0099RKV9A': 935, 'B000PY9HG4': 936, 'B00UKLV9QS': 937, 'B000NGLR8A': 938, 'B000PH8KDW': 939, 'B00O9E4JBO': 940, 'B002D48QRA': 941, 'B01DSY5XZ6': 942, 'B019QSJUDY': 943, 'B00172NNIG': 944, 'B00AAV845M': 945, 'B001G60EGW': 946, 'B00I1BLUC2': 947, 'B000WN5EGA': 948, 'B00U6ZCD2C': 949, 'B000VIZEOS': 950, 'B01BI4R3NI': 951, 'B0166EMYQG': 952, 'B00GB2ODJ0': 953, 'B005RGAJHQ': 954, 'B01BOM1Y52': 955, 'B00143V3US': 956, 'B00JR66S5Y': 957, 'B0010MGK6A': 958, 'B001VJVP0S': 959, 'B015QAUJ0Y': 960, 'B00CUF3RZ8': 961, 'B006ZVNNJ8': 962, 'B002WZJQLA': 963, 'B001T0HHAG': 964, 'B0188Q46E8': 965, 'B00Q9660L2': 966, 'B001CY837U': 967, 'B000W8JZII': 968, 'B00FR6UE1W': 969, 'B01BMBNB9C': 970, 'B00LRWMHJ2': 971, 'B00GG05K9O': 972, 'B00SVEPTW6': 973, 'B00MOJXDNQ': 974, 'B003KW8V7E': 975, 'B003SKTYEW': 976, 'B0013B53DY': 977, 'B003TY8UEC': 978, 'B004LEMWGG': 979, 'B00Y8BVZDI': 980, 'B00IG9MSAM': 981, 'B00SXM70UA': 982, 'B01AXVQRW0': 983, 'B01G2LF2VW': 984, 'B00AGR7KHS': 985, 'B00846IUA4': 986, 'B004HLM0M4': 987, 'B01HGSJPMW': 988, 'B010NL93PI': 989, 'B000R9A56I': 990, 'B00TBJWP86': 991, 'B005DYITD8': 992, 'B00EFG0XLQ': 993, 'B009G532FA': 994, 'B001377JEY': 995, 'B00CTS82YW': 996, 'B00772SCHM': 997, 'B00IYDU41U': 998, 'B000GAO1PE': 999, 'B0019IVEEI': 1000, 'B000W8ND68': 1001, 'B0017XFSB0': 1002, 'B0059IE252': 1003, 'B00VXO5RPK': 1004, 'B001CWF2US': 1005, 'B01GDUM6UC': 1006, 'B001LFCHI6': 1007, 'B00UM4ZDCY': 1008, 'B002QG6P9G': 1009, 'B00E6KIKYS': 1010, 'B000LRPGF6': 1011, 'B00FEGOCCM': 1012, 'B00EJ9Z6KW': 1013, 'B000CR4HJG': 1014, 'B00KWGZWF0': 1015, 'B0015Z2XE0': 1016, 'B00FBH5AXY': 1017, 'B00MGSJG3G': 1018, 'B000JPMHWK': 1019, 'B01CP39M4O': 1020, 'B004BWBFSY': 1021, 'B007EZ0CC0': 1022, 'B00PSFLL3M': 1023, 'B000Z65BDU': 1024, 'B00UA6M7P0': 1025, 'B0018BQ5MW': 1026, 'B00203MPJY': 1027, 'B0002X9038': 1028, 'B004LCZEJK': 1029, 'B00C8FVXQA': 1030, 'B00EYXNPNS': 1031, 'B012TVK2RI': 1032, 'B00J9PYEYU': 1033, 'B004AMCBQA': 1034, 'B00JFVG3E2': 1035, 'B000O5WCN4': 1036, 'B007KE40EQ': 1037, 'B0015ZAO6E': 1038, 'B00F6XZN9O': 1039, 'B0050EB0Q4': 1040, 'B00NJX1CZM': 1041, 'B00IJFFF1M': 1042, 'B00ES5KT54': 1043, 'B004UEU0HK': 1044, 'B00EEW7MJW': 1045, 'B0019H7Z38': 1046, 'B00JRUH6JW': 1047, 'B00WR5RQSA': 1048, 'B01BL8720K': 1049, 'B00FW6O5FI': 1050, 'B001CSODK2': 1051, 'B00IIMQMEU': 1052, 'B00ICIAVHY': 1053, 'B002CML1XE': 1054, 'B004FMC6NS': 1055, 'B0012H6Y28': 1056, 'B00172IES0': 1057, 'B00B1IFMH6': 1058, 'B00WLQP2G8': 1059, 'B000C1Z1H4': 1060, 'B01FPTMMHO': 1061, 'B000J27ADE': 1062, 'B000IOBEG2': 1063, 'B008YFX9KG': 1064, 'B0017SY63Q': 1065, 'B0001EKYEM': 1066, 'B0011FQBO2': 1067, 'B0060OUV5Y': 1068, 'B001G9B5J4': 1069, 'B000VJTH8G': 1070, 'B00FNYVQ1A': 1071, 'B00203MP9E': 1072, 'B01CY8BTKA': 1073, 'B000PHRIYE': 1074, 'B000XVBRPS': 1075, 'B00BEZNBJ2': 1076, 'B000BO52TE': 1077, 'B00B15XHJ4': 1078, 'B001G9CJO4': 1079, 'B000HX6JRI': 1080, 'B00M0V36MG': 1081, 'B000BYVBIU': 1082, 'B01G4XAN3A': 1083, 'B00ET2HPC6': 1084, 'B00JMQXD3O': 1085, 'B0001EL5OU': 1086, 'B000VOJPMY': 1087, 'B00AKOU452': 1088, 'B00HZ2BOEC': 1089, 'B000Q384SQ': 1090, 'B00CUF29WU': 1091, 'B00CFS8YFI': 1092, 'B006UI043O': 1093, 'B000XPTFMG': 1094, 'B000IOLCWI': 1095, 'B006IYRUUU': 1096, 'B00LIXT126': 1097, 'B003TFZB8Y': 1098, 'B01E7UY7AC': 1099, 'B00MRFP8I0': 1100, 'B0013YU2IM': 1101, 'B00QEEMBCQ': 1102, 'B00NZ1FH86': 1103, 'B0009OMNGQ': 1104, 'B008H6N7TU': 1105, 'B000HP9M34': 1106, 'B000C1UBQU': 1107, 'B000X1M8VK': 1108, 'B00PVHT6IO': 1109, 'B000VTTC4U': 1110, 'B00HR1JRTU': 1111, 'B000Q336XY': 1112, 'B004XTX0VA': 1113, 'B000KQ7X4K': 1114, 'B00IC4ZT6Q': 1115, 'B000ZJO1YW': 1116, 'B000J4IE32': 1117, 'B00ZYKARPO': 1118, 'B0050IJRM4': 1119, 'B000PHZ7HO': 1120, 'B00I1KNIO6': 1121, 'B004STJ0UU': 1122, 'B000IO6NFE': 1123, 'B000068DWY': 1124, 'B001LY7GEM': 1125, 'B017UO2AX8': 1126, 'B00203Q9B4': 1127, 'B01FJPVMAC': 1128, 'B01A5OO16E': 1129, 'B003JVRIM0': 1130, 'B00IX5NDM6': 1131, 'B00KYCLTCM': 1132, 'B00172JYIY': 1133, 'B00172I5IE': 1134, 'B000ULR8KE': 1135, 'B000I1Y75K': 1136, 'B01GFYWYC6': 1137, 'B000FGTTTM': 1138, 'B001DTZK0C': 1139, 'B000SX3380': 1140, 'B00ANEUTKY': 1141, 'B00284B81Q': 1142, 'B001AMBAIS': 1143, 'B00F3BVB3G': 1144, 'B0049WUFMS': 1145, 'B00J228BG2': 1146, 'B00021AN4U': 1147, 'B00203IOHQ': 1148, 'B0042L1XJK': 1149, 'B000KQR8H2': 1150, 'B00N972MVG': 1151, 'B003OYG18O': 1152, 'B00535OW6A': 1153, 'B00JL6TKRI': 1154, 'B000W14OOA': 1155, 'B00HV464QW': 1156, 'B00MRGGFZO': 1157, 'B00172F9HO': 1158, 'B0011U7772': 1159, 'B003RJ165Y': 1160, 'B00203UQB8': 1161, 'B00176MUNG': 1162, 'B00DLGPQK4': 1163, 'B000Q39MBY': 1164, 'B00JH1SYZQ': 1165, 'B001AO0WCG': 1166, 'B0010E85TS': 1167, 'B000LZW5N4': 1168, 'B000TUNMW4': 1169, 'B00166M14A': 1170, 'B00AWK6MF0': 1171, 'B0014K90S8': 1172, 'B002NBF8SI': 1173, 'B000VOHQW0': 1174, 'B0011FMDU8': 1175, 'B00YOL1D66': 1176, 'B004L8J15C': 1177, 'B013QWT4F0': 1178, 'B002MQ6P68': 1179, 'B000S7ZMDA': 1180, 'B01H353A74': 1181, 'B00HQIU9GY': 1182, 'B000NGH3X8': 1183, 'B000972KU2': 1184, 'B0001XDTYA': 1185, 'B000BIGOY2': 1186, 'B00FU7L9N0': 1187, 'B00EFGDYZS': 1188, 'B00NM4HBB2': 1189, 'B01EBTAUNW': 1190, 'B01B4OIJ6M': 1191, 'B002XQ1TTK': 1192, 'B00021B3XU': 1193, 'B000YJ3UEK': 1194, 'B00V6R3R2Y': 1195, 'B00GR835AG': 1196, 'B00WHQGYCS': 1197, 'B000O7PH34': 1198, 'B0009PL3B6': 1199, 'B000VBO0CM': 1200, 'B000EM9CU8': 1201, 'B000Z5YC5O': 1202, 'B00SNM5US4': 1203, 'B002D48R5G': 1204, 'B0010TG8XI': 1205, 'B0015VIKZ0': 1206, 'B000BJUS6Q': 1207, 'B01AS41BD2': 1208, 'B00176SJPY': 1209, 'B000QHF8OU': 1210, 'B000JL1NJM': 1211, 'B00IK9Y6FS': 1212, 'B00V5WVKKQ': 1213, 'B00II17BAA': 1214, 'B00GPCVUFQ': 1215, 'B0036G153G': 1216, 'B001ECJJ1E': 1217, 'B000VTRJTU': 1218, 'B00CNG2MGY': 1219, 'B00172JYKW': 1220, 'B00KYAYL2E': 1221, 'B000PHKE0O': 1222, 'B000VZS3VW': 1223, 'B0050GNN26': 1224, 'B002XOA16E': 1225, 'B002D4J3VI': 1226, 'B00BXKET7G': 1227, 'B00172NNEK': 1228, 'B00XNTNH6Y': 1229, 'B004JKNYL4': 1230, 'B00UZGFNHY': 1231, 'B011CR44C4': 1232, 'B01FTP9XH6': 1233, 'B001G60EK8': 1234, 'B00AYLYETS': 1235, 'B00547H5U2': 1236, 'B00ABMIOSM': 1237, 'B00KRG4BSE': 1238, 'B002LE54P4': 1239, 'B00T5HLKIU': 1240, 'B0014F812E': 1241, 'B00D6V6TTG': 1242, 'B000PHTC20': 1243, 'B00XU7VW2A': 1244, 'B00JR66M8M': 1245, 'B0061CBQMM': 1246, 'B0014DUXNG': 1247, 'B002GYQ0FW': 1248, 'B00203KOYM': 1249, 'B0056ZAO4Q': 1250, 'B000RPPK76': 1251, 'B00JFWA1Q2': 1252, 'B0016P3P9Q': 1253, 'B00W68VTPY': 1254, 'B005OTVVWS': 1255, 'B003SQPYLI': 1256, 'B001541W7K': 1257, 'B00WFH2VL2': 1258, 'B011CWNV1O': 1259, 'B00TZZ2J9G': 1260, 'B000Z5Y8GC': 1261, 'B0001XDU2Q': 1262, 'B001NJGARY': 1263, 'B0066TGLSY': 1264, 'B00YFVB6T4': 1265, 'B00LTZ993Y': 1266, 'B017MUI34U': 1267, 'B01AZR9B34': 1268, 'B00C78UQ84': 1269, 'B007PKUMKQ': 1270, 'B00BSEWFBE': 1271, 'B00YFVBQEO': 1272, 'B002D48QRK': 1273, 'B00JRWV3LC': 1274, 'B007Y4EKNS': 1275, 'B00UI3OLZE': 1276, 'B00E3T4BY0': 1277, 'B0015Z90AA': 1278, 'B0007WZ7YU': 1279, 'B001HBL9OW': 1280, 'B004JIDUWE': 1281, 'B01AZR97RE': 1282, 'B006HI60EY': 1283, 'B000LZBNJG': 1284, 'B0013EF2DC': 1285, 'B0002COKFC': 1286, 'B00R3PZK14': 1287, 'B003H5YNVC': 1288, 'B00CUF51XO': 1289, 'B000PHUKEE': 1290, 'B00II2AGBA': 1291, 'B00092M2X2': 1292, 'B00172DJWQ': 1293, 'B00DKMY1UK': 1294, 'B001LYAQB2': 1295, 'B01BEYRHBA': 1296, 'B00UJTDAJA': 1297, 'B019FYF466': 1298, 'B0029RHE0Q': 1299, 'B005M2XHBK': 1300, 'B00U6ZCCUU': 1301, 'B00COV2LUA': 1302, 'B01714LPZG': 1303, 'B001CJE0Y0': 1304, 'B00BAKCZ2A': 1305, 'B01BI8MERE': 1306, 'B001FYXA6G': 1307, 'B0089AABLQ': 1308, 'B001QWCCQG': 1309, 'B0016191HU': 1310, 'B000I2XL88': 1311, 'B005NQRPFO': 1312, 'B00YETJ47I': 1313, 'B000ULNEUM': 1314, 'B00HX27AM4': 1315, 'B00139353Q': 1316, 'B005YB36O2': 1317, 'B0013CU7PW': 1318, 'B000Z61L1Q': 1319, 'B00172GLZS': 1320, 'B000RG8D6A': 1321, 'B016M9UDQ8': 1322, 'B00VT144DS': 1323, 'B001552Y5I': 1324, 'B00AN4GZ52': 1325, 'B000IOBETE': 1326, 'B001JDHR4Y': 1327, 'B000VON764': 1328, 'B015OVPNV0': 1329, 'B0001EKVCW': 1330, 'B0002L93N2': 1331, 'B00CYHM3Y8': 1332, 'B000ASDGK8': 1333, 'B01A5OO0LU': 1334, 'B00FRERO7G': 1335, 'B00CIX4FTO': 1336, 'B004CR43GY': 1337, 'B000S94HTI': 1338, 'B0016A7QNC': 1339, 'B000ZAZKFU': 1340, 'B00ZY9MZZU': 1341, 'B000C1W4TC': 1342, 'B000ULGO7M': 1343, 'B000P6W6XI': 1344, 'B000IOAA12': 1345, 'B0016LTZD0': 1346, 'B000FDVVVE': 1347, 'B004IS7CV0': 1348, 'B002D48QWA': 1349, 'B002NPWWZQ': 1350, 'B001GAOUYK': 1351, 'B001ARP2LY': 1352, 'B0015Z52JS': 1353, 'B00DHO1EOC': 1354, 'B011M2WYUS': 1355, 'B00N9TSRPE': 1356, 'B000O5TWHS': 1357, 'B00NYDTFD8': 1358, 'B007EUSL5U': 1359, 'B000Z61VVQ': 1360, 'B000N2KWOY': 1361, 'B00HQKPC8W': 1362, 'B000ZOFWLS': 1363, 'B00WVOS6EK': 1364, 'B0015VJKW2': 1365, 'B00175S7R0': 1366, 'B00G193SGW': 1367, 'B000Z4OT1W': 1368, 'B001VJXL0U': 1369, 'B002D48R2Y': 1370, 'B000W5K1E8': 1371, 'B001CENUN2': 1372, 'B01DQ1CEMG': 1373, 'B00846HME4': 1374, 'B00AMNVVL2': 1375, 'B004TW7U2Q': 1376, 'B000WXGU4A': 1377, 'B000NUG5LK': 1378, 'B000A5CPK8': 1379, 'B00021D2Z2': 1380, 'B010RA65UG': 1381, 'B0068M4E6A': 1382, 'B0007Z3P6Y': 1383, 'B00166PSR2': 1384, 'B00CSN0ZJI': 1385, 'B0006PJSES': 1386, 'B004QA77JW': 1387, 'B001HBL9R4': 1388, 'B0012RWK5I': 1389, 'B0009OAI40': 1390, 'B00203SDQS': 1391, 'B00TZZ2JNM': 1392, 'B00021EA9Y': 1393, 'B00BBX38WC': 1394, 'B001DYFGGU': 1395, 'B000V3KLGO': 1396, 'B01DSY86YG': 1397, 'B001CT099U': 1398, 'B00172GLG2': 1399, 'B004SY3X3A': 1400, 'B00I80FR6Q': 1401, 'B000CR0F4C': 1402, 'B000J4K0YI': 1403, 'B00E8X79V8': 1404, 'B000TD5K8U': 1405, 'B00373TM9W': 1406, 'B000NGATTS': 1407, 'B001LITXVW': 1408, 'B000BGRC18': 1409, 'B019OS5DRS': 1410, 'B002D48QZC': 1411, 'B013WZDAFQ': 1412, 'B00HTDSWR4': 1413, 'B01A5OO1LE': 1414, 'B003WOU9DE': 1415, 'B00YOL1D9I': 1416, 'B011J6HJKM': 1417, 'B0089NB4S2': 1418, 'B00ZPQ129C': 1419, 'B00B4RJP72': 1420, 'B0013FDN5K': 1421, 'B00354QIEU': 1422, 'B01452YZOA': 1423, 'B00021D2TI': 1424, 'B00DY68AC2': 1425, 'B005VMJCD8': 1426, 'B00ATTJR1K': 1427, 'B002D48QR0': 1428, 'B002RSUPD0': 1429, 'B00UVRZLLA': 1430, 'B000Z5Y3I0': 1431, 'B001FNOA5C': 1432, 'B00C76ZGU4': 1433, 'B0015ZC1AQ': 1434, 'B00O56OWV8': 1435, 'B00LCBLEGK': 1436, 'B006HMAT9C': 1437, 'B0007CXYAE': 1438, 'B00B1Q85F4': 1439, 'B000PHP8L4': 1440, 'B0002L2JLU': 1441, 'B000ASNTRS': 1442, 'B000MIKEZQ': 1443, 'B00E4WWS46': 1444, 'B00GTXADLI': 1445, 'B00TI4C0ES': 1446, 'B00NZ1FH9A': 1447, 'B000FGWU0M': 1448, 'B000GHXTPA': 1449, 'B00005V50B': 1450, 'B00A87CW0G': 1451, 'B000IO3GO0': 1452, 'B005VQZ09O': 1453, 'B00175U4L2': 1454, 'B001CJJ5XG': 1455, 'B002UOCTSU': 1456, 'B00095LIP2': 1457, 'B0015ZC1G0': 1458, 'B00718MPZ2': 1459, 'B00A1OYF38': 1460, 'B000NARU2S': 1461, 'B00TTABE7U': 1462, 'B00BOK233M': 1463, 'B000B7VO66': 1464, 'B00HX3KZFC': 1465, 'B00175S7T8': 1466, 'B000WKY63U': 1467, 'B00MTUT834': 1468, 'B007NPX4LM': 1469, 'B00VAS9MT6': 1470, 'B001QRG190': 1471, 'B00A8JWJRA': 1472, 'B00IRNQJYI': 1473, 'B00846H9WY': 1474, 'B00755JWSE': 1475, 'B005DUA5BG': 1476, 'B0012RSQS8': 1477, 'B00BD3VBBU': 1478, 'B0015ZC156': 1479, 'B0016J5TZK': 1480, 'B000WBLYQG': 1481, 'B00C74QBUA': 1482, 'B00BWV5NAI': 1483, 'B00172IEVM': 1484, 'B006JYMPUO': 1485, 'B002ONCHGQ': 1486, 'B011BVHT6O': 1487, 'B000XTFP1W': 1488, 'B00992S5D4': 1489, 'B000Y1X32W': 1490, 'B000VNIZGM': 1491, 'B00SIGCKHE': 1492, 'B0012MY3IK': 1493, 'B000XV83Y6': 1494, 'B000N8CN4U': 1495, 'B000Z5ZWH6': 1496, 'B000X14TYY': 1497, 'B004ILMUYG': 1498, 'B0002X3SH2': 1499, 'B000VZOJ6U': 1500, 'B00EVTH9PK': 1501, 'B001O1EE3I': 1502, 'B000MIF2S0': 1503, 'B0013EF2G4': 1504, 'B000BX1Z00': 1505, 'B0015Z531A': 1506, 'B0016LXK6I': 1507, 'B000NW4LDW': 1508, 'B000R94SMU': 1509, 'B004LEKKZQ': 1510, 'B002HLZTWE': 1511, 'B0045ZXAUI': 1512, 'B000M00V2K': 1513, 'B000BIGUOG': 1514, 'B004DQ0D1I': 1515, 'B000GI3U6C': 1516, 'B00FQLKLP2': 1517, 'B0057MMSWY': 1518, 'B00YFTOET0': 1519, 'B0059JS1BW': 1520, 'B00IMRC4SY': 1521, 'B000W8LRC0': 1522, 'B000IEMGGE': 1523, 'B000U8E1AM': 1524, 'B012TVK2P0': 1525, 'B000Z3ES1O': 1526, 'B007Y55GVC': 1527, 'B000R92XE0': 1528, 'B000X1LR5I': 1529, 'B000Q2Y04Y': 1530, 'B00172WFZI': 1531, 'B000VXMMY8': 1532, 'B000VR2TVK': 1533, 'B000X1LR6W': 1534, 'B0012HJHRC': 1535, 'B00092M35O': 1536, 'B00OW15JKY': 1537, 'B00IK1CJZU': 1538, 'B00XLYPGF6': 1539, 'B00NEPFQPW': 1540, 'B0017SR7FA': 1541, 'B003CQXPPG': 1542, 'B000VXUTFM': 1543, 'B000QU75H0': 1544, 'B003TRW590': 1545, 'B00D4OH20K': 1546, 'B000Z5YFY2': 1547, 'B00II27SSO': 1548, 'B003CFB39C': 1549, 'B0010TOZ5Q': 1550, 'B000248HLI': 1551, 'B0017VSV0W': 1552, 'B00HEHRCZS': 1553, 'B000REIM1S': 1554, 'B00JFWA72U': 1555, 'B00B59LCIE': 1556, 'B000XYYI74': 1557, 'B000JL7Z5S': 1558, 'B0013MXNYO': 1559, 'B00VGNWB0M': 1560, 'B00371C002': 1561, 'B00X8T2L5W': 1562, 'B000WT9VTA': 1563, 'B011MD169C': 1564, 'B0002MES86': 1565, 'B000ZLZMRA': 1566, 'B000KFBAO0': 1567, 'B00S5XNIS0': 1568, 'B00172IENU': 1569, 'B001782ONU': 1570, 'B01CZ3W0PM': 1571, 'B0012V7XU6': 1572, 'B0012X6MQA': 1573, 'B0013G8INQ': 1574, 'B000Z63UW4': 1575, 'B00BBO926M': 1576, 'B0002Y5JEG': 1577, 'B00172VV80': 1578, 'B000VOLI4C': 1579, 'B000W8P8F2': 1580}\n"
          ],
          "name": "stdout"
        }
      ]
    },
    {
      "cell_type": "code",
      "metadata": {
        "id": "aHbTKzn1kcwV",
        "colab_type": "code",
        "colab": {
          "base_uri": "https://localhost:8080/",
          "height": 105
        },
        "outputId": "a772ee60-b509-4fcc-b53f-7d01585ad2d6"
      },
      "source": [
        "# Encoding user ids\n",
        "user_ids = df[\"reviewerID\"].unique().tolist()\n",
        "print(\"reviewer IDs: \", df[\"reviewerID\"].unique())\n",
        "print(\"user ids:\", user_ids)\n",
        "user2user_encoded = {x: i for i, x in enumerate(user_ids)}\n",
        "print(\"user2user_encoded: \", user2user_encoded)"
      ],
      "execution_count": null,
      "outputs": [
        {
          "output_type": "stream",
          "text": [
            "reviewer IDs:  ['A2TCHXH4SIN2OF' 'AM5G0RHY51UJV' 'A1XEVVV9HTUH05' ... 'A31Z48BHHUTB0P'\n",
            " 'A2UGT8JVH48A0Z' 'AK5G1G8SD8015']\n",
            "user ids: ['A2TCHXH4SIN2OF', 'AM5G0RHY51UJV', 'A1XEVVV9HTUH05', 'A3L714OY25JG33', 'A2M7F89YZJBD6M', 'A1HIW8QEDZ26KA', 'A2LAS014NSRW72', 'AS68XCKL7QZUT', 'APD7XINUVG5AL', 'AZ26CDSJ363AH', 'A1ZVMTIRYZQDL4', 'A2O421DTA8J0RW', 'AXHETL0M8XZPT', 'A1WH5J3AP5JR7H', 'AOX4RX9CAAHL4', 'A3P9D22KDEXVMN', 'A2TOD5KQVOSJCB', 'A2QB0TIWFCUYIL', 'A2YI5YCSUUR6OO', 'A2W8NQPP91206I', 'A3ARKGHF6LHFV', 'A2VH0UT5EQFB6P', 'A2PL0US7RN67G', 'AV2RWORXTFRJU', 'AY9MMBUKHI2PM', 'A2J1S0OK8OEHI2', 'ADY836HK6QSYR', 'A2CAF6DVZOHMHG', 'A2F5VJBFG0BF0G', 'A29D7CG7TLY35O', 'A3HWV2YLDQ3XQ2', 'A3PVCWI9OXBBLW', 'A3P51JNV7DHB2L', 'A18PFXJ4QPTSX3', 'A264B6IZKTH2QU', 'A3GL5LGN7GZLR2', 'A1OPZ3BUTEL47R', 'A3PLQMGW6OHR6R', 'A24FY1EBJ7EWLH', 'A39X80RZSF8IYF', 'AGICS3306D8QD', 'A3CJ7MHAS9IMAM', 'A1N2I9XB09TI5Q', 'A2L0GS3N2CXDWC', 'A3S3Y3HC9BVSMO', 'A2TXMYYGSZCSZ1', 'A3S1JUU9FXC8MQ', 'AT28RL25Q2OLK', 'ASYFIB6Z0E8ZF', 'A1E3TWWRB1Q7CS', 'AOUC76JLMBP3I', 'A15EREQSX2JBZH', 'A1LUK8APLC16WK', 'A2YKWYC3WQJX5J', 'A28YBL28P03P8V', 'A100WO06OQR8BQ', 'A27XY27EXTZG28', 'A2Q8GFSEUSGJ51', 'AGKYWPUJNOUQ2', 'A2ZGPAIV64KOYU', 'A2W2E6BPPYZO0T', 'A2MVSV6ZFK5E2', 'A1UMSB7LAW0RIR', 'A15OAS39003U5R', 'A2GPJR489OIH42', 'AI5LL32JKBN4P', 'AJX9A4Q19UTJU', 'A2M51VLOW1V1JR', 'A2G04D4QZAXL15', 'AHN86VFJIJ2JP', 'A1B5AQUJN16AHX', 'A7EK88GF8N40F', 'A26EOYCIOA6JDV', 'AO5EKE61NBOGI', 'A1G2SRMY3SCI5M', 'A13E51ZEL1ZU7M', 'APVEFBIJPTYWU', 'A2R1HUYHXV7H18', 'A2AGOAOL5NFEUP', 'A2JNO9OR8FGNR4', 'ALWVGT9VJ7LS3', 'A1IDWUYX4QXTUE', 'A19XMHRB3G4DIR', 'A2I3DSACS5KI6F', 'AQY5XBYSENNZQ', 'A3GBARYNM6S4G6', 'A1EXGL6L0QQ0M5', 'A1OWKBICDH4CH8', 'AQYEEGNRXM0P1', 'A1UFPZUUATIGXF', 'A2NUBL2UYWPBWR', 'A1MOHHZ5ZSQCRD', 'A5ZD6FBMZQGDS', 'A2YPX6VJN8LPQZ', 'AJIOCLNVCPYRR', 'A3VTOLNB5N6FVP', 'AH3QPFU2NYLG7', 'AJC7TSNP5UAWN', 'ADEZOPMPKK146', 'A38RSVBJSMZ83O', 'A1V1EP514B5H7Y', 'A23R0SL5M3HLPU', 'A12S8UQEIPZJKE', 'A2XM8DATMUZHE6', 'A18VCM7Y7HK6EW', 'A1SZOLPK06OOTX', 'A1G6HZ3CGYEYNN', 'A26AVD5D1SNXIN', 'A1ZNYZ2SM5D3HE', 'A10VTKMX0HUEJK', 'A1YUL9PCJR3JTY', 'A27B7NWCYVFAM2', 'A3U8KLEHUQK3J9', 'A3JV4PJZD5O4NJ', 'A23VNS0WLAYNT9', 'A33JGP7NR4BV8W', 'A3NMQEQPT5LDIA', 'A3VGAP2KLCBNBB', 'A2GW2ZOWS2IX3Y', 'A2LGYL8CHB7TDG', 'A2Y8IDC1FKGNJC', 'A3SN8H1V126IIY', 'A3AYSYSLHU26U9', 'A2SH7OWE8QJYNC', 'A3T7XVG3AXJF61', 'A2BYZFC6T5MINP', 'ASR3LGBNR6FSJ', 'A2X49H6378IL4P', 'A2WC9NFLG57W4H', 'AWZ8DBLGVO60X', 'AKFTIYUSRKQVE', 'A2V5R832QCSOMX', 'A2WE93LJX8PMT1', 'AE5GP2T742SA8', 'A25KKXUQQ0OLWB', 'A29P65DEEZIEB0', 'ATECU14VUIOJ0', 'A2U64G6KP1ULRB', 'A1BK60GZ4QME6I', 'A2W0LMPC72GGTJ', 'A20GTJ1G6FAGN0', 'ATSFY4UITEOEJ', 'A3H0JG9QWD3JIN', 'A3O74KHNOA8NGB', 'A2R30QA214XIVX', 'A2Q627PLWBDEYM', 'A0488385844WNV2OWO9X', 'A2QCGHIJ2TCLVP', 'A2JCJJNY43QQIV', 'A21SESEJ8E52B7', 'A2NY3UM9B2LTOL', 'A2IYX5W3A1N3VB', 'AFHYEO3Y1IIDD', 'AWNO50ICXSK88', 'AJNAYBFLBMUML', 'A5P60H1YBPXBE', 'AIOHU94GJFRU0', 'A32O98PFC3OP7K', 'A1ILFU8IRJAC1K', 'A2PFKD76DMWIEF', 'A2JF04EZ1ASR8M', 'ADQXQ3AN16RCK', 'A2NT1LGR2BYP0I', 'APDRTZZZ13HUM', 'A2WTDSR5M9OGWI', 'A1MM6KZOJ61TTR', 'A3P738KVXL2YYM', 'A305XM71TF83CY', 'AN0WCLS9TNPPA', 'A38KK0SZYEH5UD', 'A2USB35NGKBSQO', 'A2DYW9Y2D8E43L', 'A2CGIR426NCD3U', 'A33HIV8RXRDM88', 'A1QXE7OX7MSL2H', 'A1EDG5ATUW3AYS', 'ASSXBJAWV8766', 'A1P297U2LS0JHR', 'A2EF1KIQ7TMPPF', 'A2MO8QZTNYYB98', 'A1KI3173CO6TK2', 'A117NOT6QPCRMV', 'A2Q4BLV4ZEL1KI', 'A2D4FQHV506EPB', 'A1FDSZISWIXH1A', 'AC7UJP1OQ1T2A', 'A2ZJPDH0YP90SD', 'A1OF72PQR4MII1', 'A23KSLZZ6CQJ7O', 'A1PRZ3GE0C2ANS', 'AGEKVD8JPZQMT', 'A1VCPMT1RRS7K0', 'A8Y0ND4GJJJFL', 'A2MXNH5CYUBMAS', 'A1L1S42BOGPF96', 'A2NWWLC6C51S6E', 'A2V1MAUHH1YHKK', 'A13QN9DLFWOHRN', 'A2JJGW91A6LIHU', 'A1RDTA8WY3X614', 'A2WW57XX2UVLM6', 'A2F540P3L6P5CL', 'AR7EOI1I0D7Q7', 'A3JUHP1E3WUHEA', 'A1I6U5AQAT3ZG9', 'A3HAA7H8PBVM78', 'A1QXWM5P0CT45', 'A3HITJ2O5P12GQ', 'ALNFHVS3SC4FV', 'A1KXONFPU2XQ5K', 'A3PEOF0GX4EN38', 'A1XYATUTPV7MN9', 'A3H7087YTQO9PO', 'AMUP8DYE7EAN2', 'A1ZKGSDVP057L9', 'A3G5MOHY1U635N', 'A3ONDHUXJ0HFYS', 'A3982RSH15PQGZ', 'A13FIFP73X0GTR', 'A23WE733QT4WGJ', 'A2G6YF27Y3NV29', 'A3U19PYYRF7Y1S', 'A5C06WZPX332Q', 'A1W6PXDD1CVKI', 'A3OUMZ8OZBMKRP', 'A8QGPY3Q9L51N', 'AEMTSFFDU85KB', 'A2ZY49IDE6TY5I', 'A399EX3UULKLU2', 'A3KDO3XV0MK1GX', 'A31RULW0KNYJ5H', 'A3JPTQPOKO6TVO', 'A39ANVSTOM4L6H', 'A3LLJTKU4USS6O', 'A2L6BT1PVV9YN0', 'A2IOZ71FUD9024', 'A8QYRG7TW491B', 'A1MAI0TUIM3R2X', 'A24ZMNWTW8AQUR', 'A152TZLTJNQNBA', 'AA0PJWW3EEDZB', 'A11Z3ANM4PQFMH', 'AR3EVUQF0AC7R', 'A3IVNKF7B5WUJ8', 'A2M8A83NWTB9TB', 'ABZB6K3IQMXZU', 'AP6L54VTCJKCQ', 'A6VPK7X53QNAQ', 'ADS4TFYY8TJHO', 'AACR8PZRSFG3J', 'APL83S3QHRHGT', 'AQIBFWWA8UWKF', 'A2GAR1ZPZFO28', 'A1D6NA1QK3NM5Q', 'A2UI38UXH48SCX', 'A3P1GD23H8E2BY', 'AFEYHFH2GH0QZ', 'A1G4KDEM2V5376', 'A3CAYJJALN3CDB', 'ACJ9N7ED37HXS', 'AGXF4W5GTK7MM', 'A3C9Q3KTNNLJJ', 'AOAOARIH72UWI', 'AEMYLEFZCRX5S', 'AJL6HX8O2QLVO', 'A13NJZ1M018A7C', 'A2FNA5903D9E6Y', 'A3QKYFU781YTKU', 'A1VS1LL905P5L5', 'A7EU2BWLLCJY2', 'AQDLZ51L4XC80', 'AUVT779XSA1F8', 'A2XE0HMG75BCLY', 'A217CC8F7N5717', 'A1QKFWY3GTBDRY', 'A2ATHY1VLNANIL', 'AM3Y7XXIDRUPI', 'A2KO6M61XQQVCU', 'A2NC8NBXI5NPU7', 'AMB2Z4FMDBWQY', 'A2CY5UPGEPR12F', 'A2BPHU52JE21J3', 'A2T9EHCUD7CNEB', 'A19RDMX22VXXSD', 'A3LHIRT4SR3F9T', 'A4L7ETIO4IDFC', 'A330G4U4JWUVJZ', 'A4SD8F79JBYG2', 'AC400LZPY74N1', 'A3QDMBLXIPSVOI', 'A1M5ZT35YX6TIN', 'AM0OKL6AFIBDX', 'A3MY4POKX3EQEX', 'A2OW1FKQFPIA5D', 'A1BI8PUEHA5CHW', 'A3NQA378KXTZQM', 'A1XIRB17MOLXPB', 'A19KLUZ1XD3SRN', 'A3F9CMU8KNAY1M', 'A2U6GHU2EMC5M5', 'A18585LWC6ABKV', 'A3MZRGNGM4H7PI', 'A3RL0RFSSLJGKT', 'A47Q26DA5037K', 'ALYZJ7W14YS26', 'A2HSF1ZJGUQ54J', 'A33QUFNY4E5D0', 'A39A4OQT77H4HX', 'A1SS57KI4HA4S2', 'A1INP6SE3454WR', 'ACPMJP8RVC6TB', 'AEYLQ33Y99OVW', 'A3TX3N3YORDUBY', 'A1SM0G50FP7XKJ', 'A1004703RC79J9', 'A23H193P451P74', 'A26LD9FQHTM8ZH', 'A1GMGLN1UKXAD1', 'A2X2WTEVCZ5L8N', 'AQ7LXULTORIQU', 'A24L28AJZKXALL', 'A3B3XT2P0I34W4', 'A2H6LHCM3AR3YV', 'A19YOYY7FLQMA6', 'A3639XN4I9ED2', 'A12DQZKRKTNF5E', 'A1MDDJ2XUPZZOE', 'A2SSV6KM3W1VFD', 'A2S73Z7ZR6HAMX', 'A10S3PNZ5Y0FRT', 'APCSV85SWASN2', 'AJRFZ0VZ0LD26', 'A3P89WPE2YL003', 'A2QPY6J33YV1ZZ', 'A13KW5I9IHQ039', 'A1V16DTJLH8Z1J', 'ATXXM6XE0C5WJ', 'ADUHM8KDWZCWK', 'A1HM4GGGNKZ37B', 'A2T0MNN392O3RY', 'AA0BGTQHWKSQY', 'AMS2CPERWN7JV', 'A17Y6O6I2O5S6P', 'A3OC93X866Z8TB', 'A1JUUPJVBDOE3O', 'A37APF2XOO3B5Z', 'A2IMGHMF0LO151', 'A1D7922BHITJ7X', 'A3R5GTYQ50QVMD', 'A1AKQ1YUS4BT82', 'A3IVCUIGUZQJ9L', 'A3DES8CHOO4UH0', 'A37PRC1ARGMA0Q', 'A224KM22RQ5CD4', 'A29Y41NL8RA1BP', 'A1AG7F4Z1EOO5L', 'A1SKPIJNE036J3', 'A2B7VGVN59XJUM', 'A2UXLUXR4XUMEP', 'A313QFASCV2LA3', 'A23VUM4E9BS462', 'A1MJ12V42699C3', 'A2CRIQOX1SYA3I', 'A37Z9PFALNA9V5', 'AYF242R6GQMUP', 'A3CLHWWOVI9HMM', 'A2S9BVIIP3XDVS', 'A20RZM43LBZJL1', 'A3VBZDYGHF4NK8', 'A1989WJVG7DHBK', 'A3QOMXYGWJ6HYB', 'A194K60CWZ371J', 'A347OT8UFA8I16', 'AVHMOENRENU3L', 'A1X2LENOF84LCQ', 'ASHMBNORPUHAK', 'A2BKLHVB230M1X', 'A2LMQA2P6GNYQO', 'A2GJX2KCUSR0EI', 'A1QBOC76MIOJYP', 'A3QYDL5CDNYN66', 'A1F7OSK6UV1A3C', 'A39BGN8JA7CIFX', 'A1DQWNPN03IEXN', 'A1P4F6HIXU6WYE', 'A290I412U46JLA', 'A7ZUY93SQIMVM', 'A37DBZJQ3FFDX', 'A1BKSLDI2V3D5K', 'A39H1GO9E3YQIB', 'A141R97FHSSUQ0', 'A2XSSQH4VO5B1L', 'A23821I9K5RSQI', 'A1AN9C4PKJIRVK', 'A33X4R7LU3OFQ8', 'AU7VFGP9BGZ0', 'A1MXO11GL94AX9', 'A2MCC0XFURU2K2', 'A3FD8YGYYM5GHV', 'A1XAPRM0OO15SO', 'A1XQOQ0GWJP1X6', 'A14MSHFCXPARFS', 'A3IMK08UX0I46A', 'A1O3UXMAN62I6V', 'A1IZJVLNMFACS6', 'A1SIXOUI2382TE', 'AHUG3OLOJ9YJO', 'A22RGEI19Z9AEV', 'A246XB5KJX2204', 'A12ENBT314RFXR', 'A3UCSS05QGW35W', 'A1PZ8JEPEX03GD', 'A397CWU6DM3O5G', 'A249DTU0E0PWD5', 'A1BKFCSK66RF3C', 'A2LW5AL0KQ9P1M', 'A1437CAM9CNC1E', 'A2RYWPOL4NN2KG', 'A2BU0OBCKFDUKE', 'A2EHH30602WQTX', 'A44OY8EFDM4IP', 'A377XOIB9FP6ZV', 'A2W4014S06NAIT', 'AO9G5HQYQHLHP', 'A30M2N0ADFINLA', 'A3FOSLM5G1BO63', 'AVU1ILDDYW301', 'A2O9BLNNEAH7JI', 'A1YVUUHT093E0K', 'A3K7RVCWO9MZQL', 'AN2AI0NUCJZIB', 'A3V0AYA9IYS21V', 'A240YCM012LJSO', 'A1LXM5PZZHTT6W', 'A1O4PNHACFEDEM', 'AIBZYH7KI1AF6', 'A3M1HYKCHSN11D', 'A3J1B9AQYC9ZM0', 'A2EDXS7VPY7L8Q', 'A3HLZAGW84MWLS', 'A2UDWSB9IU25EN', 'A1EGCED01USBA9', 'A3N2E1MIZC581U', 'AQ6AGWKWMTY8H', 'A5X1B2HBQUR3P', 'A2VHKUH4DH0F37', 'A39MXA4F9XBI9Y', 'A3FA5DUFXCD4WE', 'AX8KKN5A1PG9E', 'A2ZOLVZH1BCX56', 'AYO1146CBIV5C', 'A3IOCPLIMYDBCD', 'A3CG93783LP0FO', 'A30RJT0XAOY74H', 'A3JRW716H3AX14', 'A1YVJ2CLK0L2WR', 'A2NQW51T182CSA', 'A2LXC5ZHHP0WXP', 'A3OO9PPIOXIYJZ', 'A3LDLV1GWQJLEQ', 'A1TPWGBNIYJ76F', 'A1P2XYD265YE21', 'A59Y0ZV1VX46K', 'A23K3O8L45GCQE', 'ABLLHG0REGFX7', 'A2HOLM5I1ARX9J', 'A1EVV74UQYVKRY', 'APPJNVNF4BFLB', 'AG6TX1ZJHLMO7', 'A226VGZWOEBPGL', 'A2IGQTQGWVL230', 'A2UXYXRUPAO4TC', 'A2HNOQBIAAOZU', 'AI5OS4RQQIUMJ', 'ANLZVUO97Q1V7', 'A3847X9XD27OSL', 'A169OY1LOA0RX3', 'A1EKCH0FI00Q1J', 'A1PIOXOZ1AZ14U', 'A3N4QJP6D70NVP', 'A2P6QV3P7ENWPR', 'A24J358C0ZCFLY', 'ATMHYELYDBIK5', 'AF1K4HX68DSJY', 'A3MPHEJ0N39W87', 'AVIR4DIQYVIZC', 'A1TRAEV7QWA5DX', 'A1JI6A2AAJK5V3', 'A3G007LQX6KGOD', 'A1EHVKN2E28S0U', 'A3HG0DNFURFXR4', 'A2D9VVQFYQHMUU', 'A319KAPLOSIDRU', 'A1I477ADGMLVJM', 'A3CAXDHSC2J86S', 'AC0EB85YZY51Q', 'A12E0Y0J6584RT', 'A26C062ZW07V2Y', 'AY1EF0GOH80EK', 'A25QBCHO0KFT0P', 'AX0ZTNX6KVJ40', 'A3GUK4RWXKHS9I', 'A10CGTF3GZ2V65', 'A2ODA5DCQ7ED73', 'A2FP9UXBM2OBYI', 'AOEUN9718KVRD', 'A23RQRX7LO7NG8', 'A1ZZSLTEMTV4HD', 'AEJLSH9DCJ3VR', 'A1VWNQOSMPAOAV', 'A2HZ3Z494VS1KG', 'A33RT6A0C6OMIQ', 'A2CNGARED6OWWU', 'A1BDARA133DP91', 'A3THYM7XMB8B0U', 'A1KSC91G9AIY2Z', 'A2Z8B2KA8K07DM', 'A1N5KKDDOI2OAJ', 'A3EXIZWHSNVNME', 'A2EXGRAA6QW96Z', 'A1YCV76MUFESR1', 'A1RIBFSYNG0DQE', 'A2YMS9UK1A9OF2', 'A13OUY99ND8NWI', 'A19UTUEBWKIZFT', 'A307132HLIZNSB', 'AEQRB6E891PTY', 'A1BCRICL4UUBC6', 'A1H0A35HJMGVKQ', 'A2ZBA3VTSGESA2', 'A3IA9CPZXMBEYC', 'AV5N1KQK93VQL', 'A3U5HKDHPYBAK3', 'A3SVVUZKR2T0VO', 'A17IS2KTMUBJ52', 'AGO3PAULF9KUE', 'A102300ZYSDHRR', 'AA17RVKAHEAFS', 'A1GJ1IRDPBQ0DG', 'A2CUWCJHUPGL9W', 'A1UC3OP4QI0RRU', 'A28EV72THMZRVO', 'A1SG1DJ72ISCRU', 'A8M9HVFTJL97C', 'A2IBUK9XJOYRJW', 'A1DQHS7MOVYYYA', 'A34TNH973Q9XT0', 'A3RGN75LHYAG8U', 'A2701UXI8QGRHE', 'A1ER643CCBZNSB', 'AHYCDH7T6CC6E', 'A2GA64WZK8PKBC', 'A3F8A11FLWKOJS', 'A1TFMR7RE985MF', 'A2DQVM07J28BKM', 'A1QK0XCAPHIW1L', 'A27R2V3WLS43LP', 'A1BSIL9GW9FCR2', 'A15HBO5EBRDGTQ', 'ASODUN15U3MLP', 'A3V8ZP41Z782M9', 'ASL9C4URVKR1J', 'A3POA5GUWACBD4', 'A2KMV056844YV2', 'A33J53S6YK1UA5', 'A27O69EB4Q36UV', 'A2CF66KIQ3RKX3', 'A18PENJTHM1SVT', 'A3091RP0SPZLMN', 'A1DCY7A46MU8F4', 'AAA0TUKS5VBSA', 'A2JDVZNTCXKUS2', 'A26EQ8U96JA92T', 'ALEM7BBUFGVYP', 'A1G1TLVSFCIR0P', 'A221AYJCX6Y5WB', 'AR9GZ8B7NJJPN', 'A279A4Y2N1CQ26', 'AUXNJSHAU8KIC', 'A1N1ZSVWOX7WUB', 'A1S1SSE7HQDZEW', 'AAP42A9X4RFOL', 'ALXJJVFS3ZKD6', 'A356WMSXDZFODL', 'A2JR5ZTSYSIQYX', 'A2NML53YCHS80S', 'A2NWGJDNN7TG1H', 'AA8A6NJUVPNO', 'A1LKOIZXPQ9VG0', 'A3U6WAJSUQVJVO', 'A244CRJ2QSVLZ4', 'A1VPZOEEBKTBKU', 'A299RHMH1M9PIW', 'AGZBL86KVR68L', 'A15DEX5N1ZG95W', 'AIWSX8DYYGBJY', 'APYEUSO2BX66E', 'A2IACU8LJ1FCKE', 'A2B8GXSCB1R05T', 'A3OXRFCJI67IMN', 'A1ZZR25X0CNOJX', 'A2OWR5G2OAQF7C', 'A21VLPGCRFH6OF', 'A1PI8VBCXXSGC7', 'A2HNK6QXJFXCL2', 'A3AUHT475KOF2S', 'A20RNDVGF6IOMQ', 'A399YOEMK1UNZV', 'AMLA0B6EHD4OS', 'AG71XMQGQ2UTJ', 'ANM9LSZS7C67V', 'A3JLOIXFM75QNV', 'A2PJYNJ7NPE4BA', 'A2IRA7YXCVZEWG', 'A1ENECC591UAIC', 'A13MKSASQ6YWL7', 'AIT674N3HE3RC', 'A47VUHGWSTDUX', 'A1YLRQL1XZBKCS', 'AOPXAQV9GT9XO', 'A2STARDV5TN6HO', 'A2V9DTXTQ5YIMK', 'AIRI6RQ4IFT22', 'A2CB5CJZKISZXI', 'AC2BHILNGQJ2Q', 'A2GO4MLC7NCV1L', 'AN7QOIMW6QMQJ', 'A237XY0O6V3UE', 'ANHL7BB84WJMF', 'A20VCG18UDO3TL', 'A1YK1JZXIIMNZK', 'A1DCBQD9QX2I3J', 'A2E0TJ49NACDBA', 'AQDJIMQUK006D', 'A28BA1RUNCWUNZ', 'A22CW0ZHY3NJH8', 'A18HE80910BTZI', 'A3KT85K6QPMGSV', 'A3D9NUCR4RXDPY', 'AFICF7DKHTQ87', 'A2KJQX0MK4E8GY', 'A1TZWXI835FHK', 'AW4K7S5EFQ2MQ', 'A1FJNZ6GKM516K', 'A2NBCCFDISGUQT', 'A11OTLEDSW8ZXD', 'A1OKEF8X7C0T45', 'A3QZGQGU9XW6RZ', 'A38JIIHRVTSNYV', 'A2HE9UH3LB48RC', 'A1UYMXFON06KQ6', 'A2UM324B00HBC8', 'AR0ENM97GNFS8', 'A3SMY3BN9PMDK6', 'A1MELG1UFSXAMV', 'A3NM0RAYSL6PA8', 'A2AVMDTFW79N2N', 'A3R7PGG5QMI6TI', 'A2FRAS05LEI6JJ', 'AI8SX6U5K8TN1', 'A3BVN2QBNPBHCR', 'A1NOKJM3Y13CG9', 'A3S8WLKSVWTZJV', 'A32GKT2BDX20YL', 'A3EDFZ7K9VRI3M', 'AV9TAY68SUZRV', 'AEZ3UJ35FHPHL', 'A3LYHZY1CPSYKA', 'A3EW0V38Z8JVBI', 'A2Z886R3GCDYVF', 'A1YOWWJOPO6HUO', 'A2ECM9HLMC242H', 'A2JMJVNTBL7K7E', 'A2OXRXUVPXRC9H', 'A1H055LCNXKT1J', 'A7UPJYPAH73NC', 'AU2EBC2WHIO7P', 'AYQ14XGJODM9J', 'A43R2SARLQZ5B', 'AKMEY1BSHSDG7', 'A13E7YU3XNRNL9', 'A34AQGD2E6H0S7', 'A3BZCJS4NORJQW', 'A32E70RVY374ZK', 'A255JQANDJW0VN', 'A1JZFGZEZVWQPY', 'AGM46BB20Y986', 'AV3A66BTGK2G5', 'A1G2JKKEKAR7YN', 'A3A90CELVLOUP6', 'ABEAUXVVB2E1M', 'A1DYLJWGF7AKT2', 'A38LEIUPC2EJD6', 'A35Q0RBM3YNQNF', 'A1832G4GPDDPOH', 'A9BBI78B2ZDVP', 'AUV3OR951650C', 'A1QT3N5FUQ4I47', 'A3GGOEX6SK1J71', 'A3N4R18KX9VISZ', 'A3O7EIHOFHP6N3', 'A35HOUWHAYZZN6', 'A1M92239OM8KPO', 'A2UE27NXVYHIP9', 'AENH50GW3OKDA', 'A2CJNSXZYMA4Y8', 'AN81JUYW2SL24', 'A3QL857ALV5RCJ', 'A2PZSQL3PZPL4Q', 'A2OD11BKV2YNED', 'A1V79H5LKYWMP1', 'A1H4347RCYBPRE', 'A2V2URLB31HG59', 'A3C5EZKG2J4M0L', 'ATWEHBHWFKUSW', 'A33UZDO4KB4S0H', 'A2J557IQKW3GCP', 'A1P3B2YVXR6ZSZ', 'A1UINGIK3UG77D', 'A1F1SGYXCMVHF4', 'AYNTULRNAIPNY', 'A8X4UHGLCDNBW', 'A1M04H40ZVGWVG', 'A1IW63HLRVK62L', 'AP5TZGSMF73L', 'AWIF8AR75LL9L', 'A3B81D6NAXWJIS', 'A1U8VI6I2MFEU8', 'AGA7LFNS3YUXC', 'A30BXEGRRRJIV8', 'A34Q5DMA3K8GGK', 'AAZ5OJ2OOJ2DK', 'A2NJJ4JFF45TJV', 'AEIF0CWR6PV0H', 'AU9MV75IZYVB2', 'A314MIV1UW5O6F', 'APPCJX62WKIIP', 'A2MS6GT9F0CB01', 'A3OYI3FF0J9L9I', 'A1DMSC136B37NO', 'A3CW8OUDH7M079', 'A39650P2CZUUC9', 'A1SW3YQTS0SWSR', 'A2UGQIW2UR9U4K', 'A29XI8QYHVHM7B', 'A1CEG62GJ3BI5U', 'A3BVDW4DOLJAN0', 'A34XNPNAD1EVB4', 'A2SZLNSI5KOQJT', 'A1LE5PV7Y0I0T3', 'A3K89V3UFT052K', 'A2WCQTORZ1G1NG', 'A1OA65HXZIINHR', 'A3RSGP8FYW1T2Y', 'AZQKNX6F8S84Q', 'A231LBC8EGPO5L', 'A3V6BY9QDMXND7', 'A2JZ8T64YZDQSI', 'A2M6TPSY6D3IPP', 'A3SZ1B3N4NQNS9', 'A23DE1MPXJQ7AV', 'A18ECVX2RJ7HUE', 'A2Q5DZRXBR6KAT', 'A5A3C6XVDYUND', 'A2J6IZXSLF8VB2', 'AAGQNG7TITMMX', 'A1POL23KPA064A', 'A2NT0JP7RW6O38', 'A1IH42TUIZ2XJL', 'A3NPVNPMXN8L2G', 'A3U62PW290APHL', 'A30NNLD0AT6J8T', 'AMYLE2O84OB93', 'AH147953RD031', 'A22B13EJTZKCTM', 'A243J19UMWOXRS', 'A3W061W4O0LMU6', 'A8PPHFW7BW5UB', 'A67FO36PIXNUV', 'A19WEEGB05YAZ3', 'A27BN4XUMKEBW6', 'A1BH4B2GYUPAVF', 'A4O8WIX9NXLEH', 'A1H7Y5XKPGT0OS', 'A1Z5AB1CVT1DOU', 'AAIMHUYO3NWCX', 'A1190GQQ1BTICP', 'A3T7V207KRDE2O', 'A36TZW2R417CNK', 'A2L9OPJAAEK08Q', 'A1INBQLNQNSHTK', 'A1NX2BNNRZ5SGB', 'A1G60ANYI0HMEU', 'A117FS98WND9A3', 'ALO81PUAXWMVX', 'A3DSF48FKLK72B', 'A21FWV7IMMPSXP', 'A3VP3TSPGYRR65', 'A1F29W231WNU90', 'A1UUI7PFQ5FU4E', 'A55DD6L83R61T', 'ABU93V5LFXTV1', 'AM18CU72YEWH5', 'A15T9G38F589KM', 'A3KDSFEH3XP990', 'A2PANJK25TC3CU', 'A2UVDPBRZTWN6S', 'A1EM5OSSM5D1R4', 'A2065HBMYDXJ1S', 'A1M3CSHV1X9PAS', 'A20CR5MK7Q8M6Z', 'ADFLBRY00Y70G', 'AYXGSUZEQEIFN', 'A2CPM6AEJHVNKL', 'A3N1R7KXEDTW1J', 'AXVKMYWNIHK7W', 'A2VWE5SGNDS8HW', 'AQEJXZW1O9O7O', 'A2AGVV84CZKSNT', 'A3MQ15651KGVLJ', 'A6VOQ7HCFLPGP', 'A9BM5GD4ASCMD', 'A2A7FD92SZ4KUK', 'A2Y1NEVW8N54DZ', 'A22T6ZBH6C3IY0', 'A35N3SH07179SH', 'A5BJMAHZWGJ7N', 'AUJPT6U07Q5N0', 'A1501C38OCSEMA', 'A1AUMBA4UA4G2Y', 'A2G70Q3AE4Z8LJ', 'ARO9A0ZAZGC4N', 'AVA18T6I2QYYU', 'ASB37ZYP0PZ0J', 'A1F6T228BA5Y7', 'A1JQ00PT7BOTR2', 'A2OQYSTYR8SSVQ', 'A3AUOH1G7GRM1H', 'A3KNJ386MRBPZC', 'A27QHUP69EN6FL', 'A29ZVXI6OJ87RO', 'A2NSV9K5XUZ3BO', 'ABQWMANK4AR63', 'A1WYKIIR1YN0CY', 'A3HCZTTUH3CW9Z', 'A2XAKGRUHIE2ZA', 'ALWI22L1YH50U', 'A1JFYDF90M3WF5', 'A2F1W17MWJ5E2E', 'AUCXT9K30SHYF', 'A9419F2N03T5B', 'A2HHAV29CZ1OIE', 'A2F35SS0RKWSO2', 'A2MGFQP3MEU5IS', 'A1G0ONAQOERNXS', 'A20FBQSSFW1WPX', 'A8GV08VRRXTFZ', 'AQ63ZV8M31WL3', 'A38K5XHJ6G5Y16', 'A1L7ULDIYG98VJ', 'A322VANY4JAOQB', 'A2JPERAV0416C3', 'AZ34737QMSG8Q', 'A1IOSNSY31L5EI', 'A35N0PR2D2QFK7', 'A3U16LITWT2PQJ', 'AG8E2F0G98ZTB', 'ASFW4ZMNZJKDA', 'A1QTHVA826XEOS', 'A1ZENB34HH2EIM', 'A1AZ8YJTM7JRHL', 'A8GR4PH5NW96V', 'A26FEJTPYJ934F', 'A15TT902PJFJ9C', 'A209XHC20QAYM', 'A3O4RA4POHFEIQ', 'A2JXJWJZPLH2FR', 'A7YMD8MSOBO1I', 'A2KLA8YX8P7PCW', 'A2RQ0AT4XZUIXL', 'AAU8IANGH82NP', 'AQCQ5F0OJXMG9', 'A2BUAZW75V85QO', 'ADS99W8WMEXZ2', 'A1A2ATQ44P2A7Y', 'AEASNN4Z1IWB2', 'A1L1AJ8459YJXS', 'A36FD1FT8RZ0B8', 'A234G6UKEMMDCY', 'A3MKON3VM0W1TH', 'A2K7JNTNYAVGVZ', 'A1XCSAX4BRT89Y', 'AXSMYWPZY4JAW', 'AZAE1LVHY66WS', 'A30X750M8V1XXW', 'A210B00WZ0YTQ3', 'A27H0T39U3FZB5', 'AXKNMOECIV3ZA', 'A1JBBR4MNGQ70G', 'ASSG4O8SXUP2C', 'A1P1O16N3ROSUY', 'A3NDUBKYPI47N2', 'A22RIIYSPA3EDH', 'A2UAAFVJ05HSAX', 'A28I19Q54MYXGV', 'A3B15P9JJM9QEL', 'A1RNPRQWJNU7G6', 'A3LJP6NDCTKK6Z', 'A1VN06K4Y0I1Q0', 'AJW0OZRACJCP0', 'A14OV0HV6TRWFF', 'AMB5PKU9SN44K', 'A1H6SBO7R007I8', 'AFYLPYJ7AORLR', 'A1QU1H8R28NIGX', 'AY1LZ41VDDSPL', 'A2NOIGZ6VV86IB', 'A67ZXSOC2XH4O', 'A2FYOXDW99KK00', 'A111VACTMOWL5H', 'A19NRF4D2F79KE', 'A31S7BUH1EJKBS', 'A281NPSIMI1C2R', 'A2C27IQUH9N1Z', 'A3A0F30QQGL1EW', 'A5T9Z3JIUR0RO', 'AFE6XVOW8SMV2', 'A2CLF0H9PUZ96X', 'A2IQV2ITUT56A5', 'A2XO1VNKN5GAGK', 'AIJQU979J6UFY', 'AGWMLV54XZ1K3', 'A2ZXBFBA7EKYNR', 'A24RCBRDXRXR0Y', 'A2ZEM44ZOG1X40', 'AYA784T1U98HI', 'A1ZO9D554VQO9F', 'A3M8R4JD1SIS76', 'A342YY7GHWRUYC', 'A2WGVNJJCNIQA0', 'A1SLHI58I09T1K', 'A39WWMBA0299ZF', 'AKTK11MTN64PL', 'A1VPEWW3D9T9SF', 'A2PVIYFU9YH4NY', 'AGFGY4EJ37VS2', 'A17O7FT0JX5B72', 'A318IDAWJ9ZYAY', 'A16QJ424UMZVWR', 'A16AXQ11SZA8SQ', 'A18712EH6VCYFP', 'A3MZNRSDQ32UUH', 'A368H9GFY1JCYC', 'A2PP6U0R0FZUW6', 'A3P8ZDHC7XSKSE', 'ASDL3MQQQXTZX', 'A66U6BOLQK0H9', 'A1T0NEGC9YQPR6', 'A1ZPY91VE3IDN1', 'A17HVSEZB2PDQK', 'AS5IDC9XGSXSZ', 'AS44QEHT3KSPK', 'A2XX02TJ94EH5L', 'A3NSTXT3F7CKW8', 'A1FU5CN8V620TH', 'A1ID5QT86H8J9D', 'A14NOLEEBDE2Y9', 'A1WAV1NWCPNI04', 'A3TMBYDFP1B9DM', 'A1DZ0O2ZXOYEGU', 'A3IIQMFNRX6ZTL', 'A20V7N5A22F4BM', 'AZ0PCEZUTF5QO', 'A20ECIBBYIEXZ2', 'A34IBXM7E8CPWE', 'A28BR2N16ZMJPT', 'ARARUVZ8RUF5T', 'AWR4UFLX6W6ZW', 'A1Y7P7UU6XH1Z5', 'A353U0L2HAMSHV', 'AIO4X9BRTWT9J', 'A1NX66HPC962K4', 'A3G21E26IP4WXB', 'A2X3L31KCXBHCL', 'AT53ZTTO707MB', 'A3U7URZ105OU2H', 'A24H8BVP88VT3N', 'A2G4LKK57XMBL3', 'A37U4HM0UG7FQ0', 'AQCYEZYS51OBC', 'A3JJUCWQK3RP2V', 'A16R6O1P7TMF9N', 'A1RLP0R1N8H8C4', 'A1T9YI02JUBIPZ', 'A1I4NHYX40MFD', 'A3RF46CL8GDIN8', 'AU5GGM8NG0H00', 'A1I5YAUPX34AOR', 'AWNY6WM2NJZD9', 'A3LF914GG87TWP', 'A1YY53NQXFKMRN', 'AC1U7PPQJKA9D', 'A3OWFKDYCCHA75', 'AB4R0LUIG837W', 'AVFJ327UXPXLF', 'A2QWEEYO8QLIMI', 'APYKGTU0LFICH', 'A240FRPD4MEXND', 'A3HM6KD4JINJN4', 'AH8SVUY191DSF', 'A35YFLKHVNI37', 'AFVARCTLZI8SZ', 'A14EA9WQPSOKMF', 'A2TBZAC0XYHLIB', 'A0976794S8VOYNT78YEM', 'APMJZGHOHGXY9', 'A1UNJ46NSB352E', 'AOTMP0OKJOUWI', 'A3045PONRA3KZ2', 'A2VHQDJBZH0Y7P', 'A1GQWYGNTPGFKN', 'AL515B28C0GBP', 'A306GI4J03UI88', 'A173YMJ9XFVRSY', 'A2349I3TN1EX38', 'A28TV838J24262', 'A1YX6S4I5GG5VK', 'A3LWVPC3KVQAFR', 'A379IB3EYAEL5', 'A2UT0FWM1DHKFJ', 'AAWUC8S00IXJF', 'A25SLTMFZ9FT7U', 'A10QJ6CMP3UHC6', 'A1OWI18MA83CL4', 'A1TPW86OHXTXFC', 'A2AGQEL3O3S9H6', 'A3E5V5TSTAY3R9', 'A1AD4XP47VS56Y', 'A3U029B8Z5WGI2', 'AQ5JEZH7VX679', 'AT9U5ZE5OO84C', 'A31JL4CDCBXIPX', 'A169O5HY388HQN', 'A1H5936RLPJ3B8', 'A1EWZC0LM7TTSZ', 'A3M16JSEXT9IKR', 'A3M2MBDA0F0U3B', 'A3D7NKLR56DZRA', 'A1F7YU6O5RU432', 'A2QNMPNXW1QAQ5', 'A1TV61AKAPGSMP', 'A3MEMX0XF00TBD', 'A2HOI48JK8838M', 'A56VIAK488876', 'A3HRDRQ5VAFPQS', 'A2FQ6TUKEETS95', 'A29ALY2WQXHMQZ', 'A13HG7EAUWRYPP', 'A20JY8RL920U8H', 'A3HJ51898Y45PQ', 'AOEPR1OBL8CMT', 'A3IUW081KXD3PE', 'A1FG0V3KRXAVT7', 'A2P652CXM82IH6', 'A2FQZKL2KIZACO', 'A3B9C6MZAFC1JX', 'A11LZPM3Z86VWM', 'A2E3NAL9ECE7VS', 'A3GJRZ7FN51LMK', 'A21M3YYEERMG3D', 'A27OOJSY1RH1O6', 'A1DIIT81NK45FS', 'A17PDN3EW1F05G', 'A3SA32FKK53HPN', 'A2PU5IDX61XJ7A', 'A3O60C5513YYD6', 'A5CDMTW6JKV5G', 'A3RZOPQ42Q50B1', 'A3SMR4HRFJARSC', 'A13WEKTB63G78Y', 'A2B9G3FN56R86G', 'AMQ80PCZVF0Y3', 'A26CPEEWB2WKRE', 'A2JP9E1H0SF392', 'A3H7BO1T97SCAX', 'ALM0H3CWDI4O2', 'A1A2F1ZOWOPNJB', 'A1D0YC94ZS5CNO', 'A2VJJ2POCLMED7', 'A3TH92GOR6M3RA', 'A2GKWUF75ZPWIM', 'AGTZU3YUSRSOO', 'A2KRRIZVD7QEDG', 'A1IN5TM9AD6045', 'A1TXHK8MONJHC3', 'A17CBPANJ3G5T9', 'A1NRRU43MYI9S0', 'A2ZWTFZRNQW7D5', 'A2EHN0WTQ1N90R', 'A33ROMADEKHQ4V', 'A32GTFFK9J05VH', 'A1P5UV6LO4YC8S', 'AGJRUK27RBVYS', 'AQ8Y0VADON6Z5', 'A3UKWQS8SRW6IO', 'A27HMKOCNPOSCK', 'ACVDL5QRCOPE1', 'A1UH8RMD57P34Y', 'A1QPLOGZM1F7E8', 'A3KUYNSTZ6TN38', 'A3VJ5XEA6RZIA2', 'ASBSPNY56QD1X', 'A1DES1NRVS4X5H', 'A2IDRAYYZ5GKBZ', 'A27FP0S5QH7GNE', 'A2OCDK0BOW6UCY', 'A3R9H6OKZHHRJD', 'AJI7Q53V06VPR', 'A1C48NJP2ED5DN', 'A593D8BBKM43N', 'A2ECTCPBTOGW4H', 'AL69UV8T072NH', 'A1353000WAKP87', 'A2Z5GY3909V6BC', 'A2F239LT1G70GB', 'A28508SUMB7EQG', 'A31FNX12D7CPFU', 'A1ARLM4JFWPVOA', 'A29LA15KO056BT', 'ARYSDAZNRXN6G', 'A4ETDBJYSJEUZ', 'A1Q7A78VSQ5GQ4', 'A2Q87SAW72XHBB', 'A1A25TP5D0L22V', 'A13BQX5F2A0CQF', 'A1MUHMPF5XYTAP', 'A37NYXQ098PPIQ', 'A3NU2R1I3BJND3', 'A3P0VHR9YAIR6P', 'A13JH2NRRR2NF6', 'A2LE2MFI4QTQY4', 'A3CNFV5UK26Q8A', 'A2MJ8OL2FYN7CW', 'ASHCSWSX2K6SQ', 'AXNJFYJRDK7CJ', 'A1NOV41485TE0D', 'A1QFX6MTNCLI66', 'AHRAGCS2CUIA7', 'A1A4YGDZRUFQFS', 'ALD6CN9ZUE7KK', 'A39GL1J7TN9LDJ', 'A33XGGQCEAIBWF', 'A277TO3PKKNYDH', 'A2II9R80CCT0VK', 'A2MUGFV2TDQ47K', 'A3SFNAMPYLLMIK', 'A2YSCGRGHNM8BZ', 'AC5DFMPT2E0K2', 'A2V92F5R7MLCVI', 'A3V6APTDD57CRZ', 'A1JYB33LX3RKW6', 'A3IKTR4WJV7BLP', 'A30Z0GG96D11EO', 'A1A371Z10JABPI', 'AFX791XGHHMDU', 'A1DH3QDZX8Z7GO', 'A2N786KHIFCKJ8', 'A2AF225HOH0CV0', 'A1LG1DKUZXGJ6J', 'AEATMJCLSBT9G', 'A1DOS1TMRAS4MT', 'A1IHZ7A10YDVSW', 'A159B1DZK24I3K', 'AWIXDOCA5UDHM', 'A3ATKIU6MZZ4MU', 'AW7BIYHXUIZ62', 'A3D5IBYSLHNMYA', 'AFBU9FR12LCYH', 'A1ZNCMFIECPTVT', 'A1BEDKI1OQFD5H', 'A1T61QP7QHYBRQ', 'A3EAP2VG0BVYWX', 'A37X260ISIDBM5', 'AHQS3N2QQZ9N6', 'A2R95Z7PTF5ZRO', 'A3IWRIHT6W3HBP', 'A1TUV6BBJ96GO1', 'A777MMP4S7S8O', 'A11UJ1CHEHNEGP', 'A2GOHBNQ58WOKC', 'A6UV1YIY6LVOI', 'AGXND93DHIL81', 'A3G2MJPURQSCBD', 'A2TFOVAWNSEB4X', 'A3HGL90C2GYPAR', 'A3C0NM5PAFH2MB', 'A7O99EO1W25PC', 'A3V1AHX8P4R839', 'A23EQ805N1FAXW', 'A2BS9MY35UH0LK', 'A3AZI828WJN1CD', 'A1N46G8TKM3ZQB', 'A1WMP19X59ADQS', 'A3Q9HY0LU7MN6E', 'A21UK8IM9C2S29', 'A231YLXS6IQ441', 'A1UQUDT2Q0YENM', 'A33230MIA3W7G4', 'A16WPA6JV83YXT', 'AW6J9IILGOZY3', 'APYAPE8TWN8XC', 'A2S26YGSVXBCFL', 'A3HBZYCHTIGP5S', 'A2VQVI5X3VTDT3', 'A3S5WYWYKSAI9C', 'AIIZTJHZLV158', 'ABY77ZEHN9WLU', 'A18G130R7K8W07', 'AOP2ZRNSHY2Z3', 'AWB6LNDICLM3G', 'A1LHAXBM5GBJS2', 'A2QQJY5LT67R2', 'A1C21QBAZ1W4Z2', 'A1AZDDFS89QJG3', 'A217GQ496NNO1C', 'A2NH5PVVBWTTQK', 'ALGI34BYWIXZG', 'ACN5JM2KDK72H', 'A3B83GRTAX6QOM', 'AIKJSC2UO4XLQ', 'ALT082QMA75B6', 'A1G7XVI1NU80YH', 'A1I3WK7TCIVW26', 'AZYJE40XW6MFG', 'A19L0NX40VAU3S', 'A12QB51VZ8CGOT', 'A3BFG2CWAS73BL', 'A32I1W2R5ZI8H3', 'ALBPPZ969I5CM', 'AKE6DXEN3GWPC', 'AJ9AE2BVND0GS', 'A3C0ZGHGJNYEMM', 'A19XC6Z95GK5AB', 'AC10U1A9F1X88', 'A1VTERS1W47RIK', 'A3J4GX5IY716PR', 'AMYRCTEW5AR4C', 'A2KUUIJ52MWDAS', 'A1W4F91DH3XPB2', 'A1LINA8MCSONQL', 'A1SXCGBJ9JW2MO', 'AQNX0WN00JEVE', 'ATJ22NADXNLD9', 'A34IE5594AE20I', 'A3MDA891A1EPT8', 'A2ANNQ7WTLZUD7', 'AAF5D1LTFGB7L', 'AS7SB0A3QKVQV', 'A3JCWGHCVC2ZNF', 'A3SOJC5EJZP7C6', 'A15X5I17CU4I2H', 'A1VXIY1511XQK2', 'ABOVQ74OQRZCM', 'A3LT26VKSXZFQM', 'A1YOLYHGL6G9XB', 'ANKQGTXHREOI5', 'A3SH6CQYS8FHB', 'A37UX46Q3OVSAC', 'A1HQ56HXZQJ1WU', 'A2FN8FBQAKOZ3B', 'A18CX8MRLUE35E', 'A1U5JW2BP2DXTZ', 'A3TCMJ6GKZJFBQ', 'A13M9XSQ4O6NLY', 'A914TQVHI872U', 'A1JOCKX0DBY0D5', 'A3VZH0PWLQ9BB1', 'A2SMI76ENKI0CM', 'A345JRAM57EGBS', 'AX5ZDQUSZG8MI', 'A1NXA6Y1T9XDUM', 'A36S07OGN5FIO8', 'ADR9KROI61DFJ', 'A9P07NJ7UV0M', 'A11K70GWSB7A5Z', 'A3JFP1I9GCOM8P', 'AZMISC9FAUBIR', 'A2Z2FATA8JNL54', 'A2S1GTBLVBLEO4', 'A5T8TXEZREVHL', 'A225OKW47SODNA', 'A19M8Q3VR3Z3UN', 'AB7V9FFK51EKT', 'A353BBCDJQP4A3', 'A35Y40XVDNIK7Q', 'A93YMZM7YKG1G', 'A2ZY3S7SD3QO8Z', 'A2GVRTQYWV15IO', 'A24U6WGBZ4P74W', 'A1VTBADV3JS1EC', 'A3BV0WAXB8IULS', 'A2OF39RWPPJNTR', 'A1VOVGNX054PQC', 'A3G0F3VRM187KT', 'A1E7BYP6JGDUHD', 'A2YISOGM55E9NG', 'A1DW36J0ZTN8QY', 'A11UNM6QZ3XTZH', 'A1T71T5GUD8FJ3', 'A30EXXH5I9GWBF', 'A2D6BBQ6HFAANH', 'A1GQAKL9CGQLP1', 'A1X2B7H1P11DXH', 'A1SBUTPIN5HTAD', 'AY8WT4WMDDUX0', 'A10ZBR6O8S8OCY', 'ATYUQROTHLNYV', 'A2M34TR2T9YAXV', 'A2I2ZHG8M88CUQ', 'AJVY04L3BL4VS', 'A3NHUQ33CFH3VM', 'A1M3JZ6SLJ4F4B', 'A1M54LLOTWABKB', 'A2LI16D7LHPELG', 'A37ILPDSY9ESL5', 'A75JW4F7P98TC', 'A2LOFS1AJM3G6F', 'A1DFTNJDV9X26R', 'AG7XUJZ0D5EJ5', 'A2XAQOWHRPY98K', 'A34AGKU14DGF5K', 'A19A0NR7MZJ8NW', 'AH9VK6BEE5A44', 'A7H3BAK83N2TA', 'A3P8N3YORM08CA', 'A2Q582Q4S2MUGM', 'A1OSZ0SN61MAEY', 'A3IE8PNBE2LPJE', 'A58F10T4OE58C', 'A58N07M0ZCYMB', 'ARTHSLN5BW5PW', 'A3GPAGEFFDWWXN', 'A24BBK1NFZPPJS', 'A1ACM1CBGORBN1', 'ASGIVOW34XNQS', 'A3HZ687GB0AH7Y', 'A17RWH6Y9DDYBR', 'AFDJGY68CQL2X', 'A1HUO2AXGLYHDI', 'A3S0Y5GVW1CYRW', 'A1WKEAS58297E5', 'A3EFSLEMHNPP6A', 'A3J029KBNG5MNP', 'A8UM78SMPSHC0', 'A2USX601I4L2BQ', 'A1KT19TDP9VE63', 'A16Z2OECAUX8Z4', 'A1RX2N300NHQAF', 'A3E396M1AH5ZF9', 'AXRIWVPE39ST1', 'ALBW2ZBS6Z2AY', 'AR74YY08IP2WE', 'A3T4OHEAHOJ700', 'A3T4217DZDJV8W', 'A96JD9312DHWC', 'A27FB97X0COTAH', 'A10K606KWGOA2Y', 'A13GZCHAMKWYBT', 'AKSMXE0CRLA5T', 'A2QDOJFFLFGF18', 'A2Q9KC6JXDG5JA', 'AJENDQXZLWJSQ', 'AUMS86MZELMS6', 'A1JH23815DVN5K', 'A2J6PW8IUP505I', 'A1K35ZITHQS8RR', 'A1DNXL8BIR5R8R', 'A3T1HGP5MN7OB6', 'A2JX868GM8BRBF', 'A2JGD65DRNR75N', 'A26A64X86VL1R4', 'A23GFTVIETX7DS', 'A24FYJF4JCQE2Y', 'A210SPRGOOG2D0', 'A3LL8PH49PZUG7', 'ACMSQCH1H7JZD', 'A1YPT5II83LY3I', 'A2GHU8I0P3HFRW', 'A1LLVL4YI9Q30C', 'A1JXRXYVSUAW6I', 'A2E5ZWLVGUV44F', 'AJL25T6NE3RDL', 'A3H2G9P613G0FG', 'A3KWR8J6CUUU63', 'AMLTWG4BNQ17T', 'A3BE480SRW37EK', 'A2MSQNPTNAAGL1', 'A1GED14ZDLSLKU', 'A3EJ8XHVDC0CWH', 'A3TIJLY4VX8CH3', 'A2TZ62B2XCUDON', 'A3CL1BKRBR9NG7', 'A3KPR2UOBT0O2', 'A3KHS90UO8FHWP', 'A35IX2GE0VC0JP', 'AFTO18B2WM764', 'A1RXWDHS6V0E5L', 'A25IYL8L9LZNH3', 'A2FSMTNXL81WJ0', 'A2M14CFAMF8J7I', 'AQ6ZF4PY7X3WX', 'A79372WBA9IJM', 'A1XZEKTEJFZ3O6', 'A38ALMKH7U0D6H', 'A1L4MFMJHRUE6A', 'A33VI944SO2YCN', 'A27D0VRNOOUNRR', 'A2PU7XW1J998ND', 'A184XTCFOCLX7Y', 'A16EEZCPYPEUHF', 'A14CXGHPONCD41', 'A3IGCB651CBUS5', 'A32UN5NNLS24PV', 'A3C1QYGEET3BVY', 'A1GASYTBITRWV1', 'A2NO78FL32PID0', 'A14638TGYH7GD9', 'A2AGBL998D0FYY', 'A14NA0W8ESGDSI', 'A3HC8CNVGE854X', 'A38PZE4HZMI0QV', 'A3RALES3RIRVH6', 'A3VHRN8GV419D9', 'A2KOVJ269YNR6M', 'A15T487HNTIOF7', 'A3MSHV2DCAE2MD', 'A1C97QPVKH03L8', 'A2NICGGIGIFU22', 'A2ZIPVL3ENCP08', 'A1U26DP9DM1JM3', 'AOWM3ZLHZF07H', 'AKAWRH6P6SR4F', 'AK8LOFYRZJJW0', 'A2ILVHWZE9MGYP', 'A3UU8O0Q7TNWPH', 'A2TI1OLFNCM0D5', 'A31I1YHJKPUCAI', 'AD1ZOPB0BBEHB', 'A9XX8OHS2ZQ2X', 'A1HHT7QL47MSE5', 'A27L5L6I7OSV5B', 'AZP8VL10DJLG7', 'A2UQC2G6BOM9E9', 'A13ARKH8FCOFQ0', 'A1LUVDJCWYAVUW', 'AT8HFJYB071N3', 'A3JGDBZM9CGRXU', 'A32NZK5H2NIM13', 'A1XNZ7PCE45KK7', 'A1KHVW4VTZ82XC', 'A3PD8KD87AXNLD', 'A3HDIZAWPFGVWG', 'A1F85UIFABI2MH', 'A2H2K1FKI9COQ6', 'AEVXRGD91MH5U', 'A1UOP3I8BE70JJ', 'A3OICFS78GXXIJ', 'A2W113A4NBI912', 'AL1708MTIB1MD', 'A3TJSWA0W9ITYE', 'A3BBLQEB3IGRVP', 'A3DIJAXX4S4C49', 'A1N11N2Z5BK281', 'A208UDKWBYILO8', 'A3IQGM4GW25ZA8', 'A260H97AT6A5LE', 'A2AOYMFCNYW14S', 'A3R79D9SZA0QDU', 'AKXKWI5M5E267', 'A22HY3D260KUAW', 'A179D8LPMCGP9W', 'A3COUBI0JP5723', 'A3O0BXK3SZ6FE0', 'A3H5QGH5OD2XGX', 'A4OTYAYS5X61E', 'A5A8A89CHG3S8', 'A2VAWEULL019JO', 'A22YTUDL95N29U', 'A3N27L13CWJ9HY', 'A6X089IWIRR81', 'AWYMS1BNSG38Q', 'A2DXENZNO2JT4F', 'A1YOGC8UF2RCHC', 'A1K3N7T7Z9VURF', 'A3AH1V1W7J98WZ', 'A21B8AV7E3MPXE', 'A17TASZJT6Y39D', 'A1ZHN4UGF3T55Z', 'A30YSE0M6LM61J', 'A2YQ7M9GFU3Z65', 'A11F5KW6QXHL8L', 'A14IW8KL9JGS2H', 'A1PPJBF43IJ1W6', 'A257XGMVGITLCT', 'A1QXE9QBD9ERB6', 'AS935YJ1LIR5K', 'A100ZQDV7L8PVV', 'A1AHNV14W10S0X', 'A2X5I60WA32FRV', 'ARCNPR5YHHP2X', 'AVFRGWQKCNAR9', 'A3AO77W3NW2N9G', 'A3TPT3CINOTLDM', 'A1WF3V89I4E8BR', 'A1NZET944GAD05', 'A1KGCBNUMKYV7L', 'A1TZHV7ZF1BP4P', 'APP35M28G2U51', 'A11AP4QERYPCLK', 'A95FC7Y7GWFK7', 'A1M0VRITABSIQ6', 'A2TPAF8C8EXPH8', 'A5U5T6EWH90O0', 'A331MWI0W4WSEY', 'A2RSB35G43HTZ6', 'A2DP8076RMUZT1', 'A3G9GVHBAHGMUI', 'A3R9X003XW0LNR', 'A1JAPP1CXRG57A', 'A3R0NQ9E53JHYQ', 'A3SSBBEGNC7G07', 'A1C1P6F3UQC97G', 'A3T97RJ08ZQ0BT', 'A239ILDOHMMGUV', 'A2K4HN6EECBNR3', 'A26BU3ZU0R5IPF', 'AQU3AJCX7BXZF', 'AV4V89ECN3HKH', 'A3KEZLJ59C1JVH', 'A2KJIX9GXBCVWH', 'A3IJY3PCGFJQQA', 'A2IYAPUAR0PTUD', 'A1E0L2V60U8H0G', 'A3HX7GD30O1MID', 'AC6HYEG9JT441', 'A3C95L8JUAL3JT', 'A3JPRLR9A0VFFE', 'A1RI2HB6FP80SL', 'A3R4794K2RVU1S', 'A1XZPFZA4CMT82', 'A2XPKW9APTROUT', 'A2W2UAOHUVBZIX', 'ADYZOSTF9LZLD', 'A2W9I628I6SE1U', 'A2LV8HCYHEMQ0K', 'A2JAEZ0FMAMJVW', 'AK3402G7FO7AY', 'A3E0W5O1MPW3K', 'ASRCXQORZ246Q', 'A323WZTV4TW9T', 'A1REM7I2ZEE195', 'A2XIOXRRYX0KZY', 'A24JL1MU8KCRZ2', 'AEMSGB00FL3YO', 'A2RHJA5OXJM0O0', 'A2GLLGEKQOWIT5', 'A1X3ESYZ79H59E', 'AHUT55E980RDR', 'A1STC2PCXN65A1', 'A26VG3N0GDDHFR', 'A1OOJZDRA523XB', 'A1CP6NZKDQG4FN', 'A1YH6DMZOS59A2', 'A3FAM6M9DMUAMB', 'A1QVSH3CRJHGHJ', 'AWBBFXTYT2ZNA', 'A19TEEHU4WNZ40', 'ARWZ17IPLQ81', 'AO2AQRPPSTABB', 'A1EDCMHXIMH0DT', 'A34W7QA4J5UTOR', 'A2BV5EZKDX8OA2', 'A2OHNA7PBBQ4C5', 'A1QFXD00PN6VJ0', 'A3KYQWGVLNDGYV', 'AUUN34NT677XH', 'A337MPRLYDSO9C', 'A9FHZGXN2PXDF', 'AKJHHD5VEH7VG', 'A1I06FW4J241AL', 'A39LRXD7THXB4B', 'A25EMUVX5WMVZ1', 'A3EVVLVNG4QLI0', 'A3BJ0SU5CRQA3C', 'A332L1DH4A3OK8', 'A1JOANG98KBFKU', 'AUAI9MEBEBLL7', 'A39E4C7YVVQ02F', 'A14ASZDYCXUTI0', 'A2X61KKXXR6WNP', 'A1LA4K5JF78BER', 'A264H93IURWMJR', 'ABZFAANO49IDI', 'A18DNSET02IWGK', 'A26UNIPEVYE9DE', 'A3OXM4NUGQKIQ0', 'A382QYAWI6F811', 'A1TKBDWY45OW3Z', 'AOE6HAVFCJSLY', 'A3M7BCQKSQAK4L', 'A2AV75AK7M1DMW', 'A2WB4OWBUH2VQX', 'A26SO3TOT2TLJE', 'AMBFK6N4JS5Z2', 'AOWNULF8026F1', 'A2V6W8QRKFONHX', 'A28RABVVESBLBL', 'AVO94A66EQGFH', 'A1ZH5ULI4SBO48', 'A2548ELQMB9QEN', 'AZA595ZPIG240', 'ADO1ZPAH7DJ5R', 'A2318YEO923PC0', 'ASE0G6I3ZC0QB', 'A35P9MY9132FNU', 'A1SXF48MHY0NJK', 'A2X2Q06U2YO9ZX', 'A1KI02CUM1WC3W', 'A5BUH1D121NQC', 'A2SDKX7SSZ2P99', 'AZZGGWZV5VR74', 'A3FMPT5IH0CJ50', 'AS4P0QUGABH3C', 'A15WSZ11YEOKMU', 'A276HKHAM5VK53', 'A2JYR10B40EI3Z', 'A7XUSKJ6H9DI5', 'ALPX3MQ4JK9TN', 'A3SOOHKEHHR6C4', 'AL8FI5X2OD33S', 'A2HW6NZ9TB2ROS', 'A1VSTIE4LDB43M', 'A1XDQFM10Q1SMK', 'A3IHI911PXMOW5', 'ARPB88E6F2MFR', 'A1E7428658LMTY', 'A25QIF834WW9GQ', 'A2GI8X394RLF83', 'A3J4FUEUXPI5A8', 'A3U62H044GZU7I', 'A58OFA7T7WN9Z', 'A27FYI2VCJR3MN', 'A2JVBJUU2DL0WA', 'A1FT0AWHJQLMJN', 'A1ODT2GL0ZA2HH', 'A3I85Y7QFOEU9M', 'A2AEHBRCY7G9HE', 'A2FYFGL9S37941', 'A1Q1T811N4IY3Z', 'A29VG90T649CSU', 'A37WA3GUT6N5B2', 'APJDB661HN4UR', 'A2M1MNG7G40V85', 'A2AE75HDESZFN4', 'ACUL2NEZAYUNG', 'A1ITBA90V0EBQ4', 'AOPZR9IDU2JV8', 'A1IA0O3OYQO9LV', 'A3094EPI56GKZ6', 'AT01W4M7O2N24', 'A2FEM4XI55SY0W', 'ACQYIC13JXAOI', 'AYJ0U17CIWLM7', 'AF2HX24P7K1FF', 'A2P94P50FZL87F', 'A2CRHEUW1ATJ65', 'A1VK6EKINVYAT7', 'A1O4BH6197KJNE', 'A2IQF36UJM0GMB', 'A1HHWNXDC9A87C', 'A2LAFL37V088EU', 'A2XB933HCLJU51', 'ARXHSWN3RMN93', 'A25BQ9WBPFU53O', 'A24X2NYEX5WAS4', 'A1F0WYFGJMSMLK', 'A19WVSH9MZZG', 'AZSYHIK3A3KWE', 'A2NVZNGSRV7ZU7', 'A3MLY0K05WU4F6', 'A3U8ENPSBFO4YG', 'A2JPRGJ2GVDANZ', 'A3GFK7F5IUF60X', 'A1CSFIQ41U5FWY', 'A1UO1V99AK3CS4', 'AOZ2MGUTFOE8U', 'A2EJLYWOA9Y08O', 'A38KYGR07SUF21', 'ADYK8EVS9WDB0', 'A19QPJNL5HOJAL', 'A1A2TYI92R7T86', 'A1Y7C52533BA2H', 'A2NTDBVOZIPYRP', 'A3R33KMESG0XGQ', 'A3TRRM13LNZ572', 'A3JTUS0UZG6V9T', 'A32STGRWB3FI2U', 'A2628GRX57R8KV', 'A38NHXL5257E3B', 'A1JRIIJV6B9QT7', 'A343ZOGUM56IC2', 'A3E9WG5BEAFF3T', 'A1DW6V7M2E335Z', 'A3TE23IJ6GITLF', 'A2N85D8FRR118S', 'A34T6SD5HUGLCJ', 'AGJN8GZ637X6P', 'AWPN47SSWK1JV', 'A2FLJCJ3SW0TUY', 'AUEW0SKOB1XYF', 'A7P69JYE2TTDX', 'A2IKWRF4EVT3PG', 'ABCNO99OFECJ0', 'AB9LV3BWK3O4K', 'A113DS2A66B9VJ', 'A22PHKFFVGZ9X6', 'AU4Y8JCQV2Q1U', 'AS8N98SK8HBMI', 'A29M09QBG9TZLP', 'A2VZJKNHWE9B4N', 'A2OA9XX2PCPDO', 'A33NZ692P7BZ8Q', 'AHQVBCXO2WM5C', 'A3QFINCNHFU3C5', 'A2H667ZUNLNTF1', 'ALDYWG0CPSYUF', 'AG0830H1DBLD', 'A1A8KY344FDXZB', 'A1RRX286ZRI830', 'A1UHKF1UQ3EGW4', 'AV37OT7S682UW', 'A2EI4VOT1F8V62', 'A2TO2BN3P4C00L', 'A3PFZA9XC59D2Z', 'A2AF0NOCM71J0B', 'A2M6J4CGEA29JI', 'A3RBBLXX7BD6ZX', 'A1KWIAKMANZVIV', 'A1M1Y5UGONAW06', 'A1JWUGHXT5HP39', 'A3GTZO9OK5E3F3', 'A3PWPNZVMNX3PA', 'AISGAKMBB5HBY', 'A2555OR8IRB30S', 'A3PTW8EKRSZLUR', 'AUH792DXLWGXW', 'A11B61QBGHLQDN', 'A2L0NZR1CSYSBP', 'AN2CU1YP12J4U', 'AI6DRIHCFTLVE', 'A3JTLZ958Z78RC', 'A1ISJC5E0GD68O', 'AS7SVX6IGJ6F0', 'A167ABU99FT4OC', 'A2HX3MWQDOM5AZ', 'A21O6J200QQQ1D', 'A29H57JOW1ZB1Z', 'AF50DRVCXFMJL', 'A3OGA76E22L5CU', 'A2RME4353Y911C', 'AGV6KOEXODL1U', 'A2GXHAELA9BZQA', 'A3ID3JWCV07D8O', 'A3RPD7744JX3VE', 'A15DKVM598GQKS', 'AYVE4ULAGMVGT', 'A29UK7GM2HXMIE', 'A27QXQQOLAMRRR', 'A1O229NVVDJUX2', 'A35OQ90FU3P52', 'A1XJOSJN6FHFO0', 'AGWWIU5K88RKB', 'A35UBZDESLIOHE', 'A33PVCHCQ2BTN0', 'A2DUS24FBC9FH5', 'A1OPJ07CRU2GX0', 'AO9XCS3PV5MXK', 'AQM73IWC4LFXS', 'A33EGAQ0DU1QRV', 'A2E5YIM6TXUGCW', 'A32JPW72EQDG1X', 'A1S7YQQGJPPFLG', 'A3F2926FPOBNL', 'A1ZAUB7IKXDVKG', 'AYB2RR9WW2OVR', 'A2XUSCBG6JC86W', 'A2YSY7CIXY2LH2', 'ATW3ZP91LID5R', 'A2TPFWN9C6LY4W', 'AD8JK9PUC5H0A', 'A12LOSDZX5869M', 'A2KP45DO3RY4RG', 'ARC8GAY34APCD', 'A3M4C8M5J5C5T3', 'A1E50L7PCVXLN4', 'A2CISZ4JLKQRJA', 'A9EN0S3OPP0K0', 'A2LVLT1HHB55T7', 'AMCAID3LTHKEC', 'A2A4IIRGAEXUXC', 'A1CKAZZ3Z647NA', 'A2ZF5B40WVBD93', 'A3FA8Z7MQJ5JSD', 'A21LIZOWUJ152K', 'AEA9MHUVHG19C', 'A3063F7PEA30IM', 'A11GP02YZJBGG3', 'ANSRHNCQZ67XK', 'A1NQOLKH5T6FOA', 'A2WBEJH71SND3T', 'A1I8QPILZMTELT', 'AOCMIJP3EHBNR', 'A1PJW1DYGFZV99', 'A3BHZ8P7G3NCW9', 'A1JEAPSES2HNVE', 'A25NCR4LJ62EZN', 'A1OPP29TD7SIQ9', 'A5AWAP14JF27L', 'A2L1U6TMQJP5SC', 'A2BILUPJR1QK94', 'A2XNOB1T796Y6B', 'A7O4GY472L6VY', 'A1QAPTV4YS16N9', 'A1CM8LEX46O21E', 'A39HDNPW97LD76', 'ABSCTKLX9F9IU', 'AJPAZG1GQX8DY', 'A2YCUCEYXT9VHX', 'A2EFIUAOF4YRAN', 'A3HFQT4IPBUA1P', 'A1Z008CD2RW2W5', 'A2F6G3JZNTCNC1', 'A1IFZDSZE0I08V', 'ANIO0QXV2HJ1X', 'A3SXKZ1Y3SGW3Q', 'A2WTV2ZI6KWDP5', 'A216GVMBM978DE', 'A1GYEGLX3P2Y7P', 'A14IW8OQ1BS0OB', 'A1P66GJ6VSS2E2', 'A2QWJXBD0LB13A', 'A1TQ0E67JUOUSC', 'A1EKKSMQAOO7U3', 'A2CYROCBFE8MYP', 'ARKPBV91DYWZF', 'A1QLYFY3O1RN8V', 'A1E5WXNTI7EO2A', 'AN33VSFJP6KGL', 'A2T006AT1GONGJ', 'A2RVCF21L2NPU5', 'A3MFU0GVZUVH3K', 'A3S3R88HA0HZG3', 'AN8HTB21NV49Z', 'A3BJZ3Y8UKIQ1G', 'AN0U0GNJJPEUR', 'A11YC63APLB2K9', 'A3JTJHOO15A3NU', 'A3RA9IGBRPLXQ9', 'AR2CNXO5LU4JP', 'A31JNBG3XML5OT', 'A133L22TAC5TA9', 'A2MKKH27I1UU7P', 'ALSAOZ1V546VT', 'A2V2I83BSJPCFS', 'A2S4OPKLE5FB7X', 'A26CVX8L74IAFS', 'A1UI8YT4BVQB0', 'A601IGAG8FWGW', 'A3UJRNI8UR4871', 'ADJAF7ZFZ25EG', 'A32OWCGEXIE1EI', 'A2503LT8PZIHAD', 'ABIVILOWVFQ9F', 'A1POGCSD85PJCW', 'A3SLC8F6VIWXIR', 'A221FPD86E5O87', 'A7QQCZK96JMS6', 'A36BQWQPYU6FRM', 'AU71YJNA3E3J1', 'A8BAR8CUBG4SH', 'A1P59OKDQV9W68', 'AZWXG6KBXXC2N', 'ATDJ3H36PBC6', 'A3LOAIRUUNO5IX', 'A1BLOBFHQ17QFD', 'A24FOVVEIEAIPK', 'A767RTUPRU4WB', 'A2ZH82YNEST6CQ', 'A11IKWE7B29TOJ', 'A2SB4RX7OJ43I', 'AA70TPDCD5D6R', 'AWP3OETSAYH0V', 'A2VQCEUCKD36L1', 'A29DQ5N0LMVP3H', 'A1WKQ94M45D8MG', 'A2DVGHWV0UZLVK', 'A2P13ZMSWF3IIC', 'A39E7IWNHY62JT', 'ANR73TPVBCQ9K', 'A36OW4CTHS3CCJ', 'A3FC50ZJIT2GMO', 'ATANE2SC44592', 'AC24YX9860KDZ', 'ARPE7MWT1C3SM', 'A1Q69CMZ9QL9E3', 'A1MRQ8Z7LGQ7N6', 'A2OZ4794P16TU1', 'A2QJ710FJC9E40', 'ADDDFVHP3CSVA', 'A1ZZEEBIQLXM34', 'AGDDJBAN2MCGN', 'AUAX1QWUCYKSX', 'A21JK1XVN7EDMT', 'A2YZGX57M5VNCP', 'A1SKQULOV77NT2', 'AO6BNTQV9GNC2', 'AMS0BR4407K6Z', 'A3DD0H3XLCNJ3M', 'A1EQVPJ3O3PE7M', 'A2GX33X1IV4AUB', 'A2LMG36902RJFB', 'A2BZ7MYTSNYMEW', 'A18SQ4EB8J8H13', 'A2JFL163HUJZG3', 'AGRCUD7B2MXPR', 'A13EPWUSIYR4E1', 'A29MA4EBRF6TGH', 'A8FKBLA05XOF0', 'A1UQBFCERIP7VJ', 'ATA098GPRGT01', 'A33Y8C4818EJL0', 'A2Z06I0Q4FMFHP', 'AA8TVGYLXMEU7', 'ARKOOHXBLCOOP', 'A1BYTWH89FG52O', 'A5VHIX97H8FPU', 'ABTQPLD1K7839', 'AUPTKICDH0TGL', 'A12066XBJS20IF', 'A1VTOFY4N47RGF', 'A11LNPG39A2ZV4', 'A3AUM2L4PLIEML', 'A32MQODC8EDEWF', 'A1QYE76M7E4ZK4', 'A2QVLWFBQ08FYC', 'A21P8RKP4HRO1W', 'A2Y3RNMBWIIE5F', 'A2WB7LZ595CR50', 'A16UMY0X6X7R03', 'A1B5KI7110XHWI', 'A27FG9YUBFDU2S', 'A2J6OFQ15WBG99', 'A3M3W5GV0HIQK4', 'A1ZBJ03O1D78CS', 'A2BR8ACW3AVWVA', 'A2N7F6VT2SQDYZ', 'A1YNLNPKDTFH5T', 'A3L2T9Z5QYJYFM', 'A1EIAFI297P6YU', 'A1DULQKYC6EV1B', 'A1VRPTS2C1ATNJ', 'A1307TZ17X6SD2', 'A3VL263FW0O1JL', 'AUPUDYKYU6431', 'A35G12ZECNXLXL', 'A2IQ2DVZK4YZCW', 'A2KXWUEUE51LGL', 'A13RTK1873ZLFS', 'A259X6HZ51Q46N', 'A2F244OGTONA15', 'A1H4OY28I9ADYL', 'A1P9WLE3DFEMQ2', 'A2K75QOCP9ZHSL', 'A18TGY5T94H55U', 'AIY1U7FDL2L8G', 'AIEEK7AHXKZCC', 'A2OX8O4TS0X3X8', 'A3FBMSWBJ202SF', 'A2PQMHHCI4TJVK', 'A2F8X61SB7F73B', 'A3HU9KQ2AO7Q22', 'ASJ0MKRFZC47B', 'A30ILEZYINVDB', 'A2BQWD54CXBX6R', 'A3U52V5ZAHZZKU', 'A2QYPEC9H2H6W6', 'A27JPD9Y6H9WQK', 'A1RZ0J2CZZJOTX', 'A1TNUZDZJTKMGW', 'A1ECTJJ0QNQPCC', 'A1Q19LUA075AOM', 'A1GVJX37TN2KCF', 'AC6LV5D2RKTIR', 'A2K7N4FBGEHVK9', 'A16VM71BLBCMMK', 'A1SCNB4DE7XPKT', 'A260QLS8Z33KCQ', 'A3VNJJU5GOS97N', 'A3U0S17XYK8XMJ', 'AF6AYACNYZK47', 'AUZ3EJAU37NC5', 'A1R1BFJCMWX0Y3', 'A2E6Y4DRAY4V33', 'A3EWUMHYMPD7IB', 'A157UIVPN0NYNN', 'A3RIQLKZGBQDOT', 'A2YUGPUW2HGNCU', 'A3GOVP6EDD1XDH', 'A186H8P2CH4ORG', 'A392CQOTI9JR27', 'A3SQGHL6AQ2R9E', 'AFTFND8CPQ34M', 'A35SF7WOUI49AM', 'A1WMT21SRY3W5J', 'ASBKP2FY961VO', 'ADX9NTN40T1HN', 'AU1I8VGB7D254', 'A243046YYZXJBI', 'A2UISZV5CTD805', 'A4OT65BOPX2BR', 'AX9C10JD538D9', 'A6U4W0DXLYKVU', 'A1CO2F7VSQ38W1', 'A2F04CXDQV30VR', 'A3FWVV13DJELLV', 'AIIR8E34EDKCQ', 'AR7AZKSV19BE0', 'A1BT6759WL0OVI', 'A39WD34ROZKJAW', 'A2OGN68EIOK1DC', 'A30ODR6WBE61UB', 'A1C8J8N4BKDFN3', 'A9O3ZVSNHZ0WJ', 'A3ECGCYX7OGQSV', 'A1N8QW8DDT7EJH', 'A3UPYGJKZ0XTU4', 'A16NRV54CGOO69', 'A3LX8I35QYWVGI', 'AZGWBAQ061SBA', 'A3N876BDAQGWOU', 'A33PKT5CAKBX1D', 'AT0E6UBVJMJ6W', 'A3DZSPA2Y48NMG', 'AKX7YE26PAMVP', 'A2GXAF7Q9OTTIY', 'ANLN2A1O4NIMS', 'A3OZPCMM35U2EY', 'A2WUHKA1I75SL3', 'A11CV6M1H8S1EC', 'A33F2N4Z9GK7UE', 'AB42KD37ZMFWN', 'AZ9N3928BGQ0E', 'A2V55J9CCQCOG0', 'A1TS45JWJVOSSW', 'A3MW6AIZWLJCOO', 'A1BTNPMESS99PL', 'A265IEMG2K5R4W', 'AP0O3EO7ALT63', 'A9XJ6GVTNDF2X', 'A2A84ELV7V9NSP', 'A141W8WHW9AC3H', 'AG2028ZASH070', 'A2GSJUETASGMO0', 'A1A8RXQ55UA8XH', 'AJ0VKOMDPHQPM', 'A36WTXJBYS3DB6', 'A2CBIGEQKMTZ4O', 'A2LQ1IHTYJEEA6', 'A2DT9P6XQW3T39', 'A2ILR47L0NFWH1', 'A2ON6D6P8JM8Z3', 'A3BVF9HSE5F8ZC', 'ATKL8C5IQ56E9', 'A1NLBKKUFURP48', 'A1I1DI692HQ0F9', 'A1Y64EPRAH20CX', 'A1N0H5PETP7E42', 'A33J61NHIEW31F', 'A3AWV00ZU7MSK1', 'AVJJ2D4G5I0Z4', 'A2LTEAUTDYHS85', 'AL9KKQ4V6EQ1L', 'AH1WO4RD371X', 'ATJV9TWMRNF8K', 'A3DY7DG40RAOSE', 'A1CC3G24842BG6', 'A15Q9YEG1XPEJN', 'A4HUA3IU17AP1', 'ALDKBXKQW78KI', 'A22M6JJ3EVP3W7', 'A15OVM8JWXHVNF', 'A27MGH8RM9WXT7', 'A2Q3BW3177V542', 'A1BH1VKHCYHGPR', 'A1KEPD71NTGA5H', 'A18B1KJJ14O0TO', 'A1EMN4T3ROJDOO', 'A5FIJ2TSN0QWZ', 'A3A6H97D6OOKT7', 'A1TWWTNPJN37M1', 'A22B7FDW1IG1C6', 'A93GW5XX51MAP', 'A102866V814SOJ', 'A3TRM9VHMCKWH6', 'A2H7UOR72X7F2G', 'AIWJCE18N71L4', 'A2UQYZCO6C3IU2', 'AW1YYDMOAII0I', 'A1WIARMTYHFQCO', 'A326D766H2I6RR', 'AIC7VZ9VNYRHK', 'A2O0ZDILYOJP6W', 'A37FFWZUGO8L7W', 'A73L4QLGV7ZV0', 'A1VUN4JU731CBH', 'A231N07R3IQHW3', 'A6QG9LM5WL0AQ', 'A14JDMEHQJRR3T', 'A16PUD6V3KAZ0Q', 'A2AOZQ3WTNVVOK', 'A2ZFE69V0T71HN', 'A2BAAKZHSUGCDP', 'A1SSIDDDCCK1E', 'A209PKR6FIJRI4', 'A23OEXX9JTOJZY', 'A3IXMUXE13KALF', 'A361TXVGQDPYUX', 'A1KDM0N4UCEPHA', 'A2MWA7HFUXV8J8', 'A36HAT6OHPMNHN', 'A2R344HWN5N5F1', 'A1B6O7SAIYG2N0', 'A3VJ27010XUWTF', 'A4EG8M5Q7C7WM', 'A1NC5TNAMWOX8S', 'A3V3Q2E70VWCD6', 'A3UWNRCTZVZKAQ', 'A2KLG26QWNDIPP', 'A21VGNU5959O85', 'A3C2JQC6R2K52C', 'A2HMB1IEBSGSHJ', 'AL4UTCPCSKNU1', 'A2S0SHEWROXG8', 'A1GWLTLZCHNEI5', 'A2WYTRZHKIDZ0K', 'A3EHQECWIRDPZ4', 'A2BJXOROYN18WY', 'A1LS4HTJAXVI8B', 'A28TWWUAWFVCTR', 'AP6U9UC7P8ZUR', 'A2N3TOK3OZKDCQ', 'A2S732BSAE39CR', 'A1DPDDPNK8HKV1', 'AXKYN0CWHATE2', 'A3RNP5X8ZGZIEI', 'A2LA1KY47VJPZ9', 'A2MBLVMVDLHK1L', 'AHXZ7JV7RMTGU', 'A2R46TPY466FDC', 'A2XCWQJ2E8JJ27', 'A17PDSMPB7HLYZ', 'A1DD5LYFQ3ZAOK', 'A3R8JXBUFRV1LJ', 'A1V9PARPFDQH55', 'A23WBMYCXZCXAG', 'A2LXG7OMJ758J', 'AM1S1JFTOXZMJ', 'A17771LTRWSKQ5', 'A199FRO0YFMGED', 'A1UYMA2KBEZJAV', 'A3OUWCE8CHWCHJ', 'A3KDU6P6JM1ONO', 'A6YEAHCVOHKWM', 'A2H6KI5U0OPDCO', 'APVKVOKIUFYTE', 'A2WKUC4FX8PPXA', 'A1R2N7UH4YQTN', 'A3RV9I6P9O0T50', 'AJK65L94VOWHP', 'A3D0JZ2QXXABQG', 'A21I717LTVC1Y', 'A3DLAD4NDHWEDR', 'A363CMKRJ19XHV', 'A1ACF7OZ5Z45HX', 'A3K9LSAB4K21EV', 'A2TRPBDNFSO1TL', 'A3M6TSEV71537G', 'A335GUD1YBS31U', 'A3NM1MT3Q2FHXV', 'A2M4SJYK2899CW', 'A2OGXO7G3GUBA8', 'A3PL5EW82A4QKW', 'A3DZFEICHK5LF2', 'AR8TLB6QXH1W1', 'A7KDJ0MVYYRA0', 'A21V0NROAQL7A8', 'A7H1LWFBE905R', 'AP9Z703TP9YCM', 'A3L6DF40IKSIEC', 'A1WOX7A4W048GK', 'A31HN9K3QEKJF3', 'AK7CAW3N1XZV6', 'A1C7Y31S5QXNTR', 'A2D97LA92PXTNH', 'AI36ONYG96EM9', 'A3FSZAGMC2WSRO', 'A6LPHO95P3540', 'AY91MQZZR750W', 'A2705TYWNRS495', 'A35Y8XKVYHJGIS', 'A31LB1IX6EDG3X', 'A32XGYDA14KT13', 'A110RS7QL8Q1UX', 'ATDE9JYCPI0L1', 'A3ER7785BOKGER', 'AYCDZQ43FGKR', 'A3AA9BC5QEKHKO', 'A3Q1J68QY1MZQ9', 'AX5Y4X8GRVS6V', 'A1RPR6GIDAA2AH', 'A3DPA9ARQYFJYR', 'A28IBOLVCSQRLQ', 'A2VAD79S4A06DD', 'A148RQ0M580F8V', 'A3KUVPJHTGGLTB', 'A3B2S40YG11CTQ', 'A1GMN83QQJ5K53', 'A3M77RHH1DLIXD', 'A2H20740ZG3V7U', 'A3EBJDZ5N1UEI5', 'A4UZNWPEJ17UW', 'A21TJVRUHT41X', 'A13X7XBBT1DN8U', 'A1DTCJV6KOMJOA', 'A32EOHLFZYXJEP', 'A1IUNHVZ5C0F0Q', 'A1TSK3TFSE0T5N', 'A17E3NBADNTI3X', 'A1QS1B2IW9SWHC', 'A1R3IUM1KVYK5I', 'AZIJ44I4NIO5M', 'AU0LLORGK9IDR', 'A1SX73TKLN7DPH', 'A2CZ98V784SRJ0', 'A1GYOSEAJ5EEK1', 'A1RVV44OXXTD0', 'A35LT14WG5BX0T', 'A1D4OWGUSWO2JA', 'A1W88UIK9S4PHM', 'ANEEEFP4BL7ZX', 'A33WOI846MMYGI', 'A3UW4XQPG44U5M', 'AAS4E02BPFAMT', 'A2YSQ3GVWYOJDG', 'AX329NHW6B7BA', 'A2ZGXQ566SR4FM', 'A2LXX47A0KMJVX', 'A1FVWVS8CRIRBO', 'A36HIK7UBPI0TR', 'ANXT431V3MW4Z', 'A3T6HX48F66512', 'A18GJ9MYYO6GCQ', 'A3IVTAT62XST8A', 'A3AHDR4F2J7YXX', 'ACUGBCEADYT6D', 'A2MHK2WJZ7HJ5N', 'A32SV7GY4ZEMX1', 'A2W23UG0TUP3A9', 'A25TNBMJ4ZO7RD', 'A1DG75OT3Y49EM', 'A1XQOAMM9F7LGP', 'ACN76NFHYL6JK', 'A18JAF91FTLN9H', 'A2V65KWNOLRV8U', 'A1OMXVXXP07F05', 'A39CGMH5A4XO7Q', 'A1S7TXHM2VM5EF', 'A3CHMHGSJSQ02J', 'A2ESXEVEQB37I3', 'A17ZH0JUGO72PH', 'A2CGZJXBGSBI0R', 'A1DFL66IDY0Z2Z', 'A3DFH4CKPIT0N9', 'AWVF9EWW3BXYV', 'A236RYWNTAABDC', 'A2R0Y8W4QCI9Z4', 'A22DAG9I1JESQP', 'AU4WXVECP0MDO', 'A1ZCSSCAGBCD49', 'A21G4URAAP0EN', 'A2YB7DLC3FOR7W', 'ACR4HKUT808U1', 'A3KGLXW3EYDTUH', 'A2GP6XJ1V3MM3L', 'A2XKJ1KX6XUHYP', 'A4LMOYHT1RO2D', 'AJ68F5QP3GK5S', 'AF1B1M9NWBVH2', 'A1G4J9LJ9TQZWI', 'A2XH6KI5ZLRLPS', 'A3A9G2G3QB3NYM', 'A1EKWMB77ETI3Y', 'A3BM33D682B9XV', 'A10Y058K7B96C6', 'A3O89SVYI4KCUI', 'A31EGFG5C4TETH', 'A1G75ZFJMTFRZK', 'A2JFUJ4TLYXH0L', 'A3GRPCW9DG427Z', 'A3KVT6K69N14W4', 'A1H8D53KV0IMX8', 'A2RMQWK75EEN7R', 'A3OPCXOIW7ZTGG', 'A3CNM18PWKI1Z9', 'A16GWMW2GI8XUJ', 'A3QXLSQVR1RX5M', 'AHKJ8QX765M8Y', 'A1VNXM9E5MSS9A', 'A1OU6YUT7B0FV0', 'A2IV70BWQBUF32', 'ACVS8I9T74237', 'A3G7ALTTF642PS', 'A1ZQKZ1K54USYJ', 'A1EJJKJJAIZ8N9', 'A25SZV39AG8LUQ', 'A3JLERGZ90RMZH', 'A1TURBPBTDENDB', 'A223Y9YQIZWX3Q', 'A2V0I904FH7ABY', 'AJRNC98E2ADGL', 'A3PM8J91NSSL0B', 'A1OUF3DPG2PY1X', 'A3CSWP37MF334K', 'A3E4EGAJSSL04J', 'A13V89Q8UQUKTQ', 'A2ZQFEW8HURDD5', 'A1OQQSBFCD2T4O', 'A11N2I11HJBD3E', 'A3GPJER8KNV83N', 'A3Q2CITG3XZ7VW', 'A2FNBD43DEZPM3', 'A3MLM6TUGHU4RZ', 'A3N0KCCCE7E7F5', 'A2YO1FC1A7YRSW', 'ACT7UWXQSZ3EV', 'A34VN05UN1OBJ3', 'A5SJ51NDTXYMG', 'AMK5PCBGAEW31', 'A89ZZKNDFQH23', 'A9X2MLWQOALBW', 'A2OUCP7JHXG9P9', 'A36SXS4ME0K854', 'API1QT8CGQKRI', 'A16YMCFWGSFGS9', 'A2OR94VN7XQCUO', 'A15R5T6T1TBSJX', 'AVQZ0JG8OP8P7', 'AWCJ12KBO5VII', 'A265TY8TEJ5N8G', 'A1J5PASA4OMBI4', 'A21BOTUYRKB30M', 'A3E8AHUAQEX0QH', 'A1ODOGXEYECQQ8', 'A38YS1DNHC3CVC', 'A3M9ONYTPETC63', 'A2G865VVNGP6E', 'A2M902FIGG3CDI', 'A2F1P10GGZ7K2T', 'A1M87SBGZN0E0B', 'AXVH1LLNSSE41', 'A27UCU6Y2I6527', 'A224O69F7AVXDR', 'AY3VKPCPKXOD9', 'A2NWUUABKJ8OAK', 'A21DO3PPOL66R0', 'A2X3ZCTZ6PUHMC', 'A2RKTFRM6YRK1D', 'A3TAF7M58DN46F', 'A1RSBRZQ8NXCSM', 'APSY52Q4Y7VF8', 'A2Q2A6JKY95RTP', 'A1P77JG6PMRRPK', 'A1Q222GZ16KA3Q', 'A2CSJAVTPSLFS6', 'A35GHFPOGAM6YJ', 'A1FCU7GAV5IHGG', 'A1O2QIQK2OR5TC', 'A3V1IZ8C17LFWU', 'A9OVI9QXVG3J0', 'A11LI37SHY97N', 'A2U0QQOF4O44LN', 'A1BCIXUOEVOS73', 'A29EAHK7SP8PIP', 'A2YIGODNVUPCZG', 'A307YFSORUAXSQ', 'A6X1O3A5C5FX1', 'A1X1KB1LVPMTHO', 'A2QBYNH780O937', 'AIYGTPLDBNVDP', 'A2PQSQF1JLAEYZ', 'A2IKX7H2PLHULP', 'A1O67VSDMVN44C', 'A3QNV9LUNM589P', 'A14L2638XC00EZ', 'A339NZQKH84XZG', 'A1RXG5MXNYPBKJ', 'A35Y0RSU09ANEN', 'A2FFWYG9YYZFA5', 'AK9N5IQR1P192', 'A2J8DE8R94ZB02', 'A3EPJSPH03AS29', 'A16YU3GRGCD95S', 'A7WLR60DIHE4O', 'AM98QA93XNIKJ', 'A3K3SE4RK846WO', 'A2WVAAIR2KL7Z0', 'A1FMWLZ9YY91XI', 'A1OWRLSD7LTSQ9', 'A4JI0CFOUAXBR', 'AXYO5J5D0M0SD', 'A26EPRAF2EX1SZ', 'A2HVR0MZAO14S6', 'A3ADJ7HRZG8D9B', 'A262UKJTDZOBUV', 'A1Y39T2CT36YL0', 'A2XM8UDOAEMGW8', 'A2MKJ0Y5DYXXLS', 'A1NH81HVJXIM05', 'A1PK2OL2W8IWLZ', 'A1SV13PG7D7SJX', 'A37R3P5JFNQG8S', 'A3M6XJ55L517LT', 'A2P8XCV8PBKJQE', 'A1HHPA73HHGABZ', 'AJXZUXN05JWXV', 'A1IU7S4HCK1XK0', 'A1IMVY2I2FO0WY', 'A38Z8ZXX1BPFRL', 'A3FIGZDJIZU3J0', 'A9VT1JX9I8IR2', 'A13TAZK9Q95A35', 'A2Z4S1H1X5BIOX', 'A2AVE8Q0EXDFAE', 'ANBCBZIDZ9XNL', 'A23LTUON8X4G6', 'A1ENR0YLS6SM6L', 'A18R90JU5L0P9X', 'A2RBZK9UX67328', 'A2K22IGDSNM0WY', 'A7YZHBFH7CERB', 'A1HWF0VV8AWJTQ', 'A2PLHVWJ8AMYJA', 'A2ILV8E3ULQNV5', 'ABP6MAR8P6RLU', 'A337APYDFHB9V8', 'A1DF11QTXYYVLX', 'A1DZIHLWJJRUW', 'A2PDKSRYOJGUGN', 'A3SR9ULOZXWVXJ', 'A16G8LLLHG0SNI', 'A1575JUI75IY6T', 'A2F6NONFUDB6UK', 'A2YYXZHT4RHW6Z', 'A1T8FNJK6T5RUP', 'A3D2188UIM5AKE', 'A24VYB9EXSWSQI', 'A3UYU1NY2CCW2H', 'A1SB54JRH8B18Y', 'A3FS3FJPD3RJTD', 'APG4YVSUN3T6S', 'A2PR4CK7LT29EV', 'A31XW1RTQ4ZG9W', 'A25EOTX5I354I2', 'A1UQV5VR85GSY4', 'A3N4CUW4UYC9I3', 'AM83WJG9BE2EP', 'A3I2NABLA9HTUP', 'ATYL6HLA621R4', 'A2WYYGLALJBVIU', 'AOP4S6P38IYGN', 'A17AHTCKJ4SUT0', 'A3OALG3ADDM5US', 'A3LOGP4VA9DX46', 'A3F45B34YOC0QK', 'A24MOMTTDNCXYZ', 'AQ5WRR4MS98YZ', 'A274YXKOH9OGW6', 'A2FI3GQHTBZC5', 'A1FOXRAJYN7ZNF', 'A3L6TYX6YDQ13C', 'A3TJ9NCZKS46LL', 'A25NT9MZV9RTR7', 'A1BT6TL7UCIC5Y', 'A70NFM6KHU24F', 'ABCIUE6NUFKSO', 'AQGQXINCTPYS5', 'A14ZXOYLX5LVH3', 'A3H62VYLEK8X1V', 'AS7W26NNLSU8K', 'A2RHDFFD4EBJD', 'A337TR2I6J5UVE', 'A35CCGJDNXUDY9', 'AKF8ZHTJHF9QI', 'A3IF06RTB34SWJ', 'A3RKYWYJH1HLMZ', 'AILKG7B84J0TJ', 'AYK7WWZKMVQQV', 'AS6ZM65L0AG3T', 'A29C0Z6BY8HB9H', 'A312UBIOP091MH', 'A2BLA13SDC5T4', 'A16ZKKJHDWC44Y', 'AW4MT9WP95TVD', 'A2IMLOJ2Z2QEU2', 'A3MOZLFHIOG5YV', 'A2L6QS8SVHT9RG', 'A9HCLHLFHKS2H', 'ARBVV2X30JNKA', 'AD6M0QYWZ8ACF', 'A2CA0CFUZS89OG', 'A3I5YPJZMTG1QO', 'A1ZK5LC434CIYJ', 'A1XSSG2IQL1023', 'AEOSWWUZ6DO1G', 'A1EB6OCXNZKRI8', 'A1FWB3DEF3MTXG', 'A3FKGKUCI3DG9U', 'A3M41B4AYJWFLT', 'A1FEI4HDXTA454', 'A1DF63BNDTB9GU', 'A21BQ8UAD3D6VJ', 'A3TWBW1B17R151', 'A117XUS2KI1M04', 'A3L7RTXALWMO30', 'A2W959D3BSFS7U', 'AK9XE112RZO6Q', 'AQ2QMPLNWM706', 'A35404F49F442O', 'A3Q0U1143BFYTU', 'A1TH5UXT33E7RC', 'AR33KU52LIBF1', 'A25B8W9VSY0C5Y', 'A3CQVSKPTU3PJV', 'A3ML8K8HH838BE', 'A1VZHK5PZJP1YX', 'A3VGSA71W3ZPM5', 'A16467WWAC2UNP', 'A339CCNJEZ2E1K', 'A2KTNK64VDJGJ', 'A31H39YEJEIVHX', 'A6G24O29K0P6R', 'A1EJ9DSKSM0UN1', 'A1ZJGTGZU816H3', 'A3HY3THGD7ANEV', 'A2FC7HQW52PHE1', 'AL8SSEC9U7PT1', 'AX4M4GN2DLA16', 'A2KF53C0ETRVEI', 'A14EPTYN50XSZV', 'AH7SGI37JSCHK', 'A2R6JRYUHY8P42', 'A3LSOG7F3ZCJ65', 'A1ZKZQPKU77Y62', 'ATLH5AGWU672F', 'A1QSKSNWAGXKBZ', 'ABIXH2YR8A86G', 'AVL5IDEE8YA3D', 'A1WAA32LZ1488K', 'A381MT950I6KRL', 'A1UJBAL0ZT6O3D', 'A2WCNWKJV9DQAB', 'ADG9G023I0PVZ', 'A1R5UF5IOJGWBF', 'A1HD0BF7SJH4CG', 'ARASMD17H0WEZ', 'A1X6PXS7441VS5', 'A2HZ15YBAJVW3R', 'A29E6HV2DT7RCI', 'A3TOFRVX4N9UT5', 'A216NSW58Q3SCJ', 'A17D2CT8TAPMSG', 'AMNNPDX9MFEUD', 'AW77KBRLVDD0T', 'A1806K4AD7LM0W', 'A1GNYV0RA0EQSS', 'A1MFMWKPTDFZE8', 'A1WX42M589VAMQ', 'A30KRD5W5FS21Q', 'A1XIKDML1YO1WU', 'AVRV5NTGXZPAB', 'AU6OQZPM195YO', 'A30638B9S2GOM8', 'A3I4ZRJ1E5QBUE', 'A35YXEDATMIJ9S', 'AI3Q9MPO6Z7LR', 'AWFY5DWAOFBD6', 'AF3BYMPWKWO8F', 'A26AVNPH90LEIL', 'A1HTD9BFY0Y557', 'A1AXBN25KBBWSC', 'A28N2AWOVO2PB', 'AM2FXMJCQAHEE', 'A23LRGXH0BTGFZ', 'A3NIHCBCOWK4X5', 'A1WUAZSEDLWNZN', 'A1DO6DKWF3CMBD', 'A1NEIH01B5X6QL', 'A2ZOHKL28AM5GY', 'A3PH249MRUMLAH', 'A24YNYNC6QJNBN', 'A3K1ZGGHL4EXU', 'A2Y9VQ0FGLJHWL', 'AKPG8VQBS0MWR', 'A1H4OOUVRTZYNS', 'A1SYEY0VXLA17Z', 'A2GK5S3ZF9Y8YO', 'A15PUBCS4N4G60', 'A2BH950K3IQ0UQ', 'A25RVSK1RSVC48', 'A898MSI4C3E4B', 'A2LUOPJNWOESF1', 'A17JOFI9IDPSES', 'A154UC6EHTSXAC', 'ANO5RR1KPU9FZ', 'A11XLS2X7AO7PQ', 'A17GI2HXKPXHSU', 'A2HMF8ZR67BNZS', 'A3UNR8PMJLC8ER', 'A2OX234OSU0SD1', 'AX148M3X6EUGN', 'AT2YNTTJ02OTO', 'A11440ZB6FEAKF', 'A34ZOFAJWL9UAM', 'A1FUBPW8U2RYUY', 'A2KUYKZP95RB0F', 'A32KZUYCAHHU63', 'A3Z9QN0RCOHEY', 'A23OH5XOPXS6XI', 'A36VNA9PTF6JER', 'A24OG61UCZF55', 'A3FP7OTPZKMMZS', 'A3K9PKWXG2J873', 'A1U5D2G92QYD7Q', 'A1EYDV7OQE5BLC', 'A1SGVSYOB70FY', 'AGRNF0GM6NAN7', 'A3IL4YCLWGPRWJ', 'A1WD3VA1TH59NY', 'A3HSC1S1WID15T', 'A1JDORTDBL9BJE', 'A14E7LZASLSX36', 'A2FW71YE37Q2YO', 'ADCFYDFH76H20', 'A2D2JE8JC3VNW2', 'A2GANR9I6XHTU9', 'A39LRLKACX89IP', 'AEE8969U5MGU3', 'A4SYP9YL5FKS5', 'A16V9XOFCL1TJ5', 'A23WEMR6HY38W2', 'A3UEQ1CYG8E6D2', 'A3VCQX0VZV9I7L', 'A18OLZIT0DGVJR', 'A1X6ASXO8F7A9E', 'A3FD3BHIUYIFPD', 'A27S0857EIIG8W', 'A1ZEJOWDQ3YD43', 'A4EBYIKOMYFF9', 'A2H7XVRD27L2QL', 'A1S71R4YJDJMAD', 'A31EXCSFPH9XG0', 'A3AZM2RI2QXWSO', 'A1E7EX9LUM7TOF', 'A2UNEEEJNHGS2D', 'A326ORFY46O7CX', 'A51PAISHH32ZY', 'A175WOXLHJ9N5G', 'A3GD3SYZUN0FP6', 'A2NO09KBON4QOD', 'A3LDZPJ6OZYIQA', 'A2VBBEPR330C5C', 'A1AIONUPTTDFK4', 'A235NA61RC6YC1', 'A2QBQ87U1ICV4G', 'A11JWVCT7N93NH', 'A1KEK09ZA6J9P8', 'A27V5FYTO651JT', 'A140ICK18NAAYR', 'A27CTW0GPEE0AZ', 'AA9FGJX4HTGPG', 'A2CJLDPPANU020', 'A7WLP2ROPFTUQ', 'AN62VG516BIOU', 'A2XRSLJ5U169XP', 'AMZCZBK1EF1PV', 'A3ORV1QBL4K9U1', 'A3OWOZ8EQGP7G1', 'A3CBCVHIK3G76X', 'AQCJWSMSURQI2', 'AG8DPYVTLT2C2', 'A27W7VY46CE1I1', 'A1JH34F5J7AO5G', 'A35V906GNOVU3L', 'A13D08OA1VG6J3', 'AQCL9JWDUGUO3', 'A3BG6DCAJCL61R', 'A2D1258ES6QOQL', 'A1VABWDOUQLULZ', 'A2086XXFX0M0L4', 'ACYR6O588USK', 'AF7FNUMVJV1VJ', 'A25N6AYW8BTYBI', 'A2P739KOM4U5JB', 'A1UV263N7BF8XG', 'A2PS5JKTTE6TSY', 'A11YA52GQ0D6B6', 'A3KHMVKLCRFZB5', 'A41II52YCOH8Z', 'A15H4Q3U7XXO8S', 'A1B1J242B6OQK9', 'A33B3XCIXB4ZVG', 'A31RQG6IXO0FN8', 'A2ULTOZBKK4KLH', 'A2J8289OOT5DE4', 'A2EG52F067L2TT', 'A9KLAL1CXZ0W5', 'A38YT9I8SQ20NI', 'A2K21IAPLTPF3Z', 'A1WP0CG1OUSHMR', 'A35IRTPNXBD1R1', 'A1X7TX6H43L9K2', 'ADVSW4W1HHYF7', 'AF74UAKV3Q3W0', 'A1TP2RW7KDI5AZ', 'A5H8NA5CJ0FK4', 'AC8PTTE9SEU9E', 'AT1RF4WNPGGLC', 'A2RBC8IRQAZLWV', 'A3A3YG4XF7TQAC', 'AUN84JK9HUKZ7', 'A3KHWY7T46BBAP', 'A4Z5J9NAHEHDA', 'A1QGLKV2CITDCF', 'A2KMJ4O4ZAH8GI', 'AY1UCM5FG6VCG', 'AE88D7OM7YU99', 'A1520O7UE0HDWI', 'A1GIHV3V7LW85B', 'AWJMRX99ITPXK', 'AFCAZIM440BI4', 'A1HOLE9R6WPT85', 'A1XR58IRKP3HEZ', 'A1CYO1O606T8WA', 'APR52YKQ7EZVV', 'A3RDRB33M4U8ZH', 'A2BHOZILR7SY9', 'A122SFGLAHQLSJ', 'A23P5BO1UGNIRR', 'A1BRQO2VLX0QVW', 'AXWSUELYCAPC9', 'A3RSPP6Y8SKVR1', 'A22GY8IOSBB9BG', 'A3R9AE276DZL5M', 'A14T4JDOMP7U9G', 'A3F2GE88HD8MDC', 'A1NQK5MH9GTJ6S', 'A2NSKJ0R6AEG0P', 'AVE1SXX3A7B24', 'A3RVYGFA3T5VW9', 'ANA64LWDCB25A', 'A29JV56YIQ9MVT', 'A1ER4AGDHQUXYV', 'A1VVXGL8GI2II4', 'A1PPSHNV1KJ5X3', 'A2U6LJJO67TRRN', 'A3MMMEQYQFE7II', 'A1R4241KZGQIG4', 'AYNRALJ4X1COS', 'A6WJQ1C01N36K', 'AL60IYEBZEAKK', 'AI4JRDD129ZG3', 'AVTDFGJK4RSI5', 'AVGIVZHEOA4QJ', 'ARAX8RK1KC4SW', 'A1HOLJW15Q5S5V', 'AYGEP8I4BQ3CK', 'A3UD2OVCYF78FG', 'A108XP24UESKSV', 'AFU0JH2Z063DS', 'A3UASAIMF2R3QT', 'A18DHHHRTNZAM0', 'A3NGK03GOJ1JDQ', 'A3744L2QRP2I8C', 'A33SX0AD5PYD9B', 'A26EUBG2TMWYFD', 'A8VAO0Q5SML73', 'A1JMYG5MOYGDYJ', 'A1D5RCOILPC9LX', 'AW189LTU6X9AY', 'A2EL2WXUKRU9BC', 'A3MLE6CYAGK3R3', 'A2PMR2PIGWKCQ9', 'A38BE06WWL20AY', 'A1TS27MVS1WGWI', 'A2SPV96SGOEO2', 'A31LLD3KPLPFND', 'APE5GBFTJSHR9', 'A3QS776PDEZ773', 'A1YAHF2E2MWR4P', 'A3741P0VRPAYDP', 'A1I2U8NT5J6P1N', 'A27BONCJ1HZDIL', 'ATI5QY38IY3NV', 'A2N10B0NEZKIOV', 'A23IYYD1CN8O86', 'AWXQORMZ3JY4P', 'A11EQENJJRH8X6', 'A5K3CK2PWYQ7O', 'A3BN5Z996H9TZQ', 'A5GPH59NDWJRB', 'A3V55DVYU80LDS', 'A39ECS1S0CJ0X9', 'A21WBIKZHAHFJE', 'A18L008KVHQ1AM', 'A239ER4X93L28K', 'A2ZI3U3GV4WV6K', 'A2OVBO8Z3GALOD', 'A1DKO10KSHP3PS', 'A1OQDKUA4PTVJI', 'A2B7DW8XZMRMN0', 'A1ZWG3ETGDJIR5', 'A2OS3TIVAKUAHG', 'A1D3KAQ1VY8LUG', 'A2MPXAJK3K61IY', 'A15S9RB0R1D15Y', 'AG7EF0SVBQOUX', 'A38QHZEEYZKT27', 'A1E8XXAKINL0B1', 'A1QBBJ2AHQKEGE', 'ALYWKJYXJ6W5X', 'AKHG70FKKHDTH', 'A2OYNAAZK2PY7V', 'A3BPZ2XFRLCD1S', 'A3U5MO392GEEH1', 'A31Q2I6MYV81OO', 'AL717X1GYM0JV', 'A2G8D1VN3MVB6F', 'A3B6E2WUEKE9WK', 'A39PJ0ZRD3QTLD', 'A3SCU8S8MC6S4Q', 'A21B9M2H244JYM', 'A330H3NSXTHEUV', 'A2G7B7FKP2O2PU', 'A2QVJ11O5ZM9FH', 'A22E56DQ8FTP36', 'A1YIPEY7HX73S7', 'A1IHK8GL1ESOND', 'A3TIL1PC2ZE97B', 'A31DVKL8JE4XAH', 'A3J2OO5TNPMN9M', 'AI2YYV9D3LS8P', 'A1ZV5SF171FFMK', 'A1UBGDI1IIRI75', 'AWF297MUK3RCS', 'AHLTB5YPI6JX1', 'A3NH8OY5LUVOSZ', 'A1278GKNIB8UZ', 'A31E2473ECO084', 'A15KYC62I1EIAC', 'A276IP2VUGOSIJ', 'AGMNSU1CR39RR', 'A3LQ2OIJG9BO97', 'A2PF64RBR1G1SZ', 'AMSZT5FC3JD5E', 'AMXLMG97P1H9F', 'ATZTIU71681SO', 'A1T4SUED31GCHG', 'A2CZPM110DW516', 'A2EU4FVLOVMVKN', 'A3CXJIYYG6JWKE', 'A2RIHQ4AFXI30F', 'A2CWIYIETNBAK3', 'A3JBJWPDD07B40', 'A1DMRK2YINRC16', 'AZD8SMNGQI98O', 'A2N51AK3OZZOTM', 'A2DIYQC8MNVYUB', 'A15TM51XDDGPZ7', 'AIPGBTM6TJ9IN', 'A36VWPU7SXWOFG', 'AC5PPX3XLCZN1', 'A31CR1WOVCML1Y', 'A1SQVRFPGWQ3HQ', 'A2Z8HBD9WFK2Z3', 'A3Z96U2AVVDJP', 'A1GHKSWT15FDWU', 'A1M5HJLJ6EDHFU', 'ATN4J5VS8Q0YM', 'A23O8T3LNL9YY8', 'A2MHKBRV1K48FE', 'AIWNA9CO69GZT', 'AGC1Z5C1NQ64A', 'ATQXIVCSUPDW', 'A31EP5ND68247Q', 'ARXU3FESTWMJJ', 'A2O8SEFGLPBH2O', 'AHN5NY7E8XCQ8', 'A2K4MXD1N2LFJB', 'A88H8HDPWVVMG', 'A3IE9F9PFLNUYN', 'A1O5T5R8A6EG7U', 'A26N3O4QO1GD74', 'AKVJY23S6JFH2', 'AHZVX40D3P6CH', 'A36VNOA1LVRFFJ', 'A37USOKUTI724H', 'A25FJ8W6WCBFEC', 'A3PDFABEHP9FLP', 'A1I5A50VXCFJE5', 'A1XEZIHQIUAOR1', 'A3W1OO50SSUY8K', 'A2NNH35DIY658', 'A22CI1SZBZTN32', 'A78Y9O0GSY28T', 'A325AWZXD3KC8C', 'A3DN1EHYLP0IIA', 'A3PPEJY11SIL3Z', 'A1AK356ZAVT3DV', 'A26JLTTRXIY6OI', 'A1CWXKAC4W0GIU', 'A2GWWLZTRRE5HO', 'A22BKY1TAIN2NR', 'A3XAKONHKWYC4', 'A1047EDJ84IMAS', 'A3BYZUURF9LNYQ', 'A1MD9AEU9C4WJN', 'A16UO065RCHCGW', 'A28ZOSR4X9V3UF', 'A30Q7HNAJAMQXU', 'A3SF8D9FJ37SLZ', 'A3QIK6BB10WYE9', 'A28QX31TCIRZF6', 'A1B95QB8NVYOSM', 'AX9PVIIHKST28', 'A3SAIP0NEPUU7J', 'A3QJU4FEN8PQSZ', 'A1S5LQ4W3T8401', 'A3N8GVI3OM55DP', 'A2YCLJNOE7JGCW', 'A1YLOROSPAULRJ', 'A2OG0EAIC2PNSE', 'ALUV2YKWZENKK', 'A1XTUTWLWW4EIA', 'A3JC9W47X7WYK8', 'A3HS4R46MZ87RV', 'A1EE6LQS3OPY6R', 'A3EZHMGGWY74HY', 'A2VSKUR61RYPYH', 'A12PH6L5QSVTYN', 'A1YMXGQQT7YWMN', 'A1E2LPIGID4OY', 'A3PJJNFE3ZAP76', 'A2B04GUVF48WU', 'A1RUPZ1HXPLBII', 'ACMV0J0RP5YQD', 'A2YG3QYP5BFNYG', 'A2GFX3DQ8ZHPVK', 'A32GCOTGFJ9XC3', 'AZ0O1CT77N1W7', 'A3CP3TIMMV9ROY', 'A3RGYUK1MO9V8E', 'A2H2I5FY1PUHP1', 'A3QGVH7WIATOSP', 'A1H9ASP5TUCSP9', 'A2JSSFJAGDUS56', 'A1E3I2UDK711DH', 'A23V3WTYJUJIY8', 'A4S284HLU7R9O', 'A1XE7YK8O300KM', 'A3DZFW2XL5S6XK', 'A1D336P5ENFFJN', 'A1NKOYPJT8ZU8H', 'A14V1KIQU0U4RV', 'AI133BDJHFORJ', 'A2L4LUQCMWBFVO', 'A39JGASUME7CAJ', 'A1K1MDRX8D61LF', 'A1RXH3XWSYIB1M', 'AE2P8VSPXQ7LG', 'A1L3RWD0VD0A1P', 'A1GF1J6Q9ERSMP', 'AYR9VFT77U68X', 'A3F8PN1UY4G7ZT', 'A369YOM4RBUWP4', 'A19FRW264WZTGP', 'A1Z6LEOOIN1ISV', 'A3VTWM27O0SZ42', 'A328TCK9WL7K3Q', 'AE76U8LPKIO20', 'A3S7ZJ0I6KR5H3', 'A1XGSMXS6SEL77', 'A2ZFS1ETNMDUX1', 'A29AHSM8RDYA2H', 'AI4YSOGQGYCLH', 'A22S7D0LP8GRDH', 'ANE1HNWMHEB7G', 'A3H0K82OLZDRDT', 'A2UFVPHIHLKNUA', 'A31ZXB9VUW2HQP', 'A234X1MVIMPMMC', 'A5O8VQWAE4FBU', 'A14CCDURTA6ZMO', 'A2XQHW2ZLE6IHQ', 'A2FI3GF4Z7QNO', 'A3N4VTNFPMTHEF', 'A13RTN901YNT7S', 'A37RIRXE3WECZ', 'A1O6I7294KOSP1', 'A2BRTCOIW7TDYK', 'A1ZEAKUA45EEBK', 'A2KTF3UPWIG1B7', 'AHD4TRX1LXN1', 'A1GWG5CWLKJ7ET', 'A3LKPZO4ZSRC23', 'A28Q9KZGZEDKTZ', 'A24YW6RJPFM7JR', 'A2HDCO3BL326PC', 'A379SJMF93CVYZ', 'A192JES8J9ZTKW', 'A3K2FR9AJEF8XZ', 'A23AH7XNL9GSL1', 'A10NK3J44E66BN', 'A3SE4NU7AGO47Q', 'A2KS0FVY2CNJ8M', 'A2VR6BK6U3080V', 'A2A9YAF0YD42NS', 'ABBLKU5YUWVXH', 'A17JGEYNQRYMHE', 'AUECZWVG4X7XK', 'A24IOBGALGOZCB', 'A2C87W3P7PGG2Y', 'A7QILJ0KFTUEF', 'A3I9GQ3I0AXL4W', 'A5THJYNHCBX3X', 'AFYQ9V4XBVCJ1', 'A2E17WW862NR24', 'ALCLEF26KV34M', 'A28FJ93TJSSQS4', 'A3TSEW1ANGIOZN', 'AGZSVG7AE9CMV', 'AAMGE7QU3W2AO', 'A319Y83RT0MRVR', 'A1FDWNNQ50ATXS', 'AUDPHTF2KH1JS', 'A2DWCU3P8AEKZP', 'A2YT6UH8DKGZ1Z', 'A1Q08H4B9QGT2N', 'A2LAQ0UNCSXN6I', 'A1575LB2RX92AW', 'AOGM0FZJXFUHV', 'A3FLDCPC36ELU', 'A2KWQ64TRHB3YH', 'A2NY2OSQEVGV15', 'A2G9UDL72YUTT8', 'A1739RDYJNA6HT', 'A2VC48WIMY6L6E', 'AE0337VVP8MRM', 'A2HYYF4MR9F89O', 'AA55VDAG0XXRA', 'ABX1LE2T3RJJ', 'ALJUE2EBH9XIA', 'A1ZGHA3IJV01BK', 'A2BLBDFMVKAAK', 'A3SGSNBSMJUUGR', 'ABOTQDXWRU51G', 'A2PK8USJ6P7C3', 'A1XVF5DU3N05OM', 'A2Z1JNMWCZX88V', 'A21ZXKN8Q0UYJV', 'AWJBO5XGIW8ZS', 'A13J2PGKNMJG1K', 'AKOCTXJ5KV8T2', 'A18L48UCHSWBQF', 'A1X2200VP4P4U3', 'A357B3PUHSVQA', 'A3LQCSMM1V6M0R', 'A3OFOLJN35EQG8', 'A29JF6QMVW3XDD', 'A28T94QB6V54GG', 'A1CDRFH2UVIDIQ', 'A2ZY48F7RX4SRL', 'A20XBV5UO5ZS2S', 'A23LYYPZPV3W21', 'A1X1ASMQZESS3Q', 'A2OZNDNYUJIV25', 'A2K89R0B20LYHB', 'A2RQOO8VYAEZZG', 'AAC01CP4YYPPF', 'A2OL0JTU0DLH6B', 'A13VL2XSHUWRTH', 'AJQXRZL67VQG5', 'AHZDZ7XLCB7H5', 'A2W85Q0VJNPYLM', 'A36U7QMYILRLSW', 'AO7RFXGXSY3LN', 'ATZDGPMWR6N5D', 'A34ROSQ0940HSD', 'A2OWID6GQD7SRM', 'AY49JOXTLDOG2', 'A3HVX4YYJLXAFD', 'A3R36L6I3O8HNM', 'A2N0ORB4ES548E', 'A1V0PVGIZO36BW', 'A2YDJ928L04Q1C', 'A35EYM5A6DJ713', 'AFR1WVDR88ON2', 'ANVPLS56WCKL2', 'A2NM6383S01M2N', 'A13H5US9Z7L9M7', 'A1SZTF2J27RUF3', 'A2BH04B9G9LOYA', 'A8WAYVOKYBLO6', 'A2AVMEB8PQOTTE', 'A20W9PSUAKDRN1', 'A3BQMWY60QAPRX', 'A34SQMSWWKU189', 'A2DQGD2M6EZRS6', 'A1LRQWKGVXCJ7C', 'A3KUS4VYAOYWHY', 'A1UNM2BK0XPZLS', 'A2RMXI5NNXFES7', 'A38VL8YAHG1RPV', 'A2J0D8EHQBF4KM', 'A2VAYEHMZGXATX', 'A1JTTI1KH3DOCY', 'A12YPN6IFWKN93', 'AJD41FBJD9010', 'A2P0R91RPQWTJG', 'ASTE2P3Z3CE2P', 'A1CYV9CR67GKU0', 'A2Y33L0JWOMR4E', 'AYZ5RU7CLUY2A', 'A1AUVLXU2XWNJ1', 'A3J14WG9NIQBI8', 'ACHTDPEQYSEQL', 'A2Y1QK5VT2QX3X', 'A1382NUB0AKHTK', 'A2LO9WPU56M37R', 'A3BR4X13C562NP', 'A1BTG38XSGYLW3', 'A3QNL2SYBQ2ZS2', 'A3HAQ03H9C99G7', 'AFQ7VK2GL265J', 'A3GMVCTJTHYG1F', 'A2Y86NGI9SXBHM', 'A21U4DR8M6I9QN', 'AYUF7YETYOLNX', 'A3NZSS80F98FOZ', 'A2HND0E9TV3T78', 'ABL3PCYAQ1Y4C', 'A2WL17COZQXNYL', 'A34ITQDFC2H0EB', 'A3PXFEOWKRCUZX', 'A34EQAIKKUWYYW', 'A5H86XYSS0OU6', 'A2WFZWRYWLC20S', 'A3HUNHL7WSSVCH', 'A2HRQLIS0CS2OH', 'AJ9VB45YRX8C9', 'A1DAR6U4E4LG39', 'A1K1ZKOHP4RQTW', 'AZ4LR12IMQ36J', 'ATLXT64KWUOBN', 'A2QO20Z0TAHKTX', 'A33KT5YL805RSN', 'A3BA243AM692SH', 'A2PU5BCS7PLPZM', 'A1GN2XQI7L4QK4', 'AZ90LWO8QPGV1', 'A37BC154GF7ETV', 'A12LXY31MFASAL', 'A11J81ZI9KAERU', 'A3LDZ2GFPBMOY8', 'AYMD77ITD15PT', 'A2VWTQPIU63DD4', 'A1F9Z42CFF9IAY', 'A1SD1T5VZXUAS6', 'A3LT1JEFWX443A', 'A3GMRYV7VAYK5Q', 'AJ329F9H546BM', 'ALE3ORJUOOAHV', 'AJEDVT3OSUZCF', 'AY4ZDVSY3VXP8', 'AYWHCM0TJ4737', 'A3G7JGYNVP1O4L', 'AEQW4I82Z5LR4', 'A19Z4IDNL1MGG4', 'A3C9DK18RMNE3B', 'A2MSF5K7HM8TF1', 'A1QIH7NR5YZRND', 'A16CJ83ZHH89MQ', 'A2LS6OJAHQYLPE', 'AE4AI4GHFW8PC', 'A2VJ3ZPUT58PJD', 'ANRXH0BVEAR6B', 'A28W77RPDZK7AZ', 'A32NEDX6UVV8DE', 'A11FX8HL2ANK6T', 'A3A5XNAM3ZW7Z6', 'AQTV8CV3NZ06L', 'A3JO18FDVDP5U2', 'A3OZ7ET1JHDX5', 'AVA9W53M34C7I', 'AOT6PL9L9GQP3', 'A3I53LMLZW8GUC', 'A25FFEKDGM7F1G', 'A16FKKOV6MYJHO', 'A1XURL0P01JA50', 'A3385Y17LXNGF5', 'A2D92SFTNPSM97', 'A1EZGIAIEJ8Z68', 'A20VAHDMLHVWG1', 'A2KIVODZRTGY4U', 'A30R8VFR16RE32', 'AQK1T1V94EUSP', 'A67O76LTCO01K', 'A16BMPHP8GSIWS', 'A365807DF8EYTN', 'A1KINZN727NS86', 'A3TNM3C9ENUCFW', 'A2LOCTEN93UHSV', 'A1YGDHN09USR72', 'A12UB42W3M4FTS', 'A1BNYFMPSP3AOG', 'AUOKN045TLJQ', 'A1L28UXWSTSVSD', 'AY4PKA215Z3G7', 'A1JOSG34UV7LK7', 'A2D281TRH0IUBL', 'AGCO9QUESLOQV', 'AB24Z8PTNQ33I', 'A3B9RXJR7ENGPX', 'A2OAD5Y7MXUOFZ', 'AVEOVIRYPMCSN', 'ATQWHIT4GCWFU', 'AGCZFGHW6FFGF', 'A2QOVJGC3TGEAE', 'A1LHR7EQE5Q2UI', 'A2NGZRL0T21VIC', 'A1143YEAZYMYHJ', 'A1MQK7QV7RVB83', 'A1OFV9Y06XC76K', 'A1TXRQSFTVEWMN', 'A2YBR0BZY6HFPT', 'AE78P0RCDNPZ', 'A1FWFCJU2G7TRA', 'A2V98TS4QDDCG9', 'A2SQHL9G03ITMO', 'A26X49ZG08Z1CI', 'A24D70VHLXXH85', 'A3D72R3QC333J0', 'A1P6GN2K66B1W5', 'A1WRTQBUNULI0A', 'A4BNJSZVARL5W', 'A1COPSGCUVZ5OT', 'A30IP5D5DLHRPA', 'ASG42G9QTBUX1', 'A1COW3DSUHUUE4', 'ABDBNJ09BMIGK', 'A1LJT1UMMNEMGF', 'A3PSZ52D77DM4P', 'A3IR834T7AROBT', 'A1VMKL0UTFXJ3V', 'AESNOYBYV9WGP', 'A1564JVII4G8PB', 'A2F0E69BAX0T0T', 'A45S6D1P309G9', 'A3SVOS1EM9RHCX', 'A1QR21ZCQPBKHY', 'A2FBPS1P12N24T', 'A3113NZ7WBL3AE', 'A21PC5S0MIM6IX', 'A2VEP9IKAW8YBE', 'AON853FSY8RNJ', 'A1JXY9I578VQ3O', 'A23KZ0YXN76OSF', 'A35K19WU9EGZDI', 'AO0K0L635GCIG', 'A3D140J4JTAKSZ', 'AJID2XYGNFOOT', 'A1SFKLLC60TL69', 'AN5XPZ1LPVRU1', 'A1V3PCKVCJ3TTZ', 'A2L77YQRAEA1YZ', 'A2KWE2ZM1EEBGJ', 'A1QCULR3SQ9IIP', 'A110KACX3W12L9', 'A2XHC2FG0YR0F1', 'A2TKCAO7MURH3', 'AIK0G28AWIL17', 'A3NL3JCYZJ8IIT', 'A23AG3Y9IGG0NU', 'A2LQ2ZNPGXZTVR', 'A2OBX89KW06ZPL', 'ASZ4W6VZD7QO6', 'A3U5CZ3PV82JXD', 'A12LN1UTGCPU4R', 'AM6OTAYVBL7NM', 'A3VGHF7VNFBMCQ', 'AW8UW3OFEZR8T', 'A3G8XY7PMN4RBA', 'A31M40X061BW0H', 'A2K8CHFQL5U2BP', 'A2FKC43XAEV54L', 'A3232H7J6URX9D', 'A268WAQS5WNMGJ', 'A2W23Q4C4EEQ8Z', 'A1LY4LT62BHY1X', 'A2C8N6W0XPYJB0', 'A1DYNEMS8PB7X4', 'A8INT3NMHRUS4', 'A1XOLUZP18WVE6', 'A2KZGL8O8ONFXQ', 'A2IYG58AN2OOXR', 'AFPTZ4JS6QQKO', 'AYPJT8WPGJHAC', 'A3LDLG08Q8D7KF', 'A3FPHTS8Y0ND6X', 'AJ3K3HKR9UFVN', 'A1606LA683WZZU', 'AFVBZ7UDEDRUC', 'A1H9TJEG3YPZ3M', 'A2BVNVJOFXGZUB', 'A1LANNQ26C7MUT', 'A1TY0I73S2O3YB', 'A2AXSSH3OF06GS', 'A2S2NREEIHSK03', 'A3GK1O5S6188AJ', 'A1RR36YKJB917S', 'AZA55FJD7CCZN', 'ATL4PY7I3HAA1', 'A2D2XKSXEG3O7F', 'A2ZLPBWFUQPUJA', 'AKBYINIUXK5VO', 'A2L5MYCFKKME3', 'A2RX62V4E2BF5Z', 'AIWN1666ZUAP9', 'A3ITW2IFP6I0NK', 'ACRIUHXH5F6V8', 'AY6A8KPYCE6B0', 'A1WIE2SG6ZM6OO', 'A4H12YFC21JJ7', 'A107RJ8R12ERDP', 'A1CCMW354ELJ3U', 'AICOFZH7HCKGY', 'A2UXU5DDCYN4GP', 'AUFJRMYL1K9OZ', 'ANYWPIGSTKRO1', 'A3E0MPZNN1NFNW', 'AGUBXH4PCEPY', 'AO1LUJ8VJ03OZ', 'A3JT29L4YFEIMJ', 'A39DIJK69CMNHP', 'A1FFFEHK9K5XU0', 'A3ATKSR23880M1', 'A3DKP8M0GSP8UK', 'A30NNR68JX22K0', 'A24ML2IO9G97EK', 'A1ILMYA3Q75ZBI', 'AGKDZXTRUVI2', 'A21BVL7PKG9BX8', 'AHTC9I3LBMAUV', 'A1WSKBA4W4Z74H', 'A31VIMZP1Y6IUG', 'AP3VUC7U6K16M', 'A3JH18T58CY65P', 'APGX3X3M19FO6', 'A2N8JBTYX5W4T2', 'ASZQ0FTRJEHUV', 'A1RRMZKOMZ2M7J', 'A1KGK5825KQBXH', 'A3DYKR0ZJ7UAIY', 'A2JS5OE7VIGTYS', 'A2UV26OF9LZ4ES', 'AWJUV8N4YKSL7', 'ADLVFFE4VBT8', 'A1JZ0AKAMW0MXM', 'A2C3QA2V3O2EB3', 'A2TCALF1IX7S42', 'A17SNTLDQWMULL', 'A1LAGS8H4A2DR7', 'A2XJXPYLCQ6TMS', 'AHRNDSKWH1YBT', 'A29M9CXOVC4SKI', 'A28I98PKHZZKVB', 'A3OIABTOKNJ4JW', 'A1DGOKPBIEAM3U', 'A240EPDH69W439', 'A3FD5ERJH03DBV', 'A3MOYKOCIDF1ZR', 'A2I6J570F1KTAU', 'A396VHMYQHW5KE', 'A2UNV0XASV55UM', 'A28DNI5SQT1ITZ', 'A3BMF5MNI9ETXY', 'AP2GYIQS95NZG', 'A2XKRIJKX4HF8N', 'A1ZYG2KYW3Q107', 'A3IUPHLK5U0MVL', 'A4LQ2DHV88ZDH', 'ANJH0FF6IF99G', 'A1I7VFNY32E552', 'A2KLA2OS6TQ2BR', 'A1ODE5OC69SBIF', 'AHFGCH8LANEZK', 'A69FYNS72Z43I', 'A317RWPY08I5QX', 'A0916357J9P21ZUYUZO6', 'A2WVF9ZQ068DN0', 'A171ITAMNOUCY8', 'A3I92O1R3S4H1U', 'AITKFHF4SYM3J', 'A3LYGOZAMC2KZA', 'A259HHYBP6ZNJ3', 'A38KO3KKR7GF4V', 'A10H63KUGJEPAJ', 'AQ40ACD5AC0DD', 'A2XI3URIX4E0PI', 'A3UZT4PB5SKD2H', 'A1H554HE81ODEX', 'AQH9RP7JAVY1C', 'AQO3WDKL8Q7BL', 'A3MSIMW9K5METI', 'AFP6OOD8EDRSP', 'A221I9R7I92ORO', 'A7J8Y1TDIN69G', 'A1592Z8VTIL15Q', 'A1G7GN2T2SUEQD', 'A1UKA7HUAQAMY', 'AS7289468B8IR', 'ADS5IVBEI6S', 'A32DYU82G6X3AO', 'A3A5CDA6N3J1HD', 'A6EKZVZXY6EM0', 'A18OT5BHCTEFDP', 'A1IIT6KQNH7QX1', 'A8PHIF1PTRRW4', 'A2I5QH4F5FDKK5', 'A1NHZQK05X8ULH', 'A12X7K54734QXE', 'A25QK5VBRFEQIN', 'A1QO88MU0PYJON', 'A1JISH2AQDW1YW', 'A3UQ3HOJ37Q24Q', 'A3DHWMWIDS2XX5', 'A3F480SL44YP1J', 'A2V64H8AOAD4TJ', 'AV00VR0BWTQI6', 'A3S34MNS43C213', 'A3FWGSJ3T3N5QW', 'A2068BC3ZXAVJQ', 'A2DWDFZI4DUW3V', 'A7C77J4MH94B6', 'A1GT0G489PONQU', 'A1ZCYC0RHTRMZF', 'A2XFOE9KPMXELR', 'A3AL9NFNWTRV39', 'A61EY795V8S0B', 'A1B1J07QUM0OLN', 'A3RNKF0QK2M1R8', 'A12C1OTJ37UUG7', 'AKL16UM40HCXQ', 'A2M7J5RHF69TWH', 'A24FOXO7AZ7V87', 'A367W4LQ54FYX1', 'A1AF9EUGODL08I', 'A2ICV9NWBF514G', 'AO7OKX2B4O7CA', 'A2XABWPFYZREVA', 'A12GK5JUYAV0HM', 'A34109J1GZMHY1', 'A2XUTCK61FM8XF', 'AIO1DYYJQVTP6', 'A2K2XYGCMHNV8C', 'A26BC445Y8S54S', 'ALDV8DDZWWPYE', 'A3VS2RYRGDW4HS', 'A3OEQRX60SVGN4', 'A1LNDUIMGLWMMT', 'A3DS0VAXL90E26', 'A17O2BER0O0P1K', 'A3J336068TGGHV', 'A3GE1HSX7QGME1', 'AH89NYA0C1MB9', 'A2ZHH7AK83JB5G', 'A1A4HS18EQAGWF', 'A4OVVTZQ4K6YA', 'AANBV13XF1JD4', 'AGS62R4KZN46K', 'A4UWNRY0WWECK', 'A27SY1GAE815P8', 'A26JQI6AC1C588', 'A1TK2US40LPJNH', 'A34BJE7YQHRZNA', 'A29P9NU4QNFFZL', 'A35QGS8D3I65NL', 'AALYS669KXNTE', 'AX52CAV5ICC05', 'A2LQ1O3IHJQPFF', 'ACREHLVRC4H5B', 'A3SOC0726SH4ZH', 'A25DU5SGL4D49Q', 'A2ZCE0Z5C32X9P', 'A20P7ZVZ36F4IU', 'A2QRXQPHDMFCQV', 'ALH3GV3UKD0BQ', 'A2VQEJB0T6T7MB', 'A1FPQ54AIB26L0', 'AFT0V3RMHG8F5', 'ALQGOMOY1F5X9', 'A36623NAOKB62V', 'A16QODENBJVUI1', 'A29Q8R8DW9V6H3', 'A3QBN0X43PVR13', 'A1VGXHHR08G044', 'A6CU6EKF6M5LY', 'A3AKX0DHWTGRGL', 'A26WAE7N3RYJP8', 'ALC20AYEKK4ZP', 'ABF0ARHORHUUC', 'A1PNPESTNPTK4E', 'A3OP1NKCMO99U2', 'A38GYASIC1VQDI', 'A3U1WPDQLP9CQ', 'A1XKUR7RPQ00GN', 'AQSHHG42VERLG', 'A2UM0WJOL18IOX', 'A38FB414U3B72L', 'A5IHDUC76S78S', 'A1BS8VS04EWSWN', 'A1ZW2CNW69Z0VF', 'AXBTO9HB020I7', 'A28WXDXJA1P0MC', 'A30W8I4SD1H21K', 'A306NASGVUDFKF', 'A2YNW0J035DOA4', 'A1JBEME9FKIXQ3', 'A3CRJ1Q73RB25F', 'A3NYZVVRN7272S', 'A3VPDM6X5UQLR2', 'AVTFO4SHPBMFI', 'AEG3I82BVE2ZK', 'A2FC2S3PHXDJBC', 'AMN78P85LBO2A', 'A1ZRD3WNHP8O3T', 'A11JXAJHP7KESY', 'A23IOT68MCMXMP', 'A7RFDGVXDYQLJ', 'A181TIQPGSTYH6', 'A3KYPMICTZ3GZX', 'A24O15MYDNLZBE', 'A3E5D0Z4L63AD8', 'A3QKT9VTCI1PB6', 'A102V8N45CTOIC', 'A2SDNB5E6RAI0E', 'ARP38C8IJIKGQ', 'A168SCI9KUMXD9', 'A26W1STWGZ0V8J', 'A2BCCIUEWF210O', 'A17WMMYCTCYDFQ', 'A19PKOH7OWJY42', 'A2PUKFH7AJPAC', 'ACZ1YLFIKDG9U', 'AG89GSACSJZOQ', 'A308FNXU141T5F', 'A2I93OMO3ND10J', 'A1WOTG0N2J0ZZK', 'AKP89K0R96VWB', 'A37IRE9GZ0CZ7I', 'AY3AVLL5IWW9', 'A34TI7G4IRCORO', 'A3NVB6HKMUH2NM', 'AF3APPUEZ4WU4', 'A2EG5WO6VCFDQ5', 'A1EIPS6D0ZZ4UA', 'A1UQBMQLN9KIDE', 'A3HXDBIN7D54YC', 'A3RQLF4ZK9ISDE', 'A3FHSLWEMH7JD8', 'A25C5MVVCIYT5D', 'AXO2QG19806ER', 'A2B7XFLCD0N7I1', 'A15DH2ICDH1MJN', 'ABQEKKRD6WZFA', 'A351804L86H9Z6', 'A2EWHC4E4NJWMI', 'A1F02K9DX6HVHR', 'AY17MGNAV9K1J', 'AUYBAV9NS20P5', 'A20K4RKCF1VOK3', 'ABRT2IMX0FIS', 'A2TOPNOYV52Q8K', 'A2H2FT8WV5X6SV', 'ADX9RRR1Z253S', 'ATLA5CJH0ZZHP', 'A37I9VXMBBAADP', 'A4LHEYS82MBPW', 'A3LE7HI0VUFLE3', 'A1HW72TSGGCGOZ', 'A2HUY8NQ445K7F', 'A217E9YU9PINU0', 'A2PD27UKAD3Q00', 'AEJCGRCBX8KCQ', 'APS2L706GM4PH', 'A1I5VBBLEKD6I0', 'A3F8PR8105I7MA', 'A3HG5MZ9QJMINU', 'A1RXXM0U0QGGJU', 'ADLZKR4HKJ83S', 'A2LZFG6JQDHBJ7', 'A1WGPDULPPPXF7', 'A225PCLBJLHGEG', 'A25B1VQ8UIH82U', 'A3E2U597OBS9ON', 'A3EOVXI1VZIHUQ', 'AIDSPQXBHLAH0', 'A2R80172BBNSTA', 'A2U3H8F5V9NPEE', 'A19T4E1JMZFUV0', 'A2QU87AQAH6S5H', 'A3RGHO0Q938FRS', 'A1JTUH8W536LMH', 'A2AEDTLOUU2T8Y', 'A1MU2YMN78CADQ', 'AAFUVVP5DJCWC', 'A1TEUU3GL87XVV', 'A2A0D0P69E3MRL', 'A2U997LC7QHRSC', 'AU6EAMZ5MVS9', 'A3CLXS0OFIYIVW', 'A11X1WHC7P6DGN', 'A26R3E15OMP52T', 'A37QX2520O8Z4X', 'A15I2N31VCSBH6', 'A1GUX6R8DV3ZLY', 'AT7YWFYN4BUWB', 'A3EJRWOYRI5N34', 'A3PFT7FOTOKJ2P', 'A1DS6TA9S6KY70', 'A1TN2EZ7S2FTH2', 'A1MNDT4T37NL9V', 'A2OJCTT5WLB2HR', 'A27JG4ZAJZPCJX', 'A3RJGP3MFFG6PV', 'A13EHOQ40ARXDI', 'A31AVXMESQRQAC', 'A2B3A8NQIHITO8', 'A3HDG415KO5AFQ', 'A35KHQGVTXKFXG', 'A3QCY8ODJBGFLH', 'A4IYQHU0L5NZ1', 'A12ZFSESFYJF2G', 'A2PSC7LUNIDEAH', 'A2GY5WCU9PKTMI', 'A2PKIQN4VJCPQZ', 'A17BUSL163PDGQ', 'A1H0O2ATHZHTRP', 'A2N85HQS62ZIS1', 'A2ZMNQ7UMOIL8W', 'A1BAR0DUQ1770Z', 'AQJ6FUQ7BLW3A', 'A3742CA0ARJOMG', 'A2R44UZ6Z9UOZP', 'A2IDMQ1TTPJHNK', 'AT7RSYNRMDA6Q', 'A2RN6224B2MXMF', 'A3VXLOGI23ZHHX', 'AFC92OVO2FT69', 'A9FVHYY48O1UP', 'A1DZ8JQ4PRJ2A2', 'A25VWCCTZQ446', 'A2CS1R0PUQHVH0', 'A1CBO8TK6LWS07', 'A3U8F6TD23XIEY', 'AO6XYV4ZKJ2UW', 'A19SDJ2TSSL8HI', 'A2S8B0NT5TYY2P', 'A11F3YONMF67ML', 'A2ZJMLZ1IA2YA9', 'A2Z2LWDTHN2RKY', 'A2XHLAXMIQW7LY', 'AZKDRBREVS7WU', 'A1Q4M82OFOIN59', 'A17WBBVKJH3F3C', 'A1TRECFDGFD4LE', 'A1SYWFYDBXHRHF', 'A14E1OFMG2FCZG', 'A2OI72C1Y0GUD4', 'A1MJVKYQHH5RKX', 'AO6MLL9BTVD3D', 'A2RVAGXRH10BP', 'A2SAH5I8L4JVSW', 'A2LQ487PCEOUVE', 'AL3S5XSYS4ZHX', 'A2R4UNHFJBA6PY', 'A2SH6A32BE6NEV', 'A1NIGUK4M2ST8', 'A1RVM6W2YI7568', 'A30YWSM4MPDZ6A', 'A5DI519SEY4A1', 'A3TH4UELWBAUWQ', 'AMCHLVS2PM9X6', 'A1WT5DZYZ10FO9', 'A1VNU6X5JQ2PFH', 'A1V2KI0DASODHP', 'A2I97K9I4K6SSV', 'A1BM7SFYKDAHPQ', 'A334350WHD7BAT', 'A2EYTFKG1JSXEQ', 'A11A05XL3VUOUQ', 'A67FOUJLCZPS3', 'A3CWEK9HY2VPDL', 'A2M0ZAK33EIEME', 'AEC90GPFKLAAW', 'A2I05FGBTCRRB8', 'A60D5HQFOTSOM', 'A1M07ZN9BP01RY', 'ACEJQNX3OQWOH', 'AG50D1D7NGIZ2', 'A2H3B82GQHA179', 'A1EOTWLWMIRVIV', 'A34AKD96BXX0HZ', 'A3BGKQY5MNVM8S', 'ABZALFYN8WUVT', 'A1ILBBI4KFQB7A', 'A3PP9GXEMC7O9H', 'A2C53KWA8VVBM4', 'AIAK483LF8YVH', 'A109L3WXD1SJFU', 'A3QDH7PLL764ZV', 'A1K9L49L7HTQJE', 'A3NPETMZXGIG65', 'A35LHXY2XGM424', 'A1Y39RECFXEGNL', 'A1J5HIF41ENSMZ', 'ABS0ZTJI0XVXF', 'A16M7YAIAOLPW', 'A3VJHHCDBMZF5W', 'A3E6PP8643YYDU', 'A3669PE8WMA8NU', 'A17FWYSN5GNFDH', 'A2VXNP8ODTWG7H', 'A2OPFLMNQW1YS3', 'AP8MT8DWI8K0G', 'A29CQ2U389HYOX', 'A2WAJZWA0IJSQP', 'A1BJOD583A031Q', 'A12V2M84DUFGL5', 'AK6CEEE9QC2UM', 'A3U1S5KR287T3I', 'A2WWHOH10OM5OJ', 'AE2NUFHL35LQD', 'AUU2G7AJ6E6HL', 'A3S5LMVBT8ZGWY', 'A2QXL3YMPOMR24', 'A25CGBLRJB6X0S', 'A24YATZK2JF7IR', 'A30AOUCBJL8OZ3', 'A1DRM3JV6T5O6P', 'AJ6H9ZV7TJUUT', 'A3U6J0DLLDEWM2', 'A1VDMXHHH5DI7P', 'A3K5FYKXXOHPI5', 'A2WN3EE62XMPTC', 'ALSB8M49AZ99R', 'A68L07FQH4IQ6', 'ATYKIK01AYS7K', 'A3W29QTODGMKYC', 'A2001U1WVA2ZZF', 'A3MFGULNTMAJS9', 'A1IHTJWYBLU17P', 'A2WRHFD1BJ8W7A', 'A1BEKAQQGP8CMF', 'A14UD72N0L7RXT', 'A3IMBPNQYEZUWC', 'A2UH1H308KYVMX', 'AUDTWMXQAVK98', 'A3A27DCLE98M3M', 'A3J3OCM6PPWNRY', 'A2Y4S4CNGKF21S', 'A37Z3FWDW7JFDI', 'A17ICF11AQU9B3', 'A29MN2UX5ZN16S', 'A3M9YXQ8U6ZKB8', 'A2QHCNJZF3I5K5', 'A1XIFNB0XAMPOZ', 'A33B0FFULH1R12', 'A1EHDVLCSOU57Q', 'A3DN806HA6HHV1', 'A1DNFO9BEJJEYJ', 'A3KYZR1T1GN6K9', 'ARHKXVW7WYOOR', 'A3L0V7BHQVBXTB', 'AVLCKO0ZI8AG', 'AYYWNJS1S12FH', 'A1ZN9DE9VQXB6V', 'A31Z48BHHUTB0P', 'A2UGT8JVH48A0Z', 'AK5G1G8SD8015']\n",
            "user2user_encoded:  {'A2TCHXH4SIN2OF': 0, 'AM5G0RHY51UJV': 1, 'A1XEVVV9HTUH05': 2, 'A3L714OY25JG33': 3, 'A2M7F89YZJBD6M': 4, 'A1HIW8QEDZ26KA': 5, 'A2LAS014NSRW72': 6, 'AS68XCKL7QZUT': 7, 'APD7XINUVG5AL': 8, 'AZ26CDSJ363AH': 9, 'A1ZVMTIRYZQDL4': 10, 'A2O421DTA8J0RW': 11, 'AXHETL0M8XZPT': 12, 'A1WH5J3AP5JR7H': 13, 'AOX4RX9CAAHL4': 14, 'A3P9D22KDEXVMN': 15, 'A2TOD5KQVOSJCB': 16, 'A2QB0TIWFCUYIL': 17, 'A2YI5YCSUUR6OO': 18, 'A2W8NQPP91206I': 19, 'A3ARKGHF6LHFV': 20, 'A2VH0UT5EQFB6P': 21, 'A2PL0US7RN67G': 22, 'AV2RWORXTFRJU': 23, 'AY9MMBUKHI2PM': 24, 'A2J1S0OK8OEHI2': 25, 'ADY836HK6QSYR': 26, 'A2CAF6DVZOHMHG': 27, 'A2F5VJBFG0BF0G': 28, 'A29D7CG7TLY35O': 29, 'A3HWV2YLDQ3XQ2': 30, 'A3PVCWI9OXBBLW': 31, 'A3P51JNV7DHB2L': 32, 'A18PFXJ4QPTSX3': 33, 'A264B6IZKTH2QU': 34, 'A3GL5LGN7GZLR2': 35, 'A1OPZ3BUTEL47R': 36, 'A3PLQMGW6OHR6R': 37, 'A24FY1EBJ7EWLH': 38, 'A39X80RZSF8IYF': 39, 'AGICS3306D8QD': 40, 'A3CJ7MHAS9IMAM': 41, 'A1N2I9XB09TI5Q': 42, 'A2L0GS3N2CXDWC': 43, 'A3S3Y3HC9BVSMO': 44, 'A2TXMYYGSZCSZ1': 45, 'A3S1JUU9FXC8MQ': 46, 'AT28RL25Q2OLK': 47, 'ASYFIB6Z0E8ZF': 48, 'A1E3TWWRB1Q7CS': 49, 'AOUC76JLMBP3I': 50, 'A15EREQSX2JBZH': 51, 'A1LUK8APLC16WK': 52, 'A2YKWYC3WQJX5J': 53, 'A28YBL28P03P8V': 54, 'A100WO06OQR8BQ': 55, 'A27XY27EXTZG28': 56, 'A2Q8GFSEUSGJ51': 57, 'AGKYWPUJNOUQ2': 58, 'A2ZGPAIV64KOYU': 59, 'A2W2E6BPPYZO0T': 60, 'A2MVSV6ZFK5E2': 61, 'A1UMSB7LAW0RIR': 62, 'A15OAS39003U5R': 63, 'A2GPJR489OIH42': 64, 'AI5LL32JKBN4P': 65, 'AJX9A4Q19UTJU': 66, 'A2M51VLOW1V1JR': 67, 'A2G04D4QZAXL15': 68, 'AHN86VFJIJ2JP': 69, 'A1B5AQUJN16AHX': 70, 'A7EK88GF8N40F': 71, 'A26EOYCIOA6JDV': 72, 'AO5EKE61NBOGI': 73, 'A1G2SRMY3SCI5M': 74, 'A13E51ZEL1ZU7M': 75, 'APVEFBIJPTYWU': 76, 'A2R1HUYHXV7H18': 77, 'A2AGOAOL5NFEUP': 78, 'A2JNO9OR8FGNR4': 79, 'ALWVGT9VJ7LS3': 80, 'A1IDWUYX4QXTUE': 81, 'A19XMHRB3G4DIR': 82, 'A2I3DSACS5KI6F': 83, 'AQY5XBYSENNZQ': 84, 'A3GBARYNM6S4G6': 85, 'A1EXGL6L0QQ0M5': 86, 'A1OWKBICDH4CH8': 87, 'AQYEEGNRXM0P1': 88, 'A1UFPZUUATIGXF': 89, 'A2NUBL2UYWPBWR': 90, 'A1MOHHZ5ZSQCRD': 91, 'A5ZD6FBMZQGDS': 92, 'A2YPX6VJN8LPQZ': 93, 'AJIOCLNVCPYRR': 94, 'A3VTOLNB5N6FVP': 95, 'AH3QPFU2NYLG7': 96, 'AJC7TSNP5UAWN': 97, 'ADEZOPMPKK146': 98, 'A38RSVBJSMZ83O': 99, 'A1V1EP514B5H7Y': 100, 'A23R0SL5M3HLPU': 101, 'A12S8UQEIPZJKE': 102, 'A2XM8DATMUZHE6': 103, 'A18VCM7Y7HK6EW': 104, 'A1SZOLPK06OOTX': 105, 'A1G6HZ3CGYEYNN': 106, 'A26AVD5D1SNXIN': 107, 'A1ZNYZ2SM5D3HE': 108, 'A10VTKMX0HUEJK': 109, 'A1YUL9PCJR3JTY': 110, 'A27B7NWCYVFAM2': 111, 'A3U8KLEHUQK3J9': 112, 'A3JV4PJZD5O4NJ': 113, 'A23VNS0WLAYNT9': 114, 'A33JGP7NR4BV8W': 115, 'A3NMQEQPT5LDIA': 116, 'A3VGAP2KLCBNBB': 117, 'A2GW2ZOWS2IX3Y': 118, 'A2LGYL8CHB7TDG': 119, 'A2Y8IDC1FKGNJC': 120, 'A3SN8H1V126IIY': 121, 'A3AYSYSLHU26U9': 122, 'A2SH7OWE8QJYNC': 123, 'A3T7XVG3AXJF61': 124, 'A2BYZFC6T5MINP': 125, 'ASR3LGBNR6FSJ': 126, 'A2X49H6378IL4P': 127, 'A2WC9NFLG57W4H': 128, 'AWZ8DBLGVO60X': 129, 'AKFTIYUSRKQVE': 130, 'A2V5R832QCSOMX': 131, 'A2WE93LJX8PMT1': 132, 'AE5GP2T742SA8': 133, 'A25KKXUQQ0OLWB': 134, 'A29P65DEEZIEB0': 135, 'ATECU14VUIOJ0': 136, 'A2U64G6KP1ULRB': 137, 'A1BK60GZ4QME6I': 138, 'A2W0LMPC72GGTJ': 139, 'A20GTJ1G6FAGN0': 140, 'ATSFY4UITEOEJ': 141, 'A3H0JG9QWD3JIN': 142, 'A3O74KHNOA8NGB': 143, 'A2R30QA214XIVX': 144, 'A2Q627PLWBDEYM': 145, 'A0488385844WNV2OWO9X': 146, 'A2QCGHIJ2TCLVP': 147, 'A2JCJJNY43QQIV': 148, 'A21SESEJ8E52B7': 149, 'A2NY3UM9B2LTOL': 150, 'A2IYX5W3A1N3VB': 151, 'AFHYEO3Y1IIDD': 152, 'AWNO50ICXSK88': 153, 'AJNAYBFLBMUML': 154, 'A5P60H1YBPXBE': 155, 'AIOHU94GJFRU0': 156, 'A32O98PFC3OP7K': 157, 'A1ILFU8IRJAC1K': 158, 'A2PFKD76DMWIEF': 159, 'A2JF04EZ1ASR8M': 160, 'ADQXQ3AN16RCK': 161, 'A2NT1LGR2BYP0I': 162, 'APDRTZZZ13HUM': 163, 'A2WTDSR5M9OGWI': 164, 'A1MM6KZOJ61TTR': 165, 'A3P738KVXL2YYM': 166, 'A305XM71TF83CY': 167, 'AN0WCLS9TNPPA': 168, 'A38KK0SZYEH5UD': 169, 'A2USB35NGKBSQO': 170, 'A2DYW9Y2D8E43L': 171, 'A2CGIR426NCD3U': 172, 'A33HIV8RXRDM88': 173, 'A1QXE7OX7MSL2H': 174, 'A1EDG5ATUW3AYS': 175, 'ASSXBJAWV8766': 176, 'A1P297U2LS0JHR': 177, 'A2EF1KIQ7TMPPF': 178, 'A2MO8QZTNYYB98': 179, 'A1KI3173CO6TK2': 180, 'A117NOT6QPCRMV': 181, 'A2Q4BLV4ZEL1KI': 182, 'A2D4FQHV506EPB': 183, 'A1FDSZISWIXH1A': 184, 'AC7UJP1OQ1T2A': 185, 'A2ZJPDH0YP90SD': 186, 'A1OF72PQR4MII1': 187, 'A23KSLZZ6CQJ7O': 188, 'A1PRZ3GE0C2ANS': 189, 'AGEKVD8JPZQMT': 190, 'A1VCPMT1RRS7K0': 191, 'A8Y0ND4GJJJFL': 192, 'A2MXNH5CYUBMAS': 193, 'A1L1S42BOGPF96': 194, 'A2NWWLC6C51S6E': 195, 'A2V1MAUHH1YHKK': 196, 'A13QN9DLFWOHRN': 197, 'A2JJGW91A6LIHU': 198, 'A1RDTA8WY3X614': 199, 'A2WW57XX2UVLM6': 200, 'A2F540P3L6P5CL': 201, 'AR7EOI1I0D7Q7': 202, 'A3JUHP1E3WUHEA': 203, 'A1I6U5AQAT3ZG9': 204, 'A3HAA7H8PBVM78': 205, 'A1QXWM5P0CT45': 206, 'A3HITJ2O5P12GQ': 207, 'ALNFHVS3SC4FV': 208, 'A1KXONFPU2XQ5K': 209, 'A3PEOF0GX4EN38': 210, 'A1XYATUTPV7MN9': 211, 'A3H7087YTQO9PO': 212, 'AMUP8DYE7EAN2': 213, 'A1ZKGSDVP057L9': 214, 'A3G5MOHY1U635N': 215, 'A3ONDHUXJ0HFYS': 216, 'A3982RSH15PQGZ': 217, 'A13FIFP73X0GTR': 218, 'A23WE733QT4WGJ': 219, 'A2G6YF27Y3NV29': 220, 'A3U19PYYRF7Y1S': 221, 'A5C06WZPX332Q': 222, 'A1W6PXDD1CVKI': 223, 'A3OUMZ8OZBMKRP': 224, 'A8QGPY3Q9L51N': 225, 'AEMTSFFDU85KB': 226, 'A2ZY49IDE6TY5I': 227, 'A399EX3UULKLU2': 228, 'A3KDO3XV0MK1GX': 229, 'A31RULW0KNYJ5H': 230, 'A3JPTQPOKO6TVO': 231, 'A39ANVSTOM4L6H': 232, 'A3LLJTKU4USS6O': 233, 'A2L6BT1PVV9YN0': 234, 'A2IOZ71FUD9024': 235, 'A8QYRG7TW491B': 236, 'A1MAI0TUIM3R2X': 237, 'A24ZMNWTW8AQUR': 238, 'A152TZLTJNQNBA': 239, 'AA0PJWW3EEDZB': 240, 'A11Z3ANM4PQFMH': 241, 'AR3EVUQF0AC7R': 242, 'A3IVNKF7B5WUJ8': 243, 'A2M8A83NWTB9TB': 244, 'ABZB6K3IQMXZU': 245, 'AP6L54VTCJKCQ': 246, 'A6VPK7X53QNAQ': 247, 'ADS4TFYY8TJHO': 248, 'AACR8PZRSFG3J': 249, 'APL83S3QHRHGT': 250, 'AQIBFWWA8UWKF': 251, 'A2GAR1ZPZFO28': 252, 'A1D6NA1QK3NM5Q': 253, 'A2UI38UXH48SCX': 254, 'A3P1GD23H8E2BY': 255, 'AFEYHFH2GH0QZ': 256, 'A1G4KDEM2V5376': 257, 'A3CAYJJALN3CDB': 258, 'ACJ9N7ED37HXS': 259, 'AGXF4W5GTK7MM': 260, 'A3C9Q3KTNNLJJ': 261, 'AOAOARIH72UWI': 262, 'AEMYLEFZCRX5S': 263, 'AJL6HX8O2QLVO': 264, 'A13NJZ1M018A7C': 265, 'A2FNA5903D9E6Y': 266, 'A3QKYFU781YTKU': 267, 'A1VS1LL905P5L5': 268, 'A7EU2BWLLCJY2': 269, 'AQDLZ51L4XC80': 270, 'AUVT779XSA1F8': 271, 'A2XE0HMG75BCLY': 272, 'A217CC8F7N5717': 273, 'A1QKFWY3GTBDRY': 274, 'A2ATHY1VLNANIL': 275, 'AM3Y7XXIDRUPI': 276, 'A2KO6M61XQQVCU': 277, 'A2NC8NBXI5NPU7': 278, 'AMB2Z4FMDBWQY': 279, 'A2CY5UPGEPR12F': 280, 'A2BPHU52JE21J3': 281, 'A2T9EHCUD7CNEB': 282, 'A19RDMX22VXXSD': 283, 'A3LHIRT4SR3F9T': 284, 'A4L7ETIO4IDFC': 285, 'A330G4U4JWUVJZ': 286, 'A4SD8F79JBYG2': 287, 'AC400LZPY74N1': 288, 'A3QDMBLXIPSVOI': 289, 'A1M5ZT35YX6TIN': 290, 'AM0OKL6AFIBDX': 291, 'A3MY4POKX3EQEX': 292, 'A2OW1FKQFPIA5D': 293, 'A1BI8PUEHA5CHW': 294, 'A3NQA378KXTZQM': 295, 'A1XIRB17MOLXPB': 296, 'A19KLUZ1XD3SRN': 297, 'A3F9CMU8KNAY1M': 298, 'A2U6GHU2EMC5M5': 299, 'A18585LWC6ABKV': 300, 'A3MZRGNGM4H7PI': 301, 'A3RL0RFSSLJGKT': 302, 'A47Q26DA5037K': 303, 'ALYZJ7W14YS26': 304, 'A2HSF1ZJGUQ54J': 305, 'A33QUFNY4E5D0': 306, 'A39A4OQT77H4HX': 307, 'A1SS57KI4HA4S2': 308, 'A1INP6SE3454WR': 309, 'ACPMJP8RVC6TB': 310, 'AEYLQ33Y99OVW': 311, 'A3TX3N3YORDUBY': 312, 'A1SM0G50FP7XKJ': 313, 'A1004703RC79J9': 314, 'A23H193P451P74': 315, 'A26LD9FQHTM8ZH': 316, 'A1GMGLN1UKXAD1': 317, 'A2X2WTEVCZ5L8N': 318, 'AQ7LXULTORIQU': 319, 'A24L28AJZKXALL': 320, 'A3B3XT2P0I34W4': 321, 'A2H6LHCM3AR3YV': 322, 'A19YOYY7FLQMA6': 323, 'A3639XN4I9ED2': 324, 'A12DQZKRKTNF5E': 325, 'A1MDDJ2XUPZZOE': 326, 'A2SSV6KM3W1VFD': 327, 'A2S73Z7ZR6HAMX': 328, 'A10S3PNZ5Y0FRT': 329, 'APCSV85SWASN2': 330, 'AJRFZ0VZ0LD26': 331, 'A3P89WPE2YL003': 332, 'A2QPY6J33YV1ZZ': 333, 'A13KW5I9IHQ039': 334, 'A1V16DTJLH8Z1J': 335, 'ATXXM6XE0C5WJ': 336, 'ADUHM8KDWZCWK': 337, 'A1HM4GGGNKZ37B': 338, 'A2T0MNN392O3RY': 339, 'AA0BGTQHWKSQY': 340, 'AMS2CPERWN7JV': 341, 'A17Y6O6I2O5S6P': 342, 'A3OC93X866Z8TB': 343, 'A1JUUPJVBDOE3O': 344, 'A37APF2XOO3B5Z': 345, 'A2IMGHMF0LO151': 346, 'A1D7922BHITJ7X': 347, 'A3R5GTYQ50QVMD': 348, 'A1AKQ1YUS4BT82': 349, 'A3IVCUIGUZQJ9L': 350, 'A3DES8CHOO4UH0': 351, 'A37PRC1ARGMA0Q': 352, 'A224KM22RQ5CD4': 353, 'A29Y41NL8RA1BP': 354, 'A1AG7F4Z1EOO5L': 355, 'A1SKPIJNE036J3': 356, 'A2B7VGVN59XJUM': 357, 'A2UXLUXR4XUMEP': 358, 'A313QFASCV2LA3': 359, 'A23VUM4E9BS462': 360, 'A1MJ12V42699C3': 361, 'A2CRIQOX1SYA3I': 362, 'A37Z9PFALNA9V5': 363, 'AYF242R6GQMUP': 364, 'A3CLHWWOVI9HMM': 365, 'A2S9BVIIP3XDVS': 366, 'A20RZM43LBZJL1': 367, 'A3VBZDYGHF4NK8': 368, 'A1989WJVG7DHBK': 369, 'A3QOMXYGWJ6HYB': 370, 'A194K60CWZ371J': 371, 'A347OT8UFA8I16': 372, 'AVHMOENRENU3L': 373, 'A1X2LENOF84LCQ': 374, 'ASHMBNORPUHAK': 375, 'A2BKLHVB230M1X': 376, 'A2LMQA2P6GNYQO': 377, 'A2GJX2KCUSR0EI': 378, 'A1QBOC76MIOJYP': 379, 'A3QYDL5CDNYN66': 380, 'A1F7OSK6UV1A3C': 381, 'A39BGN8JA7CIFX': 382, 'A1DQWNPN03IEXN': 383, 'A1P4F6HIXU6WYE': 384, 'A290I412U46JLA': 385, 'A7ZUY93SQIMVM': 386, 'A37DBZJQ3FFDX': 387, 'A1BKSLDI2V3D5K': 388, 'A39H1GO9E3YQIB': 389, 'A141R97FHSSUQ0': 390, 'A2XSSQH4VO5B1L': 391, 'A23821I9K5RSQI': 392, 'A1AN9C4PKJIRVK': 393, 'A33X4R7LU3OFQ8': 394, 'AU7VFGP9BGZ0': 395, 'A1MXO11GL94AX9': 396, 'A2MCC0XFURU2K2': 397, 'A3FD8YGYYM5GHV': 398, 'A1XAPRM0OO15SO': 399, 'A1XQOQ0GWJP1X6': 400, 'A14MSHFCXPARFS': 401, 'A3IMK08UX0I46A': 402, 'A1O3UXMAN62I6V': 403, 'A1IZJVLNMFACS6': 404, 'A1SIXOUI2382TE': 405, 'AHUG3OLOJ9YJO': 406, 'A22RGEI19Z9AEV': 407, 'A246XB5KJX2204': 408, 'A12ENBT314RFXR': 409, 'A3UCSS05QGW35W': 410, 'A1PZ8JEPEX03GD': 411, 'A397CWU6DM3O5G': 412, 'A249DTU0E0PWD5': 413, 'A1BKFCSK66RF3C': 414, 'A2LW5AL0KQ9P1M': 415, 'A1437CAM9CNC1E': 416, 'A2RYWPOL4NN2KG': 417, 'A2BU0OBCKFDUKE': 418, 'A2EHH30602WQTX': 419, 'A44OY8EFDM4IP': 420, 'A377XOIB9FP6ZV': 421, 'A2W4014S06NAIT': 422, 'AO9G5HQYQHLHP': 423, 'A30M2N0ADFINLA': 424, 'A3FOSLM5G1BO63': 425, 'AVU1ILDDYW301': 426, 'A2O9BLNNEAH7JI': 427, 'A1YVUUHT093E0K': 428, 'A3K7RVCWO9MZQL': 429, 'AN2AI0NUCJZIB': 430, 'A3V0AYA9IYS21V': 431, 'A240YCM012LJSO': 432, 'A1LXM5PZZHTT6W': 433, 'A1O4PNHACFEDEM': 434, 'AIBZYH7KI1AF6': 435, 'A3M1HYKCHSN11D': 436, 'A3J1B9AQYC9ZM0': 437, 'A2EDXS7VPY7L8Q': 438, 'A3HLZAGW84MWLS': 439, 'A2UDWSB9IU25EN': 440, 'A1EGCED01USBA9': 441, 'A3N2E1MIZC581U': 442, 'AQ6AGWKWMTY8H': 443, 'A5X1B2HBQUR3P': 444, 'A2VHKUH4DH0F37': 445, 'A39MXA4F9XBI9Y': 446, 'A3FA5DUFXCD4WE': 447, 'AX8KKN5A1PG9E': 448, 'A2ZOLVZH1BCX56': 449, 'AYO1146CBIV5C': 450, 'A3IOCPLIMYDBCD': 451, 'A3CG93783LP0FO': 452, 'A30RJT0XAOY74H': 453, 'A3JRW716H3AX14': 454, 'A1YVJ2CLK0L2WR': 455, 'A2NQW51T182CSA': 456, 'A2LXC5ZHHP0WXP': 457, 'A3OO9PPIOXIYJZ': 458, 'A3LDLV1GWQJLEQ': 459, 'A1TPWGBNIYJ76F': 460, 'A1P2XYD265YE21': 461, 'A59Y0ZV1VX46K': 462, 'A23K3O8L45GCQE': 463, 'ABLLHG0REGFX7': 464, 'A2HOLM5I1ARX9J': 465, 'A1EVV74UQYVKRY': 466, 'APPJNVNF4BFLB': 467, 'AG6TX1ZJHLMO7': 468, 'A226VGZWOEBPGL': 469, 'A2IGQTQGWVL230': 470, 'A2UXYXRUPAO4TC': 471, 'A2HNOQBIAAOZU': 472, 'AI5OS4RQQIUMJ': 473, 'ANLZVUO97Q1V7': 474, 'A3847X9XD27OSL': 475, 'A169OY1LOA0RX3': 476, 'A1EKCH0FI00Q1J': 477, 'A1PIOXOZ1AZ14U': 478, 'A3N4QJP6D70NVP': 479, 'A2P6QV3P7ENWPR': 480, 'A24J358C0ZCFLY': 481, 'ATMHYELYDBIK5': 482, 'AF1K4HX68DSJY': 483, 'A3MPHEJ0N39W87': 484, 'AVIR4DIQYVIZC': 485, 'A1TRAEV7QWA5DX': 486, 'A1JI6A2AAJK5V3': 487, 'A3G007LQX6KGOD': 488, 'A1EHVKN2E28S0U': 489, 'A3HG0DNFURFXR4': 490, 'A2D9VVQFYQHMUU': 491, 'A319KAPLOSIDRU': 492, 'A1I477ADGMLVJM': 493, 'A3CAXDHSC2J86S': 494, 'AC0EB85YZY51Q': 495, 'A12E0Y0J6584RT': 496, 'A26C062ZW07V2Y': 497, 'AY1EF0GOH80EK': 498, 'A25QBCHO0KFT0P': 499, 'AX0ZTNX6KVJ40': 500, 'A3GUK4RWXKHS9I': 501, 'A10CGTF3GZ2V65': 502, 'A2ODA5DCQ7ED73': 503, 'A2FP9UXBM2OBYI': 504, 'AOEUN9718KVRD': 505, 'A23RQRX7LO7NG8': 506, 'A1ZZSLTEMTV4HD': 507, 'AEJLSH9DCJ3VR': 508, 'A1VWNQOSMPAOAV': 509, 'A2HZ3Z494VS1KG': 510, 'A33RT6A0C6OMIQ': 511, 'A2CNGARED6OWWU': 512, 'A1BDARA133DP91': 513, 'A3THYM7XMB8B0U': 514, 'A1KSC91G9AIY2Z': 515, 'A2Z8B2KA8K07DM': 516, 'A1N5KKDDOI2OAJ': 517, 'A3EXIZWHSNVNME': 518, 'A2EXGRAA6QW96Z': 519, 'A1YCV76MUFESR1': 520, 'A1RIBFSYNG0DQE': 521, 'A2YMS9UK1A9OF2': 522, 'A13OUY99ND8NWI': 523, 'A19UTUEBWKIZFT': 524, 'A307132HLIZNSB': 525, 'AEQRB6E891PTY': 526, 'A1BCRICL4UUBC6': 527, 'A1H0A35HJMGVKQ': 528, 'A2ZBA3VTSGESA2': 529, 'A3IA9CPZXMBEYC': 530, 'AV5N1KQK93VQL': 531, 'A3U5HKDHPYBAK3': 532, 'A3SVVUZKR2T0VO': 533, 'A17IS2KTMUBJ52': 534, 'AGO3PAULF9KUE': 535, 'A102300ZYSDHRR': 536, 'AA17RVKAHEAFS': 537, 'A1GJ1IRDPBQ0DG': 538, 'A2CUWCJHUPGL9W': 539, 'A1UC3OP4QI0RRU': 540, 'A28EV72THMZRVO': 541, 'A1SG1DJ72ISCRU': 542, 'A8M9HVFTJL97C': 543, 'A2IBUK9XJOYRJW': 544, 'A1DQHS7MOVYYYA': 545, 'A34TNH973Q9XT0': 546, 'A3RGN75LHYAG8U': 547, 'A2701UXI8QGRHE': 548, 'A1ER643CCBZNSB': 549, 'AHYCDH7T6CC6E': 550, 'A2GA64WZK8PKBC': 551, 'A3F8A11FLWKOJS': 552, 'A1TFMR7RE985MF': 553, 'A2DQVM07J28BKM': 554, 'A1QK0XCAPHIW1L': 555, 'A27R2V3WLS43LP': 556, 'A1BSIL9GW9FCR2': 557, 'A15HBO5EBRDGTQ': 558, 'ASODUN15U3MLP': 559, 'A3V8ZP41Z782M9': 560, 'ASL9C4URVKR1J': 561, 'A3POA5GUWACBD4': 562, 'A2KMV056844YV2': 563, 'A33J53S6YK1UA5': 564, 'A27O69EB4Q36UV': 565, 'A2CF66KIQ3RKX3': 566, 'A18PENJTHM1SVT': 567, 'A3091RP0SPZLMN': 568, 'A1DCY7A46MU8F4': 569, 'AAA0TUKS5VBSA': 570, 'A2JDVZNTCXKUS2': 571, 'A26EQ8U96JA92T': 572, 'ALEM7BBUFGVYP': 573, 'A1G1TLVSFCIR0P': 574, 'A221AYJCX6Y5WB': 575, 'AR9GZ8B7NJJPN': 576, 'A279A4Y2N1CQ26': 577, 'AUXNJSHAU8KIC': 578, 'A1N1ZSVWOX7WUB': 579, 'A1S1SSE7HQDZEW': 580, 'AAP42A9X4RFOL': 581, 'ALXJJVFS3ZKD6': 582, 'A356WMSXDZFODL': 583, 'A2JR5ZTSYSIQYX': 584, 'A2NML53YCHS80S': 585, 'A2NWGJDNN7TG1H': 586, 'AA8A6NJUVPNO': 587, 'A1LKOIZXPQ9VG0': 588, 'A3U6WAJSUQVJVO': 589, 'A244CRJ2QSVLZ4': 590, 'A1VPZOEEBKTBKU': 591, 'A299RHMH1M9PIW': 592, 'AGZBL86KVR68L': 593, 'A15DEX5N1ZG95W': 594, 'AIWSX8DYYGBJY': 595, 'APYEUSO2BX66E': 596, 'A2IACU8LJ1FCKE': 597, 'A2B8GXSCB1R05T': 598, 'A3OXRFCJI67IMN': 599, 'A1ZZR25X0CNOJX': 600, 'A2OWR5G2OAQF7C': 601, 'A21VLPGCRFH6OF': 602, 'A1PI8VBCXXSGC7': 603, 'A2HNK6QXJFXCL2': 604, 'A3AUHT475KOF2S': 605, 'A20RNDVGF6IOMQ': 606, 'A399YOEMK1UNZV': 607, 'AMLA0B6EHD4OS': 608, 'AG71XMQGQ2UTJ': 609, 'ANM9LSZS7C67V': 610, 'A3JLOIXFM75QNV': 611, 'A2PJYNJ7NPE4BA': 612, 'A2IRA7YXCVZEWG': 613, 'A1ENECC591UAIC': 614, 'A13MKSASQ6YWL7': 615, 'AIT674N3HE3RC': 616, 'A47VUHGWSTDUX': 617, 'A1YLRQL1XZBKCS': 618, 'AOPXAQV9GT9XO': 619, 'A2STARDV5TN6HO': 620, 'A2V9DTXTQ5YIMK': 621, 'AIRI6RQ4IFT22': 622, 'A2CB5CJZKISZXI': 623, 'AC2BHILNGQJ2Q': 624, 'A2GO4MLC7NCV1L': 625, 'AN7QOIMW6QMQJ': 626, 'A237XY0O6V3UE': 627, 'ANHL7BB84WJMF': 628, 'A20VCG18UDO3TL': 629, 'A1YK1JZXIIMNZK': 630, 'A1DCBQD9QX2I3J': 631, 'A2E0TJ49NACDBA': 632, 'AQDJIMQUK006D': 633, 'A28BA1RUNCWUNZ': 634, 'A22CW0ZHY3NJH8': 635, 'A18HE80910BTZI': 636, 'A3KT85K6QPMGSV': 637, 'A3D9NUCR4RXDPY': 638, 'AFICF7DKHTQ87': 639, 'A2KJQX0MK4E8GY': 640, 'A1TZWXI835FHK': 641, 'AW4K7S5EFQ2MQ': 642, 'A1FJNZ6GKM516K': 643, 'A2NBCCFDISGUQT': 644, 'A11OTLEDSW8ZXD': 645, 'A1OKEF8X7C0T45': 646, 'A3QZGQGU9XW6RZ': 647, 'A38JIIHRVTSNYV': 648, 'A2HE9UH3LB48RC': 649, 'A1UYMXFON06KQ6': 650, 'A2UM324B00HBC8': 651, 'AR0ENM97GNFS8': 652, 'A3SMY3BN9PMDK6': 653, 'A1MELG1UFSXAMV': 654, 'A3NM0RAYSL6PA8': 655, 'A2AVMDTFW79N2N': 656, 'A3R7PGG5QMI6TI': 657, 'A2FRAS05LEI6JJ': 658, 'AI8SX6U5K8TN1': 659, 'A3BVN2QBNPBHCR': 660, 'A1NOKJM3Y13CG9': 661, 'A3S8WLKSVWTZJV': 662, 'A32GKT2BDX20YL': 663, 'A3EDFZ7K9VRI3M': 664, 'AV9TAY68SUZRV': 665, 'AEZ3UJ35FHPHL': 666, 'A3LYHZY1CPSYKA': 667, 'A3EW0V38Z8JVBI': 668, 'A2Z886R3GCDYVF': 669, 'A1YOWWJOPO6HUO': 670, 'A2ECM9HLMC242H': 671, 'A2JMJVNTBL7K7E': 672, 'A2OXRXUVPXRC9H': 673, 'A1H055LCNXKT1J': 674, 'A7UPJYPAH73NC': 675, 'AU2EBC2WHIO7P': 676, 'AYQ14XGJODM9J': 677, 'A43R2SARLQZ5B': 678, 'AKMEY1BSHSDG7': 679, 'A13E7YU3XNRNL9': 680, 'A34AQGD2E6H0S7': 681, 'A3BZCJS4NORJQW': 682, 'A32E70RVY374ZK': 683, 'A255JQANDJW0VN': 684, 'A1JZFGZEZVWQPY': 685, 'AGM46BB20Y986': 686, 'AV3A66BTGK2G5': 687, 'A1G2JKKEKAR7YN': 688, 'A3A90CELVLOUP6': 689, 'ABEAUXVVB2E1M': 690, 'A1DYLJWGF7AKT2': 691, 'A38LEIUPC2EJD6': 692, 'A35Q0RBM3YNQNF': 693, 'A1832G4GPDDPOH': 694, 'A9BBI78B2ZDVP': 695, 'AUV3OR951650C': 696, 'A1QT3N5FUQ4I47': 697, 'A3GGOEX6SK1J71': 698, 'A3N4R18KX9VISZ': 699, 'A3O7EIHOFHP6N3': 700, 'A35HOUWHAYZZN6': 701, 'A1M92239OM8KPO': 702, 'A2UE27NXVYHIP9': 703, 'AENH50GW3OKDA': 704, 'A2CJNSXZYMA4Y8': 705, 'AN81JUYW2SL24': 706, 'A3QL857ALV5RCJ': 707, 'A2PZSQL3PZPL4Q': 708, 'A2OD11BKV2YNED': 709, 'A1V79H5LKYWMP1': 710, 'A1H4347RCYBPRE': 711, 'A2V2URLB31HG59': 712, 'A3C5EZKG2J4M0L': 713, 'ATWEHBHWFKUSW': 714, 'A33UZDO4KB4S0H': 715, 'A2J557IQKW3GCP': 716, 'A1P3B2YVXR6ZSZ': 717, 'A1UINGIK3UG77D': 718, 'A1F1SGYXCMVHF4': 719, 'AYNTULRNAIPNY': 720, 'A8X4UHGLCDNBW': 721, 'A1M04H40ZVGWVG': 722, 'A1IW63HLRVK62L': 723, 'AP5TZGSMF73L': 724, 'AWIF8AR75LL9L': 725, 'A3B81D6NAXWJIS': 726, 'A1U8VI6I2MFEU8': 727, 'AGA7LFNS3YUXC': 728, 'A30BXEGRRRJIV8': 729, 'A34Q5DMA3K8GGK': 730, 'AAZ5OJ2OOJ2DK': 731, 'A2NJJ4JFF45TJV': 732, 'AEIF0CWR6PV0H': 733, 'AU9MV75IZYVB2': 734, 'A314MIV1UW5O6F': 735, 'APPCJX62WKIIP': 736, 'A2MS6GT9F0CB01': 737, 'A3OYI3FF0J9L9I': 738, 'A1DMSC136B37NO': 739, 'A3CW8OUDH7M079': 740, 'A39650P2CZUUC9': 741, 'A1SW3YQTS0SWSR': 742, 'A2UGQIW2UR9U4K': 743, 'A29XI8QYHVHM7B': 744, 'A1CEG62GJ3BI5U': 745, 'A3BVDW4DOLJAN0': 746, 'A34XNPNAD1EVB4': 747, 'A2SZLNSI5KOQJT': 748, 'A1LE5PV7Y0I0T3': 749, 'A3K89V3UFT052K': 750, 'A2WCQTORZ1G1NG': 751, 'A1OA65HXZIINHR': 752, 'A3RSGP8FYW1T2Y': 753, 'AZQKNX6F8S84Q': 754, 'A231LBC8EGPO5L': 755, 'A3V6BY9QDMXND7': 756, 'A2JZ8T64YZDQSI': 757, 'A2M6TPSY6D3IPP': 758, 'A3SZ1B3N4NQNS9': 759, 'A23DE1MPXJQ7AV': 760, 'A18ECVX2RJ7HUE': 761, 'A2Q5DZRXBR6KAT': 762, 'A5A3C6XVDYUND': 763, 'A2J6IZXSLF8VB2': 764, 'AAGQNG7TITMMX': 765, 'A1POL23KPA064A': 766, 'A2NT0JP7RW6O38': 767, 'A1IH42TUIZ2XJL': 768, 'A3NPVNPMXN8L2G': 769, 'A3U62PW290APHL': 770, 'A30NNLD0AT6J8T': 771, 'AMYLE2O84OB93': 772, 'AH147953RD031': 773, 'A22B13EJTZKCTM': 774, 'A243J19UMWOXRS': 775, 'A3W061W4O0LMU6': 776, 'A8PPHFW7BW5UB': 777, 'A67FO36PIXNUV': 778, 'A19WEEGB05YAZ3': 779, 'A27BN4XUMKEBW6': 780, 'A1BH4B2GYUPAVF': 781, 'A4O8WIX9NXLEH': 782, 'A1H7Y5XKPGT0OS': 783, 'A1Z5AB1CVT1DOU': 784, 'AAIMHUYO3NWCX': 785, 'A1190GQQ1BTICP': 786, 'A3T7V207KRDE2O': 787, 'A36TZW2R417CNK': 788, 'A2L9OPJAAEK08Q': 789, 'A1INBQLNQNSHTK': 790, 'A1NX2BNNRZ5SGB': 791, 'A1G60ANYI0HMEU': 792, 'A117FS98WND9A3': 793, 'ALO81PUAXWMVX': 794, 'A3DSF48FKLK72B': 795, 'A21FWV7IMMPSXP': 796, 'A3VP3TSPGYRR65': 797, 'A1F29W231WNU90': 798, 'A1UUI7PFQ5FU4E': 799, 'A55DD6L83R61T': 800, 'ABU93V5LFXTV1': 801, 'AM18CU72YEWH5': 802, 'A15T9G38F589KM': 803, 'A3KDSFEH3XP990': 804, 'A2PANJK25TC3CU': 805, 'A2UVDPBRZTWN6S': 806, 'A1EM5OSSM5D1R4': 807, 'A2065HBMYDXJ1S': 808, 'A1M3CSHV1X9PAS': 809, 'A20CR5MK7Q8M6Z': 810, 'ADFLBRY00Y70G': 811, 'AYXGSUZEQEIFN': 812, 'A2CPM6AEJHVNKL': 813, 'A3N1R7KXEDTW1J': 814, 'AXVKMYWNIHK7W': 815, 'A2VWE5SGNDS8HW': 816, 'AQEJXZW1O9O7O': 817, 'A2AGVV84CZKSNT': 818, 'A3MQ15651KGVLJ': 819, 'A6VOQ7HCFLPGP': 820, 'A9BM5GD4ASCMD': 821, 'A2A7FD92SZ4KUK': 822, 'A2Y1NEVW8N54DZ': 823, 'A22T6ZBH6C3IY0': 824, 'A35N3SH07179SH': 825, 'A5BJMAHZWGJ7N': 826, 'AUJPT6U07Q5N0': 827, 'A1501C38OCSEMA': 828, 'A1AUMBA4UA4G2Y': 829, 'A2G70Q3AE4Z8LJ': 830, 'ARO9A0ZAZGC4N': 831, 'AVA18T6I2QYYU': 832, 'ASB37ZYP0PZ0J': 833, 'A1F6T228BA5Y7': 834, 'A1JQ00PT7BOTR2': 835, 'A2OQYSTYR8SSVQ': 836, 'A3AUOH1G7GRM1H': 837, 'A3KNJ386MRBPZC': 838, 'A27QHUP69EN6FL': 839, 'A29ZVXI6OJ87RO': 840, 'A2NSV9K5XUZ3BO': 841, 'ABQWMANK4AR63': 842, 'A1WYKIIR1YN0CY': 843, 'A3HCZTTUH3CW9Z': 844, 'A2XAKGRUHIE2ZA': 845, 'ALWI22L1YH50U': 846, 'A1JFYDF90M3WF5': 847, 'A2F1W17MWJ5E2E': 848, 'AUCXT9K30SHYF': 849, 'A9419F2N03T5B': 850, 'A2HHAV29CZ1OIE': 851, 'A2F35SS0RKWSO2': 852, 'A2MGFQP3MEU5IS': 853, 'A1G0ONAQOERNXS': 854, 'A20FBQSSFW1WPX': 855, 'A8GV08VRRXTFZ': 856, 'AQ63ZV8M31WL3': 857, 'A38K5XHJ6G5Y16': 858, 'A1L7ULDIYG98VJ': 859, 'A322VANY4JAOQB': 860, 'A2JPERAV0416C3': 861, 'AZ34737QMSG8Q': 862, 'A1IOSNSY31L5EI': 863, 'A35N0PR2D2QFK7': 864, 'A3U16LITWT2PQJ': 865, 'AG8E2F0G98ZTB': 866, 'ASFW4ZMNZJKDA': 867, 'A1QTHVA826XEOS': 868, 'A1ZENB34HH2EIM': 869, 'A1AZ8YJTM7JRHL': 870, 'A8GR4PH5NW96V': 871, 'A26FEJTPYJ934F': 872, 'A15TT902PJFJ9C': 873, 'A209XHC20QAYM': 874, 'A3O4RA4POHFEIQ': 875, 'A2JXJWJZPLH2FR': 876, 'A7YMD8MSOBO1I': 877, 'A2KLA8YX8P7PCW': 878, 'A2RQ0AT4XZUIXL': 879, 'AAU8IANGH82NP': 880, 'AQCQ5F0OJXMG9': 881, 'A2BUAZW75V85QO': 882, 'ADS99W8WMEXZ2': 883, 'A1A2ATQ44P2A7Y': 884, 'AEASNN4Z1IWB2': 885, 'A1L1AJ8459YJXS': 886, 'A36FD1FT8RZ0B8': 887, 'A234G6UKEMMDCY': 888, 'A3MKON3VM0W1TH': 889, 'A2K7JNTNYAVGVZ': 890, 'A1XCSAX4BRT89Y': 891, 'AXSMYWPZY4JAW': 892, 'AZAE1LVHY66WS': 893, 'A30X750M8V1XXW': 894, 'A210B00WZ0YTQ3': 895, 'A27H0T39U3FZB5': 896, 'AXKNMOECIV3ZA': 897, 'A1JBBR4MNGQ70G': 898, 'ASSG4O8SXUP2C': 899, 'A1P1O16N3ROSUY': 900, 'A3NDUBKYPI47N2': 901, 'A22RIIYSPA3EDH': 902, 'A2UAAFVJ05HSAX': 903, 'A28I19Q54MYXGV': 904, 'A3B15P9JJM9QEL': 905, 'A1RNPRQWJNU7G6': 906, 'A3LJP6NDCTKK6Z': 907, 'A1VN06K4Y0I1Q0': 908, 'AJW0OZRACJCP0': 909, 'A14OV0HV6TRWFF': 910, 'AMB5PKU9SN44K': 911, 'A1H6SBO7R007I8': 912, 'AFYLPYJ7AORLR': 913, 'A1QU1H8R28NIGX': 914, 'AY1LZ41VDDSPL': 915, 'A2NOIGZ6VV86IB': 916, 'A67ZXSOC2XH4O': 917, 'A2FYOXDW99KK00': 918, 'A111VACTMOWL5H': 919, 'A19NRF4D2F79KE': 920, 'A31S7BUH1EJKBS': 921, 'A281NPSIMI1C2R': 922, 'A2C27IQUH9N1Z': 923, 'A3A0F30QQGL1EW': 924, 'A5T9Z3JIUR0RO': 925, 'AFE6XVOW8SMV2': 926, 'A2CLF0H9PUZ96X': 927, 'A2IQV2ITUT56A5': 928, 'A2XO1VNKN5GAGK': 929, 'AIJQU979J6UFY': 930, 'AGWMLV54XZ1K3': 931, 'A2ZXBFBA7EKYNR': 932, 'A24RCBRDXRXR0Y': 933, 'A2ZEM44ZOG1X40': 934, 'AYA784T1U98HI': 935, 'A1ZO9D554VQO9F': 936, 'A3M8R4JD1SIS76': 937, 'A342YY7GHWRUYC': 938, 'A2WGVNJJCNIQA0': 939, 'A1SLHI58I09T1K': 940, 'A39WWMBA0299ZF': 941, 'AKTK11MTN64PL': 942, 'A1VPEWW3D9T9SF': 943, 'A2PVIYFU9YH4NY': 944, 'AGFGY4EJ37VS2': 945, 'A17O7FT0JX5B72': 946, 'A318IDAWJ9ZYAY': 947, 'A16QJ424UMZVWR': 948, 'A16AXQ11SZA8SQ': 949, 'A18712EH6VCYFP': 950, 'A3MZNRSDQ32UUH': 951, 'A368H9GFY1JCYC': 952, 'A2PP6U0R0FZUW6': 953, 'A3P8ZDHC7XSKSE': 954, 'ASDL3MQQQXTZX': 955, 'A66U6BOLQK0H9': 956, 'A1T0NEGC9YQPR6': 957, 'A1ZPY91VE3IDN1': 958, 'A17HVSEZB2PDQK': 959, 'AS5IDC9XGSXSZ': 960, 'AS44QEHT3KSPK': 961, 'A2XX02TJ94EH5L': 962, 'A3NSTXT3F7CKW8': 963, 'A1FU5CN8V620TH': 964, 'A1ID5QT86H8J9D': 965, 'A14NOLEEBDE2Y9': 966, 'A1WAV1NWCPNI04': 967, 'A3TMBYDFP1B9DM': 968, 'A1DZ0O2ZXOYEGU': 969, 'A3IIQMFNRX6ZTL': 970, 'A20V7N5A22F4BM': 971, 'AZ0PCEZUTF5QO': 972, 'A20ECIBBYIEXZ2': 973, 'A34IBXM7E8CPWE': 974, 'A28BR2N16ZMJPT': 975, 'ARARUVZ8RUF5T': 976, 'AWR4UFLX6W6ZW': 977, 'A1Y7P7UU6XH1Z5': 978, 'A353U0L2HAMSHV': 979, 'AIO4X9BRTWT9J': 980, 'A1NX66HPC962K4': 981, 'A3G21E26IP4WXB': 982, 'A2X3L31KCXBHCL': 983, 'AT53ZTTO707MB': 984, 'A3U7URZ105OU2H': 985, 'A24H8BVP88VT3N': 986, 'A2G4LKK57XMBL3': 987, 'A37U4HM0UG7FQ0': 988, 'AQCYEZYS51OBC': 989, 'A3JJUCWQK3RP2V': 990, 'A16R6O1P7TMF9N': 991, 'A1RLP0R1N8H8C4': 992, 'A1T9YI02JUBIPZ': 993, 'A1I4NHYX40MFD': 994, 'A3RF46CL8GDIN8': 995, 'AU5GGM8NG0H00': 996, 'A1I5YAUPX34AOR': 997, 'AWNY6WM2NJZD9': 998, 'A3LF914GG87TWP': 999, 'A1YY53NQXFKMRN': 1000, 'AC1U7PPQJKA9D': 1001, 'A3OWFKDYCCHA75': 1002, 'AB4R0LUIG837W': 1003, 'AVFJ327UXPXLF': 1004, 'A2QWEEYO8QLIMI': 1005, 'APYKGTU0LFICH': 1006, 'A240FRPD4MEXND': 1007, 'A3HM6KD4JINJN4': 1008, 'AH8SVUY191DSF': 1009, 'A35YFLKHVNI37': 1010, 'AFVARCTLZI8SZ': 1011, 'A14EA9WQPSOKMF': 1012, 'A2TBZAC0XYHLIB': 1013, 'A0976794S8VOYNT78YEM': 1014, 'APMJZGHOHGXY9': 1015, 'A1UNJ46NSB352E': 1016, 'AOTMP0OKJOUWI': 1017, 'A3045PONRA3KZ2': 1018, 'A2VHQDJBZH0Y7P': 1019, 'A1GQWYGNTPGFKN': 1020, 'AL515B28C0GBP': 1021, 'A306GI4J03UI88': 1022, 'A173YMJ9XFVRSY': 1023, 'A2349I3TN1EX38': 1024, 'A28TV838J24262': 1025, 'A1YX6S4I5GG5VK': 1026, 'A3LWVPC3KVQAFR': 1027, 'A379IB3EYAEL5': 1028, 'A2UT0FWM1DHKFJ': 1029, 'AAWUC8S00IXJF': 1030, 'A25SLTMFZ9FT7U': 1031, 'A10QJ6CMP3UHC6': 1032, 'A1OWI18MA83CL4': 1033, 'A1TPW86OHXTXFC': 1034, 'A2AGQEL3O3S9H6': 1035, 'A3E5V5TSTAY3R9': 1036, 'A1AD4XP47VS56Y': 1037, 'A3U029B8Z5WGI2': 1038, 'AQ5JEZH7VX679': 1039, 'AT9U5ZE5OO84C': 1040, 'A31JL4CDCBXIPX': 1041, 'A169O5HY388HQN': 1042, 'A1H5936RLPJ3B8': 1043, 'A1EWZC0LM7TTSZ': 1044, 'A3M16JSEXT9IKR': 1045, 'A3M2MBDA0F0U3B': 1046, 'A3D7NKLR56DZRA': 1047, 'A1F7YU6O5RU432': 1048, 'A2QNMPNXW1QAQ5': 1049, 'A1TV61AKAPGSMP': 1050, 'A3MEMX0XF00TBD': 1051, 'A2HOI48JK8838M': 1052, 'A56VIAK488876': 1053, 'A3HRDRQ5VAFPQS': 1054, 'A2FQ6TUKEETS95': 1055, 'A29ALY2WQXHMQZ': 1056, 'A13HG7EAUWRYPP': 1057, 'A20JY8RL920U8H': 1058, 'A3HJ51898Y45PQ': 1059, 'AOEPR1OBL8CMT': 1060, 'A3IUW081KXD3PE': 1061, 'A1FG0V3KRXAVT7': 1062, 'A2P652CXM82IH6': 1063, 'A2FQZKL2KIZACO': 1064, 'A3B9C6MZAFC1JX': 1065, 'A11LZPM3Z86VWM': 1066, 'A2E3NAL9ECE7VS': 1067, 'A3GJRZ7FN51LMK': 1068, 'A21M3YYEERMG3D': 1069, 'A27OOJSY1RH1O6': 1070, 'A1DIIT81NK45FS': 1071, 'A17PDN3EW1F05G': 1072, 'A3SA32FKK53HPN': 1073, 'A2PU5IDX61XJ7A': 1074, 'A3O60C5513YYD6': 1075, 'A5CDMTW6JKV5G': 1076, 'A3RZOPQ42Q50B1': 1077, 'A3SMR4HRFJARSC': 1078, 'A13WEKTB63G78Y': 1079, 'A2B9G3FN56R86G': 1080, 'AMQ80PCZVF0Y3': 1081, 'A26CPEEWB2WKRE': 1082, 'A2JP9E1H0SF392': 1083, 'A3H7BO1T97SCAX': 1084, 'ALM0H3CWDI4O2': 1085, 'A1A2F1ZOWOPNJB': 1086, 'A1D0YC94ZS5CNO': 1087, 'A2VJJ2POCLMED7': 1088, 'A3TH92GOR6M3RA': 1089, 'A2GKWUF75ZPWIM': 1090, 'AGTZU3YUSRSOO': 1091, 'A2KRRIZVD7QEDG': 1092, 'A1IN5TM9AD6045': 1093, 'A1TXHK8MONJHC3': 1094, 'A17CBPANJ3G5T9': 1095, 'A1NRRU43MYI9S0': 1096, 'A2ZWTFZRNQW7D5': 1097, 'A2EHN0WTQ1N90R': 1098, 'A33ROMADEKHQ4V': 1099, 'A32GTFFK9J05VH': 1100, 'A1P5UV6LO4YC8S': 1101, 'AGJRUK27RBVYS': 1102, 'AQ8Y0VADON6Z5': 1103, 'A3UKWQS8SRW6IO': 1104, 'A27HMKOCNPOSCK': 1105, 'ACVDL5QRCOPE1': 1106, 'A1UH8RMD57P34Y': 1107, 'A1QPLOGZM1F7E8': 1108, 'A3KUYNSTZ6TN38': 1109, 'A3VJ5XEA6RZIA2': 1110, 'ASBSPNY56QD1X': 1111, 'A1DES1NRVS4X5H': 1112, 'A2IDRAYYZ5GKBZ': 1113, 'A27FP0S5QH7GNE': 1114, 'A2OCDK0BOW6UCY': 1115, 'A3R9H6OKZHHRJD': 1116, 'AJI7Q53V06VPR': 1117, 'A1C48NJP2ED5DN': 1118, 'A593D8BBKM43N': 1119, 'A2ECTCPBTOGW4H': 1120, 'AL69UV8T072NH': 1121, 'A1353000WAKP87': 1122, 'A2Z5GY3909V6BC': 1123, 'A2F239LT1G70GB': 1124, 'A28508SUMB7EQG': 1125, 'A31FNX12D7CPFU': 1126, 'A1ARLM4JFWPVOA': 1127, 'A29LA15KO056BT': 1128, 'ARYSDAZNRXN6G': 1129, 'A4ETDBJYSJEUZ': 1130, 'A1Q7A78VSQ5GQ4': 1131, 'A2Q87SAW72XHBB': 1132, 'A1A25TP5D0L22V': 1133, 'A13BQX5F2A0CQF': 1134, 'A1MUHMPF5XYTAP': 1135, 'A37NYXQ098PPIQ': 1136, 'A3NU2R1I3BJND3': 1137, 'A3P0VHR9YAIR6P': 1138, 'A13JH2NRRR2NF6': 1139, 'A2LE2MFI4QTQY4': 1140, 'A3CNFV5UK26Q8A': 1141, 'A2MJ8OL2FYN7CW': 1142, 'ASHCSWSX2K6SQ': 1143, 'AXNJFYJRDK7CJ': 1144, 'A1NOV41485TE0D': 1145, 'A1QFX6MTNCLI66': 1146, 'AHRAGCS2CUIA7': 1147, 'A1A4YGDZRUFQFS': 1148, 'ALD6CN9ZUE7KK': 1149, 'A39GL1J7TN9LDJ': 1150, 'A33XGGQCEAIBWF': 1151, 'A277TO3PKKNYDH': 1152, 'A2II9R80CCT0VK': 1153, 'A2MUGFV2TDQ47K': 1154, 'A3SFNAMPYLLMIK': 1155, 'A2YSCGRGHNM8BZ': 1156, 'AC5DFMPT2E0K2': 1157, 'A2V92F5R7MLCVI': 1158, 'A3V6APTDD57CRZ': 1159, 'A1JYB33LX3RKW6': 1160, 'A3IKTR4WJV7BLP': 1161, 'A30Z0GG96D11EO': 1162, 'A1A371Z10JABPI': 1163, 'AFX791XGHHMDU': 1164, 'A1DH3QDZX8Z7GO': 1165, 'A2N786KHIFCKJ8': 1166, 'A2AF225HOH0CV0': 1167, 'A1LG1DKUZXGJ6J': 1168, 'AEATMJCLSBT9G': 1169, 'A1DOS1TMRAS4MT': 1170, 'A1IHZ7A10YDVSW': 1171, 'A159B1DZK24I3K': 1172, 'AWIXDOCA5UDHM': 1173, 'A3ATKIU6MZZ4MU': 1174, 'AW7BIYHXUIZ62': 1175, 'A3D5IBYSLHNMYA': 1176, 'AFBU9FR12LCYH': 1177, 'A1ZNCMFIECPTVT': 1178, 'A1BEDKI1OQFD5H': 1179, 'A1T61QP7QHYBRQ': 1180, 'A3EAP2VG0BVYWX': 1181, 'A37X260ISIDBM5': 1182, 'AHQS3N2QQZ9N6': 1183, 'A2R95Z7PTF5ZRO': 1184, 'A3IWRIHT6W3HBP': 1185, 'A1TUV6BBJ96GO1': 1186, 'A777MMP4S7S8O': 1187, 'A11UJ1CHEHNEGP': 1188, 'A2GOHBNQ58WOKC': 1189, 'A6UV1YIY6LVOI': 1190, 'AGXND93DHIL81': 1191, 'A3G2MJPURQSCBD': 1192, 'A2TFOVAWNSEB4X': 1193, 'A3HGL90C2GYPAR': 1194, 'A3C0NM5PAFH2MB': 1195, 'A7O99EO1W25PC': 1196, 'A3V1AHX8P4R839': 1197, 'A23EQ805N1FAXW': 1198, 'A2BS9MY35UH0LK': 1199, 'A3AZI828WJN1CD': 1200, 'A1N46G8TKM3ZQB': 1201, 'A1WMP19X59ADQS': 1202, 'A3Q9HY0LU7MN6E': 1203, 'A21UK8IM9C2S29': 1204, 'A231YLXS6IQ441': 1205, 'A1UQUDT2Q0YENM': 1206, 'A33230MIA3W7G4': 1207, 'A16WPA6JV83YXT': 1208, 'AW6J9IILGOZY3': 1209, 'APYAPE8TWN8XC': 1210, 'A2S26YGSVXBCFL': 1211, 'A3HBZYCHTIGP5S': 1212, 'A2VQVI5X3VTDT3': 1213, 'A3S5WYWYKSAI9C': 1214, 'AIIZTJHZLV158': 1215, 'ABY77ZEHN9WLU': 1216, 'A18G130R7K8W07': 1217, 'AOP2ZRNSHY2Z3': 1218, 'AWB6LNDICLM3G': 1219, 'A1LHAXBM5GBJS2': 1220, 'A2QQJY5LT67R2': 1221, 'A1C21QBAZ1W4Z2': 1222, 'A1AZDDFS89QJG3': 1223, 'A217GQ496NNO1C': 1224, 'A2NH5PVVBWTTQK': 1225, 'ALGI34BYWIXZG': 1226, 'ACN5JM2KDK72H': 1227, 'A3B83GRTAX6QOM': 1228, 'AIKJSC2UO4XLQ': 1229, 'ALT082QMA75B6': 1230, 'A1G7XVI1NU80YH': 1231, 'A1I3WK7TCIVW26': 1232, 'AZYJE40XW6MFG': 1233, 'A19L0NX40VAU3S': 1234, 'A12QB51VZ8CGOT': 1235, 'A3BFG2CWAS73BL': 1236, 'A32I1W2R5ZI8H3': 1237, 'ALBPPZ969I5CM': 1238, 'AKE6DXEN3GWPC': 1239, 'AJ9AE2BVND0GS': 1240, 'A3C0ZGHGJNYEMM': 1241, 'A19XC6Z95GK5AB': 1242, 'AC10U1A9F1X88': 1243, 'A1VTERS1W47RIK': 1244, 'A3J4GX5IY716PR': 1245, 'AMYRCTEW5AR4C': 1246, 'A2KUUIJ52MWDAS': 1247, 'A1W4F91DH3XPB2': 1248, 'A1LINA8MCSONQL': 1249, 'A1SXCGBJ9JW2MO': 1250, 'AQNX0WN00JEVE': 1251, 'ATJ22NADXNLD9': 1252, 'A34IE5594AE20I': 1253, 'A3MDA891A1EPT8': 1254, 'A2ANNQ7WTLZUD7': 1255, 'AAF5D1LTFGB7L': 1256, 'AS7SB0A3QKVQV': 1257, 'A3JCWGHCVC2ZNF': 1258, 'A3SOJC5EJZP7C6': 1259, 'A15X5I17CU4I2H': 1260, 'A1VXIY1511XQK2': 1261, 'ABOVQ74OQRZCM': 1262, 'A3LT26VKSXZFQM': 1263, 'A1YOLYHGL6G9XB': 1264, 'ANKQGTXHREOI5': 1265, 'A3SH6CQYS8FHB': 1266, 'A37UX46Q3OVSAC': 1267, 'A1HQ56HXZQJ1WU': 1268, 'A2FN8FBQAKOZ3B': 1269, 'A18CX8MRLUE35E': 1270, 'A1U5JW2BP2DXTZ': 1271, 'A3TCMJ6GKZJFBQ': 1272, 'A13M9XSQ4O6NLY': 1273, 'A914TQVHI872U': 1274, 'A1JOCKX0DBY0D5': 1275, 'A3VZH0PWLQ9BB1': 1276, 'A2SMI76ENKI0CM': 1277, 'A345JRAM57EGBS': 1278, 'AX5ZDQUSZG8MI': 1279, 'A1NXA6Y1T9XDUM': 1280, 'A36S07OGN5FIO8': 1281, 'ADR9KROI61DFJ': 1282, 'A9P07NJ7UV0M': 1283, 'A11K70GWSB7A5Z': 1284, 'A3JFP1I9GCOM8P': 1285, 'AZMISC9FAUBIR': 1286, 'A2Z2FATA8JNL54': 1287, 'A2S1GTBLVBLEO4': 1288, 'A5T8TXEZREVHL': 1289, 'A225OKW47SODNA': 1290, 'A19M8Q3VR3Z3UN': 1291, 'AB7V9FFK51EKT': 1292, 'A353BBCDJQP4A3': 1293, 'A35Y40XVDNIK7Q': 1294, 'A93YMZM7YKG1G': 1295, 'A2ZY3S7SD3QO8Z': 1296, 'A2GVRTQYWV15IO': 1297, 'A24U6WGBZ4P74W': 1298, 'A1VTBADV3JS1EC': 1299, 'A3BV0WAXB8IULS': 1300, 'A2OF39RWPPJNTR': 1301, 'A1VOVGNX054PQC': 1302, 'A3G0F3VRM187KT': 1303, 'A1E7BYP6JGDUHD': 1304, 'A2YISOGM55E9NG': 1305, 'A1DW36J0ZTN8QY': 1306, 'A11UNM6QZ3XTZH': 1307, 'A1T71T5GUD8FJ3': 1308, 'A30EXXH5I9GWBF': 1309, 'A2D6BBQ6HFAANH': 1310, 'A1GQAKL9CGQLP1': 1311, 'A1X2B7H1P11DXH': 1312, 'A1SBUTPIN5HTAD': 1313, 'AY8WT4WMDDUX0': 1314, 'A10ZBR6O8S8OCY': 1315, 'ATYUQROTHLNYV': 1316, 'A2M34TR2T9YAXV': 1317, 'A2I2ZHG8M88CUQ': 1318, 'AJVY04L3BL4VS': 1319, 'A3NHUQ33CFH3VM': 1320, 'A1M3JZ6SLJ4F4B': 1321, 'A1M54LLOTWABKB': 1322, 'A2LI16D7LHPELG': 1323, 'A37ILPDSY9ESL5': 1324, 'A75JW4F7P98TC': 1325, 'A2LOFS1AJM3G6F': 1326, 'A1DFTNJDV9X26R': 1327, 'AG7XUJZ0D5EJ5': 1328, 'A2XAQOWHRPY98K': 1329, 'A34AGKU14DGF5K': 1330, 'A19A0NR7MZJ8NW': 1331, 'AH9VK6BEE5A44': 1332, 'A7H3BAK83N2TA': 1333, 'A3P8N3YORM08CA': 1334, 'A2Q582Q4S2MUGM': 1335, 'A1OSZ0SN61MAEY': 1336, 'A3IE8PNBE2LPJE': 1337, 'A58F10T4OE58C': 1338, 'A58N07M0ZCYMB': 1339, 'ARTHSLN5BW5PW': 1340, 'A3GPAGEFFDWWXN': 1341, 'A24BBK1NFZPPJS': 1342, 'A1ACM1CBGORBN1': 1343, 'ASGIVOW34XNQS': 1344, 'A3HZ687GB0AH7Y': 1345, 'A17RWH6Y9DDYBR': 1346, 'AFDJGY68CQL2X': 1347, 'A1HUO2AXGLYHDI': 1348, 'A3S0Y5GVW1CYRW': 1349, 'A1WKEAS58297E5': 1350, 'A3EFSLEMHNPP6A': 1351, 'A3J029KBNG5MNP': 1352, 'A8UM78SMPSHC0': 1353, 'A2USX601I4L2BQ': 1354, 'A1KT19TDP9VE63': 1355, 'A16Z2OECAUX8Z4': 1356, 'A1RX2N300NHQAF': 1357, 'A3E396M1AH5ZF9': 1358, 'AXRIWVPE39ST1': 1359, 'ALBW2ZBS6Z2AY': 1360, 'AR74YY08IP2WE': 1361, 'A3T4OHEAHOJ700': 1362, 'A3T4217DZDJV8W': 1363, 'A96JD9312DHWC': 1364, 'A27FB97X0COTAH': 1365, 'A10K606KWGOA2Y': 1366, 'A13GZCHAMKWYBT': 1367, 'AKSMXE0CRLA5T': 1368, 'A2QDOJFFLFGF18': 1369, 'A2Q9KC6JXDG5JA': 1370, 'AJENDQXZLWJSQ': 1371, 'AUMS86MZELMS6': 1372, 'A1JH23815DVN5K': 1373, 'A2J6PW8IUP505I': 1374, 'A1K35ZITHQS8RR': 1375, 'A1DNXL8BIR5R8R': 1376, 'A3T1HGP5MN7OB6': 1377, 'A2JX868GM8BRBF': 1378, 'A2JGD65DRNR75N': 1379, 'A26A64X86VL1R4': 1380, 'A23GFTVIETX7DS': 1381, 'A24FYJF4JCQE2Y': 1382, 'A210SPRGOOG2D0': 1383, 'A3LL8PH49PZUG7': 1384, 'ACMSQCH1H7JZD': 1385, 'A1YPT5II83LY3I': 1386, 'A2GHU8I0P3HFRW': 1387, 'A1LLVL4YI9Q30C': 1388, 'A1JXRXYVSUAW6I': 1389, 'A2E5ZWLVGUV44F': 1390, 'AJL25T6NE3RDL': 1391, 'A3H2G9P613G0FG': 1392, 'A3KWR8J6CUUU63': 1393, 'AMLTWG4BNQ17T': 1394, 'A3BE480SRW37EK': 1395, 'A2MSQNPTNAAGL1': 1396, 'A1GED14ZDLSLKU': 1397, 'A3EJ8XHVDC0CWH': 1398, 'A3TIJLY4VX8CH3': 1399, 'A2TZ62B2XCUDON': 1400, 'A3CL1BKRBR9NG7': 1401, 'A3KPR2UOBT0O2': 1402, 'A3KHS90UO8FHWP': 1403, 'A35IX2GE0VC0JP': 1404, 'AFTO18B2WM764': 1405, 'A1RXWDHS6V0E5L': 1406, 'A25IYL8L9LZNH3': 1407, 'A2FSMTNXL81WJ0': 1408, 'A2M14CFAMF8J7I': 1409, 'AQ6ZF4PY7X3WX': 1410, 'A79372WBA9IJM': 1411, 'A1XZEKTEJFZ3O6': 1412, 'A38ALMKH7U0D6H': 1413, 'A1L4MFMJHRUE6A': 1414, 'A33VI944SO2YCN': 1415, 'A27D0VRNOOUNRR': 1416, 'A2PU7XW1J998ND': 1417, 'A184XTCFOCLX7Y': 1418, 'A16EEZCPYPEUHF': 1419, 'A14CXGHPONCD41': 1420, 'A3IGCB651CBUS5': 1421, 'A32UN5NNLS24PV': 1422, 'A3C1QYGEET3BVY': 1423, 'A1GASYTBITRWV1': 1424, 'A2NO78FL32PID0': 1425, 'A14638TGYH7GD9': 1426, 'A2AGBL998D0FYY': 1427, 'A14NA0W8ESGDSI': 1428, 'A3HC8CNVGE854X': 1429, 'A38PZE4HZMI0QV': 1430, 'A3RALES3RIRVH6': 1431, 'A3VHRN8GV419D9': 1432, 'A2KOVJ269YNR6M': 1433, 'A15T487HNTIOF7': 1434, 'A3MSHV2DCAE2MD': 1435, 'A1C97QPVKH03L8': 1436, 'A2NICGGIGIFU22': 1437, 'A2ZIPVL3ENCP08': 1438, 'A1U26DP9DM1JM3': 1439, 'AOWM3ZLHZF07H': 1440, 'AKAWRH6P6SR4F': 1441, 'AK8LOFYRZJJW0': 1442, 'A2ILVHWZE9MGYP': 1443, 'A3UU8O0Q7TNWPH': 1444, 'A2TI1OLFNCM0D5': 1445, 'A31I1YHJKPUCAI': 1446, 'AD1ZOPB0BBEHB': 1447, 'A9XX8OHS2ZQ2X': 1448, 'A1HHT7QL47MSE5': 1449, 'A27L5L6I7OSV5B': 1450, 'AZP8VL10DJLG7': 1451, 'A2UQC2G6BOM9E9': 1452, 'A13ARKH8FCOFQ0': 1453, 'A1LUVDJCWYAVUW': 1454, 'AT8HFJYB071N3': 1455, 'A3JGDBZM9CGRXU': 1456, 'A32NZK5H2NIM13': 1457, 'A1XNZ7PCE45KK7': 1458, 'A1KHVW4VTZ82XC': 1459, 'A3PD8KD87AXNLD': 1460, 'A3HDIZAWPFGVWG': 1461, 'A1F85UIFABI2MH': 1462, 'A2H2K1FKI9COQ6': 1463, 'AEVXRGD91MH5U': 1464, 'A1UOP3I8BE70JJ': 1465, 'A3OICFS78GXXIJ': 1466, 'A2W113A4NBI912': 1467, 'AL1708MTIB1MD': 1468, 'A3TJSWA0W9ITYE': 1469, 'A3BBLQEB3IGRVP': 1470, 'A3DIJAXX4S4C49': 1471, 'A1N11N2Z5BK281': 1472, 'A208UDKWBYILO8': 1473, 'A3IQGM4GW25ZA8': 1474, 'A260H97AT6A5LE': 1475, 'A2AOYMFCNYW14S': 1476, 'A3R79D9SZA0QDU': 1477, 'AKXKWI5M5E267': 1478, 'A22HY3D260KUAW': 1479, 'A179D8LPMCGP9W': 1480, 'A3COUBI0JP5723': 1481, 'A3O0BXK3SZ6FE0': 1482, 'A3H5QGH5OD2XGX': 1483, 'A4OTYAYS5X61E': 1484, 'A5A8A89CHG3S8': 1485, 'A2VAWEULL019JO': 1486, 'A22YTUDL95N29U': 1487, 'A3N27L13CWJ9HY': 1488, 'A6X089IWIRR81': 1489, 'AWYMS1BNSG38Q': 1490, 'A2DXENZNO2JT4F': 1491, 'A1YOGC8UF2RCHC': 1492, 'A1K3N7T7Z9VURF': 1493, 'A3AH1V1W7J98WZ': 1494, 'A21B8AV7E3MPXE': 1495, 'A17TASZJT6Y39D': 1496, 'A1ZHN4UGF3T55Z': 1497, 'A30YSE0M6LM61J': 1498, 'A2YQ7M9GFU3Z65': 1499, 'A11F5KW6QXHL8L': 1500, 'A14IW8KL9JGS2H': 1501, 'A1PPJBF43IJ1W6': 1502, 'A257XGMVGITLCT': 1503, 'A1QXE9QBD9ERB6': 1504, 'AS935YJ1LIR5K': 1505, 'A100ZQDV7L8PVV': 1506, 'A1AHNV14W10S0X': 1507, 'A2X5I60WA32FRV': 1508, 'ARCNPR5YHHP2X': 1509, 'AVFRGWQKCNAR9': 1510, 'A3AO77W3NW2N9G': 1511, 'A3TPT3CINOTLDM': 1512, 'A1WF3V89I4E8BR': 1513, 'A1NZET944GAD05': 1514, 'A1KGCBNUMKYV7L': 1515, 'A1TZHV7ZF1BP4P': 1516, 'APP35M28G2U51': 1517, 'A11AP4QERYPCLK': 1518, 'A95FC7Y7GWFK7': 1519, 'A1M0VRITABSIQ6': 1520, 'A2TPAF8C8EXPH8': 1521, 'A5U5T6EWH90O0': 1522, 'A331MWI0W4WSEY': 1523, 'A2RSB35G43HTZ6': 1524, 'A2DP8076RMUZT1': 1525, 'A3G9GVHBAHGMUI': 1526, 'A3R9X003XW0LNR': 1527, 'A1JAPP1CXRG57A': 1528, 'A3R0NQ9E53JHYQ': 1529, 'A3SSBBEGNC7G07': 1530, 'A1C1P6F3UQC97G': 1531, 'A3T97RJ08ZQ0BT': 1532, 'A239ILDOHMMGUV': 1533, 'A2K4HN6EECBNR3': 1534, 'A26BU3ZU0R5IPF': 1535, 'AQU3AJCX7BXZF': 1536, 'AV4V89ECN3HKH': 1537, 'A3KEZLJ59C1JVH': 1538, 'A2KJIX9GXBCVWH': 1539, 'A3IJY3PCGFJQQA': 1540, 'A2IYAPUAR0PTUD': 1541, 'A1E0L2V60U8H0G': 1542, 'A3HX7GD30O1MID': 1543, 'AC6HYEG9JT441': 1544, 'A3C95L8JUAL3JT': 1545, 'A3JPRLR9A0VFFE': 1546, 'A1RI2HB6FP80SL': 1547, 'A3R4794K2RVU1S': 1548, 'A1XZPFZA4CMT82': 1549, 'A2XPKW9APTROUT': 1550, 'A2W2UAOHUVBZIX': 1551, 'ADYZOSTF9LZLD': 1552, 'A2W9I628I6SE1U': 1553, 'A2LV8HCYHEMQ0K': 1554, 'A2JAEZ0FMAMJVW': 1555, 'AK3402G7FO7AY': 1556, 'A3E0W5O1MPW3K': 1557, 'ASRCXQORZ246Q': 1558, 'A323WZTV4TW9T': 1559, 'A1REM7I2ZEE195': 1560, 'A2XIOXRRYX0KZY': 1561, 'A24JL1MU8KCRZ2': 1562, 'AEMSGB00FL3YO': 1563, 'A2RHJA5OXJM0O0': 1564, 'A2GLLGEKQOWIT5': 1565, 'A1X3ESYZ79H59E': 1566, 'AHUT55E980RDR': 1567, 'A1STC2PCXN65A1': 1568, 'A26VG3N0GDDHFR': 1569, 'A1OOJZDRA523XB': 1570, 'A1CP6NZKDQG4FN': 1571, 'A1YH6DMZOS59A2': 1572, 'A3FAM6M9DMUAMB': 1573, 'A1QVSH3CRJHGHJ': 1574, 'AWBBFXTYT2ZNA': 1575, 'A19TEEHU4WNZ40': 1576, 'ARWZ17IPLQ81': 1577, 'AO2AQRPPSTABB': 1578, 'A1EDCMHXIMH0DT': 1579, 'A34W7QA4J5UTOR': 1580, 'A2BV5EZKDX8OA2': 1581, 'A2OHNA7PBBQ4C5': 1582, 'A1QFXD00PN6VJ0': 1583, 'A3KYQWGVLNDGYV': 1584, 'AUUN34NT677XH': 1585, 'A337MPRLYDSO9C': 1586, 'A9FHZGXN2PXDF': 1587, 'AKJHHD5VEH7VG': 1588, 'A1I06FW4J241AL': 1589, 'A39LRXD7THXB4B': 1590, 'A25EMUVX5WMVZ1': 1591, 'A3EVVLVNG4QLI0': 1592, 'A3BJ0SU5CRQA3C': 1593, 'A332L1DH4A3OK8': 1594, 'A1JOANG98KBFKU': 1595, 'AUAI9MEBEBLL7': 1596, 'A39E4C7YVVQ02F': 1597, 'A14ASZDYCXUTI0': 1598, 'A2X61KKXXR6WNP': 1599, 'A1LA4K5JF78BER': 1600, 'A264H93IURWMJR': 1601, 'ABZFAANO49IDI': 1602, 'A18DNSET02IWGK': 1603, 'A26UNIPEVYE9DE': 1604, 'A3OXM4NUGQKIQ0': 1605, 'A382QYAWI6F811': 1606, 'A1TKBDWY45OW3Z': 1607, 'AOE6HAVFCJSLY': 1608, 'A3M7BCQKSQAK4L': 1609, 'A2AV75AK7M1DMW': 1610, 'A2WB4OWBUH2VQX': 1611, 'A26SO3TOT2TLJE': 1612, 'AMBFK6N4JS5Z2': 1613, 'AOWNULF8026F1': 1614, 'A2V6W8QRKFONHX': 1615, 'A28RABVVESBLBL': 1616, 'AVO94A66EQGFH': 1617, 'A1ZH5ULI4SBO48': 1618, 'A2548ELQMB9QEN': 1619, 'AZA595ZPIG240': 1620, 'ADO1ZPAH7DJ5R': 1621, 'A2318YEO923PC0': 1622, 'ASE0G6I3ZC0QB': 1623, 'A35P9MY9132FNU': 1624, 'A1SXF48MHY0NJK': 1625, 'A2X2Q06U2YO9ZX': 1626, 'A1KI02CUM1WC3W': 1627, 'A5BUH1D121NQC': 1628, 'A2SDKX7SSZ2P99': 1629, 'AZZGGWZV5VR74': 1630, 'A3FMPT5IH0CJ50': 1631, 'AS4P0QUGABH3C': 1632, 'A15WSZ11YEOKMU': 1633, 'A276HKHAM5VK53': 1634, 'A2JYR10B40EI3Z': 1635, 'A7XUSKJ6H9DI5': 1636, 'ALPX3MQ4JK9TN': 1637, 'A3SOOHKEHHR6C4': 1638, 'AL8FI5X2OD33S': 1639, 'A2HW6NZ9TB2ROS': 1640, 'A1VSTIE4LDB43M': 1641, 'A1XDQFM10Q1SMK': 1642, 'A3IHI911PXMOW5': 1643, 'ARPB88E6F2MFR': 1644, 'A1E7428658LMTY': 1645, 'A25QIF834WW9GQ': 1646, 'A2GI8X394RLF83': 1647, 'A3J4FUEUXPI5A8': 1648, 'A3U62H044GZU7I': 1649, 'A58OFA7T7WN9Z': 1650, 'A27FYI2VCJR3MN': 1651, 'A2JVBJUU2DL0WA': 1652, 'A1FT0AWHJQLMJN': 1653, 'A1ODT2GL0ZA2HH': 1654, 'A3I85Y7QFOEU9M': 1655, 'A2AEHBRCY7G9HE': 1656, 'A2FYFGL9S37941': 1657, 'A1Q1T811N4IY3Z': 1658, 'A29VG90T649CSU': 1659, 'A37WA3GUT6N5B2': 1660, 'APJDB661HN4UR': 1661, 'A2M1MNG7G40V85': 1662, 'A2AE75HDESZFN4': 1663, 'ACUL2NEZAYUNG': 1664, 'A1ITBA90V0EBQ4': 1665, 'AOPZR9IDU2JV8': 1666, 'A1IA0O3OYQO9LV': 1667, 'A3094EPI56GKZ6': 1668, 'AT01W4M7O2N24': 1669, 'A2FEM4XI55SY0W': 1670, 'ACQYIC13JXAOI': 1671, 'AYJ0U17CIWLM7': 1672, 'AF2HX24P7K1FF': 1673, 'A2P94P50FZL87F': 1674, 'A2CRHEUW1ATJ65': 1675, 'A1VK6EKINVYAT7': 1676, 'A1O4BH6197KJNE': 1677, 'A2IQF36UJM0GMB': 1678, 'A1HHWNXDC9A87C': 1679, 'A2LAFL37V088EU': 1680, 'A2XB933HCLJU51': 1681, 'ARXHSWN3RMN93': 1682, 'A25BQ9WBPFU53O': 1683, 'A24X2NYEX5WAS4': 1684, 'A1F0WYFGJMSMLK': 1685, 'A19WVSH9MZZG': 1686, 'AZSYHIK3A3KWE': 1687, 'A2NVZNGSRV7ZU7': 1688, 'A3MLY0K05WU4F6': 1689, 'A3U8ENPSBFO4YG': 1690, 'A2JPRGJ2GVDANZ': 1691, 'A3GFK7F5IUF60X': 1692, 'A1CSFIQ41U5FWY': 1693, 'A1UO1V99AK3CS4': 1694, 'AOZ2MGUTFOE8U': 1695, 'A2EJLYWOA9Y08O': 1696, 'A38KYGR07SUF21': 1697, 'ADYK8EVS9WDB0': 1698, 'A19QPJNL5HOJAL': 1699, 'A1A2TYI92R7T86': 1700, 'A1Y7C52533BA2H': 1701, 'A2NTDBVOZIPYRP': 1702, 'A3R33KMESG0XGQ': 1703, 'A3TRRM13LNZ572': 1704, 'A3JTUS0UZG6V9T': 1705, 'A32STGRWB3FI2U': 1706, 'A2628GRX57R8KV': 1707, 'A38NHXL5257E3B': 1708, 'A1JRIIJV6B9QT7': 1709, 'A343ZOGUM56IC2': 1710, 'A3E9WG5BEAFF3T': 1711, 'A1DW6V7M2E335Z': 1712, 'A3TE23IJ6GITLF': 1713, 'A2N85D8FRR118S': 1714, 'A34T6SD5HUGLCJ': 1715, 'AGJN8GZ637X6P': 1716, 'AWPN47SSWK1JV': 1717, 'A2FLJCJ3SW0TUY': 1718, 'AUEW0SKOB1XYF': 1719, 'A7P69JYE2TTDX': 1720, 'A2IKWRF4EVT3PG': 1721, 'ABCNO99OFECJ0': 1722, 'AB9LV3BWK3O4K': 1723, 'A113DS2A66B9VJ': 1724, 'A22PHKFFVGZ9X6': 1725, 'AU4Y8JCQV2Q1U': 1726, 'AS8N98SK8HBMI': 1727, 'A29M09QBG9TZLP': 1728, 'A2VZJKNHWE9B4N': 1729, 'A2OA9XX2PCPDO': 1730, 'A33NZ692P7BZ8Q': 1731, 'AHQVBCXO2WM5C': 1732, 'A3QFINCNHFU3C5': 1733, 'A2H667ZUNLNTF1': 1734, 'ALDYWG0CPSYUF': 1735, 'AG0830H1DBLD': 1736, 'A1A8KY344FDXZB': 1737, 'A1RRX286ZRI830': 1738, 'A1UHKF1UQ3EGW4': 1739, 'AV37OT7S682UW': 1740, 'A2EI4VOT1F8V62': 1741, 'A2TO2BN3P4C00L': 1742, 'A3PFZA9XC59D2Z': 1743, 'A2AF0NOCM71J0B': 1744, 'A2M6J4CGEA29JI': 1745, 'A3RBBLXX7BD6ZX': 1746, 'A1KWIAKMANZVIV': 1747, 'A1M1Y5UGONAW06': 1748, 'A1JWUGHXT5HP39': 1749, 'A3GTZO9OK5E3F3': 1750, 'A3PWPNZVMNX3PA': 1751, 'AISGAKMBB5HBY': 1752, 'A2555OR8IRB30S': 1753, 'A3PTW8EKRSZLUR': 1754, 'AUH792DXLWGXW': 1755, 'A11B61QBGHLQDN': 1756, 'A2L0NZR1CSYSBP': 1757, 'AN2CU1YP12J4U': 1758, 'AI6DRIHCFTLVE': 1759, 'A3JTLZ958Z78RC': 1760, 'A1ISJC5E0GD68O': 1761, 'AS7SVX6IGJ6F0': 1762, 'A167ABU99FT4OC': 1763, 'A2HX3MWQDOM5AZ': 1764, 'A21O6J200QQQ1D': 1765, 'A29H57JOW1ZB1Z': 1766, 'AF50DRVCXFMJL': 1767, 'A3OGA76E22L5CU': 1768, 'A2RME4353Y911C': 1769, 'AGV6KOEXODL1U': 1770, 'A2GXHAELA9BZQA': 1771, 'A3ID3JWCV07D8O': 1772, 'A3RPD7744JX3VE': 1773, 'A15DKVM598GQKS': 1774, 'AYVE4ULAGMVGT': 1775, 'A29UK7GM2HXMIE': 1776, 'A27QXQQOLAMRRR': 1777, 'A1O229NVVDJUX2': 1778, 'A35OQ90FU3P52': 1779, 'A1XJOSJN6FHFO0': 1780, 'AGWWIU5K88RKB': 1781, 'A35UBZDESLIOHE': 1782, 'A33PVCHCQ2BTN0': 1783, 'A2DUS24FBC9FH5': 1784, 'A1OPJ07CRU2GX0': 1785, 'AO9XCS3PV5MXK': 1786, 'AQM73IWC4LFXS': 1787, 'A33EGAQ0DU1QRV': 1788, 'A2E5YIM6TXUGCW': 1789, 'A32JPW72EQDG1X': 1790, 'A1S7YQQGJPPFLG': 1791, 'A3F2926FPOBNL': 1792, 'A1ZAUB7IKXDVKG': 1793, 'AYB2RR9WW2OVR': 1794, 'A2XUSCBG6JC86W': 1795, 'A2YSY7CIXY2LH2': 1796, 'ATW3ZP91LID5R': 1797, 'A2TPFWN9C6LY4W': 1798, 'AD8JK9PUC5H0A': 1799, 'A12LOSDZX5869M': 1800, 'A2KP45DO3RY4RG': 1801, 'ARC8GAY34APCD': 1802, 'A3M4C8M5J5C5T3': 1803, 'A1E50L7PCVXLN4': 1804, 'A2CISZ4JLKQRJA': 1805, 'A9EN0S3OPP0K0': 1806, 'A2LVLT1HHB55T7': 1807, 'AMCAID3LTHKEC': 1808, 'A2A4IIRGAEXUXC': 1809, 'A1CKAZZ3Z647NA': 1810, 'A2ZF5B40WVBD93': 1811, 'A3FA8Z7MQJ5JSD': 1812, 'A21LIZOWUJ152K': 1813, 'AEA9MHUVHG19C': 1814, 'A3063F7PEA30IM': 1815, 'A11GP02YZJBGG3': 1816, 'ANSRHNCQZ67XK': 1817, 'A1NQOLKH5T6FOA': 1818, 'A2WBEJH71SND3T': 1819, 'A1I8QPILZMTELT': 1820, 'AOCMIJP3EHBNR': 1821, 'A1PJW1DYGFZV99': 1822, 'A3BHZ8P7G3NCW9': 1823, 'A1JEAPSES2HNVE': 1824, 'A25NCR4LJ62EZN': 1825, 'A1OPP29TD7SIQ9': 1826, 'A5AWAP14JF27L': 1827, 'A2L1U6TMQJP5SC': 1828, 'A2BILUPJR1QK94': 1829, 'A2XNOB1T796Y6B': 1830, 'A7O4GY472L6VY': 1831, 'A1QAPTV4YS16N9': 1832, 'A1CM8LEX46O21E': 1833, 'A39HDNPW97LD76': 1834, 'ABSCTKLX9F9IU': 1835, 'AJPAZG1GQX8DY': 1836, 'A2YCUCEYXT9VHX': 1837, 'A2EFIUAOF4YRAN': 1838, 'A3HFQT4IPBUA1P': 1839, 'A1Z008CD2RW2W5': 1840, 'A2F6G3JZNTCNC1': 1841, 'A1IFZDSZE0I08V': 1842, 'ANIO0QXV2HJ1X': 1843, 'A3SXKZ1Y3SGW3Q': 1844, 'A2WTV2ZI6KWDP5': 1845, 'A216GVMBM978DE': 1846, 'A1GYEGLX3P2Y7P': 1847, 'A14IW8OQ1BS0OB': 1848, 'A1P66GJ6VSS2E2': 1849, 'A2QWJXBD0LB13A': 1850, 'A1TQ0E67JUOUSC': 1851, 'A1EKKSMQAOO7U3': 1852, 'A2CYROCBFE8MYP': 1853, 'ARKPBV91DYWZF': 1854, 'A1QLYFY3O1RN8V': 1855, 'A1E5WXNTI7EO2A': 1856, 'AN33VSFJP6KGL': 1857, 'A2T006AT1GONGJ': 1858, 'A2RVCF21L2NPU5': 1859, 'A3MFU0GVZUVH3K': 1860, 'A3S3R88HA0HZG3': 1861, 'AN8HTB21NV49Z': 1862, 'A3BJZ3Y8UKIQ1G': 1863, 'AN0U0GNJJPEUR': 1864, 'A11YC63APLB2K9': 1865, 'A3JTJHOO15A3NU': 1866, 'A3RA9IGBRPLXQ9': 1867, 'AR2CNXO5LU4JP': 1868, 'A31JNBG3XML5OT': 1869, 'A133L22TAC5TA9': 1870, 'A2MKKH27I1UU7P': 1871, 'ALSAOZ1V546VT': 1872, 'A2V2I83BSJPCFS': 1873, 'A2S4OPKLE5FB7X': 1874, 'A26CVX8L74IAFS': 1875, 'A1UI8YT4BVQB0': 1876, 'A601IGAG8FWGW': 1877, 'A3UJRNI8UR4871': 1878, 'ADJAF7ZFZ25EG': 1879, 'A32OWCGEXIE1EI': 1880, 'A2503LT8PZIHAD': 1881, 'ABIVILOWVFQ9F': 1882, 'A1POGCSD85PJCW': 1883, 'A3SLC8F6VIWXIR': 1884, 'A221FPD86E5O87': 1885, 'A7QQCZK96JMS6': 1886, 'A36BQWQPYU6FRM': 1887, 'AU71YJNA3E3J1': 1888, 'A8BAR8CUBG4SH': 1889, 'A1P59OKDQV9W68': 1890, 'AZWXG6KBXXC2N': 1891, 'ATDJ3H36PBC6': 1892, 'A3LOAIRUUNO5IX': 1893, 'A1BLOBFHQ17QFD': 1894, 'A24FOVVEIEAIPK': 1895, 'A767RTUPRU4WB': 1896, 'A2ZH82YNEST6CQ': 1897, 'A11IKWE7B29TOJ': 1898, 'A2SB4RX7OJ43I': 1899, 'AA70TPDCD5D6R': 1900, 'AWP3OETSAYH0V': 1901, 'A2VQCEUCKD36L1': 1902, 'A29DQ5N0LMVP3H': 1903, 'A1WKQ94M45D8MG': 1904, 'A2DVGHWV0UZLVK': 1905, 'A2P13ZMSWF3IIC': 1906, 'A39E7IWNHY62JT': 1907, 'ANR73TPVBCQ9K': 1908, 'A36OW4CTHS3CCJ': 1909, 'A3FC50ZJIT2GMO': 1910, 'ATANE2SC44592': 1911, 'AC24YX9860KDZ': 1912, 'ARPE7MWT1C3SM': 1913, 'A1Q69CMZ9QL9E3': 1914, 'A1MRQ8Z7LGQ7N6': 1915, 'A2OZ4794P16TU1': 1916, 'A2QJ710FJC9E40': 1917, 'ADDDFVHP3CSVA': 1918, 'A1ZZEEBIQLXM34': 1919, 'AGDDJBAN2MCGN': 1920, 'AUAX1QWUCYKSX': 1921, 'A21JK1XVN7EDMT': 1922, 'A2YZGX57M5VNCP': 1923, 'A1SKQULOV77NT2': 1924, 'AO6BNTQV9GNC2': 1925, 'AMS0BR4407K6Z': 1926, 'A3DD0H3XLCNJ3M': 1927, 'A1EQVPJ3O3PE7M': 1928, 'A2GX33X1IV4AUB': 1929, 'A2LMG36902RJFB': 1930, 'A2BZ7MYTSNYMEW': 1931, 'A18SQ4EB8J8H13': 1932, 'A2JFL163HUJZG3': 1933, 'AGRCUD7B2MXPR': 1934, 'A13EPWUSIYR4E1': 1935, 'A29MA4EBRF6TGH': 1936, 'A8FKBLA05XOF0': 1937, 'A1UQBFCERIP7VJ': 1938, 'ATA098GPRGT01': 1939, 'A33Y8C4818EJL0': 1940, 'A2Z06I0Q4FMFHP': 1941, 'AA8TVGYLXMEU7': 1942, 'ARKOOHXBLCOOP': 1943, 'A1BYTWH89FG52O': 1944, 'A5VHIX97H8FPU': 1945, 'ABTQPLD1K7839': 1946, 'AUPTKICDH0TGL': 1947, 'A12066XBJS20IF': 1948, 'A1VTOFY4N47RGF': 1949, 'A11LNPG39A2ZV4': 1950, 'A3AUM2L4PLIEML': 1951, 'A32MQODC8EDEWF': 1952, 'A1QYE76M7E4ZK4': 1953, 'A2QVLWFBQ08FYC': 1954, 'A21P8RKP4HRO1W': 1955, 'A2Y3RNMBWIIE5F': 1956, 'A2WB7LZ595CR50': 1957, 'A16UMY0X6X7R03': 1958, 'A1B5KI7110XHWI': 1959, 'A27FG9YUBFDU2S': 1960, 'A2J6OFQ15WBG99': 1961, 'A3M3W5GV0HIQK4': 1962, 'A1ZBJ03O1D78CS': 1963, 'A2BR8ACW3AVWVA': 1964, 'A2N7F6VT2SQDYZ': 1965, 'A1YNLNPKDTFH5T': 1966, 'A3L2T9Z5QYJYFM': 1967, 'A1EIAFI297P6YU': 1968, 'A1DULQKYC6EV1B': 1969, 'A1VRPTS2C1ATNJ': 1970, 'A1307TZ17X6SD2': 1971, 'A3VL263FW0O1JL': 1972, 'AUPUDYKYU6431': 1973, 'A35G12ZECNXLXL': 1974, 'A2IQ2DVZK4YZCW': 1975, 'A2KXWUEUE51LGL': 1976, 'A13RTK1873ZLFS': 1977, 'A259X6HZ51Q46N': 1978, 'A2F244OGTONA15': 1979, 'A1H4OY28I9ADYL': 1980, 'A1P9WLE3DFEMQ2': 1981, 'A2K75QOCP9ZHSL': 1982, 'A18TGY5T94H55U': 1983, 'AIY1U7FDL2L8G': 1984, 'AIEEK7AHXKZCC': 1985, 'A2OX8O4TS0X3X8': 1986, 'A3FBMSWBJ202SF': 1987, 'A2PQMHHCI4TJVK': 1988, 'A2F8X61SB7F73B': 1989, 'A3HU9KQ2AO7Q22': 1990, 'ASJ0MKRFZC47B': 1991, 'A30ILEZYINVDB': 1992, 'A2BQWD54CXBX6R': 1993, 'A3U52V5ZAHZZKU': 1994, 'A2QYPEC9H2H6W6': 1995, 'A27JPD9Y6H9WQK': 1996, 'A1RZ0J2CZZJOTX': 1997, 'A1TNUZDZJTKMGW': 1998, 'A1ECTJJ0QNQPCC': 1999, 'A1Q19LUA075AOM': 2000, 'A1GVJX37TN2KCF': 2001, 'AC6LV5D2RKTIR': 2002, 'A2K7N4FBGEHVK9': 2003, 'A16VM71BLBCMMK': 2004, 'A1SCNB4DE7XPKT': 2005, 'A260QLS8Z33KCQ': 2006, 'A3VNJJU5GOS97N': 2007, 'A3U0S17XYK8XMJ': 2008, 'AF6AYACNYZK47': 2009, 'AUZ3EJAU37NC5': 2010, 'A1R1BFJCMWX0Y3': 2011, 'A2E6Y4DRAY4V33': 2012, 'A3EWUMHYMPD7IB': 2013, 'A157UIVPN0NYNN': 2014, 'A3RIQLKZGBQDOT': 2015, 'A2YUGPUW2HGNCU': 2016, 'A3GOVP6EDD1XDH': 2017, 'A186H8P2CH4ORG': 2018, 'A392CQOTI9JR27': 2019, 'A3SQGHL6AQ2R9E': 2020, 'AFTFND8CPQ34M': 2021, 'A35SF7WOUI49AM': 2022, 'A1WMT21SRY3W5J': 2023, 'ASBKP2FY961VO': 2024, 'ADX9NTN40T1HN': 2025, 'AU1I8VGB7D254': 2026, 'A243046YYZXJBI': 2027, 'A2UISZV5CTD805': 2028, 'A4OT65BOPX2BR': 2029, 'AX9C10JD538D9': 2030, 'A6U4W0DXLYKVU': 2031, 'A1CO2F7VSQ38W1': 2032, 'A2F04CXDQV30VR': 2033, 'A3FWVV13DJELLV': 2034, 'AIIR8E34EDKCQ': 2035, 'AR7AZKSV19BE0': 2036, 'A1BT6759WL0OVI': 2037, 'A39WD34ROZKJAW': 2038, 'A2OGN68EIOK1DC': 2039, 'A30ODR6WBE61UB': 2040, 'A1C8J8N4BKDFN3': 2041, 'A9O3ZVSNHZ0WJ': 2042, 'A3ECGCYX7OGQSV': 2043, 'A1N8QW8DDT7EJH': 2044, 'A3UPYGJKZ0XTU4': 2045, 'A16NRV54CGOO69': 2046, 'A3LX8I35QYWVGI': 2047, 'AZGWBAQ061SBA': 2048, 'A3N876BDAQGWOU': 2049, 'A33PKT5CAKBX1D': 2050, 'AT0E6UBVJMJ6W': 2051, 'A3DZSPA2Y48NMG': 2052, 'AKX7YE26PAMVP': 2053, 'A2GXAF7Q9OTTIY': 2054, 'ANLN2A1O4NIMS': 2055, 'A3OZPCMM35U2EY': 2056, 'A2WUHKA1I75SL3': 2057, 'A11CV6M1H8S1EC': 2058, 'A33F2N4Z9GK7UE': 2059, 'AB42KD37ZMFWN': 2060, 'AZ9N3928BGQ0E': 2061, 'A2V55J9CCQCOG0': 2062, 'A1TS45JWJVOSSW': 2063, 'A3MW6AIZWLJCOO': 2064, 'A1BTNPMESS99PL': 2065, 'A265IEMG2K5R4W': 2066, 'AP0O3EO7ALT63': 2067, 'A9XJ6GVTNDF2X': 2068, 'A2A84ELV7V9NSP': 2069, 'A141W8WHW9AC3H': 2070, 'AG2028ZASH070': 2071, 'A2GSJUETASGMO0': 2072, 'A1A8RXQ55UA8XH': 2073, 'AJ0VKOMDPHQPM': 2074, 'A36WTXJBYS3DB6': 2075, 'A2CBIGEQKMTZ4O': 2076, 'A2LQ1IHTYJEEA6': 2077, 'A2DT9P6XQW3T39': 2078, 'A2ILR47L0NFWH1': 2079, 'A2ON6D6P8JM8Z3': 2080, 'A3BVF9HSE5F8ZC': 2081, 'ATKL8C5IQ56E9': 2082, 'A1NLBKKUFURP48': 2083, 'A1I1DI692HQ0F9': 2084, 'A1Y64EPRAH20CX': 2085, 'A1N0H5PETP7E42': 2086, 'A33J61NHIEW31F': 2087, 'A3AWV00ZU7MSK1': 2088, 'AVJJ2D4G5I0Z4': 2089, 'A2LTEAUTDYHS85': 2090, 'AL9KKQ4V6EQ1L': 2091, 'AH1WO4RD371X': 2092, 'ATJV9TWMRNF8K': 2093, 'A3DY7DG40RAOSE': 2094, 'A1CC3G24842BG6': 2095, 'A15Q9YEG1XPEJN': 2096, 'A4HUA3IU17AP1': 2097, 'ALDKBXKQW78KI': 2098, 'A22M6JJ3EVP3W7': 2099, 'A15OVM8JWXHVNF': 2100, 'A27MGH8RM9WXT7': 2101, 'A2Q3BW3177V542': 2102, 'A1BH1VKHCYHGPR': 2103, 'A1KEPD71NTGA5H': 2104, 'A18B1KJJ14O0TO': 2105, 'A1EMN4T3ROJDOO': 2106, 'A5FIJ2TSN0QWZ': 2107, 'A3A6H97D6OOKT7': 2108, 'A1TWWTNPJN37M1': 2109, 'A22B7FDW1IG1C6': 2110, 'A93GW5XX51MAP': 2111, 'A102866V814SOJ': 2112, 'A3TRM9VHMCKWH6': 2113, 'A2H7UOR72X7F2G': 2114, 'AIWJCE18N71L4': 2115, 'A2UQYZCO6C3IU2': 2116, 'AW1YYDMOAII0I': 2117, 'A1WIARMTYHFQCO': 2118, 'A326D766H2I6RR': 2119, 'AIC7VZ9VNYRHK': 2120, 'A2O0ZDILYOJP6W': 2121, 'A37FFWZUGO8L7W': 2122, 'A73L4QLGV7ZV0': 2123, 'A1VUN4JU731CBH': 2124, 'A231N07R3IQHW3': 2125, 'A6QG9LM5WL0AQ': 2126, 'A14JDMEHQJRR3T': 2127, 'A16PUD6V3KAZ0Q': 2128, 'A2AOZQ3WTNVVOK': 2129, 'A2ZFE69V0T71HN': 2130, 'A2BAAKZHSUGCDP': 2131, 'A1SSIDDDCCK1E': 2132, 'A209PKR6FIJRI4': 2133, 'A23OEXX9JTOJZY': 2134, 'A3IXMUXE13KALF': 2135, 'A361TXVGQDPYUX': 2136, 'A1KDM0N4UCEPHA': 2137, 'A2MWA7HFUXV8J8': 2138, 'A36HAT6OHPMNHN': 2139, 'A2R344HWN5N5F1': 2140, 'A1B6O7SAIYG2N0': 2141, 'A3VJ27010XUWTF': 2142, 'A4EG8M5Q7C7WM': 2143, 'A1NC5TNAMWOX8S': 2144, 'A3V3Q2E70VWCD6': 2145, 'A3UWNRCTZVZKAQ': 2146, 'A2KLG26QWNDIPP': 2147, 'A21VGNU5959O85': 2148, 'A3C2JQC6R2K52C': 2149, 'A2HMB1IEBSGSHJ': 2150, 'AL4UTCPCSKNU1': 2151, 'A2S0SHEWROXG8': 2152, 'A1GWLTLZCHNEI5': 2153, 'A2WYTRZHKIDZ0K': 2154, 'A3EHQECWIRDPZ4': 2155, 'A2BJXOROYN18WY': 2156, 'A1LS4HTJAXVI8B': 2157, 'A28TWWUAWFVCTR': 2158, 'AP6U9UC7P8ZUR': 2159, 'A2N3TOK3OZKDCQ': 2160, 'A2S732BSAE39CR': 2161, 'A1DPDDPNK8HKV1': 2162, 'AXKYN0CWHATE2': 2163, 'A3RNP5X8ZGZIEI': 2164, 'A2LA1KY47VJPZ9': 2165, 'A2MBLVMVDLHK1L': 2166, 'AHXZ7JV7RMTGU': 2167, 'A2R46TPY466FDC': 2168, 'A2XCWQJ2E8JJ27': 2169, 'A17PDSMPB7HLYZ': 2170, 'A1DD5LYFQ3ZAOK': 2171, 'A3R8JXBUFRV1LJ': 2172, 'A1V9PARPFDQH55': 2173, 'A23WBMYCXZCXAG': 2174, 'A2LXG7OMJ758J': 2175, 'AM1S1JFTOXZMJ': 2176, 'A17771LTRWSKQ5': 2177, 'A199FRO0YFMGED': 2178, 'A1UYMA2KBEZJAV': 2179, 'A3OUWCE8CHWCHJ': 2180, 'A3KDU6P6JM1ONO': 2181, 'A6YEAHCVOHKWM': 2182, 'A2H6KI5U0OPDCO': 2183, 'APVKVOKIUFYTE': 2184, 'A2WKUC4FX8PPXA': 2185, 'A1R2N7UH4YQTN': 2186, 'A3RV9I6P9O0T50': 2187, 'AJK65L94VOWHP': 2188, 'A3D0JZ2QXXABQG': 2189, 'A21I717LTVC1Y': 2190, 'A3DLAD4NDHWEDR': 2191, 'A363CMKRJ19XHV': 2192, 'A1ACF7OZ5Z45HX': 2193, 'A3K9LSAB4K21EV': 2194, 'A2TRPBDNFSO1TL': 2195, 'A3M6TSEV71537G': 2196, 'A335GUD1YBS31U': 2197, 'A3NM1MT3Q2FHXV': 2198, 'A2M4SJYK2899CW': 2199, 'A2OGXO7G3GUBA8': 2200, 'A3PL5EW82A4QKW': 2201, 'A3DZFEICHK5LF2': 2202, 'AR8TLB6QXH1W1': 2203, 'A7KDJ0MVYYRA0': 2204, 'A21V0NROAQL7A8': 2205, 'A7H1LWFBE905R': 2206, 'AP9Z703TP9YCM': 2207, 'A3L6DF40IKSIEC': 2208, 'A1WOX7A4W048GK': 2209, 'A31HN9K3QEKJF3': 2210, 'AK7CAW3N1XZV6': 2211, 'A1C7Y31S5QXNTR': 2212, 'A2D97LA92PXTNH': 2213, 'AI36ONYG96EM9': 2214, 'A3FSZAGMC2WSRO': 2215, 'A6LPHO95P3540': 2216, 'AY91MQZZR750W': 2217, 'A2705TYWNRS495': 2218, 'A35Y8XKVYHJGIS': 2219, 'A31LB1IX6EDG3X': 2220, 'A32XGYDA14KT13': 2221, 'A110RS7QL8Q1UX': 2222, 'ATDE9JYCPI0L1': 2223, 'A3ER7785BOKGER': 2224, 'AYCDZQ43FGKR': 2225, 'A3AA9BC5QEKHKO': 2226, 'A3Q1J68QY1MZQ9': 2227, 'AX5Y4X8GRVS6V': 2228, 'A1RPR6GIDAA2AH': 2229, 'A3DPA9ARQYFJYR': 2230, 'A28IBOLVCSQRLQ': 2231, 'A2VAD79S4A06DD': 2232, 'A148RQ0M580F8V': 2233, 'A3KUVPJHTGGLTB': 2234, 'A3B2S40YG11CTQ': 2235, 'A1GMN83QQJ5K53': 2236, 'A3M77RHH1DLIXD': 2237, 'A2H20740ZG3V7U': 2238, 'A3EBJDZ5N1UEI5': 2239, 'A4UZNWPEJ17UW': 2240, 'A21TJVRUHT41X': 2241, 'A13X7XBBT1DN8U': 2242, 'A1DTCJV6KOMJOA': 2243, 'A32EOHLFZYXJEP': 2244, 'A1IUNHVZ5C0F0Q': 2245, 'A1TSK3TFSE0T5N': 2246, 'A17E3NBADNTI3X': 2247, 'A1QS1B2IW9SWHC': 2248, 'A1R3IUM1KVYK5I': 2249, 'AZIJ44I4NIO5M': 2250, 'AU0LLORGK9IDR': 2251, 'A1SX73TKLN7DPH': 2252, 'A2CZ98V784SRJ0': 2253, 'A1GYOSEAJ5EEK1': 2254, 'A1RVV44OXXTD0': 2255, 'A35LT14WG5BX0T': 2256, 'A1D4OWGUSWO2JA': 2257, 'A1W88UIK9S4PHM': 2258, 'ANEEEFP4BL7ZX': 2259, 'A33WOI846MMYGI': 2260, 'A3UW4XQPG44U5M': 2261, 'AAS4E02BPFAMT': 2262, 'A2YSQ3GVWYOJDG': 2263, 'AX329NHW6B7BA': 2264, 'A2ZGXQ566SR4FM': 2265, 'A2LXX47A0KMJVX': 2266, 'A1FVWVS8CRIRBO': 2267, 'A36HIK7UBPI0TR': 2268, 'ANXT431V3MW4Z': 2269, 'A3T6HX48F66512': 2270, 'A18GJ9MYYO6GCQ': 2271, 'A3IVTAT62XST8A': 2272, 'A3AHDR4F2J7YXX': 2273, 'ACUGBCEADYT6D': 2274, 'A2MHK2WJZ7HJ5N': 2275, 'A32SV7GY4ZEMX1': 2276, 'A2W23UG0TUP3A9': 2277, 'A25TNBMJ4ZO7RD': 2278, 'A1DG75OT3Y49EM': 2279, 'A1XQOAMM9F7LGP': 2280, 'ACN76NFHYL6JK': 2281, 'A18JAF91FTLN9H': 2282, 'A2V65KWNOLRV8U': 2283, 'A1OMXVXXP07F05': 2284, 'A39CGMH5A4XO7Q': 2285, 'A1S7TXHM2VM5EF': 2286, 'A3CHMHGSJSQ02J': 2287, 'A2ESXEVEQB37I3': 2288, 'A17ZH0JUGO72PH': 2289, 'A2CGZJXBGSBI0R': 2290, 'A1DFL66IDY0Z2Z': 2291, 'A3DFH4CKPIT0N9': 2292, 'AWVF9EWW3BXYV': 2293, 'A236RYWNTAABDC': 2294, 'A2R0Y8W4QCI9Z4': 2295, 'A22DAG9I1JESQP': 2296, 'AU4WXVECP0MDO': 2297, 'A1ZCSSCAGBCD49': 2298, 'A21G4URAAP0EN': 2299, 'A2YB7DLC3FOR7W': 2300, 'ACR4HKUT808U1': 2301, 'A3KGLXW3EYDTUH': 2302, 'A2GP6XJ1V3MM3L': 2303, 'A2XKJ1KX6XUHYP': 2304, 'A4LMOYHT1RO2D': 2305, 'AJ68F5QP3GK5S': 2306, 'AF1B1M9NWBVH2': 2307, 'A1G4J9LJ9TQZWI': 2308, 'A2XH6KI5ZLRLPS': 2309, 'A3A9G2G3QB3NYM': 2310, 'A1EKWMB77ETI3Y': 2311, 'A3BM33D682B9XV': 2312, 'A10Y058K7B96C6': 2313, 'A3O89SVYI4KCUI': 2314, 'A31EGFG5C4TETH': 2315, 'A1G75ZFJMTFRZK': 2316, 'A2JFUJ4TLYXH0L': 2317, 'A3GRPCW9DG427Z': 2318, 'A3KVT6K69N14W4': 2319, 'A1H8D53KV0IMX8': 2320, 'A2RMQWK75EEN7R': 2321, 'A3OPCXOIW7ZTGG': 2322, 'A3CNM18PWKI1Z9': 2323, 'A16GWMW2GI8XUJ': 2324, 'A3QXLSQVR1RX5M': 2325, 'AHKJ8QX765M8Y': 2326, 'A1VNXM9E5MSS9A': 2327, 'A1OU6YUT7B0FV0': 2328, 'A2IV70BWQBUF32': 2329, 'ACVS8I9T74237': 2330, 'A3G7ALTTF642PS': 2331, 'A1ZQKZ1K54USYJ': 2332, 'A1EJJKJJAIZ8N9': 2333, 'A25SZV39AG8LUQ': 2334, 'A3JLERGZ90RMZH': 2335, 'A1TURBPBTDENDB': 2336, 'A223Y9YQIZWX3Q': 2337, 'A2V0I904FH7ABY': 2338, 'AJRNC98E2ADGL': 2339, 'A3PM8J91NSSL0B': 2340, 'A1OUF3DPG2PY1X': 2341, 'A3CSWP37MF334K': 2342, 'A3E4EGAJSSL04J': 2343, 'A13V89Q8UQUKTQ': 2344, 'A2ZQFEW8HURDD5': 2345, 'A1OQQSBFCD2T4O': 2346, 'A11N2I11HJBD3E': 2347, 'A3GPJER8KNV83N': 2348, 'A3Q2CITG3XZ7VW': 2349, 'A2FNBD43DEZPM3': 2350, 'A3MLM6TUGHU4RZ': 2351, 'A3N0KCCCE7E7F5': 2352, 'A2YO1FC1A7YRSW': 2353, 'ACT7UWXQSZ3EV': 2354, 'A34VN05UN1OBJ3': 2355, 'A5SJ51NDTXYMG': 2356, 'AMK5PCBGAEW31': 2357, 'A89ZZKNDFQH23': 2358, 'A9X2MLWQOALBW': 2359, 'A2OUCP7JHXG9P9': 2360, 'A36SXS4ME0K854': 2361, 'API1QT8CGQKRI': 2362, 'A16YMCFWGSFGS9': 2363, 'A2OR94VN7XQCUO': 2364, 'A15R5T6T1TBSJX': 2365, 'AVQZ0JG8OP8P7': 2366, 'AWCJ12KBO5VII': 2367, 'A265TY8TEJ5N8G': 2368, 'A1J5PASA4OMBI4': 2369, 'A21BOTUYRKB30M': 2370, 'A3E8AHUAQEX0QH': 2371, 'A1ODOGXEYECQQ8': 2372, 'A38YS1DNHC3CVC': 2373, 'A3M9ONYTPETC63': 2374, 'A2G865VVNGP6E': 2375, 'A2M902FIGG3CDI': 2376, 'A2F1P10GGZ7K2T': 2377, 'A1M87SBGZN0E0B': 2378, 'AXVH1LLNSSE41': 2379, 'A27UCU6Y2I6527': 2380, 'A224O69F7AVXDR': 2381, 'AY3VKPCPKXOD9': 2382, 'A2NWUUABKJ8OAK': 2383, 'A21DO3PPOL66R0': 2384, 'A2X3ZCTZ6PUHMC': 2385, 'A2RKTFRM6YRK1D': 2386, 'A3TAF7M58DN46F': 2387, 'A1RSBRZQ8NXCSM': 2388, 'APSY52Q4Y7VF8': 2389, 'A2Q2A6JKY95RTP': 2390, 'A1P77JG6PMRRPK': 2391, 'A1Q222GZ16KA3Q': 2392, 'A2CSJAVTPSLFS6': 2393, 'A35GHFPOGAM6YJ': 2394, 'A1FCU7GAV5IHGG': 2395, 'A1O2QIQK2OR5TC': 2396, 'A3V1IZ8C17LFWU': 2397, 'A9OVI9QXVG3J0': 2398, 'A11LI37SHY97N': 2399, 'A2U0QQOF4O44LN': 2400, 'A1BCIXUOEVOS73': 2401, 'A29EAHK7SP8PIP': 2402, 'A2YIGODNVUPCZG': 2403, 'A307YFSORUAXSQ': 2404, 'A6X1O3A5C5FX1': 2405, 'A1X1KB1LVPMTHO': 2406, 'A2QBYNH780O937': 2407, 'AIYGTPLDBNVDP': 2408, 'A2PQSQF1JLAEYZ': 2409, 'A2IKX7H2PLHULP': 2410, 'A1O67VSDMVN44C': 2411, 'A3QNV9LUNM589P': 2412, 'A14L2638XC00EZ': 2413, 'A339NZQKH84XZG': 2414, 'A1RXG5MXNYPBKJ': 2415, 'A35Y0RSU09ANEN': 2416, 'A2FFWYG9YYZFA5': 2417, 'AK9N5IQR1P192': 2418, 'A2J8DE8R94ZB02': 2419, 'A3EPJSPH03AS29': 2420, 'A16YU3GRGCD95S': 2421, 'A7WLR60DIHE4O': 2422, 'AM98QA93XNIKJ': 2423, 'A3K3SE4RK846WO': 2424, 'A2WVAAIR2KL7Z0': 2425, 'A1FMWLZ9YY91XI': 2426, 'A1OWRLSD7LTSQ9': 2427, 'A4JI0CFOUAXBR': 2428, 'AXYO5J5D0M0SD': 2429, 'A26EPRAF2EX1SZ': 2430, 'A2HVR0MZAO14S6': 2431, 'A3ADJ7HRZG8D9B': 2432, 'A262UKJTDZOBUV': 2433, 'A1Y39T2CT36YL0': 2434, 'A2XM8UDOAEMGW8': 2435, 'A2MKJ0Y5DYXXLS': 2436, 'A1NH81HVJXIM05': 2437, 'A1PK2OL2W8IWLZ': 2438, 'A1SV13PG7D7SJX': 2439, 'A37R3P5JFNQG8S': 2440, 'A3M6XJ55L517LT': 2441, 'A2P8XCV8PBKJQE': 2442, 'A1HHPA73HHGABZ': 2443, 'AJXZUXN05JWXV': 2444, 'A1IU7S4HCK1XK0': 2445, 'A1IMVY2I2FO0WY': 2446, 'A38Z8ZXX1BPFRL': 2447, 'A3FIGZDJIZU3J0': 2448, 'A9VT1JX9I8IR2': 2449, 'A13TAZK9Q95A35': 2450, 'A2Z4S1H1X5BIOX': 2451, 'A2AVE8Q0EXDFAE': 2452, 'ANBCBZIDZ9XNL': 2453, 'A23LTUON8X4G6': 2454, 'A1ENR0YLS6SM6L': 2455, 'A18R90JU5L0P9X': 2456, 'A2RBZK9UX67328': 2457, 'A2K22IGDSNM0WY': 2458, 'A7YZHBFH7CERB': 2459, 'A1HWF0VV8AWJTQ': 2460, 'A2PLHVWJ8AMYJA': 2461, 'A2ILV8E3ULQNV5': 2462, 'ABP6MAR8P6RLU': 2463, 'A337APYDFHB9V8': 2464, 'A1DF11QTXYYVLX': 2465, 'A1DZIHLWJJRUW': 2466, 'A2PDKSRYOJGUGN': 2467, 'A3SR9ULOZXWVXJ': 2468, 'A16G8LLLHG0SNI': 2469, 'A1575JUI75IY6T': 2470, 'A2F6NONFUDB6UK': 2471, 'A2YYXZHT4RHW6Z': 2472, 'A1T8FNJK6T5RUP': 2473, 'A3D2188UIM5AKE': 2474, 'A24VYB9EXSWSQI': 2475, 'A3UYU1NY2CCW2H': 2476, 'A1SB54JRH8B18Y': 2477, 'A3FS3FJPD3RJTD': 2478, 'APG4YVSUN3T6S': 2479, 'A2PR4CK7LT29EV': 2480, 'A31XW1RTQ4ZG9W': 2481, 'A25EOTX5I354I2': 2482, 'A1UQV5VR85GSY4': 2483, 'A3N4CUW4UYC9I3': 2484, 'AM83WJG9BE2EP': 2485, 'A3I2NABLA9HTUP': 2486, 'ATYL6HLA621R4': 2487, 'A2WYYGLALJBVIU': 2488, 'AOP4S6P38IYGN': 2489, 'A17AHTCKJ4SUT0': 2490, 'A3OALG3ADDM5US': 2491, 'A3LOGP4VA9DX46': 2492, 'A3F45B34YOC0QK': 2493, 'A24MOMTTDNCXYZ': 2494, 'AQ5WRR4MS98YZ': 2495, 'A274YXKOH9OGW6': 2496, 'A2FI3GQHTBZC5': 2497, 'A1FOXRAJYN7ZNF': 2498, 'A3L6TYX6YDQ13C': 2499, 'A3TJ9NCZKS46LL': 2500, 'A25NT9MZV9RTR7': 2501, 'A1BT6TL7UCIC5Y': 2502, 'A70NFM6KHU24F': 2503, 'ABCIUE6NUFKSO': 2504, 'AQGQXINCTPYS5': 2505, 'A14ZXOYLX5LVH3': 2506, 'A3H62VYLEK8X1V': 2507, 'AS7W26NNLSU8K': 2508, 'A2RHDFFD4EBJD': 2509, 'A337TR2I6J5UVE': 2510, 'A35CCGJDNXUDY9': 2511, 'AKF8ZHTJHF9QI': 2512, 'A3IF06RTB34SWJ': 2513, 'A3RKYWYJH1HLMZ': 2514, 'AILKG7B84J0TJ': 2515, 'AYK7WWZKMVQQV': 2516, 'AS6ZM65L0AG3T': 2517, 'A29C0Z6BY8HB9H': 2518, 'A312UBIOP091MH': 2519, 'A2BLA13SDC5T4': 2520, 'A16ZKKJHDWC44Y': 2521, 'AW4MT9WP95TVD': 2522, 'A2IMLOJ2Z2QEU2': 2523, 'A3MOZLFHIOG5YV': 2524, 'A2L6QS8SVHT9RG': 2525, 'A9HCLHLFHKS2H': 2526, 'ARBVV2X30JNKA': 2527, 'AD6M0QYWZ8ACF': 2528, 'A2CA0CFUZS89OG': 2529, 'A3I5YPJZMTG1QO': 2530, 'A1ZK5LC434CIYJ': 2531, 'A1XSSG2IQL1023': 2532, 'AEOSWWUZ6DO1G': 2533, 'A1EB6OCXNZKRI8': 2534, 'A1FWB3DEF3MTXG': 2535, 'A3FKGKUCI3DG9U': 2536, 'A3M41B4AYJWFLT': 2537, 'A1FEI4HDXTA454': 2538, 'A1DF63BNDTB9GU': 2539, 'A21BQ8UAD3D6VJ': 2540, 'A3TWBW1B17R151': 2541, 'A117XUS2KI1M04': 2542, 'A3L7RTXALWMO30': 2543, 'A2W959D3BSFS7U': 2544, 'AK9XE112RZO6Q': 2545, 'AQ2QMPLNWM706': 2546, 'A35404F49F442O': 2547, 'A3Q0U1143BFYTU': 2548, 'A1TH5UXT33E7RC': 2549, 'AR33KU52LIBF1': 2550, 'A25B8W9VSY0C5Y': 2551, 'A3CQVSKPTU3PJV': 2552, 'A3ML8K8HH838BE': 2553, 'A1VZHK5PZJP1YX': 2554, 'A3VGSA71W3ZPM5': 2555, 'A16467WWAC2UNP': 2556, 'A339CCNJEZ2E1K': 2557, 'A2KTNK64VDJGJ': 2558, 'A31H39YEJEIVHX': 2559, 'A6G24O29K0P6R': 2560, 'A1EJ9DSKSM0UN1': 2561, 'A1ZJGTGZU816H3': 2562, 'A3HY3THGD7ANEV': 2563, 'A2FC7HQW52PHE1': 2564, 'AL8SSEC9U7PT1': 2565, 'AX4M4GN2DLA16': 2566, 'A2KF53C0ETRVEI': 2567, 'A14EPTYN50XSZV': 2568, 'AH7SGI37JSCHK': 2569, 'A2R6JRYUHY8P42': 2570, 'A3LSOG7F3ZCJ65': 2571, 'A1ZKZQPKU77Y62': 2572, 'ATLH5AGWU672F': 2573, 'A1QSKSNWAGXKBZ': 2574, 'ABIXH2YR8A86G': 2575, 'AVL5IDEE8YA3D': 2576, 'A1WAA32LZ1488K': 2577, 'A381MT950I6KRL': 2578, 'A1UJBAL0ZT6O3D': 2579, 'A2WCNWKJV9DQAB': 2580, 'ADG9G023I0PVZ': 2581, 'A1R5UF5IOJGWBF': 2582, 'A1HD0BF7SJH4CG': 2583, 'ARASMD17H0WEZ': 2584, 'A1X6PXS7441VS5': 2585, 'A2HZ15YBAJVW3R': 2586, 'A29E6HV2DT7RCI': 2587, 'A3TOFRVX4N9UT5': 2588, 'A216NSW58Q3SCJ': 2589, 'A17D2CT8TAPMSG': 2590, 'AMNNPDX9MFEUD': 2591, 'AW77KBRLVDD0T': 2592, 'A1806K4AD7LM0W': 2593, 'A1GNYV0RA0EQSS': 2594, 'A1MFMWKPTDFZE8': 2595, 'A1WX42M589VAMQ': 2596, 'A30KRD5W5FS21Q': 2597, 'A1XIKDML1YO1WU': 2598, 'AVRV5NTGXZPAB': 2599, 'AU6OQZPM195YO': 2600, 'A30638B9S2GOM8': 2601, 'A3I4ZRJ1E5QBUE': 2602, 'A35YXEDATMIJ9S': 2603, 'AI3Q9MPO6Z7LR': 2604, 'AWFY5DWAOFBD6': 2605, 'AF3BYMPWKWO8F': 2606, 'A26AVNPH90LEIL': 2607, 'A1HTD9BFY0Y557': 2608, 'A1AXBN25KBBWSC': 2609, 'A28N2AWOVO2PB': 2610, 'AM2FXMJCQAHEE': 2611, 'A23LRGXH0BTGFZ': 2612, 'A3NIHCBCOWK4X5': 2613, 'A1WUAZSEDLWNZN': 2614, 'A1DO6DKWF3CMBD': 2615, 'A1NEIH01B5X6QL': 2616, 'A2ZOHKL28AM5GY': 2617, 'A3PH249MRUMLAH': 2618, 'A24YNYNC6QJNBN': 2619, 'A3K1ZGGHL4EXU': 2620, 'A2Y9VQ0FGLJHWL': 2621, 'AKPG8VQBS0MWR': 2622, 'A1H4OOUVRTZYNS': 2623, 'A1SYEY0VXLA17Z': 2624, 'A2GK5S3ZF9Y8YO': 2625, 'A15PUBCS4N4G60': 2626, 'A2BH950K3IQ0UQ': 2627, 'A25RVSK1RSVC48': 2628, 'A898MSI4C3E4B': 2629, 'A2LUOPJNWOESF1': 2630, 'A17JOFI9IDPSES': 2631, 'A154UC6EHTSXAC': 2632, 'ANO5RR1KPU9FZ': 2633, 'A11XLS2X7AO7PQ': 2634, 'A17GI2HXKPXHSU': 2635, 'A2HMF8ZR67BNZS': 2636, 'A3UNR8PMJLC8ER': 2637, 'A2OX234OSU0SD1': 2638, 'AX148M3X6EUGN': 2639, 'AT2YNTTJ02OTO': 2640, 'A11440ZB6FEAKF': 2641, 'A34ZOFAJWL9UAM': 2642, 'A1FUBPW8U2RYUY': 2643, 'A2KUYKZP95RB0F': 2644, 'A32KZUYCAHHU63': 2645, 'A3Z9QN0RCOHEY': 2646, 'A23OH5XOPXS6XI': 2647, 'A36VNA9PTF6JER': 2648, 'A24OG61UCZF55': 2649, 'A3FP7OTPZKMMZS': 2650, 'A3K9PKWXG2J873': 2651, 'A1U5D2G92QYD7Q': 2652, 'A1EYDV7OQE5BLC': 2653, 'A1SGVSYOB70FY': 2654, 'AGRNF0GM6NAN7': 2655, 'A3IL4YCLWGPRWJ': 2656, 'A1WD3VA1TH59NY': 2657, 'A3HSC1S1WID15T': 2658, 'A1JDORTDBL9BJE': 2659, 'A14E7LZASLSX36': 2660, 'A2FW71YE37Q2YO': 2661, 'ADCFYDFH76H20': 2662, 'A2D2JE8JC3VNW2': 2663, 'A2GANR9I6XHTU9': 2664, 'A39LRLKACX89IP': 2665, 'AEE8969U5MGU3': 2666, 'A4SYP9YL5FKS5': 2667, 'A16V9XOFCL1TJ5': 2668, 'A23WEMR6HY38W2': 2669, 'A3UEQ1CYG8E6D2': 2670, 'A3VCQX0VZV9I7L': 2671, 'A18OLZIT0DGVJR': 2672, 'A1X6ASXO8F7A9E': 2673, 'A3FD3BHIUYIFPD': 2674, 'A27S0857EIIG8W': 2675, 'A1ZEJOWDQ3YD43': 2676, 'A4EBYIKOMYFF9': 2677, 'A2H7XVRD27L2QL': 2678, 'A1S71R4YJDJMAD': 2679, 'A31EXCSFPH9XG0': 2680, 'A3AZM2RI2QXWSO': 2681, 'A1E7EX9LUM7TOF': 2682, 'A2UNEEEJNHGS2D': 2683, 'A326ORFY46O7CX': 2684, 'A51PAISHH32ZY': 2685, 'A175WOXLHJ9N5G': 2686, 'A3GD3SYZUN0FP6': 2687, 'A2NO09KBON4QOD': 2688, 'A3LDZPJ6OZYIQA': 2689, 'A2VBBEPR330C5C': 2690, 'A1AIONUPTTDFK4': 2691, 'A235NA61RC6YC1': 2692, 'A2QBQ87U1ICV4G': 2693, 'A11JWVCT7N93NH': 2694, 'A1KEK09ZA6J9P8': 2695, 'A27V5FYTO651JT': 2696, 'A140ICK18NAAYR': 2697, 'A27CTW0GPEE0AZ': 2698, 'AA9FGJX4HTGPG': 2699, 'A2CJLDPPANU020': 2700, 'A7WLP2ROPFTUQ': 2701, 'AN62VG516BIOU': 2702, 'A2XRSLJ5U169XP': 2703, 'AMZCZBK1EF1PV': 2704, 'A3ORV1QBL4K9U1': 2705, 'A3OWOZ8EQGP7G1': 2706, 'A3CBCVHIK3G76X': 2707, 'AQCJWSMSURQI2': 2708, 'AG8DPYVTLT2C2': 2709, 'A27W7VY46CE1I1': 2710, 'A1JH34F5J7AO5G': 2711, 'A35V906GNOVU3L': 2712, 'A13D08OA1VG6J3': 2713, 'AQCL9JWDUGUO3': 2714, 'A3BG6DCAJCL61R': 2715, 'A2D1258ES6QOQL': 2716, 'A1VABWDOUQLULZ': 2717, 'A2086XXFX0M0L4': 2718, 'ACYR6O588USK': 2719, 'AF7FNUMVJV1VJ': 2720, 'A25N6AYW8BTYBI': 2721, 'A2P739KOM4U5JB': 2722, 'A1UV263N7BF8XG': 2723, 'A2PS5JKTTE6TSY': 2724, 'A11YA52GQ0D6B6': 2725, 'A3KHMVKLCRFZB5': 2726, 'A41II52YCOH8Z': 2727, 'A15H4Q3U7XXO8S': 2728, 'A1B1J242B6OQK9': 2729, 'A33B3XCIXB4ZVG': 2730, 'A31RQG6IXO0FN8': 2731, 'A2ULTOZBKK4KLH': 2732, 'A2J8289OOT5DE4': 2733, 'A2EG52F067L2TT': 2734, 'A9KLAL1CXZ0W5': 2735, 'A38YT9I8SQ20NI': 2736, 'A2K21IAPLTPF3Z': 2737, 'A1WP0CG1OUSHMR': 2738, 'A35IRTPNXBD1R1': 2739, 'A1X7TX6H43L9K2': 2740, 'ADVSW4W1HHYF7': 2741, 'AF74UAKV3Q3W0': 2742, 'A1TP2RW7KDI5AZ': 2743, 'A5H8NA5CJ0FK4': 2744, 'AC8PTTE9SEU9E': 2745, 'AT1RF4WNPGGLC': 2746, 'A2RBC8IRQAZLWV': 2747, 'A3A3YG4XF7TQAC': 2748, 'AUN84JK9HUKZ7': 2749, 'A3KHWY7T46BBAP': 2750, 'A4Z5J9NAHEHDA': 2751, 'A1QGLKV2CITDCF': 2752, 'A2KMJ4O4ZAH8GI': 2753, 'AY1UCM5FG6VCG': 2754, 'AE88D7OM7YU99': 2755, 'A1520O7UE0HDWI': 2756, 'A1GIHV3V7LW85B': 2757, 'AWJMRX99ITPXK': 2758, 'AFCAZIM440BI4': 2759, 'A1HOLE9R6WPT85': 2760, 'A1XR58IRKP3HEZ': 2761, 'A1CYO1O606T8WA': 2762, 'APR52YKQ7EZVV': 2763, 'A3RDRB33M4U8ZH': 2764, 'A2BHOZILR7SY9': 2765, 'A122SFGLAHQLSJ': 2766, 'A23P5BO1UGNIRR': 2767, 'A1BRQO2VLX0QVW': 2768, 'AXWSUELYCAPC9': 2769, 'A3RSPP6Y8SKVR1': 2770, 'A22GY8IOSBB9BG': 2771, 'A3R9AE276DZL5M': 2772, 'A14T4JDOMP7U9G': 2773, 'A3F2GE88HD8MDC': 2774, 'A1NQK5MH9GTJ6S': 2775, 'A2NSKJ0R6AEG0P': 2776, 'AVE1SXX3A7B24': 2777, 'A3RVYGFA3T5VW9': 2778, 'ANA64LWDCB25A': 2779, 'A29JV56YIQ9MVT': 2780, 'A1ER4AGDHQUXYV': 2781, 'A1VVXGL8GI2II4': 2782, 'A1PPSHNV1KJ5X3': 2783, 'A2U6LJJO67TRRN': 2784, 'A3MMMEQYQFE7II': 2785, 'A1R4241KZGQIG4': 2786, 'AYNRALJ4X1COS': 2787, 'A6WJQ1C01N36K': 2788, 'AL60IYEBZEAKK': 2789, 'AI4JRDD129ZG3': 2790, 'AVTDFGJK4RSI5': 2791, 'AVGIVZHEOA4QJ': 2792, 'ARAX8RK1KC4SW': 2793, 'A1HOLJW15Q5S5V': 2794, 'AYGEP8I4BQ3CK': 2795, 'A3UD2OVCYF78FG': 2796, 'A108XP24UESKSV': 2797, 'AFU0JH2Z063DS': 2798, 'A3UASAIMF2R3QT': 2799, 'A18DHHHRTNZAM0': 2800, 'A3NGK03GOJ1JDQ': 2801, 'A3744L2QRP2I8C': 2802, 'A33SX0AD5PYD9B': 2803, 'A26EUBG2TMWYFD': 2804, 'A8VAO0Q5SML73': 2805, 'A1JMYG5MOYGDYJ': 2806, 'A1D5RCOILPC9LX': 2807, 'AW189LTU6X9AY': 2808, 'A2EL2WXUKRU9BC': 2809, 'A3MLE6CYAGK3R3': 2810, 'A2PMR2PIGWKCQ9': 2811, 'A38BE06WWL20AY': 2812, 'A1TS27MVS1WGWI': 2813, 'A2SPV96SGOEO2': 2814, 'A31LLD3KPLPFND': 2815, 'APE5GBFTJSHR9': 2816, 'A3QS776PDEZ773': 2817, 'A1YAHF2E2MWR4P': 2818, 'A3741P0VRPAYDP': 2819, 'A1I2U8NT5J6P1N': 2820, 'A27BONCJ1HZDIL': 2821, 'ATI5QY38IY3NV': 2822, 'A2N10B0NEZKIOV': 2823, 'A23IYYD1CN8O86': 2824, 'AWXQORMZ3JY4P': 2825, 'A11EQENJJRH8X6': 2826, 'A5K3CK2PWYQ7O': 2827, 'A3BN5Z996H9TZQ': 2828, 'A5GPH59NDWJRB': 2829, 'A3V55DVYU80LDS': 2830, 'A39ECS1S0CJ0X9': 2831, 'A21WBIKZHAHFJE': 2832, 'A18L008KVHQ1AM': 2833, 'A239ER4X93L28K': 2834, 'A2ZI3U3GV4WV6K': 2835, 'A2OVBO8Z3GALOD': 2836, 'A1DKO10KSHP3PS': 2837, 'A1OQDKUA4PTVJI': 2838, 'A2B7DW8XZMRMN0': 2839, 'A1ZWG3ETGDJIR5': 2840, 'A2OS3TIVAKUAHG': 2841, 'A1D3KAQ1VY8LUG': 2842, 'A2MPXAJK3K61IY': 2843, 'A15S9RB0R1D15Y': 2844, 'AG7EF0SVBQOUX': 2845, 'A38QHZEEYZKT27': 2846, 'A1E8XXAKINL0B1': 2847, 'A1QBBJ2AHQKEGE': 2848, 'ALYWKJYXJ6W5X': 2849, 'AKHG70FKKHDTH': 2850, 'A2OYNAAZK2PY7V': 2851, 'A3BPZ2XFRLCD1S': 2852, 'A3U5MO392GEEH1': 2853, 'A31Q2I6MYV81OO': 2854, 'AL717X1GYM0JV': 2855, 'A2G8D1VN3MVB6F': 2856, 'A3B6E2WUEKE9WK': 2857, 'A39PJ0ZRD3QTLD': 2858, 'A3SCU8S8MC6S4Q': 2859, 'A21B9M2H244JYM': 2860, 'A330H3NSXTHEUV': 2861, 'A2G7B7FKP2O2PU': 2862, 'A2QVJ11O5ZM9FH': 2863, 'A22E56DQ8FTP36': 2864, 'A1YIPEY7HX73S7': 2865, 'A1IHK8GL1ESOND': 2866, 'A3TIL1PC2ZE97B': 2867, 'A31DVKL8JE4XAH': 2868, 'A3J2OO5TNPMN9M': 2869, 'AI2YYV9D3LS8P': 2870, 'A1ZV5SF171FFMK': 2871, 'A1UBGDI1IIRI75': 2872, 'AWF297MUK3RCS': 2873, 'AHLTB5YPI6JX1': 2874, 'A3NH8OY5LUVOSZ': 2875, 'A1278GKNIB8UZ': 2876, 'A31E2473ECO084': 2877, 'A15KYC62I1EIAC': 2878, 'A276IP2VUGOSIJ': 2879, 'AGMNSU1CR39RR': 2880, 'A3LQ2OIJG9BO97': 2881, 'A2PF64RBR1G1SZ': 2882, 'AMSZT5FC3JD5E': 2883, 'AMXLMG97P1H9F': 2884, 'ATZTIU71681SO': 2885, 'A1T4SUED31GCHG': 2886, 'A2CZPM110DW516': 2887, 'A2EU4FVLOVMVKN': 2888, 'A3CXJIYYG6JWKE': 2889, 'A2RIHQ4AFXI30F': 2890, 'A2CWIYIETNBAK3': 2891, 'A3JBJWPDD07B40': 2892, 'A1DMRK2YINRC16': 2893, 'AZD8SMNGQI98O': 2894, 'A2N51AK3OZZOTM': 2895, 'A2DIYQC8MNVYUB': 2896, 'A15TM51XDDGPZ7': 2897, 'AIPGBTM6TJ9IN': 2898, 'A36VWPU7SXWOFG': 2899, 'AC5PPX3XLCZN1': 2900, 'A31CR1WOVCML1Y': 2901, 'A1SQVRFPGWQ3HQ': 2902, 'A2Z8HBD9WFK2Z3': 2903, 'A3Z96U2AVVDJP': 2904, 'A1GHKSWT15FDWU': 2905, 'A1M5HJLJ6EDHFU': 2906, 'ATN4J5VS8Q0YM': 2907, 'A23O8T3LNL9YY8': 2908, 'A2MHKBRV1K48FE': 2909, 'AIWNA9CO69GZT': 2910, 'AGC1Z5C1NQ64A': 2911, 'ATQXIVCSUPDW': 2912, 'A31EP5ND68247Q': 2913, 'ARXU3FESTWMJJ': 2914, 'A2O8SEFGLPBH2O': 2915, 'AHN5NY7E8XCQ8': 2916, 'A2K4MXD1N2LFJB': 2917, 'A88H8HDPWVVMG': 2918, 'A3IE9F9PFLNUYN': 2919, 'A1O5T5R8A6EG7U': 2920, 'A26N3O4QO1GD74': 2921, 'AKVJY23S6JFH2': 2922, 'AHZVX40D3P6CH': 2923, 'A36VNOA1LVRFFJ': 2924, 'A37USOKUTI724H': 2925, 'A25FJ8W6WCBFEC': 2926, 'A3PDFABEHP9FLP': 2927, 'A1I5A50VXCFJE5': 2928, 'A1XEZIHQIUAOR1': 2929, 'A3W1OO50SSUY8K': 2930, 'A2NNH35DIY658': 2931, 'A22CI1SZBZTN32': 2932, 'A78Y9O0GSY28T': 2933, 'A325AWZXD3KC8C': 2934, 'A3DN1EHYLP0IIA': 2935, 'A3PPEJY11SIL3Z': 2936, 'A1AK356ZAVT3DV': 2937, 'A26JLTTRXIY6OI': 2938, 'A1CWXKAC4W0GIU': 2939, 'A2GWWLZTRRE5HO': 2940, 'A22BKY1TAIN2NR': 2941, 'A3XAKONHKWYC4': 2942, 'A1047EDJ84IMAS': 2943, 'A3BYZUURF9LNYQ': 2944, 'A1MD9AEU9C4WJN': 2945, 'A16UO065RCHCGW': 2946, 'A28ZOSR4X9V3UF': 2947, 'A30Q7HNAJAMQXU': 2948, 'A3SF8D9FJ37SLZ': 2949, 'A3QIK6BB10WYE9': 2950, 'A28QX31TCIRZF6': 2951, 'A1B95QB8NVYOSM': 2952, 'AX9PVIIHKST28': 2953, 'A3SAIP0NEPUU7J': 2954, 'A3QJU4FEN8PQSZ': 2955, 'A1S5LQ4W3T8401': 2956, 'A3N8GVI3OM55DP': 2957, 'A2YCLJNOE7JGCW': 2958, 'A1YLOROSPAULRJ': 2959, 'A2OG0EAIC2PNSE': 2960, 'ALUV2YKWZENKK': 2961, 'A1XTUTWLWW4EIA': 2962, 'A3JC9W47X7WYK8': 2963, 'A3HS4R46MZ87RV': 2964, 'A1EE6LQS3OPY6R': 2965, 'A3EZHMGGWY74HY': 2966, 'A2VSKUR61RYPYH': 2967, 'A12PH6L5QSVTYN': 2968, 'A1YMXGQQT7YWMN': 2969, 'A1E2LPIGID4OY': 2970, 'A3PJJNFE3ZAP76': 2971, 'A2B04GUVF48WU': 2972, 'A1RUPZ1HXPLBII': 2973, 'ACMV0J0RP5YQD': 2974, 'A2YG3QYP5BFNYG': 2975, 'A2GFX3DQ8ZHPVK': 2976, 'A32GCOTGFJ9XC3': 2977, 'AZ0O1CT77N1W7': 2978, 'A3CP3TIMMV9ROY': 2979, 'A3RGYUK1MO9V8E': 2980, 'A2H2I5FY1PUHP1': 2981, 'A3QGVH7WIATOSP': 2982, 'A1H9ASP5TUCSP9': 2983, 'A2JSSFJAGDUS56': 2984, 'A1E3I2UDK711DH': 2985, 'A23V3WTYJUJIY8': 2986, 'A4S284HLU7R9O': 2987, 'A1XE7YK8O300KM': 2988, 'A3DZFW2XL5S6XK': 2989, 'A1D336P5ENFFJN': 2990, 'A1NKOYPJT8ZU8H': 2991, 'A14V1KIQU0U4RV': 2992, 'AI133BDJHFORJ': 2993, 'A2L4LUQCMWBFVO': 2994, 'A39JGASUME7CAJ': 2995, 'A1K1MDRX8D61LF': 2996, 'A1RXH3XWSYIB1M': 2997, 'AE2P8VSPXQ7LG': 2998, 'A1L3RWD0VD0A1P': 2999, 'A1GF1J6Q9ERSMP': 3000, 'AYR9VFT77U68X': 3001, 'A3F8PN1UY4G7ZT': 3002, 'A369YOM4RBUWP4': 3003, 'A19FRW264WZTGP': 3004, 'A1Z6LEOOIN1ISV': 3005, 'A3VTWM27O0SZ42': 3006, 'A328TCK9WL7K3Q': 3007, 'AE76U8LPKIO20': 3008, 'A3S7ZJ0I6KR5H3': 3009, 'A1XGSMXS6SEL77': 3010, 'A2ZFS1ETNMDUX1': 3011, 'A29AHSM8RDYA2H': 3012, 'AI4YSOGQGYCLH': 3013, 'A22S7D0LP8GRDH': 3014, 'ANE1HNWMHEB7G': 3015, 'A3H0K82OLZDRDT': 3016, 'A2UFVPHIHLKNUA': 3017, 'A31ZXB9VUW2HQP': 3018, 'A234X1MVIMPMMC': 3019, 'A5O8VQWAE4FBU': 3020, 'A14CCDURTA6ZMO': 3021, 'A2XQHW2ZLE6IHQ': 3022, 'A2FI3GF4Z7QNO': 3023, 'A3N4VTNFPMTHEF': 3024, 'A13RTN901YNT7S': 3025, 'A37RIRXE3WECZ': 3026, 'A1O6I7294KOSP1': 3027, 'A2BRTCOIW7TDYK': 3028, 'A1ZEAKUA45EEBK': 3029, 'A2KTF3UPWIG1B7': 3030, 'AHD4TRX1LXN1': 3031, 'A1GWG5CWLKJ7ET': 3032, 'A3LKPZO4ZSRC23': 3033, 'A28Q9KZGZEDKTZ': 3034, 'A24YW6RJPFM7JR': 3035, 'A2HDCO3BL326PC': 3036, 'A379SJMF93CVYZ': 3037, 'A192JES8J9ZTKW': 3038, 'A3K2FR9AJEF8XZ': 3039, 'A23AH7XNL9GSL1': 3040, 'A10NK3J44E66BN': 3041, 'A3SE4NU7AGO47Q': 3042, 'A2KS0FVY2CNJ8M': 3043, 'A2VR6BK6U3080V': 3044, 'A2A9YAF0YD42NS': 3045, 'ABBLKU5YUWVXH': 3046, 'A17JGEYNQRYMHE': 3047, 'AUECZWVG4X7XK': 3048, 'A24IOBGALGOZCB': 3049, 'A2C87W3P7PGG2Y': 3050, 'A7QILJ0KFTUEF': 3051, 'A3I9GQ3I0AXL4W': 3052, 'A5THJYNHCBX3X': 3053, 'AFYQ9V4XBVCJ1': 3054, 'A2E17WW862NR24': 3055, 'ALCLEF26KV34M': 3056, 'A28FJ93TJSSQS4': 3057, 'A3TSEW1ANGIOZN': 3058, 'AGZSVG7AE9CMV': 3059, 'AAMGE7QU3W2AO': 3060, 'A319Y83RT0MRVR': 3061, 'A1FDWNNQ50ATXS': 3062, 'AUDPHTF2KH1JS': 3063, 'A2DWCU3P8AEKZP': 3064, 'A2YT6UH8DKGZ1Z': 3065, 'A1Q08H4B9QGT2N': 3066, 'A2LAQ0UNCSXN6I': 3067, 'A1575LB2RX92AW': 3068, 'AOGM0FZJXFUHV': 3069, 'A3FLDCPC36ELU': 3070, 'A2KWQ64TRHB3YH': 3071, 'A2NY2OSQEVGV15': 3072, 'A2G9UDL72YUTT8': 3073, 'A1739RDYJNA6HT': 3074, 'A2VC48WIMY6L6E': 3075, 'AE0337VVP8MRM': 3076, 'A2HYYF4MR9F89O': 3077, 'AA55VDAG0XXRA': 3078, 'ABX1LE2T3RJJ': 3079, 'ALJUE2EBH9XIA': 3080, 'A1ZGHA3IJV01BK': 3081, 'A2BLBDFMVKAAK': 3082, 'A3SGSNBSMJUUGR': 3083, 'ABOTQDXWRU51G': 3084, 'A2PK8USJ6P7C3': 3085, 'A1XVF5DU3N05OM': 3086, 'A2Z1JNMWCZX88V': 3087, 'A21ZXKN8Q0UYJV': 3088, 'AWJBO5XGIW8ZS': 3089, 'A13J2PGKNMJG1K': 3090, 'AKOCTXJ5KV8T2': 3091, 'A18L48UCHSWBQF': 3092, 'A1X2200VP4P4U3': 3093, 'A357B3PUHSVQA': 3094, 'A3LQCSMM1V6M0R': 3095, 'A3OFOLJN35EQG8': 3096, 'A29JF6QMVW3XDD': 3097, 'A28T94QB6V54GG': 3098, 'A1CDRFH2UVIDIQ': 3099, 'A2ZY48F7RX4SRL': 3100, 'A20XBV5UO5ZS2S': 3101, 'A23LYYPZPV3W21': 3102, 'A1X1ASMQZESS3Q': 3103, 'A2OZNDNYUJIV25': 3104, 'A2K89R0B20LYHB': 3105, 'A2RQOO8VYAEZZG': 3106, 'AAC01CP4YYPPF': 3107, 'A2OL0JTU0DLH6B': 3108, 'A13VL2XSHUWRTH': 3109, 'AJQXRZL67VQG5': 3110, 'AHZDZ7XLCB7H5': 3111, 'A2W85Q0VJNPYLM': 3112, 'A36U7QMYILRLSW': 3113, 'AO7RFXGXSY3LN': 3114, 'ATZDGPMWR6N5D': 3115, 'A34ROSQ0940HSD': 3116, 'A2OWID6GQD7SRM': 3117, 'AY49JOXTLDOG2': 3118, 'A3HVX4YYJLXAFD': 3119, 'A3R36L6I3O8HNM': 3120, 'A2N0ORB4ES548E': 3121, 'A1V0PVGIZO36BW': 3122, 'A2YDJ928L04Q1C': 3123, 'A35EYM5A6DJ713': 3124, 'AFR1WVDR88ON2': 3125, 'ANVPLS56WCKL2': 3126, 'A2NM6383S01M2N': 3127, 'A13H5US9Z7L9M7': 3128, 'A1SZTF2J27RUF3': 3129, 'A2BH04B9G9LOYA': 3130, 'A8WAYVOKYBLO6': 3131, 'A2AVMEB8PQOTTE': 3132, 'A20W9PSUAKDRN1': 3133, 'A3BQMWY60QAPRX': 3134, 'A34SQMSWWKU189': 3135, 'A2DQGD2M6EZRS6': 3136, 'A1LRQWKGVXCJ7C': 3137, 'A3KUS4VYAOYWHY': 3138, 'A1UNM2BK0XPZLS': 3139, 'A2RMXI5NNXFES7': 3140, 'A38VL8YAHG1RPV': 3141, 'A2J0D8EHQBF4KM': 3142, 'A2VAYEHMZGXATX': 3143, 'A1JTTI1KH3DOCY': 3144, 'A12YPN6IFWKN93': 3145, 'AJD41FBJD9010': 3146, 'A2P0R91RPQWTJG': 3147, 'ASTE2P3Z3CE2P': 3148, 'A1CYV9CR67GKU0': 3149, 'A2Y33L0JWOMR4E': 3150, 'AYZ5RU7CLUY2A': 3151, 'A1AUVLXU2XWNJ1': 3152, 'A3J14WG9NIQBI8': 3153, 'ACHTDPEQYSEQL': 3154, 'A2Y1QK5VT2QX3X': 3155, 'A1382NUB0AKHTK': 3156, 'A2LO9WPU56M37R': 3157, 'A3BR4X13C562NP': 3158, 'A1BTG38XSGYLW3': 3159, 'A3QNL2SYBQ2ZS2': 3160, 'A3HAQ03H9C99G7': 3161, 'AFQ7VK2GL265J': 3162, 'A3GMVCTJTHYG1F': 3163, 'A2Y86NGI9SXBHM': 3164, 'A21U4DR8M6I9QN': 3165, 'AYUF7YETYOLNX': 3166, 'A3NZSS80F98FOZ': 3167, 'A2HND0E9TV3T78': 3168, 'ABL3PCYAQ1Y4C': 3169, 'A2WL17COZQXNYL': 3170, 'A34ITQDFC2H0EB': 3171, 'A3PXFEOWKRCUZX': 3172, 'A34EQAIKKUWYYW': 3173, 'A5H86XYSS0OU6': 3174, 'A2WFZWRYWLC20S': 3175, 'A3HUNHL7WSSVCH': 3176, 'A2HRQLIS0CS2OH': 3177, 'AJ9VB45YRX8C9': 3178, 'A1DAR6U4E4LG39': 3179, 'A1K1ZKOHP4RQTW': 3180, 'AZ4LR12IMQ36J': 3181, 'ATLXT64KWUOBN': 3182, 'A2QO20Z0TAHKTX': 3183, 'A33KT5YL805RSN': 3184, 'A3BA243AM692SH': 3185, 'A2PU5BCS7PLPZM': 3186, 'A1GN2XQI7L4QK4': 3187, 'AZ90LWO8QPGV1': 3188, 'A37BC154GF7ETV': 3189, 'A12LXY31MFASAL': 3190, 'A11J81ZI9KAERU': 3191, 'A3LDZ2GFPBMOY8': 3192, 'AYMD77ITD15PT': 3193, 'A2VWTQPIU63DD4': 3194, 'A1F9Z42CFF9IAY': 3195, 'A1SD1T5VZXUAS6': 3196, 'A3LT1JEFWX443A': 3197, 'A3GMRYV7VAYK5Q': 3198, 'AJ329F9H546BM': 3199, 'ALE3ORJUOOAHV': 3200, 'AJEDVT3OSUZCF': 3201, 'AY4ZDVSY3VXP8': 3202, 'AYWHCM0TJ4737': 3203, 'A3G7JGYNVP1O4L': 3204, 'AEQW4I82Z5LR4': 3205, 'A19Z4IDNL1MGG4': 3206, 'A3C9DK18RMNE3B': 3207, 'A2MSF5K7HM8TF1': 3208, 'A1QIH7NR5YZRND': 3209, 'A16CJ83ZHH89MQ': 3210, 'A2LS6OJAHQYLPE': 3211, 'AE4AI4GHFW8PC': 3212, 'A2VJ3ZPUT58PJD': 3213, 'ANRXH0BVEAR6B': 3214, 'A28W77RPDZK7AZ': 3215, 'A32NEDX6UVV8DE': 3216, 'A11FX8HL2ANK6T': 3217, 'A3A5XNAM3ZW7Z6': 3218, 'AQTV8CV3NZ06L': 3219, 'A3JO18FDVDP5U2': 3220, 'A3OZ7ET1JHDX5': 3221, 'AVA9W53M34C7I': 3222, 'AOT6PL9L9GQP3': 3223, 'A3I53LMLZW8GUC': 3224, 'A25FFEKDGM7F1G': 3225, 'A16FKKOV6MYJHO': 3226, 'A1XURL0P01JA50': 3227, 'A3385Y17LXNGF5': 3228, 'A2D92SFTNPSM97': 3229, 'A1EZGIAIEJ8Z68': 3230, 'A20VAHDMLHVWG1': 3231, 'A2KIVODZRTGY4U': 3232, 'A30R8VFR16RE32': 3233, 'AQK1T1V94EUSP': 3234, 'A67O76LTCO01K': 3235, 'A16BMPHP8GSIWS': 3236, 'A365807DF8EYTN': 3237, 'A1KINZN727NS86': 3238, 'A3TNM3C9ENUCFW': 3239, 'A2LOCTEN93UHSV': 3240, 'A1YGDHN09USR72': 3241, 'A12UB42W3M4FTS': 3242, 'A1BNYFMPSP3AOG': 3243, 'AUOKN045TLJQ': 3244, 'A1L28UXWSTSVSD': 3245, 'AY4PKA215Z3G7': 3246, 'A1JOSG34UV7LK7': 3247, 'A2D281TRH0IUBL': 3248, 'AGCO9QUESLOQV': 3249, 'AB24Z8PTNQ33I': 3250, 'A3B9RXJR7ENGPX': 3251, 'A2OAD5Y7MXUOFZ': 3252, 'AVEOVIRYPMCSN': 3253, 'ATQWHIT4GCWFU': 3254, 'AGCZFGHW6FFGF': 3255, 'A2QOVJGC3TGEAE': 3256, 'A1LHR7EQE5Q2UI': 3257, 'A2NGZRL0T21VIC': 3258, 'A1143YEAZYMYHJ': 3259, 'A1MQK7QV7RVB83': 3260, 'A1OFV9Y06XC76K': 3261, 'A1TXRQSFTVEWMN': 3262, 'A2YBR0BZY6HFPT': 3263, 'AE78P0RCDNPZ': 3264, 'A1FWFCJU2G7TRA': 3265, 'A2V98TS4QDDCG9': 3266, 'A2SQHL9G03ITMO': 3267, 'A26X49ZG08Z1CI': 3268, 'A24D70VHLXXH85': 3269, 'A3D72R3QC333J0': 3270, 'A1P6GN2K66B1W5': 3271, 'A1WRTQBUNULI0A': 3272, 'A4BNJSZVARL5W': 3273, 'A1COPSGCUVZ5OT': 3274, 'A30IP5D5DLHRPA': 3275, 'ASG42G9QTBUX1': 3276, 'A1COW3DSUHUUE4': 3277, 'ABDBNJ09BMIGK': 3278, 'A1LJT1UMMNEMGF': 3279, 'A3PSZ52D77DM4P': 3280, 'A3IR834T7AROBT': 3281, 'A1VMKL0UTFXJ3V': 3282, 'AESNOYBYV9WGP': 3283, 'A1564JVII4G8PB': 3284, 'A2F0E69BAX0T0T': 3285, 'A45S6D1P309G9': 3286, 'A3SVOS1EM9RHCX': 3287, 'A1QR21ZCQPBKHY': 3288, 'A2FBPS1P12N24T': 3289, 'A3113NZ7WBL3AE': 3290, 'A21PC5S0MIM6IX': 3291, 'A2VEP9IKAW8YBE': 3292, 'AON853FSY8RNJ': 3293, 'A1JXY9I578VQ3O': 3294, 'A23KZ0YXN76OSF': 3295, 'A35K19WU9EGZDI': 3296, 'AO0K0L635GCIG': 3297, 'A3D140J4JTAKSZ': 3298, 'AJID2XYGNFOOT': 3299, 'A1SFKLLC60TL69': 3300, 'AN5XPZ1LPVRU1': 3301, 'A1V3PCKVCJ3TTZ': 3302, 'A2L77YQRAEA1YZ': 3303, 'A2KWE2ZM1EEBGJ': 3304, 'A1QCULR3SQ9IIP': 3305, 'A110KACX3W12L9': 3306, 'A2XHC2FG0YR0F1': 3307, 'A2TKCAO7MURH3': 3308, 'AIK0G28AWIL17': 3309, 'A3NL3JCYZJ8IIT': 3310, 'A23AG3Y9IGG0NU': 3311, 'A2LQ2ZNPGXZTVR': 3312, 'A2OBX89KW06ZPL': 3313, 'ASZ4W6VZD7QO6': 3314, 'A3U5CZ3PV82JXD': 3315, 'A12LN1UTGCPU4R': 3316, 'AM6OTAYVBL7NM': 3317, 'A3VGHF7VNFBMCQ': 3318, 'AW8UW3OFEZR8T': 3319, 'A3G8XY7PMN4RBA': 3320, 'A31M40X061BW0H': 3321, 'A2K8CHFQL5U2BP': 3322, 'A2FKC43XAEV54L': 3323, 'A3232H7J6URX9D': 3324, 'A268WAQS5WNMGJ': 3325, 'A2W23Q4C4EEQ8Z': 3326, 'A1LY4LT62BHY1X': 3327, 'A2C8N6W0XPYJB0': 3328, 'A1DYNEMS8PB7X4': 3329, 'A8INT3NMHRUS4': 3330, 'A1XOLUZP18WVE6': 3331, 'A2KZGL8O8ONFXQ': 3332, 'A2IYG58AN2OOXR': 3333, 'AFPTZ4JS6QQKO': 3334, 'AYPJT8WPGJHAC': 3335, 'A3LDLG08Q8D7KF': 3336, 'A3FPHTS8Y0ND6X': 3337, 'AJ3K3HKR9UFVN': 3338, 'A1606LA683WZZU': 3339, 'AFVBZ7UDEDRUC': 3340, 'A1H9TJEG3YPZ3M': 3341, 'A2BVNVJOFXGZUB': 3342, 'A1LANNQ26C7MUT': 3343, 'A1TY0I73S2O3YB': 3344, 'A2AXSSH3OF06GS': 3345, 'A2S2NREEIHSK03': 3346, 'A3GK1O5S6188AJ': 3347, 'A1RR36YKJB917S': 3348, 'AZA55FJD7CCZN': 3349, 'ATL4PY7I3HAA1': 3350, 'A2D2XKSXEG3O7F': 3351, 'A2ZLPBWFUQPUJA': 3352, 'AKBYINIUXK5VO': 3353, 'A2L5MYCFKKME3': 3354, 'A2RX62V4E2BF5Z': 3355, 'AIWN1666ZUAP9': 3356, 'A3ITW2IFP6I0NK': 3357, 'ACRIUHXH5F6V8': 3358, 'AY6A8KPYCE6B0': 3359, 'A1WIE2SG6ZM6OO': 3360, 'A4H12YFC21JJ7': 3361, 'A107RJ8R12ERDP': 3362, 'A1CCMW354ELJ3U': 3363, 'AICOFZH7HCKGY': 3364, 'A2UXU5DDCYN4GP': 3365, 'AUFJRMYL1K9OZ': 3366, 'ANYWPIGSTKRO1': 3367, 'A3E0MPZNN1NFNW': 3368, 'AGUBXH4PCEPY': 3369, 'AO1LUJ8VJ03OZ': 3370, 'A3JT29L4YFEIMJ': 3371, 'A39DIJK69CMNHP': 3372, 'A1FFFEHK9K5XU0': 3373, 'A3ATKSR23880M1': 3374, 'A3DKP8M0GSP8UK': 3375, 'A30NNR68JX22K0': 3376, 'A24ML2IO9G97EK': 3377, 'A1ILMYA3Q75ZBI': 3378, 'AGKDZXTRUVI2': 3379, 'A21BVL7PKG9BX8': 3380, 'AHTC9I3LBMAUV': 3381, 'A1WSKBA4W4Z74H': 3382, 'A31VIMZP1Y6IUG': 3383, 'AP3VUC7U6K16M': 3384, 'A3JH18T58CY65P': 3385, 'APGX3X3M19FO6': 3386, 'A2N8JBTYX5W4T2': 3387, 'ASZQ0FTRJEHUV': 3388, 'A1RRMZKOMZ2M7J': 3389, 'A1KGK5825KQBXH': 3390, 'A3DYKR0ZJ7UAIY': 3391, 'A2JS5OE7VIGTYS': 3392, 'A2UV26OF9LZ4ES': 3393, 'AWJUV8N4YKSL7': 3394, 'ADLVFFE4VBT8': 3395, 'A1JZ0AKAMW0MXM': 3396, 'A2C3QA2V3O2EB3': 3397, 'A2TCALF1IX7S42': 3398, 'A17SNTLDQWMULL': 3399, 'A1LAGS8H4A2DR7': 3400, 'A2XJXPYLCQ6TMS': 3401, 'AHRNDSKWH1YBT': 3402, 'A29M9CXOVC4SKI': 3403, 'A28I98PKHZZKVB': 3404, 'A3OIABTOKNJ4JW': 3405, 'A1DGOKPBIEAM3U': 3406, 'A240EPDH69W439': 3407, 'A3FD5ERJH03DBV': 3408, 'A3MOYKOCIDF1ZR': 3409, 'A2I6J570F1KTAU': 3410, 'A396VHMYQHW5KE': 3411, 'A2UNV0XASV55UM': 3412, 'A28DNI5SQT1ITZ': 3413, 'A3BMF5MNI9ETXY': 3414, 'AP2GYIQS95NZG': 3415, 'A2XKRIJKX4HF8N': 3416, 'A1ZYG2KYW3Q107': 3417, 'A3IUPHLK5U0MVL': 3418, 'A4LQ2DHV88ZDH': 3419, 'ANJH0FF6IF99G': 3420, 'A1I7VFNY32E552': 3421, 'A2KLA2OS6TQ2BR': 3422, 'A1ODE5OC69SBIF': 3423, 'AHFGCH8LANEZK': 3424, 'A69FYNS72Z43I': 3425, 'A317RWPY08I5QX': 3426, 'A0916357J9P21ZUYUZO6': 3427, 'A2WVF9ZQ068DN0': 3428, 'A171ITAMNOUCY8': 3429, 'A3I92O1R3S4H1U': 3430, 'AITKFHF4SYM3J': 3431, 'A3LYGOZAMC2KZA': 3432, 'A259HHYBP6ZNJ3': 3433, 'A38KO3KKR7GF4V': 3434, 'A10H63KUGJEPAJ': 3435, 'AQ40ACD5AC0DD': 3436, 'A2XI3URIX4E0PI': 3437, 'A3UZT4PB5SKD2H': 3438, 'A1H554HE81ODEX': 3439, 'AQH9RP7JAVY1C': 3440, 'AQO3WDKL8Q7BL': 3441, 'A3MSIMW9K5METI': 3442, 'AFP6OOD8EDRSP': 3443, 'A221I9R7I92ORO': 3444, 'A7J8Y1TDIN69G': 3445, 'A1592Z8VTIL15Q': 3446, 'A1G7GN2T2SUEQD': 3447, 'A1UKA7HUAQAMY': 3448, 'AS7289468B8IR': 3449, 'ADS5IVBEI6S': 3450, 'A32DYU82G6X3AO': 3451, 'A3A5CDA6N3J1HD': 3452, 'A6EKZVZXY6EM0': 3453, 'A18OT5BHCTEFDP': 3454, 'A1IIT6KQNH7QX1': 3455, 'A8PHIF1PTRRW4': 3456, 'A2I5QH4F5FDKK5': 3457, 'A1NHZQK05X8ULH': 3458, 'A12X7K54734QXE': 3459, 'A25QK5VBRFEQIN': 3460, 'A1QO88MU0PYJON': 3461, 'A1JISH2AQDW1YW': 3462, 'A3UQ3HOJ37Q24Q': 3463, 'A3DHWMWIDS2XX5': 3464, 'A3F480SL44YP1J': 3465, 'A2V64H8AOAD4TJ': 3466, 'AV00VR0BWTQI6': 3467, 'A3S34MNS43C213': 3468, 'A3FWGSJ3T3N5QW': 3469, 'A2068BC3ZXAVJQ': 3470, 'A2DWDFZI4DUW3V': 3471, 'A7C77J4MH94B6': 3472, 'A1GT0G489PONQU': 3473, 'A1ZCYC0RHTRMZF': 3474, 'A2XFOE9KPMXELR': 3475, 'A3AL9NFNWTRV39': 3476, 'A61EY795V8S0B': 3477, 'A1B1J07QUM0OLN': 3478, 'A3RNKF0QK2M1R8': 3479, 'A12C1OTJ37UUG7': 3480, 'AKL16UM40HCXQ': 3481, 'A2M7J5RHF69TWH': 3482, 'A24FOXO7AZ7V87': 3483, 'A367W4LQ54FYX1': 3484, 'A1AF9EUGODL08I': 3485, 'A2ICV9NWBF514G': 3486, 'AO7OKX2B4O7CA': 3487, 'A2XABWPFYZREVA': 3488, 'A12GK5JUYAV0HM': 3489, 'A34109J1GZMHY1': 3490, 'A2XUTCK61FM8XF': 3491, 'AIO1DYYJQVTP6': 3492, 'A2K2XYGCMHNV8C': 3493, 'A26BC445Y8S54S': 3494, 'ALDV8DDZWWPYE': 3495, 'A3VS2RYRGDW4HS': 3496, 'A3OEQRX60SVGN4': 3497, 'A1LNDUIMGLWMMT': 3498, 'A3DS0VAXL90E26': 3499, 'A17O2BER0O0P1K': 3500, 'A3J336068TGGHV': 3501, 'A3GE1HSX7QGME1': 3502, 'AH89NYA0C1MB9': 3503, 'A2ZHH7AK83JB5G': 3504, 'A1A4HS18EQAGWF': 3505, 'A4OVVTZQ4K6YA': 3506, 'AANBV13XF1JD4': 3507, 'AGS62R4KZN46K': 3508, 'A4UWNRY0WWECK': 3509, 'A27SY1GAE815P8': 3510, 'A26JQI6AC1C588': 3511, 'A1TK2US40LPJNH': 3512, 'A34BJE7YQHRZNA': 3513, 'A29P9NU4QNFFZL': 3514, 'A35QGS8D3I65NL': 3515, 'AALYS669KXNTE': 3516, 'AX52CAV5ICC05': 3517, 'A2LQ1O3IHJQPFF': 3518, 'ACREHLVRC4H5B': 3519, 'A3SOC0726SH4ZH': 3520, 'A25DU5SGL4D49Q': 3521, 'A2ZCE0Z5C32X9P': 3522, 'A20P7ZVZ36F4IU': 3523, 'A2QRXQPHDMFCQV': 3524, 'ALH3GV3UKD0BQ': 3525, 'A2VQEJB0T6T7MB': 3526, 'A1FPQ54AIB26L0': 3527, 'AFT0V3RMHG8F5': 3528, 'ALQGOMOY1F5X9': 3529, 'A36623NAOKB62V': 3530, 'A16QODENBJVUI1': 3531, 'A29Q8R8DW9V6H3': 3532, 'A3QBN0X43PVR13': 3533, 'A1VGXHHR08G044': 3534, 'A6CU6EKF6M5LY': 3535, 'A3AKX0DHWTGRGL': 3536, 'A26WAE7N3RYJP8': 3537, 'ALC20AYEKK4ZP': 3538, 'ABF0ARHORHUUC': 3539, 'A1PNPESTNPTK4E': 3540, 'A3OP1NKCMO99U2': 3541, 'A38GYASIC1VQDI': 3542, 'A3U1WPDQLP9CQ': 3543, 'A1XKUR7RPQ00GN': 3544, 'AQSHHG42VERLG': 3545, 'A2UM0WJOL18IOX': 3546, 'A38FB414U3B72L': 3547, 'A5IHDUC76S78S': 3548, 'A1BS8VS04EWSWN': 3549, 'A1ZW2CNW69Z0VF': 3550, 'AXBTO9HB020I7': 3551, 'A28WXDXJA1P0MC': 3552, 'A30W8I4SD1H21K': 3553, 'A306NASGVUDFKF': 3554, 'A2YNW0J035DOA4': 3555, 'A1JBEME9FKIXQ3': 3556, 'A3CRJ1Q73RB25F': 3557, 'A3NYZVVRN7272S': 3558, 'A3VPDM6X5UQLR2': 3559, 'AVTFO4SHPBMFI': 3560, 'AEG3I82BVE2ZK': 3561, 'A2FC2S3PHXDJBC': 3562, 'AMN78P85LBO2A': 3563, 'A1ZRD3WNHP8O3T': 3564, 'A11JXAJHP7KESY': 3565, 'A23IOT68MCMXMP': 3566, 'A7RFDGVXDYQLJ': 3567, 'A181TIQPGSTYH6': 3568, 'A3KYPMICTZ3GZX': 3569, 'A24O15MYDNLZBE': 3570, 'A3E5D0Z4L63AD8': 3571, 'A3QKT9VTCI1PB6': 3572, 'A102V8N45CTOIC': 3573, 'A2SDNB5E6RAI0E': 3574, 'ARP38C8IJIKGQ': 3575, 'A168SCI9KUMXD9': 3576, 'A26W1STWGZ0V8J': 3577, 'A2BCCIUEWF210O': 3578, 'A17WMMYCTCYDFQ': 3579, 'A19PKOH7OWJY42': 3580, 'A2PUKFH7AJPAC': 3581, 'ACZ1YLFIKDG9U': 3582, 'AG89GSACSJZOQ': 3583, 'A308FNXU141T5F': 3584, 'A2I93OMO3ND10J': 3585, 'A1WOTG0N2J0ZZK': 3586, 'AKP89K0R96VWB': 3587, 'A37IRE9GZ0CZ7I': 3588, 'AY3AVLL5IWW9': 3589, 'A34TI7G4IRCORO': 3590, 'A3NVB6HKMUH2NM': 3591, 'AF3APPUEZ4WU4': 3592, 'A2EG5WO6VCFDQ5': 3593, 'A1EIPS6D0ZZ4UA': 3594, 'A1UQBMQLN9KIDE': 3595, 'A3HXDBIN7D54YC': 3596, 'A3RQLF4ZK9ISDE': 3597, 'A3FHSLWEMH7JD8': 3598, 'A25C5MVVCIYT5D': 3599, 'AXO2QG19806ER': 3600, 'A2B7XFLCD0N7I1': 3601, 'A15DH2ICDH1MJN': 3602, 'ABQEKKRD6WZFA': 3603, 'A351804L86H9Z6': 3604, 'A2EWHC4E4NJWMI': 3605, 'A1F02K9DX6HVHR': 3606, 'AY17MGNAV9K1J': 3607, 'AUYBAV9NS20P5': 3608, 'A20K4RKCF1VOK3': 3609, 'ABRT2IMX0FIS': 3610, 'A2TOPNOYV52Q8K': 3611, 'A2H2FT8WV5X6SV': 3612, 'ADX9RRR1Z253S': 3613, 'ATLA5CJH0ZZHP': 3614, 'A37I9VXMBBAADP': 3615, 'A4LHEYS82MBPW': 3616, 'A3LE7HI0VUFLE3': 3617, 'A1HW72TSGGCGOZ': 3618, 'A2HUY8NQ445K7F': 3619, 'A217E9YU9PINU0': 3620, 'A2PD27UKAD3Q00': 3621, 'AEJCGRCBX8KCQ': 3622, 'APS2L706GM4PH': 3623, 'A1I5VBBLEKD6I0': 3624, 'A3F8PR8105I7MA': 3625, 'A3HG5MZ9QJMINU': 3626, 'A1RXXM0U0QGGJU': 3627, 'ADLZKR4HKJ83S': 3628, 'A2LZFG6JQDHBJ7': 3629, 'A1WGPDULPPPXF7': 3630, 'A225PCLBJLHGEG': 3631, 'A25B1VQ8UIH82U': 3632, 'A3E2U597OBS9ON': 3633, 'A3EOVXI1VZIHUQ': 3634, 'AIDSPQXBHLAH0': 3635, 'A2R80172BBNSTA': 3636, 'A2U3H8F5V9NPEE': 3637, 'A19T4E1JMZFUV0': 3638, 'A2QU87AQAH6S5H': 3639, 'A3RGHO0Q938FRS': 3640, 'A1JTUH8W536LMH': 3641, 'A2AEDTLOUU2T8Y': 3642, 'A1MU2YMN78CADQ': 3643, 'AAFUVVP5DJCWC': 3644, 'A1TEUU3GL87XVV': 3645, 'A2A0D0P69E3MRL': 3646, 'A2U997LC7QHRSC': 3647, 'AU6EAMZ5MVS9': 3648, 'A3CLXS0OFIYIVW': 3649, 'A11X1WHC7P6DGN': 3650, 'A26R3E15OMP52T': 3651, 'A37QX2520O8Z4X': 3652, 'A15I2N31VCSBH6': 3653, 'A1GUX6R8DV3ZLY': 3654, 'AT7YWFYN4BUWB': 3655, 'A3EJRWOYRI5N34': 3656, 'A3PFT7FOTOKJ2P': 3657, 'A1DS6TA9S6KY70': 3658, 'A1TN2EZ7S2FTH2': 3659, 'A1MNDT4T37NL9V': 3660, 'A2OJCTT5WLB2HR': 3661, 'A27JG4ZAJZPCJX': 3662, 'A3RJGP3MFFG6PV': 3663, 'A13EHOQ40ARXDI': 3664, 'A31AVXMESQRQAC': 3665, 'A2B3A8NQIHITO8': 3666, 'A3HDG415KO5AFQ': 3667, 'A35KHQGVTXKFXG': 3668, 'A3QCY8ODJBGFLH': 3669, 'A4IYQHU0L5NZ1': 3670, 'A12ZFSESFYJF2G': 3671, 'A2PSC7LUNIDEAH': 3672, 'A2GY5WCU9PKTMI': 3673, 'A2PKIQN4VJCPQZ': 3674, 'A17BUSL163PDGQ': 3675, 'A1H0O2ATHZHTRP': 3676, 'A2N85HQS62ZIS1': 3677, 'A2ZMNQ7UMOIL8W': 3678, 'A1BAR0DUQ1770Z': 3679, 'AQJ6FUQ7BLW3A': 3680, 'A3742CA0ARJOMG': 3681, 'A2R44UZ6Z9UOZP': 3682, 'A2IDMQ1TTPJHNK': 3683, 'AT7RSYNRMDA6Q': 3684, 'A2RN6224B2MXMF': 3685, 'A3VXLOGI23ZHHX': 3686, 'AFC92OVO2FT69': 3687, 'A9FVHYY48O1UP': 3688, 'A1DZ8JQ4PRJ2A2': 3689, 'A25VWCCTZQ446': 3690, 'A2CS1R0PUQHVH0': 3691, 'A1CBO8TK6LWS07': 3692, 'A3U8F6TD23XIEY': 3693, 'AO6XYV4ZKJ2UW': 3694, 'A19SDJ2TSSL8HI': 3695, 'A2S8B0NT5TYY2P': 3696, 'A11F3YONMF67ML': 3697, 'A2ZJMLZ1IA2YA9': 3698, 'A2Z2LWDTHN2RKY': 3699, 'A2XHLAXMIQW7LY': 3700, 'AZKDRBREVS7WU': 3701, 'A1Q4M82OFOIN59': 3702, 'A17WBBVKJH3F3C': 3703, 'A1TRECFDGFD4LE': 3704, 'A1SYWFYDBXHRHF': 3705, 'A14E1OFMG2FCZG': 3706, 'A2OI72C1Y0GUD4': 3707, 'A1MJVKYQHH5RKX': 3708, 'AO6MLL9BTVD3D': 3709, 'A2RVAGXRH10BP': 3710, 'A2SAH5I8L4JVSW': 3711, 'A2LQ487PCEOUVE': 3712, 'AL3S5XSYS4ZHX': 3713, 'A2R4UNHFJBA6PY': 3714, 'A2SH6A32BE6NEV': 3715, 'A1NIGUK4M2ST8': 3716, 'A1RVM6W2YI7568': 3717, 'A30YWSM4MPDZ6A': 3718, 'A5DI519SEY4A1': 3719, 'A3TH4UELWBAUWQ': 3720, 'AMCHLVS2PM9X6': 3721, 'A1WT5DZYZ10FO9': 3722, 'A1VNU6X5JQ2PFH': 3723, 'A1V2KI0DASODHP': 3724, 'A2I97K9I4K6SSV': 3725, 'A1BM7SFYKDAHPQ': 3726, 'A334350WHD7BAT': 3727, 'A2EYTFKG1JSXEQ': 3728, 'A11A05XL3VUOUQ': 3729, 'A67FOUJLCZPS3': 3730, 'A3CWEK9HY2VPDL': 3731, 'A2M0ZAK33EIEME': 3732, 'AEC90GPFKLAAW': 3733, 'A2I05FGBTCRRB8': 3734, 'A60D5HQFOTSOM': 3735, 'A1M07ZN9BP01RY': 3736, 'ACEJQNX3OQWOH': 3737, 'AG50D1D7NGIZ2': 3738, 'A2H3B82GQHA179': 3739, 'A1EOTWLWMIRVIV': 3740, 'A34AKD96BXX0HZ': 3741, 'A3BGKQY5MNVM8S': 3742, 'ABZALFYN8WUVT': 3743, 'A1ILBBI4KFQB7A': 3744, 'A3PP9GXEMC7O9H': 3745, 'A2C53KWA8VVBM4': 3746, 'AIAK483LF8YVH': 3747, 'A109L3WXD1SJFU': 3748, 'A3QDH7PLL764ZV': 3749, 'A1K9L49L7HTQJE': 3750, 'A3NPETMZXGIG65': 3751, 'A35LHXY2XGM424': 3752, 'A1Y39RECFXEGNL': 3753, 'A1J5HIF41ENSMZ': 3754, 'ABS0ZTJI0XVXF': 3755, 'A16M7YAIAOLPW': 3756, 'A3VJHHCDBMZF5W': 3757, 'A3E6PP8643YYDU': 3758, 'A3669PE8WMA8NU': 3759, 'A17FWYSN5GNFDH': 3760, 'A2VXNP8ODTWG7H': 3761, 'A2OPFLMNQW1YS3': 3762, 'AP8MT8DWI8K0G': 3763, 'A29CQ2U389HYOX': 3764, 'A2WAJZWA0IJSQP': 3765, 'A1BJOD583A031Q': 3766, 'A12V2M84DUFGL5': 3767, 'AK6CEEE9QC2UM': 3768, 'A3U1S5KR287T3I': 3769, 'A2WWHOH10OM5OJ': 3770, 'AE2NUFHL35LQD': 3771, 'AUU2G7AJ6E6HL': 3772, 'A3S5LMVBT8ZGWY': 3773, 'A2QXL3YMPOMR24': 3774, 'A25CGBLRJB6X0S': 3775, 'A24YATZK2JF7IR': 3776, 'A30AOUCBJL8OZ3': 3777, 'A1DRM3JV6T5O6P': 3778, 'AJ6H9ZV7TJUUT': 3779, 'A3U6J0DLLDEWM2': 3780, 'A1VDMXHHH5DI7P': 3781, 'A3K5FYKXXOHPI5': 3782, 'A2WN3EE62XMPTC': 3783, 'ALSB8M49AZ99R': 3784, 'A68L07FQH4IQ6': 3785, 'ATYKIK01AYS7K': 3786, 'A3W29QTODGMKYC': 3787, 'A2001U1WVA2ZZF': 3788, 'A3MFGULNTMAJS9': 3789, 'A1IHTJWYBLU17P': 3790, 'A2WRHFD1BJ8W7A': 3791, 'A1BEKAQQGP8CMF': 3792, 'A14UD72N0L7RXT': 3793, 'A3IMBPNQYEZUWC': 3794, 'A2UH1H308KYVMX': 3795, 'AUDTWMXQAVK98': 3796, 'A3A27DCLE98M3M': 3797, 'A3J3OCM6PPWNRY': 3798, 'A2Y4S4CNGKF21S': 3799, 'A37Z3FWDW7JFDI': 3800, 'A17ICF11AQU9B3': 3801, 'A29MN2UX5ZN16S': 3802, 'A3M9YXQ8U6ZKB8': 3803, 'A2QHCNJZF3I5K5': 3804, 'A1XIFNB0XAMPOZ': 3805, 'A33B0FFULH1R12': 3806, 'A1EHDVLCSOU57Q': 3807, 'A3DN806HA6HHV1': 3808, 'A1DNFO9BEJJEYJ': 3809, 'A3KYZR1T1GN6K9': 3810, 'ARHKXVW7WYOOR': 3811, 'A3L0V7BHQVBXTB': 3812, 'AVLCKO0ZI8AG': 3813, 'AYYWNJS1S12FH': 3814, 'A1ZN9DE9VQXB6V': 3815, 'A31Z48BHHUTB0P': 3816, 'A2UGT8JVH48A0Z': 3817, 'AK5G1G8SD8015': 3818}\n"
          ],
          "name": "stdout"
        }
      ]
    },
    {
      "cell_type": "code",
      "metadata": {
        "id": "BHlPEHtTSqm7",
        "colab_type": "code",
        "colab": {
          "base_uri": "https://localhost:8080/",
          "height": 51
        },
        "outputId": "e407cb0a-3398-4901-f14a-1764bfac0576"
      },
      "source": [
        "print(\"Length of user ids\", len(user_ids))\n",
        "print(\"Length of item ids:\", len(item_ids))"
      ],
      "execution_count": null,
      "outputs": [
        {
          "output_type": "stream",
          "text": [
            "Length of user ids 3819\n",
            "Length of item ids: 1581\n"
          ],
          "name": "stdout"
        }
      ]
    },
    {
      "cell_type": "code",
      "metadata": {
        "id": "3Bzg-Zzil5et",
        "colab_type": "code",
        "colab": {}
      },
      "source": [
        "df[\"userID\"] = df[\"reviewerID\"].map(user2user_encoded)\n",
        "df[\"ItemID\"] = df[\"asin\"].map(item2item_encoded)\n"
      ],
      "execution_count": null,
      "outputs": []
    },
    {
      "cell_type": "code",
      "metadata": {
        "id": "XJ-jfJgSNSyx",
        "colab_type": "code",
        "colab": {
          "base_uri": "https://localhost:8080/",
          "height": 153
        },
        "outputId": "144bb693-d05f-4c84-a158-80e7b16e5234"
      },
      "source": [
        "print(df.tail())"
      ],
      "execution_count": null,
      "outputs": [
        {
          "output_type": "stream",
          "text": [
            "       overall  verified   reviewTime  ... image userID ItemID\n",
            "19406      5.0      True  05 28, 2013  ...   NaN   2068     39\n",
            "8559       5.0      True  02 16, 2015  ...   NaN   3140    861\n",
            "32022      5.0      True   10 9, 2017  ...   NaN   2939     57\n",
            "22637      4.0     False   02 4, 2015  ...   NaN    603    329\n",
            "14000      4.0      True   03 7, 2016  ...   NaN    192    193\n",
            "\n",
            "[5 rows x 14 columns]\n"
          ],
          "name": "stdout"
        }
      ]
    },
    {
      "cell_type": "code",
      "metadata": {
        "id": "0pelSx9PTCRP",
        "colab_type": "code",
        "colab": {
          "base_uri": "https://localhost:8080/",
          "height": 153
        },
        "outputId": "47781f1d-b7f7-4c79-f98c-8fa9d9f12088"
      },
      "source": [
        "print(df.head())"
      ],
      "execution_count": null,
      "outputs": [
        {
          "output_type": "stream",
          "text": [
            "       overall  verified   reviewTime  ... image userID ItemID\n",
            "3121       3.0     False   02 5, 2015  ...   NaN      0      0\n",
            "8155       5.0      True  07 19, 2014  ...   NaN      1      1\n",
            "12157      5.0      True  10 11, 2017  ...   NaN      2      2\n",
            "28706      3.0      True  02 27, 2015  ...   NaN      3      3\n",
            "17151      5.0      True   08 9, 2014  ...   NaN      4      4\n",
            "\n",
            "[5 rows x 14 columns]\n"
          ],
          "name": "stdout"
        }
      ]
    },
    {
      "cell_type": "code",
      "metadata": {
        "id": "dU8qfx6Tk0Kp",
        "colab_type": "code",
        "colab": {
          "base_uri": "https://localhost:8080/",
          "height": 51
        },
        "outputId": "6e2a4f03-bcc5-4d36-be31-25fcda7bbb70"
      },
      "source": [
        "num_users = len(user2user_encoded)\n",
        "num_items = len(item_encoded2item)\n",
        "print(\"num_users :\", num_users)\n",
        "print(\"num_items: \", num_items)"
      ],
      "execution_count": null,
      "outputs": [
        {
          "output_type": "stream",
          "text": [
            "num_users : 3819\n",
            "num_items:  1581\n"
          ],
          "name": "stdout"
        }
      ]
    },
    {
      "cell_type": "code",
      "metadata": {
        "id": "uOc8rWMKWc2C",
        "colab_type": "code",
        "colab": {}
      },
      "source": [
        "x = df[[\"userID\", \"ItemID\"]].values"
      ],
      "execution_count": null,
      "outputs": []
    },
    {
      "cell_type": "markdown",
      "metadata": {
        "id": "fmN34Lz6FQLw",
        "colab_type": "text"
      },
      "source": [
        "**Split the data into Test and Train**"
      ]
    },
    {
      "cell_type": "code",
      "metadata": {
        "id": "44NB44VDhea2",
        "colab_type": "code",
        "colab": {}
      },
      "source": [
        "from sklearn.model_selection import train_test_split\n",
        "X_train, X_test, y_train, y_test = train_test_split(x, y, test_size=0.2, random_state=95)"
      ],
      "execution_count": null,
      "outputs": []
    },
    {
      "cell_type": "code",
      "metadata": {
        "id": "z4HRDZbBpR6y",
        "colab_type": "code",
        "colab": {
          "base_uri": "https://localhost:8080/",
          "height": 34
        },
        "outputId": "eb65209c-7c83-4736-eaf6-d23605bacf40"
      },
      "source": [
        "print(\"X_test: \", X_test[1])"
      ],
      "execution_count": null,
      "outputs": [
        {
          "output_type": "stream",
          "text": [
            "X_test:  [1747 1158]\n"
          ],
          "name": "stdout"
        }
      ]
    },
    {
      "cell_type": "markdown",
      "metadata": {
        "id": "JUQALUe8FVOv",
        "colab_type": "text"
      },
      "source": [
        "**Define the Model**"
      ]
    },
    {
      "cell_type": "code",
      "metadata": {
        "id": "ZEuArvcGiFb_",
        "colab_type": "code",
        "colab": {}
      },
      "source": [
        "EMBEDDING_SIZE = 50\n",
        "\n",
        "\n",
        "class RecommenderNet(keras.Model):\n",
        "    def __init__(self, num_users, num_movies, embedding_size, **kwargs):\n",
        "        super(RecommenderNet, self).__init__(**kwargs)\n",
        "        self.num_users = num_users\n",
        "        self.num_movies = num_movies\n",
        "        self.embedding_size = embedding_size\n",
        "        self.user_embedding = layers.Embedding(\n",
        "            num_users, #input_dim\n",
        "            embedding_size, # output_dim\n",
        "            embeddings_initializer=\"he_normal\",\n",
        "            embeddings_regularizer=keras.regularizers.l2(1e-6),\n",
        "        )\n",
        "        self.user_bias = layers.Embedding(num_users, 1)\n",
        "        self.movie_embedding = layers.Embedding(\n",
        "            num_movies,\n",
        "            embedding_size,\n",
        "            embeddings_initializer=\"he_normal\",\n",
        "            embeddings_regularizer=keras.regularizers.l2(1e-6),\n",
        "        )\n",
        "        self.movie_bias = layers.Embedding(num_movies, 1)\n",
        "\n",
        "    def call(self, inputs):\n",
        "        user_vector = self.user_embedding(inputs[:, 0])\n",
        "        user_bias = self.user_bias(inputs[:, 0])\n",
        "        movie_vector = self.movie_embedding(inputs[:, 1])\n",
        "        movie_bias = self.movie_bias(inputs[:, 1])\n",
        "        dot_user_movie = tf.tensordot(user_vector, movie_vector, 2)\n",
        "        # Add all the components (including bias)\n",
        "        x = dot_user_movie + user_bias + movie_bias\n",
        "        # The sigmoid activation forces the rating to between 0 and 1\n",
        "        return tf.nn.sigmoid(x)\n",
        "\n",
        "\n",
        "model = RecommenderNet(num_users, num_items, EMBEDDING_SIZE)\n",
        "model.compile(\n",
        "    loss=tf.keras.losses.BinaryCrossentropy(), optimizer=keras.optimizers.Adam(lr=0.001)\n",
        ")"
      ],
      "execution_count": null,
      "outputs": []
    },
    {
      "cell_type": "markdown",
      "metadata": {
        "id": "G2g8Dx6aFY2u",
        "colab_type": "text"
      },
      "source": [
        "**Train the Model**"
      ]
    },
    {
      "cell_type": "code",
      "metadata": {
        "id": "CaVGDZmPiK5p",
        "colab_type": "code",
        "colab": {
          "base_uri": "https://localhost:8080/",
          "height": 1000
        },
        "outputId": "93e64727-b94b-49ee-d93e-0759ce26b6ef"
      },
      "source": [
        "history = model.fit(\n",
        "    x=X_train,\n",
        "    y=y_train,\n",
        "    batch_size=80,\n",
        "    epochs=200,\n",
        "    verbose=1,\n",
        "    validation_data=(X_test, y_test),\n",
        ")"
      ],
      "execution_count": null,
      "outputs": [
        {
          "output_type": "stream",
          "text": [
            "Epoch 1/200\n",
            "343/343 [==============================] - 2s 6ms/step - loss: 0.5336 - val_loss: 0.4888\n",
            "Epoch 2/200\n",
            "343/343 [==============================] - 2s 5ms/step - loss: 0.4680 - val_loss: 0.4868\n",
            "Epoch 3/200\n",
            "343/343 [==============================] - 2s 5ms/step - loss: 0.4567 - val_loss: 0.4845\n",
            "Epoch 4/200\n",
            "343/343 [==============================] - 2s 5ms/step - loss: 0.4505 - val_loss: 0.4890\n",
            "Epoch 5/200\n",
            "343/343 [==============================] - 2s 5ms/step - loss: 0.4446 - val_loss: 0.4903\n",
            "Epoch 6/200\n",
            "343/343 [==============================] - 2s 5ms/step - loss: 0.4392 - val_loss: 0.4968\n",
            "Epoch 7/200\n",
            "343/343 [==============================] - 2s 5ms/step - loss: 0.4356 - val_loss: 0.4897\n",
            "Epoch 8/200\n",
            "343/343 [==============================] - 2s 5ms/step - loss: 0.4317 - val_loss: 0.4987\n",
            "Epoch 9/200\n",
            "343/343 [==============================] - 2s 5ms/step - loss: 0.4288 - val_loss: 0.4786\n",
            "Epoch 10/200\n",
            "343/343 [==============================] - 2s 5ms/step - loss: 0.4251 - val_loss: 0.4926\n",
            "Epoch 11/200\n",
            "343/343 [==============================] - 2s 5ms/step - loss: 0.4241 - val_loss: 0.4709\n",
            "Epoch 12/200\n",
            "343/343 [==============================] - 2s 5ms/step - loss: 0.4211 - val_loss: 0.4917\n",
            "Epoch 13/200\n",
            "343/343 [==============================] - 2s 5ms/step - loss: 0.4200 - val_loss: 0.4708\n",
            "Epoch 14/200\n",
            "343/343 [==============================] - 2s 5ms/step - loss: 0.4191 - val_loss: 0.4743\n",
            "Epoch 15/200\n",
            "343/343 [==============================] - 2s 5ms/step - loss: 0.4145 - val_loss: 0.4672\n",
            "Epoch 16/200\n",
            "343/343 [==============================] - 2s 5ms/step - loss: 0.4137 - val_loss: 0.4678\n",
            "Epoch 17/200\n",
            "343/343 [==============================] - 2s 5ms/step - loss: 0.4122 - val_loss: 0.4676\n",
            "Epoch 18/200\n",
            "343/343 [==============================] - 2s 5ms/step - loss: 0.4100 - val_loss: 0.4606\n",
            "Epoch 19/200\n",
            "343/343 [==============================] - 2s 5ms/step - loss: 0.4083 - val_loss: 0.4675\n",
            "Epoch 20/200\n",
            "343/343 [==============================] - 2s 5ms/step - loss: 0.4058 - val_loss: 0.4813\n",
            "Epoch 21/200\n",
            "343/343 [==============================] - 2s 5ms/step - loss: 0.4049 - val_loss: 0.4633\n",
            "Epoch 22/200\n",
            "343/343 [==============================] - 2s 5ms/step - loss: 0.4006 - val_loss: 0.4664\n",
            "Epoch 23/200\n",
            "343/343 [==============================] - 2s 5ms/step - loss: 0.3996 - val_loss: 0.4537\n",
            "Epoch 24/200\n",
            "343/343 [==============================] - 2s 5ms/step - loss: 0.3990 - val_loss: 0.4692\n",
            "Epoch 25/200\n",
            "343/343 [==============================] - 2s 5ms/step - loss: 0.3949 - val_loss: 0.4555\n",
            "Epoch 26/200\n",
            "343/343 [==============================] - 2s 6ms/step - loss: 0.3960 - val_loss: 0.4517\n",
            "Epoch 27/200\n",
            "343/343 [==============================] - 2s 6ms/step - loss: 0.3943 - val_loss: 0.4543\n",
            "Epoch 28/200\n",
            "343/343 [==============================] - 2s 6ms/step - loss: 0.3915 - val_loss: 0.4605\n",
            "Epoch 29/200\n",
            "343/343 [==============================] - 2s 6ms/step - loss: 0.3881 - val_loss: 0.4558\n",
            "Epoch 30/200\n",
            "343/343 [==============================] - 2s 6ms/step - loss: 0.3841 - val_loss: 0.4440\n",
            "Epoch 31/200\n",
            "343/343 [==============================] - 2s 5ms/step - loss: 0.3843 - val_loss: 0.4468\n",
            "Epoch 32/200\n",
            "343/343 [==============================] - 2s 5ms/step - loss: 0.3827 - val_loss: 0.4563\n",
            "Epoch 33/200\n",
            "343/343 [==============================] - 2s 5ms/step - loss: 0.3837 - val_loss: 0.4441\n",
            "Epoch 34/200\n",
            "343/343 [==============================] - 2s 5ms/step - loss: 0.3824 - val_loss: 0.4554\n",
            "Epoch 35/200\n",
            "343/343 [==============================] - 2s 5ms/step - loss: 0.3814 - val_loss: 0.4373\n",
            "Epoch 36/200\n",
            "343/343 [==============================] - 2s 5ms/step - loss: 0.3788 - val_loss: 0.4415\n",
            "Epoch 37/200\n",
            "343/343 [==============================] - 2s 5ms/step - loss: 0.3787 - val_loss: 0.4429\n",
            "Epoch 38/200\n",
            "343/343 [==============================] - 2s 5ms/step - loss: 0.3769 - val_loss: 0.4383\n",
            "Epoch 39/200\n",
            "343/343 [==============================] - 2s 5ms/step - loss: 0.3758 - val_loss: 0.4382\n",
            "Epoch 40/200\n",
            "343/343 [==============================] - 2s 5ms/step - loss: 0.3725 - val_loss: 0.4476\n",
            "Epoch 41/200\n",
            "343/343 [==============================] - 2s 5ms/step - loss: 0.3737 - val_loss: 0.4376\n",
            "Epoch 42/200\n",
            "343/343 [==============================] - 2s 5ms/step - loss: 0.3732 - val_loss: 0.4470\n",
            "Epoch 43/200\n",
            "343/343 [==============================] - 2s 5ms/step - loss: 0.3694 - val_loss: 0.4345\n",
            "Epoch 44/200\n",
            "343/343 [==============================] - 2s 5ms/step - loss: 0.3716 - val_loss: 0.4430\n",
            "Epoch 45/200\n",
            "343/343 [==============================] - 2s 5ms/step - loss: 0.3693 - val_loss: 0.4408\n",
            "Epoch 46/200\n",
            "343/343 [==============================] - 2s 5ms/step - loss: 0.3707 - val_loss: 0.4356\n",
            "Epoch 47/200\n",
            "343/343 [==============================] - 2s 5ms/step - loss: 0.3705 - val_loss: 0.4419\n",
            "Epoch 48/200\n",
            "343/343 [==============================] - 2s 5ms/step - loss: 0.3683 - val_loss: 0.4548\n",
            "Epoch 49/200\n",
            "343/343 [==============================] - 2s 5ms/step - loss: 0.3669 - val_loss: 0.4372\n",
            "Epoch 50/200\n",
            "343/343 [==============================] - 2s 5ms/step - loss: 0.3667 - val_loss: 0.4375\n",
            "Epoch 51/200\n",
            "343/343 [==============================] - 2s 5ms/step - loss: 0.3671 - val_loss: 0.4506\n",
            "Epoch 52/200\n",
            "343/343 [==============================] - 2s 5ms/step - loss: 0.3639 - val_loss: 0.4379\n",
            "Epoch 53/200\n",
            "343/343 [==============================] - 2s 5ms/step - loss: 0.3656 - val_loss: 0.4325\n",
            "Epoch 54/200\n",
            "343/343 [==============================] - 2s 5ms/step - loss: 0.3629 - val_loss: 0.4334\n",
            "Epoch 55/200\n",
            "343/343 [==============================] - 2s 5ms/step - loss: 0.3635 - val_loss: 0.4256\n",
            "Epoch 56/200\n",
            "343/343 [==============================] - 2s 5ms/step - loss: 0.3640 - val_loss: 0.4399\n",
            "Epoch 57/200\n",
            "343/343 [==============================] - 2s 5ms/step - loss: 0.3634 - val_loss: 0.4272\n",
            "Epoch 58/200\n",
            "343/343 [==============================] - 2s 5ms/step - loss: 0.3640 - val_loss: 0.4395\n",
            "Epoch 59/200\n",
            "343/343 [==============================] - 2s 5ms/step - loss: 0.3619 - val_loss: 0.4326\n",
            "Epoch 60/200\n",
            "343/343 [==============================] - 2s 5ms/step - loss: 0.3619 - val_loss: 0.4406\n",
            "Epoch 61/200\n",
            "343/343 [==============================] - 2s 5ms/step - loss: 0.3586 - val_loss: 0.4332\n",
            "Epoch 62/200\n",
            "343/343 [==============================] - 2s 5ms/step - loss: 0.3597 - val_loss: 0.4453\n",
            "Epoch 63/200\n",
            "343/343 [==============================] - 2s 5ms/step - loss: 0.3607 - val_loss: 0.4356\n",
            "Epoch 64/200\n",
            "343/343 [==============================] - 2s 5ms/step - loss: 0.3596 - val_loss: 0.4387\n",
            "Epoch 65/200\n",
            "343/343 [==============================] - 2s 5ms/step - loss: 0.3577 - val_loss: 0.4400\n",
            "Epoch 66/200\n",
            "343/343 [==============================] - 2s 5ms/step - loss: 0.3618 - val_loss: 0.4386\n",
            "Epoch 67/200\n",
            "343/343 [==============================] - 2s 5ms/step - loss: 0.3575 - val_loss: 0.4345\n",
            "Epoch 68/200\n",
            "343/343 [==============================] - 2s 5ms/step - loss: 0.3600 - val_loss: 0.4433\n",
            "Epoch 69/200\n",
            "343/343 [==============================] - 2s 5ms/step - loss: 0.3590 - val_loss: 0.4380\n",
            "Epoch 70/200\n",
            "343/343 [==============================] - 2s 5ms/step - loss: 0.3549 - val_loss: 0.4379\n",
            "Epoch 71/200\n",
            "343/343 [==============================] - 2s 5ms/step - loss: 0.3573 - val_loss: 0.4413\n",
            "Epoch 72/200\n",
            "343/343 [==============================] - 2s 5ms/step - loss: 0.3565 - val_loss: 0.4409\n",
            "Epoch 73/200\n",
            "343/343 [==============================] - 2s 5ms/step - loss: 0.3571 - val_loss: 0.4404\n",
            "Epoch 74/200\n",
            "343/343 [==============================] - 2s 5ms/step - loss: 0.3542 - val_loss: 0.4363\n",
            "Epoch 75/200\n",
            "343/343 [==============================] - 2s 5ms/step - loss: 0.3591 - val_loss: 0.4328\n",
            "Epoch 76/200\n",
            "343/343 [==============================] - 2s 5ms/step - loss: 0.3568 - val_loss: 0.4363\n",
            "Epoch 77/200\n",
            "343/343 [==============================] - 2s 5ms/step - loss: 0.3571 - val_loss: 0.4343\n",
            "Epoch 78/200\n",
            "343/343 [==============================] - 2s 5ms/step - loss: 0.3554 - val_loss: 0.4338\n",
            "Epoch 79/200\n",
            "343/343 [==============================] - 2s 5ms/step - loss: 0.3553 - val_loss: 0.4296\n",
            "Epoch 80/200\n",
            "343/343 [==============================] - 2s 5ms/step - loss: 0.3512 - val_loss: 0.4343\n",
            "Epoch 81/200\n",
            "343/343 [==============================] - 2s 5ms/step - loss: 0.3546 - val_loss: 0.4313\n",
            "Epoch 82/200\n",
            "343/343 [==============================] - 2s 5ms/step - loss: 0.3537 - val_loss: 0.4356\n",
            "Epoch 83/200\n",
            "343/343 [==============================] - 2s 5ms/step - loss: 0.3553 - val_loss: 0.4315\n",
            "Epoch 84/200\n",
            "343/343 [==============================] - 2s 5ms/step - loss: 0.3522 - val_loss: 0.4339\n",
            "Epoch 85/200\n",
            "343/343 [==============================] - 2s 5ms/step - loss: 0.3521 - val_loss: 0.4312\n",
            "Epoch 86/200\n",
            "343/343 [==============================] - 2s 5ms/step - loss: 0.3545 - val_loss: 0.4281\n",
            "Epoch 87/200\n",
            "343/343 [==============================] - 2s 6ms/step - loss: 0.3518 - val_loss: 0.4376\n",
            "Epoch 88/200\n",
            "343/343 [==============================] - 2s 6ms/step - loss: 0.3540 - val_loss: 0.4277\n",
            "Epoch 89/200\n",
            "343/343 [==============================] - 2s 5ms/step - loss: 0.3507 - val_loss: 0.4298\n",
            "Epoch 90/200\n",
            "343/343 [==============================] - 2s 5ms/step - loss: 0.3512 - val_loss: 0.4331\n",
            "Epoch 91/200\n",
            "343/343 [==============================] - 2s 5ms/step - loss: 0.3513 - val_loss: 0.4281\n",
            "Epoch 92/200\n",
            "343/343 [==============================] - 2s 5ms/step - loss: 0.3500 - val_loss: 0.4308\n",
            "Epoch 93/200\n",
            "343/343 [==============================] - 2s 5ms/step - loss: 0.3530 - val_loss: 0.4301\n",
            "Epoch 94/200\n",
            "343/343 [==============================] - 2s 5ms/step - loss: 0.3502 - val_loss: 0.4259\n",
            "Epoch 95/200\n",
            "343/343 [==============================] - 2s 5ms/step - loss: 0.3483 - val_loss: 0.4300\n",
            "Epoch 96/200\n",
            "343/343 [==============================] - 2s 5ms/step - loss: 0.3488 - val_loss: 0.4295\n",
            "Epoch 97/200\n",
            "343/343 [==============================] - 2s 5ms/step - loss: 0.3493 - val_loss: 0.4313\n",
            "Epoch 98/200\n",
            "343/343 [==============================] - 2s 5ms/step - loss: 0.3516 - val_loss: 0.4252\n",
            "Epoch 99/200\n",
            "343/343 [==============================] - 2s 5ms/step - loss: 0.3525 - val_loss: 0.4349\n",
            "Epoch 100/200\n",
            "343/343 [==============================] - 2s 5ms/step - loss: 0.3515 - val_loss: 0.4244\n",
            "Epoch 101/200\n",
            "343/343 [==============================] - 2s 5ms/step - loss: 0.3509 - val_loss: 0.4344\n",
            "Epoch 102/200\n",
            "343/343 [==============================] - 2s 5ms/step - loss: 0.3507 - val_loss: 0.4282\n",
            "Epoch 103/200\n",
            "343/343 [==============================] - 2s 5ms/step - loss: 0.3506 - val_loss: 0.4356\n",
            "Epoch 104/200\n",
            "343/343 [==============================] - 2s 5ms/step - loss: 0.3504 - val_loss: 0.4370\n",
            "Epoch 105/200\n",
            "343/343 [==============================] - 2s 5ms/step - loss: 0.3493 - val_loss: 0.4315\n",
            "Epoch 106/200\n",
            "343/343 [==============================] - 2s 5ms/step - loss: 0.3497 - val_loss: 0.4289\n",
            "Epoch 107/200\n",
            "343/343 [==============================] - 2s 5ms/step - loss: 0.3504 - val_loss: 0.4350\n",
            "Epoch 108/200\n",
            "343/343 [==============================] - 2s 5ms/step - loss: 0.3487 - val_loss: 0.4370\n",
            "Epoch 109/200\n",
            "343/343 [==============================] - 2s 5ms/step - loss: 0.3463 - val_loss: 0.4288\n",
            "Epoch 110/200\n",
            "343/343 [==============================] - 2s 5ms/step - loss: 0.3462 - val_loss: 0.4370\n",
            "Epoch 111/200\n",
            "343/343 [==============================] - 2s 5ms/step - loss: 0.3472 - val_loss: 0.4235\n",
            "Epoch 112/200\n",
            "343/343 [==============================] - 2s 5ms/step - loss: 0.3495 - val_loss: 0.4449\n",
            "Epoch 113/200\n",
            "343/343 [==============================] - 2s 5ms/step - loss: 0.3500 - val_loss: 0.4319\n",
            "Epoch 114/200\n",
            "343/343 [==============================] - 2s 5ms/step - loss: 0.3476 - val_loss: 0.4422\n",
            "Epoch 115/200\n",
            "343/343 [==============================] - 2s 5ms/step - loss: 0.3480 - val_loss: 0.4351\n",
            "Epoch 116/200\n",
            "343/343 [==============================] - 2s 5ms/step - loss: 0.3486 - val_loss: 0.4372\n",
            "Epoch 117/200\n",
            "343/343 [==============================] - 2s 5ms/step - loss: 0.3475 - val_loss: 0.4350\n",
            "Epoch 118/200\n",
            "343/343 [==============================] - 2s 5ms/step - loss: 0.3472 - val_loss: 0.4336\n",
            "Epoch 119/200\n",
            "343/343 [==============================] - 2s 5ms/step - loss: 0.3467 - val_loss: 0.4380\n",
            "Epoch 120/200\n",
            "343/343 [==============================] - 2s 5ms/step - loss: 0.3521 - val_loss: 0.4318\n",
            "Epoch 121/200\n",
            "343/343 [==============================] - 2s 5ms/step - loss: 0.3475 - val_loss: 0.4390\n",
            "Epoch 122/200\n",
            "343/343 [==============================] - 2s 5ms/step - loss: 0.3461 - val_loss: 0.4356\n",
            "Epoch 123/200\n",
            "343/343 [==============================] - 2s 5ms/step - loss: 0.3485 - val_loss: 0.4426\n",
            "Epoch 124/200\n",
            "343/343 [==============================] - 2s 5ms/step - loss: 0.3488 - val_loss: 0.4290\n",
            "Epoch 125/200\n",
            "343/343 [==============================] - 2s 5ms/step - loss: 0.3477 - val_loss: 0.4414\n",
            "Epoch 126/200\n",
            "343/343 [==============================] - 2s 5ms/step - loss: 0.3458 - val_loss: 0.4341\n",
            "Epoch 127/200\n",
            "343/343 [==============================] - 2s 5ms/step - loss: 0.3487 - val_loss: 0.4394\n",
            "Epoch 128/200\n",
            "343/343 [==============================] - 2s 5ms/step - loss: 0.3484 - val_loss: 0.4356\n",
            "Epoch 129/200\n",
            "343/343 [==============================] - 2s 5ms/step - loss: 0.3484 - val_loss: 0.4373\n",
            "Epoch 130/200\n",
            "343/343 [==============================] - 2s 5ms/step - loss: 0.3448 - val_loss: 0.4309\n",
            "Epoch 131/200\n",
            "343/343 [==============================] - 2s 5ms/step - loss: 0.3491 - val_loss: 0.4375\n",
            "Epoch 132/200\n",
            "343/343 [==============================] - 2s 5ms/step - loss: 0.3502 - val_loss: 0.4326\n",
            "Epoch 133/200\n",
            "343/343 [==============================] - 2s 5ms/step - loss: 0.3471 - val_loss: 0.4415\n",
            "Epoch 134/200\n",
            "343/343 [==============================] - 2s 5ms/step - loss: 0.3461 - val_loss: 0.4360\n",
            "Epoch 135/200\n",
            "343/343 [==============================] - 2s 5ms/step - loss: 0.3450 - val_loss: 0.4387\n",
            "Epoch 136/200\n",
            "343/343 [==============================] - 2s 5ms/step - loss: 0.3481 - val_loss: 0.4344\n",
            "Epoch 137/200\n",
            "343/343 [==============================] - 2s 5ms/step - loss: 0.3421 - val_loss: 0.4414\n",
            "Epoch 138/200\n",
            "343/343 [==============================] - 2s 5ms/step - loss: 0.3484 - val_loss: 0.4343\n",
            "Epoch 139/200\n",
            "343/343 [==============================] - 2s 5ms/step - loss: 0.3494 - val_loss: 0.4409\n",
            "Epoch 140/200\n",
            "343/343 [==============================] - 2s 5ms/step - loss: 0.3449 - val_loss: 0.4399\n",
            "Epoch 141/200\n",
            "343/343 [==============================] - 2s 5ms/step - loss: 0.3472 - val_loss: 0.4404\n",
            "Epoch 142/200\n",
            "343/343 [==============================] - 2s 5ms/step - loss: 0.3468 - val_loss: 0.4380\n",
            "Epoch 143/200\n",
            "343/343 [==============================] - 2s 5ms/step - loss: 0.3456 - val_loss: 0.4364\n",
            "Epoch 144/200\n",
            "343/343 [==============================] - 2s 5ms/step - loss: 0.3459 - val_loss: 0.4420\n",
            "Epoch 145/200\n",
            "343/343 [==============================] - 2s 5ms/step - loss: 0.3515 - val_loss: 0.4350\n",
            "Epoch 146/200\n",
            "343/343 [==============================] - 2s 5ms/step - loss: 0.3458 - val_loss: 0.4458\n",
            "Epoch 147/200\n",
            "343/343 [==============================] - 2s 5ms/step - loss: 0.3458 - val_loss: 0.4323\n",
            "Epoch 148/200\n",
            "343/343 [==============================] - 2s 5ms/step - loss: 0.3441 - val_loss: 0.4478\n",
            "Epoch 149/200\n",
            "343/343 [==============================] - 2s 5ms/step - loss: 0.3482 - val_loss: 0.4310\n",
            "Epoch 150/200\n",
            "343/343 [==============================] - 2s 5ms/step - loss: 0.3488 - val_loss: 0.4431\n",
            "Epoch 151/200\n",
            "343/343 [==============================] - 2s 5ms/step - loss: 0.3464 - val_loss: 0.4343\n",
            "Epoch 152/200\n",
            "343/343 [==============================] - 2s 5ms/step - loss: 0.3453 - val_loss: 0.4368\n",
            "Epoch 153/200\n",
            "343/343 [==============================] - 2s 5ms/step - loss: 0.3460 - val_loss: 0.4362\n",
            "Epoch 154/200\n",
            "343/343 [==============================] - 2s 5ms/step - loss: 0.3462 - val_loss: 0.4389\n",
            "Epoch 155/200\n",
            "343/343 [==============================] - 2s 5ms/step - loss: 0.3459 - val_loss: 0.4355\n",
            "Epoch 156/200\n",
            "343/343 [==============================] - 2s 5ms/step - loss: 0.3439 - val_loss: 0.4469\n",
            "Epoch 157/200\n",
            "343/343 [==============================] - 2s 5ms/step - loss: 0.3447 - val_loss: 0.4390\n",
            "Epoch 158/200\n",
            "343/343 [==============================] - 2s 5ms/step - loss: 0.3466 - val_loss: 0.4492\n",
            "Epoch 159/200\n",
            "343/343 [==============================] - 2s 5ms/step - loss: 0.3509 - val_loss: 0.4365\n",
            "Epoch 160/200\n",
            "343/343 [==============================] - 2s 5ms/step - loss: 0.3461 - val_loss: 0.4445\n",
            "Epoch 161/200\n",
            "343/343 [==============================] - 2s 5ms/step - loss: 0.3453 - val_loss: 0.4350\n",
            "Epoch 162/200\n",
            "343/343 [==============================] - 2s 5ms/step - loss: 0.3468 - val_loss: 0.4430\n",
            "Epoch 163/200\n",
            "343/343 [==============================] - 2s 5ms/step - loss: 0.3468 - val_loss: 0.4452\n",
            "Epoch 164/200\n",
            "343/343 [==============================] - 2s 5ms/step - loss: 0.3426 - val_loss: 0.4476\n",
            "Epoch 165/200\n",
            "343/343 [==============================] - 2s 5ms/step - loss: 0.3451 - val_loss: 0.4405\n",
            "Epoch 166/200\n",
            "343/343 [==============================] - 2s 5ms/step - loss: 0.3445 - val_loss: 0.4475\n",
            "Epoch 167/200\n",
            "343/343 [==============================] - 2s 5ms/step - loss: 0.3462 - val_loss: 0.4404\n",
            "Epoch 168/200\n",
            "343/343 [==============================] - 2s 5ms/step - loss: 0.3460 - val_loss: 0.4440\n",
            "Epoch 169/200\n",
            "343/343 [==============================] - 2s 5ms/step - loss: 0.3440 - val_loss: 0.4429\n",
            "Epoch 170/200\n",
            "343/343 [==============================] - 2s 5ms/step - loss: 0.3439 - val_loss: 0.4437\n",
            "Epoch 171/200\n",
            "343/343 [==============================] - 2s 5ms/step - loss: 0.3424 - val_loss: 0.4378\n",
            "Epoch 172/200\n",
            "343/343 [==============================] - 2s 5ms/step - loss: 0.3454 - val_loss: 0.4453\n",
            "Epoch 173/200\n",
            "343/343 [==============================] - 2s 5ms/step - loss: 0.3464 - val_loss: 0.4415\n",
            "Epoch 174/200\n",
            "343/343 [==============================] - 2s 5ms/step - loss: 0.3450 - val_loss: 0.4472\n",
            "Epoch 175/200\n",
            "343/343 [==============================] - 2s 5ms/step - loss: 0.3416 - val_loss: 0.4460\n",
            "Epoch 176/200\n",
            "343/343 [==============================] - 2s 5ms/step - loss: 0.3432 - val_loss: 0.4497\n",
            "Epoch 177/200\n",
            "343/343 [==============================] - 2s 5ms/step - loss: 0.3440 - val_loss: 0.4467\n",
            "Epoch 178/200\n",
            "343/343 [==============================] - 2s 5ms/step - loss: 0.3438 - val_loss: 0.4481\n",
            "Epoch 179/200\n",
            "343/343 [==============================] - 2s 5ms/step - loss: 0.3435 - val_loss: 0.4487\n",
            "Epoch 180/200\n",
            "343/343 [==============================] - 2s 5ms/step - loss: 0.3466 - val_loss: 0.4489\n",
            "Epoch 181/200\n",
            "343/343 [==============================] - 2s 5ms/step - loss: 0.3467 - val_loss: 0.4401\n",
            "Epoch 182/200\n",
            "343/343 [==============================] - 2s 5ms/step - loss: 0.3474 - val_loss: 0.4483\n",
            "Epoch 183/200\n",
            "343/343 [==============================] - 2s 5ms/step - loss: 0.3467 - val_loss: 0.4442\n",
            "Epoch 184/200\n",
            "343/343 [==============================] - 2s 5ms/step - loss: 0.3450 - val_loss: 0.4526\n",
            "Epoch 185/200\n",
            "343/343 [==============================] - 2s 5ms/step - loss: 0.3457 - val_loss: 0.4436\n",
            "Epoch 186/200\n",
            "343/343 [==============================] - 2s 5ms/step - loss: 0.3457 - val_loss: 0.4611\n",
            "Epoch 187/200\n",
            "343/343 [==============================] - 2s 5ms/step - loss: 0.3467 - val_loss: 0.4433\n",
            "Epoch 188/200\n",
            "343/343 [==============================] - 2s 5ms/step - loss: 0.3451 - val_loss: 0.4557\n",
            "Epoch 189/200\n",
            "343/343 [==============================] - 2s 5ms/step - loss: 0.3454 - val_loss: 0.4458\n",
            "Epoch 190/200\n",
            "343/343 [==============================] - 2s 5ms/step - loss: 0.3442 - val_loss: 0.4554\n",
            "Epoch 191/200\n",
            "343/343 [==============================] - 2s 5ms/step - loss: 0.3457 - val_loss: 0.4509\n",
            "Epoch 192/200\n",
            "343/343 [==============================] - 2s 5ms/step - loss: 0.3443 - val_loss: 0.4556\n",
            "Epoch 193/200\n",
            "343/343 [==============================] - 2s 5ms/step - loss: 0.3441 - val_loss: 0.4510\n",
            "Epoch 194/200\n",
            "343/343 [==============================] - 2s 5ms/step - loss: 0.3446 - val_loss: 0.4556\n",
            "Epoch 195/200\n",
            "343/343 [==============================] - 2s 5ms/step - loss: 0.3428 - val_loss: 0.4494\n",
            "Epoch 196/200\n",
            "343/343 [==============================] - 2s 5ms/step - loss: 0.3464 - val_loss: 0.4572\n",
            "Epoch 197/200\n",
            "343/343 [==============================] - 2s 5ms/step - loss: 0.3482 - val_loss: 0.4518\n",
            "Epoch 198/200\n",
            "343/343 [==============================] - 2s 5ms/step - loss: 0.3456 - val_loss: 0.4491\n",
            "Epoch 199/200\n",
            "343/343 [==============================] - 2s 5ms/step - loss: 0.3449 - val_loss: 0.4509\n",
            "Epoch 200/200\n",
            "343/343 [==============================] - 2s 5ms/step - loss: 0.3453 - val_loss: 0.4488\n"
          ],
          "name": "stdout"
        }
      ]
    },
    {
      "cell_type": "markdown",
      "metadata": {
        "id": "6_vc-yCgFdd7",
        "colab_type": "text"
      },
      "source": [
        "**Evaluate on test data**"
      ]
    },
    {
      "cell_type": "code",
      "metadata": {
        "id": "-z5hlcWNiOeK",
        "colab_type": "code",
        "colab": {
          "base_uri": "https://localhost:8080/",
          "height": 295
        },
        "outputId": "55b7aace-f17c-4a66-fbc9-788267e04369"
      },
      "source": [
        "plt.plot(history.history[\"loss\"])\n",
        "plt.plot(history.history[\"val_loss\"])\n",
        "plt.title(\"model loss for Epoch:200 Batch size: 80\")\n",
        "plt.ylabel(\"loss\")\n",
        "plt.xlabel(\"epoch\")\n",
        "plt.legend([\"train\", \"test\"], loc=\"upper left\")\n",
        "plt.show()\n"
      ],
      "execution_count": null,
      "outputs": [
        {
          "output_type": "display_data",
          "data": {
            "image/png": "[encoded data removed]",
            "text/plain": [
              "<Figure size 432x288 with 1 Axes>"
            ]
          },
          "metadata": {
            "tags": [],
            "needs_background": "light"
          }
        }
      ]
    },
    {
      "cell_type": "markdown",
      "metadata": {
        "id": "eA1mTfoXFmSJ",
        "colab_type": "text"
      },
      "source": [
        "**Get items rated by the user and Recommended items**"
      ]
    },
    {
      "cell_type": "code",
      "metadata": {
        "id": "5_owXfvdGUiR",
        "colab_type": "code",
        "colab": {
          "base_uri": "https://localhost:8080/",
          "height": 561
        },
        "outputId": "8c16a6b1-16ec-4ba8-edfc-a773b16e698c"
      },
      "source": [
        "\n",
        "def get_rated_items_by_user(user_id):\n",
        "    items_rated = df[df.reviewerID == user_id]\n",
        "    # items_rated = df[items_rated[\"asin\"].unique()]\n",
        "    # print(\"items_rated : \\n\", items_rated)\n",
        "    return items_rated\n",
        "\n",
        "\n",
        "def get_items_not_rated_by_user(user_id, items_rated_by_user):\n",
        "    items_not_rated_by_user = df[~df[\"asin\"].isin(items_rated_by_user.asin.values)][\"asin\"]\n",
        "    items_not_rated_by_user_unique = list(set(items_not_rated_by_user).intersection(set(item2item_encoded.keys())))\n",
        "    items_not_rated_by_user_encoded = [[item2item_encoded.get(x)] for x in items_not_rated_by_user_unique]\n",
        "\n",
        "    # print(\" items_not_rated_by_user : \\n\", items_not_rated_by_user)\n",
        "\n",
        "    # returns indices of items: eg: [0, 5, 6]\n",
        "    return items_not_rated_by_user_encoded\n",
        "\n",
        "\n",
        "def get_items_with_model_predictions(user_id, items_not_rated_by_user_encoded):\n",
        "    user_id_encoded = user2user_encoded.get(user_id)\n",
        "\n",
        "    user_item_array = np.hstack(\n",
        "        ([[user_id_encoded]] * len(items_not_rated_by_user_encoded), items_not_rated_by_user_encoded)\n",
        "    )\n",
        "\n",
        "    ratings = model.predict(user_item_array).flatten()\n",
        "    # print(\"ratings is \", ratings)\n",
        "    # print(\"ratings is \", ratings.argsort())\n",
        "    # print(\"user_item_array one col : \", user_item_array[:, 1])\n",
        "    # print(\"user_item_array : \", user_item_array)\n",
        "\n",
        "    return ratings\n",
        "\n",
        "\n",
        "def get_top_predicted_items_for_user(user_id, predictions, items_not_rated_by_user_encoded, top_k=15):\n",
        "    top_ratings_indices = predictions.argsort()[-top_k:][::-1]\n",
        "    # print(\"top_ratings_indices: \", top_ratings_indices)\n",
        "    recommended_item_ids = [\n",
        "        item_encoded2item.get(items_not_rated_by_user_encoded[x][0]) for x in top_ratings_indices\n",
        "    ]\n",
        "\n",
        "    for asin, prediction_index in zip(recommended_item_ids, top_ratings_indices):\n",
        "      print(\"asin: \", asin, \" prediction: \", predictions[prediction_index])\n",
        "\n",
        "    return recommended_item_ids\n",
        "\n",
        "def get_top_items_rated_by_user(user_id, items_rated_by_user, top_k=15):\n",
        "    top_user_items = items_rated_by_user.sort_values(by=\"overall\", ascending=False).head(15)\n",
        "    # print(\"top_user_items: \\n\", top_user_items)\n",
        "    for row in top_user_items.itertuples():\n",
        "      print(\"asin: \", row.asin, \" rating: \", row.overall)\n",
        "\n",
        "\n",
        "    return list(top_user_items[\"asin\"].unique())\n",
        "\n",
        "######\n",
        "# top_rated_items_by_user = get_top_rated_items_by_user(user_id)\n",
        "user_id = \"A31Z48BHHUTB0P\"\n",
        "# user_id = \"AOX4RX9CAAHL4\"\n",
        "\n",
        "items_rated_by_user = get_rated_items_by_user(user_id)\n",
        "\n",
        "items_not_rated_by_user_encoded = get_items_not_rated_by_user(user_id, items_rated_by_user)\n",
        "\n",
        "predictions = get_items_with_model_predictions(user_id, items_not_rated_by_user_encoded)\n",
        "print(\"=============================================\")\n",
        "print(\"top rated items by A31Z48BHHUTB0P\")\n",
        "print(\"=============================================\")\n",
        "top_rated_items_for_user = get_top_items_rated_by_user(user_id, items_rated_by_user)\n",
        "print(\"=============================================\")\n",
        "print(\"top_rated_items_for_user: A31Z48BHHUTB0P :\\n\",top_rated_items_for_user)\n",
        "print(\"=============================================\")\n",
        "\n",
        "print(\"top predicted items for A31Z48BHHUTB0P\")\n",
        "print(\"=============================================\")\n",
        "top_predicted_items_for_user = get_top_predicted_items_for_user(user_id, predictions, items_not_rated_by_user_encoded)\n",
        "print(\"=============================================\")\n",
        "\n",
        "\n",
        "#####\n",
        "\n"
      ],
      "execution_count": null,
      "outputs": [
        {
          "output_type": "stream",
          "text": [
            "=============================================\n",
            "top rated items by A31Z48BHHUTB0P\n",
            "=============================================\n",
            "asin:  B002K6AHQY  rating:  5.0\n",
            "asin:  B001B271Q2  rating:  5.0\n",
            "asin:  B000CR4HJG  rating:  5.0\n",
            "asin:  B002K6AHQY  rating:  5.0\n",
            "asin:  B000NGI4QI  rating:  5.0\n",
            "asin:  B00CNE2GOO  rating:  5.0\n",
            "asin:  B002K6AHQY  rating:  4.0\n",
            "=============================================\n",
            "top_rated_items_for_user: A31Z48BHHUTB0P :\n",
            " ['B002K6AHQY', 'B001B271Q2', 'B000CR4HJG', 'B000NGI4QI', 'B00CNE2GOO']\n",
            "=============================================\n",
            "top predicted items for A31Z48BHHUTB0P\n",
            "=============================================\n",
            "asin:  B00110S3GG  prediction:  0.999954\n",
            "asin:  B000VNIZGM  prediction:  0.9999502\n",
            "asin:  B00A9TZMQE  prediction:  0.99986625\n",
            "asin:  B0015VN6V8  prediction:  0.99984\n",
            "asin:  B000ULD9XE  prediction:  0.99983335\n",
            "asin:  B00120RRYO  prediction:  0.99983025\n",
            "asin:  B000W6244M  prediction:  0.99982786\n",
            "asin:  B000XPTFMG  prediction:  0.9998221\n",
            "asin:  B004N2SQUC  prediction:  0.9997701\n",
            "asin:  B000Z657ZW  prediction:  0.99975926\n",
            "asin:  B00166M14A  prediction:  0.9996929\n",
            "asin:  B00NZ1FH86  prediction:  0.9996536\n",
            "asin:  B0016A7QNC  prediction:  0.9996474\n",
            "asin:  B0009DSONI  prediction:  0.99950445\n",
            "asin:  B0012H6Y28  prediction:  0.99947137\n",
            "=============================================\n"
          ],
          "name": "stdout"
        }
      ]
    },
    {
      "cell_type": "markdown",
      "metadata": {
        "id": "4tbxGyAgF1n3",
        "colab_type": "text"
      },
      "source": [
        "**Fetch the metadata**"
      ]
    },
    {
      "cell_type": "code",
      "metadata": {
        "id": "XJ2BgBDbOz0c",
        "colab_type": "code",
        "colab": {
          "base_uri": "https://localhost:8080/",
          "height": 204
        },
        "outputId": "4dce8b52-8464-4147-ea18-febf81dcd814"
      },
      "source": [
        "!wget http://deepyeti.ucsd.edu/jianmo/amazon/metaFiles/meta_Luxury_Beauty.json.gz"
      ],
      "execution_count": null,
      "outputs": [
        {
          "output_type": "stream",
          "text": [
            "--2020-08-10 17:59:49--  http://deepyeti.ucsd.edu/jianmo/amazon/metaFiles/meta_Luxury_Beauty.json.gz\n",
            "Resolving deepyeti.ucsd.edu (deepyeti.ucsd.edu)... 169.228.63.50\n",
            "Connecting to deepyeti.ucsd.edu (deepyeti.ucsd.edu)|169.228.63.50|:80... connected.\n",
            "HTTP request sent, awaiting response... 200 OK\n",
            "Length: 7390423 (7.0M) [application/octet-stream]\n",
            "Saving to: ‘meta_Luxury_Beauty.json.gz’\n",
            "\n",
            "meta_Luxury_Beauty. 100%[===================>]   7.05M  6.02MB/s    in 1.2s    \n",
            "\n",
            "2020-08-10 17:59:51 (6.02 MB/s) - ‘meta_Luxury_Beauty.json.gz’ saved [7390423/7390423]\n",
            "\n"
          ],
          "name": "stdout"
        }
      ]
    },
    {
      "cell_type": "code",
      "metadata": {
        "id": "0LGCKtx_POYG",
        "colab_type": "code",
        "colab": {}
      },
      "source": [
        "def parse(path):\n",
        "  # asin_metadata = {}\n",
        "  arr = []\n",
        "  g = gzip.open(path, 'rb')\n",
        "  for l in g:\n",
        "    # data = json.loads(l)\n",
        "    # arr.append(data)\n",
        "    yield json.loads(l)\n",
        "  \n",
        "  return arr\n",
        "\n",
        "def getDF(path):\n",
        "  i = 0\n",
        "  df = {}\n",
        "  for d in parse(path):\n",
        "    # df[i] = d\n",
        "    df[d[\"asin\"]] = d\n",
        "    # i += 1\n",
        "\n",
        "  # return pd.DataFrame.from_dict(df, orient='index')\n",
        "  return df\n",
        "\n",
        "# asin_metadata = parse2('meta_Luxury_Beauty.json.gz')\n",
        "asin_metadata = getDF('meta_Luxury_Beauty.json.gz')\n"
      ],
      "execution_count": null,
      "outputs": []
    },
    {
      "cell_type": "markdown",
      "metadata": {
        "id": "U5uRRsCXF93O",
        "colab_type": "text"
      },
      "source": [
        "**Formulate a Json to show the Recommended Items on UI**"
      ]
    },
    {
      "cell_type": "code",
      "metadata": {
        "id": "9kxsM12HRXoY",
        "colab_type": "code",
        "colab": {
          "base_uri": "https://localhost:8080/",
          "height": 54
        },
        "outputId": "92c1e3d9-df44-49ff-ebc3-1133153ab281"
      },
      "source": [
        "# asin_metadata.head()\n",
        "# print(asin_metadata.head())\n",
        "print(json.dumps(asin_metadata[\"B00120RRYO\"]))"
      ],
      "execution_count": null,
      "outputs": [
        {
          "output_type": "stream",
          "text": [
            "{\"category\": [], \"tech1\": \"\", \"description\": [\"A refreshing, oil-absorbing powder infused with soft fragrance is perfect whenever locks need a lift. As the powder reaches your roots, it adds much-needed volume without weighing hair down. Jade blossom is lightly scented with a cool, green tea floral.\"], \"fit\": \"\", \"title\": \"stila Hair Refresher Dry Shampoo, 2.6 oz.\", \"also_buy\": [], \"image\": [\"https://images-na.ssl-images-amazon.com/images/I/41993-Y4nOL._SX50_SY65_CR,0,0,50,65_.jpg\", \"https://images-na.ssl-images-amazon.com/images/I/41RfwTj4jTL._SX50_SY65_CR,0,0,50,65_.jpg\"], \"tech2\": \"\", \"brand\": \"\", \"feature\": [], \"rank\": \"504,275 in Beauty & Personal Care (\", \"also_view\": [\"B00FFILCPO\", \"B075J6DXB3\", \"B01MD06Q2H\"], \"details\": {\"\\n    Product Dimensions: \\n    \": \"4 x 5 x 6 inches ; 2.56 ounces\", \"Shipping Weight:\": \"2.9 ounces\", \"Domestic Shipping: \": \"Item can be shipped within U.S.\", \"International Shipping: \": \"This item is not eligible for international shipping.\", \"ASIN:\": \"B00120RRYO\", \"Item model number:\": \"STICOSC09281844\"}, \"main_cat\": \"Luxury Beauty\", \"similar_item\": \"\", \"date\": \"\", \"price\": \"\", \"asin\": \"B00120RRYO\"}\n"
          ],
          "name": "stdout"
        }
      ]
    },
    {
      "cell_type": "code",
      "metadata": {
        "id": "REfOcYXSdfvL",
        "colab_type": "code",
        "colab": {
          "base_uri": "https://localhost:8080/",
          "height": 54
        },
        "outputId": "6a7d17e9-1657-409c-a15c-cf378edcb1a1"
      },
      "source": [
        "print(\"asin_metadata : \" , asin_metadata[\"B00120RRYO\"])"
      ],
      "execution_count": null,
      "outputs": [
        {
          "output_type": "stream",
          "text": [
            "asin_metadata :  {'category': [], 'tech1': '', 'description': ['A refreshing, oil-absorbing powder infused with soft fragrance is perfect whenever locks need a lift. As the powder reaches your roots, it adds much-needed volume without weighing hair down. Jade blossom is lightly scented with a cool, green tea floral.'], 'fit': '', 'title': 'stila Hair Refresher Dry Shampoo, 2.6 oz.', 'also_buy': [], 'image': ['https://images-na.ssl-images-amazon.com/images/I/41993-Y4nOL._SX50_SY65_CR,0,0,50,65_.jpg', 'https://images-na.ssl-images-amazon.com/images/I/41RfwTj4jTL._SX50_SY65_CR,0,0,50,65_.jpg'], 'tech2': '', 'brand': '', 'feature': [], 'rank': '504,275 in Beauty & Personal Care (', 'also_view': ['B00FFILCPO', 'B075J6DXB3', 'B01MD06Q2H'], 'details': {'\\n    Product Dimensions: \\n    ': '4 x 5 x 6 inches ; 2.56 ounces', 'Shipping Weight:': '2.9 ounces', 'Domestic Shipping: ': 'Item can be shipped within U.S.', 'International Shipping: ': 'This item is not eligible for international shipping.', 'ASIN:': 'B00120RRYO', 'Item model number:': 'STICOSC09281844'}, 'main_cat': 'Luxury Beauty', 'similar_item': '', 'date': '', 'price': '', 'asin': 'B00120RRYO'}\n"
          ],
          "name": "stdout"
        }
      ]
    },
    {
      "cell_type": "code",
      "metadata": {
        "id": "NqzhqUxnhDac",
        "colab_type": "code",
        "colab": {
          "base_uri": "https://localhost:8080/",
          "height": 54
        },
        "outputId": "b9323ea5-bb89-4183-8cc0-00a1722b210f"
      },
      "source": [
        "print(\"top_predicted_items_for_user :\", top_predicted_items_for_user)"
      ],
      "execution_count": null,
      "outputs": [
        {
          "output_type": "stream",
          "text": [
            "top_predicted_items_for_user : ['B00110S3GG', 'B000VNIZGM', 'B00A9TZMQE', 'B0015VN6V8', 'B000ULD9XE', 'B00120RRYO', 'B000W6244M', 'B000XPTFMG', 'B004N2SQUC', 'B000Z657ZW', 'B00166M14A', 'B00NZ1FH86', 'B0016A7QNC', 'B0009DSONI', 'B0012H6Y28']\n"
          ],
          "name": "stdout"
        }
      ]
    },
    {
      "cell_type": "code",
      "metadata": {
        "id": "D5l4uLs4hfP2",
        "colab_type": "code",
        "colab": {}
      },
      "source": [
        "# recommended_items_json = {}\n",
        "def get_item_details_json(items, json_type):\n",
        "  items_arr = []\n",
        "  for item in items:\n",
        "    items_json = {}\n",
        "    metadata_dict = asin_metadata[item]\n",
        "    items_json[\"json_type\"] = json_type\n",
        "    items_json[\"asin\"] = metadata_dict[\"asin\"]\n",
        "    items_json[\"title\"] = metadata_dict[\"title\"]\n",
        "    items_json[\"description\"] = metadata_dict[\"description\"]\n",
        "    \n",
        "    new_images = list(map(lambda i: str.replace(i, \"_SX50_SY65_CR,0,0,50,65_\", \"_SY500_\"), metadata_dict[\"image\"]))\n",
        "    items_json[\"images\"] = new_images\n",
        "    items_arr.append(items_json)\n",
        "\n",
        "  return json.dumps(items_arr)\n",
        "  "
      ],
      "execution_count": null,
      "outputs": []
    },
    {
      "cell_type": "markdown",
      "metadata": {
        "id": "M1HsV_i0GKM3",
        "colab_type": "text"
      },
      "source": [
        "**Items Top rated by the user Json**"
      ]
    },
    {
      "cell_type": "code",
      "metadata": {
        "id": "iKyB6FcbLhWz",
        "colab_type": "code",
        "colab": {
          "base_uri": "https://localhost:8080/",
          "height": 71
        },
        "outputId": "b5212562-fe98-4e8d-fe8c-b2f3d701a941"
      },
      "source": [
        "print(\"recommended_items json array : \\n\", get_item_details_json(top_predicted_items_for_user, \"predicted_items\"))\n"
      ],
      "execution_count": null,
      "outputs": [
        {
          "output_type": "stream",
          "text": [
            "recommended_items json array : \n",
            " [{\"json_type\": \"predicted_items\", \"asin\": \"B00110S3GG\", \"title\": \"theBalm Overshadow\", \"description\": [\"Overshadows add a luxe look to the lid, taking the most subtle daytime shadow and amping it up for nighttime fun. Apply over your favorite shadow to give a fresh look to your staple shadow colors.\"], \"images\": [\"https://images-na.ssl-images-amazon.com/images/I/51GEuJ6nu9L._SY500_.jpg\", \"https://images-na.ssl-images-amazon.com/images/I/51zzxTE3jVL._SY500_.jpg\", \"https://images-na.ssl-images-amazon.com/images/I/61xIrQd9RhL._SY500_.jpg\", \"https://images-na.ssl-images-amazon.com/images/I/21pDXHqy0TL._SY500_.jpg\", \"https://images-na.ssl-images-amazon.com/images/I/61tWj-HNVEL._SY500_.jpg\"]}, {\"json_type\": \"predicted_items\", \"asin\": \"B000VNIZGM\", \"title\": \"Paul Mitchell Super Skinny Serum,8.5 Fl Oz\", \"description\": [\"Smoothes and conditions unruly hair Smoothes and protects hair with incredible shine. Helps reduce blow-dry time Contains our unique Super Skinny Complex, the finest ingredients and thermal protectants. Made in U. S. A. Warnings Flammable. Do not use near open flame or while smoking. Avoid contact with eyes. Keep out of reach of children. Ingredients: Cyclomethicone, Dimethiconol, Trimethylsiloxyamodimethicone, C11 15 Pareth 7, C12 16 Pareth 9, Trideceth 12, Glycerin, Amodimethicone, Cetrimonium Chloride, Ethylhexyl Methoxy cinnamate, Isobutyl paraben, Iso propyl paraben, Butyl paraben, Fragrance (Parfum) (Parfum), Amyl Cinnamal, Benzyl Alcohol, Benzyl Salicylate, Citronellal, Geraniol, Hexylcinnamal, Linalool, Limonene Directions: Very concentrated. Rub 1 pump into hands and apply to damp hair starting at the ends and working toward the scalp. Style as desired. This product is manufactured in USA. features paraben free, gluten free, vegan, color safe. Speeds up drying so you get silky-smooth results in less time.\", \"Paul Mitchell is results-driven hair care from John Paul Mitchell Systemsthe leader of salon-quality products committed to the professional beauty industry. Every purchase supports JPMS salons with a commission.\", \"\", \"\"], \"images\": [\"https://images-na.ssl-images-amazon.com/images/I/31FneL%2Bp3%2BL._SY500_.jpg\", \"https://images-na.ssl-images-amazon.com/images/I/31TTA6lWE%2BL._SY500_.jpg\", \"https://images-na.ssl-images-amazon.com/images/I/31iPk86rUNL._SY500_.jpg\"]}, {\"json_type\": \"predicted_items\", \"asin\": \"B00A9TZMQE\", \"title\": \"Proraso Shaving Cream, Protective and Moisturizing, 5.2 oz\", \"description\": [\"Proraso Protective and Moisturizing Shaving Cream is ideal for a classic moisturizing shave. This hydrating cream helps comfort skin with extra-soothing and softening ingredients including Aloe Vera and Vitamin E, and a modern, spicy fragrance with notes of amber and musk. Made with a special \\\"hot soap\\\" process, it's left to mature in small batches for 3 days, producing an extremely fine, thick and creamy soap that produces a soft, rich lather. Cruelty-free, with 91% of ingredients of natural origins, and of course, theres no parabens, phthalates, silicones, mineral oils, artificial colors or sodium laurel sulfate. Originating in Italy, Proraso has been innovating professional highest-quality products in the shaving world for generations, and has evolved to become a staple of Italian culture. From the first product -- Pre-Shave Cream -- in 1948, to now, the Martelli family principles hold true: to create professional, quality products that deliver a pleasurable and impeccable shave, in the barbershop and at home.\", \"Proraso has been transforming shaving into a pleasurable experience for decades. The distinctive quality and performance of Proraso products has made them a staple in barbershops throughout Italy.\", \"\", \"Short on time? Apply your favorite Proraso Pre-Shave Cream to your damp face, for optimal results. If using a shaving brush, run it under hot running water for about 30 seconds (if you don&#039;t have time to soak it). Squeeze about 2 centimeter of the Shaving Cream onto your brush, dampen face with warm water, and work the brush into your scruff/stubble. You should be able to achieve an excellent lather in about a minute.\", \"If using your hands, work cream and water together between the palm of your hands until suds begin to form. Apply mixture into your stubble using your fingers, massaging in circular movements until a lather forms. This method also works well if youre shaving in the shower. Shave and rinse, following with your favorite Proraso After Shave Balm or Lotion.\", \"<img alt=\\\"\\\" src=\\\"https://m.media-amazon.com/images/S/aplus-media/vc/18a7689a-700a-40a8-a792-919d5d85e68f._SL220__.png\\\">\", \"<img alt=\\\"\\\" src=\\\"https://m.media-amazon.com/images/S/aplus-media/vc/7f0da244-4912-4443-abeb-e9e74d334873._SL220__.png\\\">\", \"<img alt=\\\"\\\" src=\\\"https://m.media-amazon.com/images/S/aplus-media/vc/bbe2bb8f-25d5-4253-971f-8fa8756f5b2c._SL220__.png\\\">\", \"<img alt=\\\"\\\" src=\\\"https://m.media-amazon.com/images/S/aplus-media/vc/c178fb3f-5077-4782-8ac3-7000c6512927._SL220__.jpg\\\">\", \"<img alt=\\\"\\\" src=\\\"https://m.media-amazon.com/images/S/aplus-media/vc/70e829bc-7c1e-4fea-abb7-6ef8de41d633._SL220__.png\\\">\", \"<img alt=\\\"\\\" src=\\\"https://m.media-amazon.com/images/S/aplus-media/vc/54ae386a-0482-4022-b776-a0cee23e52e5._SL220__.png\\\">\", \"<img alt=\\\"\\\" src=\\\"https://m.media-amazon.com/images/S/aplus-media/vc/04979202-3558-4fa9-b7ef-868a692f31c2._SL220__.png\\\">\", \"<img alt=\\\"\\\" src=\\\"https://m.media-amazon.com/images/S/aplus-media/vc/9c8c099c-1580-465a-b853-3d8d2c3e43b5._SL220__.png\\\">\", \"<img alt=\\\"\\\" src=\\\"https://m.media-amazon.com/images/S/aplus-media/vc/57d733e9-4dec-4e89-a8c6-91ca9c34ec6a._SL220__.png\\\">\", \"<img alt=\\\"\\\" src=\\\"https://m.media-amazon.com/images/S/aplus-media/vc/f43f076f-d603-46a9-b6fe-32d737fa80b2._SL220__.png\\\">\", \"<img alt=\\\"\\\" src=\\\"https://m.media-amazon.com/images/S/aplus-media/vc/6198384a-700a-4d0f-983d-b715e31b0e51._SL220__.png\\\">\", \"\"], \"images\": [\"https://images-na.ssl-images-amazon.com/images/I/41L6FjYK9yL._SY500_.jpg\", \"https://images-na.ssl-images-amazon.com/images/I/41ZiRj9oWDL._SY500_.jpg\", \"https://images-na.ssl-images-amazon.com/images/I/41ReyGky28L._SY500_.jpg\", \"https://images-na.ssl-images-amazon.com/images/I/31GRVRAJX0L._SY500_.jpg\", \"https://images-na.ssl-images-amazon.com/images/I/41lGJCCZq1L._SY500_.jpg\", \"https://images-na.ssl-images-amazon.com/images/I/31TmQ3-qUvL._SY500_.jpg\"]}, {\"json_type\": \"predicted_items\", \"asin\": \"B0015VN6V8\", \"title\": \"butter LONDON Hardwear P.D. Quick Topcoat\", \"description\": [\"Butter of london's quick dry, ultra glossy, non-toxic topcoat protects your lacquer, extending the life of your manicure.\"], \"images\": [\"https://images-na.ssl-images-amazon.com/images/I/41wVrO9ODZL._SY500_.jpg\", \"https://images-na.ssl-images-amazon.com/images/I/31FUscgaieL._SY500_.jpg\"]}, {\"json_type\": \"predicted_items\", \"asin\": \"B000ULD9XE\", \"title\": \"evian Natural Mineral Water Facial Spray\", \"description\": [\"Explore the many uses of Evian Natural Mineral Water Facial Spray. Evian Facial Spray is the only facial spray that is sealed at the source with Evian water's unique mineral content, so you can be confident that it's completely pure. Propelled by ozone-friendly nitrogen, Evian Facial Spray's ultra-fine micro droplet mist delivers an unparalleled boost of natural hydration without using any harsh chemicals. Evian Facial Spray can be used to hydrate skin during your skincare routine, blend and set makeup, refresh skin throughout the day, and soothe sensitive skin.\", \"Evian Facial Spray contains pure, natural Evian water. Unlike other sprays, Evian Facial Spray provides an ultra-fine micro droplet mist that allows the upper layers of skin to absorb the hydrating Evian water.\", \"\", \"\"], \"images\": [\"https://images-na.ssl-images-amazon.com/images/I/31TyYys31tL._SY500_.jpg\", \"https://images-na.ssl-images-amazon.com/images/I/31gIqFQMGKL._SY500_.jpg\"]}, {\"json_type\": \"predicted_items\", \"asin\": \"B00120RRYO\", \"title\": \"stila Hair Refresher Dry Shampoo, 2.6 oz.\", \"description\": [\"A refreshing, oil-absorbing powder infused with soft fragrance is perfect whenever locks need a lift. As the powder reaches your roots, it adds much-needed volume without weighing hair down. Jade blossom is lightly scented with a cool, green tea floral.\"], \"images\": [\"https://images-na.ssl-images-amazon.com/images/I/41993-Y4nOL._SY500_.jpg\", \"https://images-na.ssl-images-amazon.com/images/I/41RfwTj4jTL._SY500_.jpg\"]}, {\"json_type\": \"predicted_items\", \"asin\": \"B000W6244M\", \"title\": \"Mario Badescu Special Hand Cream with Vitamin E\", \"description\": [\"Rich, non-greasy formula of vitamin A, vitamin E, wheat germ oil and honey to moisturize dry, cracked hands. This cream has a water light consistency that immediately absorbs. A best seller for many years.\", \"\", \"\"], \"images\": [\"https://images-na.ssl-images-amazon.com/images/I/51YCXeFeFbL._SY500_.jpg\", \"https://images-na.ssl-images-amazon.com/images/I/51fCiJLWJtL._SY500_.jpg\", \"https://images-na.ssl-images-amazon.com/images/I/31w7AiaDWGL._SY500_.jpg\"]}, {\"json_type\": \"predicted_items\", \"asin\": \"B000XPTFMG\", \"title\": \"Davines Melu Shampoo, 250ml\", \"description\": [\"For copper and cool red hair. Alchemic copper shampoo maintains and enhances these red tones.\", \"Balancing beauty and sustainability in each product and project we create.\"], \"images\": [\"https://images-na.ssl-images-amazon.com/images/I/31TSZHnLjwL._SY500_.jpg\"]}, {\"json_type\": \"predicted_items\", \"asin\": \"B004N2SQUC\", \"title\": \"CND Shellac Nail Polish, Hollywood, 0.25 fl. oz.\", \"description\": [\"CND Shellac was designed to be used as a system. Featuring a Base Coat, Color Coat, and Top Coat  together with the exclusive CND Shellac Lamp  CND delivers on its promise of two week wear, when used as a complete nail system. CND Shellac Color Coat applies in two coats for rich, lush color that lasts two weeks. This Color goes on like polish, wears like a gel, soaks off in minutes, and does no nail damage when it is used as directed!\", \"Creative Nail Design, Inc. (CND) is the global leader in professional nail, hand and foot beauty  including SHELLAC Brand 14+ Day Nail Color.\"], \"images\": []}, {\"json_type\": \"predicted_items\", \"asin\": \"B000Z657ZW\", \"title\": \"Osmotics Cosmeceuticals Blue Copper 5 Firming Elasticity Repair\", \"description\": [\"Amazon is an authorized retailer of Osmotics Cosmeceuticals Experience the original groundbreaking formula promoting firmer, healthier, younger looking skin. Our award winning \\\"Editor's favorite\\\" combines the benefits of blue copper with a 5-chain peptides to dramatically enhance absorption and effectiveness in the skin to fight the visible signs of aging. This silky, smooth cream increases firmness, elasticity and radiance for healthier, younger looking skin.\"], \"images\": [\"https://images-na.ssl-images-amazon.com/images/I/41YvJnb3aBL._SY500_.jpg\", \"https://images-na.ssl-images-amazon.com/images/I/51mWnkoZjYL._SY500_.jpg\", \"https://images-na.ssl-images-amazon.com/images/I/41jh137c1NL._SY500_.jpg\", \"https://images-na.ssl-images-amazon.com/images/I/31823T1%2BoOL._SY500_.jpg\", \"https://images-na.ssl-images-amazon.com/images/I/51qid2Q0deL._SY500_.jpg\", \"https://images-na.ssl-images-amazon.com/images/I/51kaZKRViVL._SY500_.jpg\"]}, {\"json_type\": \"predicted_items\", \"asin\": \"B00166M14A\", \"title\": \"Bioelements Moisture Positive Cleanser, 6-Ounce\", \"description\": [\"Rich, creamy cleanser for dry skin that gently washes away impurities and removes all traces of makeup. Also available in a travel size: get a full size for home and a travel for on-the-go.\"], \"images\": [\"https://images-na.ssl-images-amazon.com/images/I/31k-xR7dkNL._SY500_.jpg\", \"https://images-na.ssl-images-amazon.com/images/I/31g22tRRQ3L._SY500_.jpg\", \"https://images-na.ssl-images-amazon.com/images/I/21MDLMwwXtL._SY500_.jpg\", \"https://images-na.ssl-images-amazon.com/images/I/31-CaDPOwTL._SY500_.jpg\", \"https://images-na.ssl-images-amazon.com/images/I/41owR9GC6dL._SY500_.jpg\", \"https://images-na.ssl-images-amazon.com/images/I/31BHjVvqbwL._SY500_.jpg\"]}, {\"json_type\": \"predicted_items\", \"asin\": \"B00NZ1FH86\", \"title\": \"Zwilling J.A. Henckels Crystal Badge Manicure Set\", \"description\": [\"This 3 piece Twinox Swarovski crystal grooming set is perfect for the glamorous on the go.\", \"\", \"Slanted tips are specially engineered for expertly shaping brows. Made of premium stainless steel, the body is optimally balanced for comfort and control. Features perfectly aligned, hand-filed edges for precision.\", \"The small strong curved blades have extremely fine, microscopic serrations that are ideal for trimming nails and cuticles with precision. Designed to shorten and shape fingernails and toenails, as well as for comfortably cutting cuticles.\", \"Quality craftsmanship comes to personal care with this upscale sapphire finish precision nail tool. Specially designed to gently shape and seal nail edges flawlessly.\", \"<img alt=\\\"\\\" src=\\\"https://images-na.ssl-images-amazon.com/images/G/01/aplusautomation/vendorimages/09d3c781-1d8a-40ae-9638-e61a12d0ad46.jpg._CB311597139__SL220__.jpg\\\">\", \"<img alt=\\\"\\\" src=\\\"https://images-na.ssl-images-amazon.com/images/G/01/aplusautomation/vendorimages/87f9f61b-a85a-4320-9436-8ba060fed584.jpg._CB311592911__SL220__.jpg\\\">\", \"<img alt=\\\"\\\" src=\\\"https://images-na.ssl-images-amazon.com/images/G/01/aplusautomation/vendorimages/cda749a1-9d63-45c6-a73a-096d61f376a1.jpg._CB311617174__SL220__.jpg\\\">\", \"<img alt=\\\"\\\" src=\\\"https://images-na.ssl-images-amazon.com/images/G/01/aplusautomation/vendorimages/1616a3ea-f376-4ad9-a6a6-b497cb14169b.jpg._CB311592832__SL220__.jpg\\\">\"], \"images\": [\"https://images-na.ssl-images-amazon.com/images/I/41SQcpWwYkL._SY500_.jpg\", \"https://images-na.ssl-images-amazon.com/images/I/51Ypa2t90wL._SY500_.jpg\", \"https://images-na.ssl-images-amazon.com/images/I/51WtYrsmEyL._SY500_.jpg\", \"https://images-na.ssl-images-amazon.com/images/I/31CZ6X4OHpL._SY500_.jpg\", \"https://images-na.ssl-images-amazon.com/images/I/21z3JQT7qML._SY500_.jpg\"]}, {\"json_type\": \"predicted_items\", \"asin\": \"B0016A7QNC\", \"title\": \" SkinMedica AHA/BHA Cream, 2 oz.\", \"description\": [\"Exfoliates and improves the appearance of skin tone and texture revealing brighter skin.\", \"Improve the appearance of skin with effective formulas that help address the many factors that lead to premature aging. Our brightening products help fade the appearance of even the most severe discoloration.\", \"Apply a small amount to face and gently massage into skin.\", \"Apply to your entire face, (neck and chest if desired).\", \"Apply twice daily after cleansing, toning, and applying treatment products.\"], \"images\": [\"https://images-na.ssl-images-amazon.com/images/I/21DGcpSZgNL._SY500_.jpg\", \"https://images-na.ssl-images-amazon.com/images/I/31iBmf5YsWL._SY500_.jpg\", \"https://images-na.ssl-images-amazon.com/images/I/31f9sG%2B9q7L._SY500_.jpg\", \"https://images-na.ssl-images-amazon.com/images/I/31p3wbl6tbL._SY500_.jpg\"]}, {\"json_type\": \"predicted_items\", \"asin\": \"B0009DSONI\", \"title\": \"jane iredale PurePressed Base Mineral Foundation\", \"description\": [], \"images\": []}, {\"json_type\": \"predicted_items\", \"asin\": \"B0012H6Y28\", \"title\": \"Bioelements Kerafole Facial Mask, 2.5 Ounce\", \"description\": [\"Bioelements Kerafole Facial Mask, 2.5 Ounce\"], \"images\": [\"https://images-na.ssl-images-amazon.com/images/I/41LjmVrgGqL._SY500_.jpg\", \"https://images-na.ssl-images-amazon.com/images/I/51286hlcGvL._SY500_.jpg\", \"https://images-na.ssl-images-amazon.com/images/I/416CYhkA08L._SY500_.jpg\", \"https://images-na.ssl-images-amazon.com/images/I/31BQXPQSImL._SY500_.jpg\", \"https://images-na.ssl-images-amazon.com/images/I/51MJx6JjvfL._SY500_.jpg\", \"https://images-na.ssl-images-amazon.com/images/I/518T7l2QnnL._SY500_.jpg\"]}]\n"
          ],
          "name": "stdout"
        }
      ]
    },
    {
      "cell_type": "markdown",
      "metadata": {
        "id": "Qhv4K773GSUp",
        "colab_type": "text"
      },
      "source": [
        "**Top 15 predicted items Json**"
      ]
    },
    {
      "cell_type": "code",
      "metadata": {
        "id": "KNT_S5ULLiQi",
        "colab_type": "code",
        "colab": {
          "base_uri": "https://localhost:8080/",
          "height": 54
        },
        "outputId": "fddd9cbd-9865-4ecf-9acc-bcc323b11bd6"
      },
      "source": [
        "print(\"Top rated items by a user : \", get_item_details_json(top_rated_items_for_user, \"existing_rated_items\"))\n"
      ],
      "execution_count": null,
      "outputs": [
        {
          "output_type": "stream",
          "text": [
            "Top rated items by a user :  [{\"json_type\": \"existing_rated_items\", \"asin\": \"B002K6AHQY\", \"title\": \" CND Vinylux Weekly Nail Polish, Rock Royalty, .5 oz\", \"description\": [\"Vinylux weekly polish and weekly top coat are a system that is uniquely design to work together. Patent-pending pro-light technology creates a powerful network of cross-linked polymer bonds that build resistance to chips, and enhance durability with exposure to natural light over time.\", \"Creative Nail Design, Inc. (CND) is the global leader in professional nail, hand and foot beauty  including SHELLAC Brand 14+ Day Nail Color.\", \"<img alt=\\\"CND Vinylux Longwear Nail Polish Top Coat gel like shine with Keratin Vitamin E Jojoba Oil\\\" src=\\\"https://m.media-amazon.com/images/S/aplus-media/vc/c4212b28-5a17-4627-8a32-9731640105dc._CR0,0,1250,1250_PT0_SX300__.jpg\\\" class=\\\"a-spacing-mini\\\">\\n    \\n\\n\\n                            <br/>\", \"<img alt=\\\"CND Vinylux Longwear Nail Polish Top Coat gel like shine with Keratin Vitamin E Jojoba Oil\\\" src=\\\"https://m.media-amazon.com/images/S/aplus-media/vc/88559e2f-0003-4a0c-9ee5-30c2b5bb04f5._CR0,0,1250,1250_PT0_SX300__.jpg\\\" class=\\\"a-spacing-mini\\\">\\n    \\n\\n\\n                            <br/>\", \"<img alt=\\\"CND Vinylux Longwear Nail Polish Top Coat gel like shine with Keratin Vitamin E Jojoba Oil\\\" src=\\\"https://m.media-amazon.com/images/S/aplus-media/vc/ff61b745-7981-4f08-aeb1-e1e161eb4181._CR0,0,1250,1250_PT0_SX300__.jpg\\\" class=\\\"a-spacing-mini\\\">\\n    \\n\\n\\n                            <br/>\", \"The CND Vinylux is a two-step system consisting of a color coat and a top coat, which must be used together for ultimate performance. No base coat needed!\", \"Self-adhering All-in-1 base &amp; color coat\", \"Cellulose acetate butyrate based, so it doesnt yellow.\", \"ProLight Technology increases nail durability with natural light exposure.\", \"<img alt=\\\"CND Vinylux Longwear Nail Polish Top Coat gel like shine with Keratin Vitamin E Jojoba Oil\\\" src=\\\"https://m.media-amazon.com/images/S/aplus-media/vc/90887699-2d2e-4ee9-998c-ec4cc47af9cd._CR0,0,917,917_PT0_SX220__.jpg\\\">\", \"<img alt=\\\"CND Vinylux Longwear Nail Polish Top Coat gel like shine with Keratin Vitamin E Jojoba Oil\\\" src=\\\"https://m.media-amazon.com/images/S/aplus-media/vc/df0421fd-2171-429e-973b-53b51c4fe566._CR0,0,917,917_PT0_SX220__.jpg\\\">\", \"<img alt=\\\"CND Vinylux Longwear Nail Polish Top Coat gel like shine with Keratin Vitamin E Jojoba Oil\\\" src=\\\"https://m.media-amazon.com/images/S/aplus-media/vc/d79a53f2-751e-41c7-8045-899bce836715._CR0,0,917,917_PT0_SX220__.jpg\\\">\", \"<img alt=\\\"CND Vinylux Longwear Nail Polish Top Coat gel like shine with Keratin Vitamin E Jojoba Oil\\\" src=\\\"https://m.media-amazon.com/images/S/aplus-media/vc/2ad502a9-f908-4a60-83c5-735e75b9727d._CR0,0,917,917_PT0_SX220__.jpg\\\">\"], \"images\": [\"https://images-na.ssl-images-amazon.com/images/I/31UtyO-stgL._SY500_.jpg\", \"https://images-na.ssl-images-amazon.com/images/I/21nnXC2Y%2B2L._SY500_.jpg\", \"https://images-na.ssl-images-amazon.com/images/I/41dRTnuHt8L._SY500_.jpg\"]}, {\"json_type\": \"existing_rated_items\", \"asin\": \"B001B271Q2\", \"title\": \"OPI Nail Lacquer, That's Hula-rious!, 0.5 Fl Oz\", \"description\": [\"Nail lacquer is the original nail polish formula that reinvented quality nail color, your top choice if you enjoy updating your manicure weekly. The grass of your hula skirt is greener in this spring-y shade. A crme finish ensures color depth, brightness, and coverage. Made in the USA.\", \"OPI is the number one salon brand and the most respected, admired and beloved nail lacquer brand in the world.\", \"Welcome to the colorful world of OPI. At our core is this simple idea: we exist to transform the world with color because it has the power to change behaviors, redefine culture, and improve our world. Founded in 1981, OPI has revolutionized the nail industry with our iconic bottles, superior product quality, and unforgettable and fun shade names. Whether you&#039;re looking for a shade like &#039;Bubble Bath or more of a &#039;Lincoln Park After Dark&#039; fan, we believe theres no moment in life that color cant tackle. Color is the answer.\", \"Transform your nails with OPI signature nail lacquers. Available in over 200 shades, OPI Nail Lacquer provides up to 7 days of wear so you can get the nails you love all day, every day.\", \"Try more shades with our nail lacquer gift sets, or discover new ways to use your favorite polishes through expression of nail art. The possibilities are endless!\", \"<img alt=\\\"OPI Nail Lacquer Red Nail Polish Nude Nail Polish Gift Sets Nail Colors Base Coat\\\" src=\\\"https://m.media-amazon.com/images/S/aplus-media/vc/225fccdf-23a8-460a-907c-5c2c06467899._CR0,0,1000,1000_PT0_SX300__.jpeg\\\" class=\\\"a-spacing-mini\\\">\\n    \\n\\n\\n                            <br/>\", \"<img alt=\\\"OPI Nail Lacquer Purple Nail Polish Blue Nail Polish Gift Sets Nail Colors\\\" src=\\\"https://m.media-amazon.com/images/S/aplus-media/vc/090d845f-2419-45b8-99ba-e9ff504523b1._CR0,0,1000,1000_PT0_SX300__.jpeg\\\" class=\\\"a-spacing-mini\\\">\\n    \\n\\n\\n                            <br/>\", \"<img alt=\\\"OPI Nail Lacquer Red Nail Polish Nude Nail Polish Gift Sets Nail Colors Top Coat\\\" src=\\\"https://m.media-amazon.com/images/S/aplus-media/vc/ea3bde8b-9bf0-44b2-b5e5-65a96133316d._CR0,0,1000,1000_PT0_SX300__.jpeg\\\" class=\\\"a-spacing-mini\\\">\\n    \\n\\n\\n                            <br/>\", \"Apply <span class=\\\"a-text-bold\\\">OPI Natural Nail Base Coat </span>to prime the nail surface, increase lacquer adhesion and prevent discoloration.\", \"Apply two coats of <span class=\\\"a-text-bold\\\">Nail Lacquer </span>color of choice (we love our &#039;Do You Have This Color In Stock-holm&#039; shade!), first stroking down the middle of nail and then on each side for complete coverage.\", \"For a beautiful shiny finish &amp; extended life to your manicure, apply one coat of <span class=\\\"a-text-bold\\\">OPI Top Coat. </span>It prevents smudges while drying to a smooth, high-gloss, protective shine. Alternatively, <span class=\\\"a-text-bold\\\">OPI Matte Top Coat </span>takes nails to a new dimension, offering a high-fashion matte finish to wear over any OPI shade.\"], \"images\": [\"https://images-na.ssl-images-amazon.com/images/I/31YOJiG9JrL._SY500_.jpg\", \"https://images-na.ssl-images-amazon.com/images/I/21%2BkWZ79e6L._SY500_.jpg\", \"https://images-na.ssl-images-amazon.com/images/I/31ah68DkpVL._SY500_.jpg\"]}, {\"json_type\": \"existing_rated_items\", \"asin\": \"B000CR4HJG\", \"title\": \"jane iredale 24-Karat Gold Dust\", \"description\": [\"A shimmer powder created from Mica, a diamond pearlescent pigment, which enhances your sophisticated elegance. This multi-purpose product can be used on cheeks, eyes and lips to create a delicate highlight. Or mix with your moisturizer for application to the body or with your favorite hair styling product for added sparkle.\", \"jane iredale is a comprehensive line of mineral makeup developed to enhance the lives of women by delivering personal, natural beauty to lift her health and spirit.\"], \"images\": [\"https://images-na.ssl-images-amazon.com/images/I/81g95JHN0iL._SY500_.jpg\", \"https://images-na.ssl-images-amazon.com/images/I/81wIEtAc48L._SY500_.jpg\", \"https://images-na.ssl-images-amazon.com/images/I/31U7dr4BqaL._SY500_.jpg\", \"https://images-na.ssl-images-amazon.com/images/I/81%2BMAAzWUJL._SY500_.jpg\"]}, {\"json_type\": \"existing_rated_items\", \"asin\": \"B000NGI4QI\", \"title\": \"OPI Nail Lacquer Remover\", \"description\": [\"Removes all traces of lacquers and polishes without streaking or stripping.\", \"Perfect Nails, Made Easy with OPI Nail Treatments. OPI offers a complete range of professional caliber nail care products used and endorsed by salons worldwide\", \"\", \"\"], \"images\": [\"https://images-na.ssl-images-amazon.com/images/I/31HZrRVos6L._SY500_.jpg\", \"https://images-na.ssl-images-amazon.com/images/I/31AXxfuMpmL._SY500_.jpg\", \"https://images-na.ssl-images-amazon.com/images/I/31DjMQ4ecbL._SY500_.jpg\"]}, {\"json_type\": \"existing_rated_items\", \"asin\": \"B00CNE2GOO\", \"title\": \"CND Vinylux Long Wear Top Coat\", \"description\": [\"CND Vinylux Long Wear Top Coat creates long-lasting wear and durability with exposure to natural light over time.\", \"Creative Nail Design, Inc. (CND) is the global leader in professional nail, hand and foot beauty  including SHELLAC Brand 14+ Day Nail Color.\", \"<img alt=\\\"CND Vinylux Longwear Nail Polish Top Coat gel like shine with Keratin Vitamin E Jojoba Oil\\\" src=\\\"https://m.media-amazon.com/images/S/aplus-media/vc/c4212b28-5a17-4627-8a32-9731640105dc._CR0,0,1250,1250_PT0_SX300__.jpg\\\" class=\\\"a-spacing-mini\\\">\\n    \\n\\n\\n                            <br/>\", \"<img alt=\\\"CND Vinylux Longwear Nail Polish Top Coat gel like shine with Keratin Vitamin E Jojoba Oil\\\" src=\\\"https://m.media-amazon.com/images/S/aplus-media/vc/88559e2f-0003-4a0c-9ee5-30c2b5bb04f5._CR0,0,1250,1250_PT0_SX300__.jpg\\\" class=\\\"a-spacing-mini\\\">\\n    \\n\\n\\n                            <br/>\", \"<img alt=\\\"CND Vinylux Longwear Nail Polish Top Coat gel like shine with Keratin Vitamin E Jojoba Oil\\\" src=\\\"https://m.media-amazon.com/images/S/aplus-media/vc/ff61b745-7981-4f08-aeb1-e1e161eb4181._CR0,0,1250,1250_PT0_SX300__.jpg\\\" class=\\\"a-spacing-mini\\\">\\n    \\n\\n\\n                            <br/>\", \"The CND Vinylux is a two-step system consisting of a color coat and a top coat, which must be used together for ultimate performance. No base coat needed!\", \"Self-adhering All-in-1 base &amp; color coat\", \"Cellulose acetate butyrate based, so it doesnt yellow.\", \"ProLight Technology increases nail durability with natural light exposure.\", \"<img alt=\\\"CND Vinylux Longwear Nail Polish Top Coat gel like shine with Keratin Vitamin E Jojoba Oil\\\" src=\\\"https://m.media-amazon.com/images/S/aplus-media/vc/90887699-2d2e-4ee9-998c-ec4cc47af9cd._CR0,0,917,917_PT0_SX220__.jpg\\\">\", \"<img alt=\\\"CND Vinylux Longwear Nail Polish Top Coat gel like shine with Keratin Vitamin E Jojoba Oil\\\" src=\\\"https://m.media-amazon.com/images/S/aplus-media/vc/df0421fd-2171-429e-973b-53b51c4fe566._CR0,0,917,917_PT0_SX220__.jpg\\\">\", \"<img alt=\\\"CND Vinylux Longwear Nail Polish Top Coat gel like shine with Keratin Vitamin E Jojoba Oil\\\" src=\\\"https://m.media-amazon.com/images/S/aplus-media/vc/d79a53f2-751e-41c7-8045-899bce836715._CR0,0,917,917_PT0_SX220__.jpg\\\">\", \"<img alt=\\\"CND Vinylux Longwear Nail Polish Top Coat gel like shine with Keratin Vitamin E Jojoba Oil\\\" src=\\\"https://m.media-amazon.com/images/S/aplus-media/vc/2ad502a9-f908-4a60-83c5-735e75b9727d._CR0,0,917,917_PT0_SX220__.jpg\\\">\"], \"images\": [\"https://images-na.ssl-images-amazon.com/images/I/31UtyO-stgL._SY500_.jpg\", \"https://images-na.ssl-images-amazon.com/images/I/41FA44juTjL._SY500_.jpg\", \"https://images-na.ssl-images-amazon.com/images/I/216bDpMUwVL._SY500_.jpg\", \"https://images-na.ssl-images-amazon.com/images/I/21iaxM7XJdL._SY500_.jpg\"]}]\n"
          ],
          "name": "stdout"
        }
      ]
    }
  ]
}